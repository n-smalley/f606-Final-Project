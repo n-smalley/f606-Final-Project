{
 "cells": [
  {
   "cell_type": "code",
   "execution_count": 23,
   "metadata": {
    "vscode": {
     "languageId": "r"
    }
   },
   "outputs": [],
   "source": [
    "library(tidyverse)\n",
    "library(stargazer)\n",
    "library(olsrr)\n",
    "library(readr)\n",
    "library(readxl)\n",
    "library(dplyr)\n",
    "library(broom)\n",
    "library(car)\n",
    "library(lmtest)\n",
    "library(corpcor)\n",
    "library(sandwich)\n",
    "library(fastDummies)\n",
    "library(plm)\n",
    "library(forecast)\n",
    "\n",
    "options(scipen=10)"
   ]
  },
  {
   "attachments": {},
   "cell_type": "markdown",
   "metadata": {},
   "source": [
    "# Adequacy (Gasoline Tax)"
   ]
  },
  {
   "cell_type": "code",
   "execution_count": 24,
   "metadata": {
    "vscode": {
     "languageId": "r"
    }
   },
   "outputs": [],
   "source": [
    "d1 <- read_excel('data/Gas Tax Rev.xlsx', sheet = \"Data2\")"
   ]
  },
  {
   "attachments": {},
   "cell_type": "markdown",
   "metadata": {},
   "source": [
    "## Nominal"
   ]
  },
  {
   "attachments": {},
   "cell_type": "markdown",
   "metadata": {},
   "source": [
    "### Buoyancy"
   ]
  },
  {
   "cell_type": "code",
   "execution_count": 25,
   "metadata": {
    "vscode": {
     "languageId": "r"
    }
   },
   "outputs": [
    {
     "data": {
      "text/plain": [
       "\n",
       "Call:\n",
       "lm(formula = log(gas.rev) ~ log(tpi), data = d1)\n",
       "\n",
       "Residuals:\n",
       "    Min      1Q  Median      3Q     Max \n",
       "-0.2106 -0.1088  0.0158  0.1088  0.2059 \n",
       "\n",
       "Coefficients:\n",
       "            Estimate Std. Error t value    Pr(>|t|)    \n",
       "(Intercept)   1.3057     2.7931   0.467       0.645    \n",
       "log(tpi)      0.7207     0.1065   6.766 0.000000846 ***\n",
       "---\n",
       "Signif. codes:  0 '***' 0.001 '**' 0.01 '*' 0.05 '.' 0.1 ' ' 1\n",
       "\n",
       "Residual standard error: 0.1346 on 22 degrees of freedom\n",
       "Multiple R-squared:  0.6754,\tAdjusted R-squared:  0.6606 \n",
       "F-statistic: 45.78 on 1 and 22 DF,  p-value: 0.0000008462\n"
      ]
     },
     "metadata": {},
     "output_type": "display_data"
    }
   ],
   "source": [
    "buoy.gas.nom <- lm(log(gas.rev) ~ log(tpi), d1)\n",
    "summary(buoy.gas.nom)\n",
    "\n",
    "# Buoyancy = 0.7207"
   ]
  },
  {
   "attachments": {},
   "cell_type": "markdown",
   "metadata": {},
   "source": [
    "### Elasticity 1"
   ]
  },
  {
   "cell_type": "code",
   "execution_count": 26,
   "metadata": {
    "vscode": {
     "languageId": "r"
    }
   },
   "outputs": [
    {
     "data": {
      "text/plain": [
       "\n",
       "Call:\n",
       "lm(formula = log(base) ~ log(tpi), data = d1)\n",
       "\n",
       "Residuals:\n",
       "      Min        1Q    Median        3Q       Max \n",
       "-0.078931 -0.020447 -0.002795  0.029871  0.051097 \n",
       "\n",
       "Coefficients:\n",
       "            Estimate Std. Error t value Pr(>|t|)    \n",
       "(Intercept) 24.13739    0.73010  33.061   <2e-16 ***\n",
       "log(tpi)    -0.08783    0.02784  -3.154   0.0046 ** \n",
       "---\n",
       "Signif. codes:  0 '***' 0.001 '**' 0.01 '*' 0.05 '.' 0.1 ' ' 1\n",
       "\n",
       "Residual standard error: 0.03519 on 22 degrees of freedom\n",
       "Multiple R-squared:  0.3114,\tAdjusted R-squared:  0.2801 \n",
       "F-statistic: 9.951 on 1 and 22 DF,  p-value: 0.004599\n"
      ]
     },
     "metadata": {},
     "output_type": "display_data"
    }
   ],
   "source": [
    "elas.gas.nom <- lm(log(base) ~ log(tpi),d1)\n",
    "summary(elas.gas.nom)\n",
    "\n",
    "# Elasticity = -0.08530"
   ]
  },
  {
   "attachments": {},
   "cell_type": "markdown",
   "metadata": {},
   "source": [
    "### Elasticity 2"
   ]
  },
  {
   "cell_type": "code",
   "execution_count": 27,
   "metadata": {
    "vscode": {
     "languageId": "r"
    }
   },
   "outputs": [
    {
     "data": {
      "text/plain": [
       "\n",
       "Call:\n",
       "lm(formula = log(base) ~ log(tpi) + c1 + c2 + c3 + c4 + c5 + \n",
       "    c6, data = d1)\n",
       "\n",
       "Residuals:\n",
       "     Min       1Q   Median       3Q      Max \n",
       "-0.06964 -0.01814  0.00000  0.02470  0.04952 \n",
       "\n",
       "Coefficients:\n",
       "            Estimate Std. Error t value       Pr(>|t|)    \n",
       "(Intercept) 23.04327    1.67327  13.771 0.000000000273 ***\n",
       "log(tpi)    -0.04546    0.06468  -0.703          0.492    \n",
       "c1          -0.01387    0.02998  -0.463          0.650    \n",
       "c2          -0.02433    0.04351  -0.559          0.584    \n",
       "c3           0.02924    0.05394   0.542          0.595    \n",
       "c4          -0.06848    0.05407  -1.267          0.223    \n",
       "c5           0.02275    0.05413   0.420          0.680    \n",
       "c6           0.03876    0.05390   0.719          0.482    \n",
       "---\n",
       "Signif. codes:  0 '***' 0.001 '**' 0.01 '*' 0.05 '.' 0.1 ' ' 1\n",
       "\n",
       "Residual standard error: 0.03809 on 16 degrees of freedom\n",
       "Multiple R-squared:  0.4132,\tAdjusted R-squared:  0.1565 \n",
       "F-statistic: 1.609 on 7 and 16 DF,  p-value: 0.2033\n"
      ]
     },
     "metadata": {},
     "output_type": "display_data"
    }
   ],
   "source": [
    "elas2.gas.nom <- lm(log(base) ~ log(tpi) + c1 + c2 + c3 + c4 + c5 + c6, d1)\n",
    "summary(elas2.gas.nom)\n",
    "\n",
    "# Elasticity = -0.04546"
   ]
  },
  {
   "attachments": {},
   "cell_type": "markdown",
   "metadata": {},
   "source": [
    "### Stablility"
   ]
  },
  {
   "cell_type": "code",
   "execution_count": 28,
   "metadata": {
    "vscode": {
     "languageId": "r"
    }
   },
   "outputs": [
    {
     "data": {
      "text/html": [
       "<table class=\"dataframe\">\n",
       "<caption>A data.frame: 3 x 3</caption>\n",
       "<thead>\n",
       "\t<tr><th></th><th scope=col>SD</th><th scope=col>Max</th><th scope=col>Min</th></tr>\n",
       "\t<tr><th></th><th scope=col>&lt;dbl&gt;</th><th scope=col>&lt;dbl&gt;</th><th scope=col>&lt;dbl&gt;</th></tr>\n",
       "</thead>\n",
       "<tbody>\n",
       "\t<tr><th scope=row>Change in Revenue</th><td>11.091014</td><td>52.340173</td><td>-3.822836</td></tr>\n",
       "\t<tr><th scope=row>Change in Economic Activity</th><td> 2.267879</td><td> 2.267879</td><td> 2.267879</td></tr>\n",
       "\t<tr><th scope=row>Change in Base</th><td> 4.500163</td><td> 4.500163</td><td> 4.500163</td></tr>\n",
       "</tbody>\n",
       "</table>\n"
      ],
      "text/latex": [
       "A data.frame: 3 x 3\n",
       "\\begin{tabular}{r|lll}\n",
       "  & SD & Max & Min\\\\\n",
       "  & <dbl> & <dbl> & <dbl>\\\\\n",
       "\\hline\n",
       "\tChange in Revenue & 11.091014 & 52.340173 & -3.822836\\\\\n",
       "\tChange in Economic Activity &  2.267879 &  2.267879 &  2.267879\\\\\n",
       "\tChange in Base &  4.500163 &  4.500163 &  4.500163\\\\\n",
       "\\end{tabular}\n"
      ],
      "text/markdown": [
       "\n",
       "A data.frame: 3 x 3\n",
       "\n",
       "| <!--/--> | SD &lt;dbl&gt; | Max &lt;dbl&gt; | Min &lt;dbl&gt; |\n",
       "|---|---|---|---|\n",
       "| Change in Revenue | 11.091014 | 52.340173 | -3.822836 |\n",
       "| Change in Economic Activity |  2.267879 |  2.267879 |  2.267879 |\n",
       "| Change in Base |  4.500163 |  4.500163 |  4.500163 |\n",
       "\n"
      ],
      "text/plain": [
       "                            SD        Max       Min      \n",
       "Change in Revenue           11.091014 52.340173 -3.822836\n",
       "Change in Economic Activity  2.267879  2.267879  2.267879\n",
       "Change in Base               4.500163  4.500163  4.500163"
      ]
     },
     "metadata": {},
     "output_type": "display_data"
    }
   ],
   "source": [
    "stab <- data.frame(SD = c(sd(d1$d.gas),sd(d1$d.tpi),sd(d1$d.base)),\n",
    "                   Max = c(max(d1$d.gas),sd(d1$d.tpi),sd(d1$d.base)),\n",
    "                   Min = c(min(d1$d.gas),sd(d1$d.tpi),sd(d1$d.base)),\n",
    "                   row.names = c('Change in Revenue','Change in Economic Activity','Change in Base'))\n",
    "stab*100"
   ]
  },
  {
   "attachments": {},
   "cell_type": "markdown",
   "metadata": {},
   "source": [
    "## Real\n",
    "### Buoyancy"
   ]
  },
  {
   "cell_type": "code",
   "execution_count": 29,
   "metadata": {
    "vscode": {
     "languageId": "r"
    }
   },
   "outputs": [
    {
     "data": {
      "text/plain": [
       "\n",
       "Call:\n",
       "lm(formula = log(gas.rev.real) ~ log(tpi.real), data = d1)\n",
       "\n",
       "Residuals:\n",
       "     Min       1Q   Median       3Q      Max \n",
       "-0.21902 -0.12223  0.04285  0.11055  0.19839 \n",
       "\n",
       "Coefficients:\n",
       "              Estimate Std. Error t value Pr(>|t|)  \n",
       "(Intercept)     8.2313     6.7323   1.223   0.2344  \n",
       "log(tpi.real)   0.4631     0.2536   1.826   0.0815 .\n",
       "---\n",
       "Signif. codes:  0 '***' 0.001 '**' 0.01 '*' 0.05 '.' 0.1 ' ' 1\n",
       "\n",
       "Residual standard error: 0.1406 on 22 degrees of freedom\n",
       "Multiple R-squared:  0.1316,\tAdjusted R-squared:  0.09212 \n",
       "F-statistic: 3.334 on 1 and 22 DF,  p-value: 0.08148\n"
      ]
     },
     "metadata": {},
     "output_type": "display_data"
    }
   ],
   "source": [
    "buoy.gas.real <- lm(log(gas.rev.real) ~ log(tpi.real), d1)\n",
    "summary(buoy.gas.real)\n",
    "\n",
    "# Buoyancy = 0.4631"
   ]
  },
  {
   "attachments": {},
   "cell_type": "markdown",
   "metadata": {},
   "source": [
    "### Elasticity 1"
   ]
  },
  {
   "cell_type": "code",
   "execution_count": 30,
   "metadata": {
    "vscode": {
     "languageId": "r"
    }
   },
   "outputs": [
    {
     "data": {
      "text/plain": [
       "\n",
       "Call:\n",
       "lm(formula = log(base.real) ~ log(tpi.real), data = d1)\n",
       "\n",
       "Residuals:\n",
       "      Min        1Q    Median        3Q       Max \n",
       "-0.118782 -0.058335  0.009198  0.041021  0.116778 \n",
       "\n",
       "Coefficients:\n",
       "              Estimate Std. Error t value Pr(>|t|)    \n",
       "(Intercept)    60.2306     3.1763   18.96 4.04e-15 ***\n",
       "log(tpi.real)  -1.4345     0.1197  -11.99 4.06e-11 ***\n",
       "---\n",
       "Signif. codes:  0 '***' 0.001 '**' 0.01 '*' 0.05 '.' 0.1 ' ' 1\n",
       "\n",
       "Residual standard error: 0.06632 on 22 degrees of freedom\n",
       "Multiple R-squared:  0.8672,\tAdjusted R-squared:  0.8612 \n",
       "F-statistic: 143.7 on 1 and 22 DF,  p-value: 0.00000000004056\n"
      ]
     },
     "metadata": {},
     "output_type": "display_data"
    }
   ],
   "source": [
    "elas.gas.real <- lm(log(base.real) ~ log(tpi.real),d1)\n",
    "summary(elas.gas.real)\n",
    "\n",
    "# Elasticity = -1.4345"
   ]
  },
  {
   "attachments": {},
   "cell_type": "markdown",
   "metadata": {},
   "source": [
    "### Elasticity 2"
   ]
  },
  {
   "cell_type": "code",
   "execution_count": 31,
   "metadata": {
    "vscode": {
     "languageId": "r"
    }
   },
   "outputs": [
    {
     "data": {
      "text/plain": [
       "\n",
       "Call:\n",
       "lm(formula = log(base.real) ~ log(tpi.real) + c1 + c2 + c3 + \n",
       "    c4 + c5 + c6, data = d1)\n",
       "\n",
       "Residuals:\n",
       "     Min       1Q   Median       3Q      Max \n",
       "-0.08448 -0.03848  0.00000  0.03392  0.10613 \n",
       "\n",
       "Coefficients:\n",
       "               Estimate Std. Error t value     Pr(>|t|)    \n",
       "(Intercept)   57.189610   5.753930   9.939 0.0000000299 ***\n",
       "log(tpi.real) -1.316434   0.217824  -6.044 0.0000170601 ***\n",
       "c1            -0.118523   0.038355  -3.090      0.00702 ** \n",
       "c2             0.005636   0.065489   0.086      0.93249    \n",
       "c3             0.042339   0.079130   0.535      0.59997    \n",
       "c4            -0.004999   0.080017  -0.062      0.95095    \n",
       "c5             0.020299   0.079326   0.256      0.80129    \n",
       "c6            -0.102701   0.079630  -1.290      0.21547    \n",
       "---\n",
       "Signif. codes:  0 '***' 0.001 '**' 0.01 '*' 0.05 '.' 0.1 ' ' 1\n",
       "\n",
       "Residual standard error: 0.05582 on 16 degrees of freedom\n",
       "Multiple R-squared:  0.9316,\tAdjusted R-squared:  0.9017 \n",
       "F-statistic: 31.13 on 7 and 16 DF,  p-value: 0.00000003637\n"
      ]
     },
     "metadata": {},
     "output_type": "display_data"
    }
   ],
   "source": [
    "elas2.gas.real <- lm(log(base.real) ~ log(tpi.real) + c1 + c2 + c3 + c4 + c5 + c6, d1)\n",
    "summary(elas2.gas.real)\n",
    "\n",
    "# Elasticity = -1.3164"
   ]
  },
  {
   "attachments": {},
   "cell_type": "markdown",
   "metadata": {},
   "source": [
    "### Stablility\n"
   ]
  },
  {
   "cell_type": "code",
   "execution_count": 32,
   "metadata": {
    "vscode": {
     "languageId": "r"
    }
   },
   "outputs": [
    {
     "data": {
      "text/html": [
       "<table class=\"dataframe\">\n",
       "<caption>A data.frame: 3 x 3</caption>\n",
       "<thead>\n",
       "\t<tr><th></th><th scope=col>SD</th><th scope=col>Max</th><th scope=col>Min</th></tr>\n",
       "\t<tr><th></th><th scope=col>&lt;dbl&gt;</th><th scope=col>&lt;dbl&gt;</th><th scope=col>&lt;dbl&gt;</th></tr>\n",
       "</thead>\n",
       "<tbody>\n",
       "\t<tr><th scope=row>Change in Revenue</th><td>10.744618</td><td>48.708014</td><td>-6.595596</td></tr>\n",
       "\t<tr><th scope=row>Change in Economic Activity</th><td> 2.205255</td><td> 2.205255</td><td> 2.205255</td></tr>\n",
       "\t<tr><th scope=row>Change in Base</th><td> 4.306638</td><td> 4.306638</td><td> 4.306638</td></tr>\n",
       "</tbody>\n",
       "</table>\n"
      ],
      "text/latex": [
       "A data.frame: 3 x 3\n",
       "\\begin{tabular}{r|lll}\n",
       "  & SD & Max & Min\\\\\n",
       "  & <dbl> & <dbl> & <dbl>\\\\\n",
       "\\hline\n",
       "\tChange in Revenue & 10.744618 & 48.708014 & -6.595596\\\\\n",
       "\tChange in Economic Activity &  2.205255 &  2.205255 &  2.205255\\\\\n",
       "\tChange in Base &  4.306638 &  4.306638 &  4.306638\\\\\n",
       "\\end{tabular}\n"
      ],
      "text/markdown": [
       "\n",
       "A data.frame: 3 x 3\n",
       "\n",
       "| <!--/--> | SD &lt;dbl&gt; | Max &lt;dbl&gt; | Min &lt;dbl&gt; |\n",
       "|---|---|---|---|\n",
       "| Change in Revenue | 10.744618 | 48.708014 | -6.595596 |\n",
       "| Change in Economic Activity |  2.205255 |  2.205255 |  2.205255 |\n",
       "| Change in Base |  4.306638 |  4.306638 |  4.306638 |\n",
       "\n"
      ],
      "text/plain": [
       "                            SD        Max       Min      \n",
       "Change in Revenue           10.744618 48.708014 -6.595596\n",
       "Change in Economic Activity  2.205255  2.205255  2.205255\n",
       "Change in Base               4.306638  4.306638  4.306638"
      ]
     },
     "metadata": {},
     "output_type": "display_data"
    }
   ],
   "source": [
    "stab <- data.frame(SD = c(sd(d1$d.gas.real),sd(d1$d.tpi.real),sd(d1$d.base.real)),\n",
    "                   Max = c(max(d1$d.gas.real),sd(d1$d.tpi.real),sd(d1$d.base.real)),\n",
    "                   Min = c(min(d1$d.gas.real),sd(d1$d.tpi.real),sd(d1$d.base.real)),\n",
    "                   row.names = c('Change in Revenue','Change in Economic Activity',\n",
    "                                 'Change in Base'))\n",
    "stab*100"
   ]
  }
 ],
 "metadata": {
  "kernelspec": {
   "display_name": "R",
   "language": "R",
   "name": "ir"
  },
  "language_info": {
   "codemirror_mode": "r",
   "file_extension": ".r",
   "mimetype": "text/x-r-source",
   "name": "R",
   "pygments_lexer": "r",
   "version": "4.2.3"
  },
  "orig_nbformat": 4
 },
 "nbformat": 4,
 "nbformat_minor": 2
}
