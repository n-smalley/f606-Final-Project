{
 "cells": [
  {
   "cell_type": "code",
   "execution_count": 11,
   "metadata": {},
   "outputs": [],
   "source": [
    "import pandas as pd\n",
    "from bs4 import BeautifulSoup\n",
    "import requests"
   ]
  },
  {
   "cell_type": "code",
   "execution_count": 12,
   "metadata": {},
   "outputs": [],
   "source": [
    "url = 'https://afdc.energy.gov/vehicle-registration?year=2021'\n",
    "data = requests.get(url).text"
   ]
  },
  {
   "cell_type": "code",
   "execution_count": 14,
   "metadata": {},
   "outputs": [],
   "source": [
    "soup = BeautifulSoup(data, 'html.parser')"
   ]
  },
  {
   "cell_type": "code",
   "execution_count": 16,
   "metadata": {},
   "outputs": [
    {
     "name": "stdout",
     "output_type": "stream",
     "text": [
      "Classes of each table:\n",
      "['table', 'table-bordered', 'table-striped', 'vehicle-registration']\n"
     ]
    }
   ],
   "source": [
    "print('Classes of each table:')\n",
    "for table in soup.find_all('table'):\n",
    "    print(table.get('class'))"
   ]
  },
  {
   "cell_type": "code",
   "execution_count": 17,
   "metadata": {},
   "outputs": [],
   "source": [
    "tables = soup.find_all('table')\n",
    "\n",
    "table = soup.find('table', class_='table')"
   ]
  },
  {
   "cell_type": "code",
   "execution_count": 21,
   "metadata": {},
   "outputs": [
    {
     "name": "stderr",
     "output_type": "stream",
     "text": [
      "/var/folders/_2/bzbffk715flfhcgl3wbq2pfm0000gn/T/ipykernel_79483/2134908128.py:9: FutureWarning: The frame.append method is deprecated and will be removed from pandas in a future version. Use pandas.concat instead.\n",
      "  t2021 = t2021.append({'State': state}, ignore_index=True)\n",
      "/var/folders/_2/bzbffk715flfhcgl3wbq2pfm0000gn/T/ipykernel_79483/2134908128.py:9: FutureWarning: The frame.append method is deprecated and will be removed from pandas in a future version. Use pandas.concat instead.\n",
      "  t2021 = t2021.append({'State': state}, ignore_index=True)\n",
      "/var/folders/_2/bzbffk715flfhcgl3wbq2pfm0000gn/T/ipykernel_79483/2134908128.py:9: FutureWarning: The frame.append method is deprecated and will be removed from pandas in a future version. Use pandas.concat instead.\n",
      "  t2021 = t2021.append({'State': state}, ignore_index=True)\n",
      "/var/folders/_2/bzbffk715flfhcgl3wbq2pfm0000gn/T/ipykernel_79483/2134908128.py:9: FutureWarning: The frame.append method is deprecated and will be removed from pandas in a future version. Use pandas.concat instead.\n",
      "  t2021 = t2021.append({'State': state}, ignore_index=True)\n",
      "/var/folders/_2/bzbffk715flfhcgl3wbq2pfm0000gn/T/ipykernel_79483/2134908128.py:9: FutureWarning: The frame.append method is deprecated and will be removed from pandas in a future version. Use pandas.concat instead.\n",
      "  t2021 = t2021.append({'State': state}, ignore_index=True)\n",
      "/var/folders/_2/bzbffk715flfhcgl3wbq2pfm0000gn/T/ipykernel_79483/2134908128.py:9: FutureWarning: The frame.append method is deprecated and will be removed from pandas in a future version. Use pandas.concat instead.\n",
      "  t2021 = t2021.append({'State': state}, ignore_index=True)\n",
      "/var/folders/_2/bzbffk715flfhcgl3wbq2pfm0000gn/T/ipykernel_79483/2134908128.py:9: FutureWarning: The frame.append method is deprecated and will be removed from pandas in a future version. Use pandas.concat instead.\n",
      "  t2021 = t2021.append({'State': state}, ignore_index=True)\n",
      "/var/folders/_2/bzbffk715flfhcgl3wbq2pfm0000gn/T/ipykernel_79483/2134908128.py:9: FutureWarning: The frame.append method is deprecated and will be removed from pandas in a future version. Use pandas.concat instead.\n",
      "  t2021 = t2021.append({'State': state}, ignore_index=True)\n",
      "/var/folders/_2/bzbffk715flfhcgl3wbq2pfm0000gn/T/ipykernel_79483/2134908128.py:9: FutureWarning: The frame.append method is deprecated and will be removed from pandas in a future version. Use pandas.concat instead.\n",
      "  t2021 = t2021.append({'State': state}, ignore_index=True)\n",
      "/var/folders/_2/bzbffk715flfhcgl3wbq2pfm0000gn/T/ipykernel_79483/2134908128.py:9: FutureWarning: The frame.append method is deprecated and will be removed from pandas in a future version. Use pandas.concat instead.\n",
      "  t2021 = t2021.append({'State': state}, ignore_index=True)\n",
      "/var/folders/_2/bzbffk715flfhcgl3wbq2pfm0000gn/T/ipykernel_79483/2134908128.py:9: FutureWarning: The frame.append method is deprecated and will be removed from pandas in a future version. Use pandas.concat instead.\n",
      "  t2021 = t2021.append({'State': state}, ignore_index=True)\n",
      "/var/folders/_2/bzbffk715flfhcgl3wbq2pfm0000gn/T/ipykernel_79483/2134908128.py:9: FutureWarning: The frame.append method is deprecated and will be removed from pandas in a future version. Use pandas.concat instead.\n",
      "  t2021 = t2021.append({'State': state}, ignore_index=True)\n",
      "/var/folders/_2/bzbffk715flfhcgl3wbq2pfm0000gn/T/ipykernel_79483/2134908128.py:9: FutureWarning: The frame.append method is deprecated and will be removed from pandas in a future version. Use pandas.concat instead.\n",
      "  t2021 = t2021.append({'State': state}, ignore_index=True)\n",
      "/var/folders/_2/bzbffk715flfhcgl3wbq2pfm0000gn/T/ipykernel_79483/2134908128.py:9: FutureWarning: The frame.append method is deprecated and will be removed from pandas in a future version. Use pandas.concat instead.\n",
      "  t2021 = t2021.append({'State': state}, ignore_index=True)\n",
      "/var/folders/_2/bzbffk715flfhcgl3wbq2pfm0000gn/T/ipykernel_79483/2134908128.py:9: FutureWarning: The frame.append method is deprecated and will be removed from pandas in a future version. Use pandas.concat instead.\n",
      "  t2021 = t2021.append({'State': state}, ignore_index=True)\n",
      "/var/folders/_2/bzbffk715flfhcgl3wbq2pfm0000gn/T/ipykernel_79483/2134908128.py:9: FutureWarning: The frame.append method is deprecated and will be removed from pandas in a future version. Use pandas.concat instead.\n",
      "  t2021 = t2021.append({'State': state}, ignore_index=True)\n",
      "/var/folders/_2/bzbffk715flfhcgl3wbq2pfm0000gn/T/ipykernel_79483/2134908128.py:9: FutureWarning: The frame.append method is deprecated and will be removed from pandas in a future version. Use pandas.concat instead.\n",
      "  t2021 = t2021.append({'State': state}, ignore_index=True)\n",
      "/var/folders/_2/bzbffk715flfhcgl3wbq2pfm0000gn/T/ipykernel_79483/2134908128.py:9: FutureWarning: The frame.append method is deprecated and will be removed from pandas in a future version. Use pandas.concat instead.\n",
      "  t2021 = t2021.append({'State': state}, ignore_index=True)\n",
      "/var/folders/_2/bzbffk715flfhcgl3wbq2pfm0000gn/T/ipykernel_79483/2134908128.py:9: FutureWarning: The frame.append method is deprecated and will be removed from pandas in a future version. Use pandas.concat instead.\n",
      "  t2021 = t2021.append({'State': state}, ignore_index=True)\n",
      "/var/folders/_2/bzbffk715flfhcgl3wbq2pfm0000gn/T/ipykernel_79483/2134908128.py:9: FutureWarning: The frame.append method is deprecated and will be removed from pandas in a future version. Use pandas.concat instead.\n",
      "  t2021 = t2021.append({'State': state}, ignore_index=True)\n",
      "/var/folders/_2/bzbffk715flfhcgl3wbq2pfm0000gn/T/ipykernel_79483/2134908128.py:9: FutureWarning: The frame.append method is deprecated and will be removed from pandas in a future version. Use pandas.concat instead.\n",
      "  t2021 = t2021.append({'State': state}, ignore_index=True)\n",
      "/var/folders/_2/bzbffk715flfhcgl3wbq2pfm0000gn/T/ipykernel_79483/2134908128.py:9: FutureWarning: The frame.append method is deprecated and will be removed from pandas in a future version. Use pandas.concat instead.\n",
      "  t2021 = t2021.append({'State': state}, ignore_index=True)\n",
      "/var/folders/_2/bzbffk715flfhcgl3wbq2pfm0000gn/T/ipykernel_79483/2134908128.py:9: FutureWarning: The frame.append method is deprecated and will be removed from pandas in a future version. Use pandas.concat instead.\n",
      "  t2021 = t2021.append({'State': state}, ignore_index=True)\n",
      "/var/folders/_2/bzbffk715flfhcgl3wbq2pfm0000gn/T/ipykernel_79483/2134908128.py:9: FutureWarning: The frame.append method is deprecated and will be removed from pandas in a future version. Use pandas.concat instead.\n",
      "  t2021 = t2021.append({'State': state}, ignore_index=True)\n",
      "/var/folders/_2/bzbffk715flfhcgl3wbq2pfm0000gn/T/ipykernel_79483/2134908128.py:9: FutureWarning: The frame.append method is deprecated and will be removed from pandas in a future version. Use pandas.concat instead.\n",
      "  t2021 = t2021.append({'State': state}, ignore_index=True)\n",
      "/var/folders/_2/bzbffk715flfhcgl3wbq2pfm0000gn/T/ipykernel_79483/2134908128.py:9: FutureWarning: The frame.append method is deprecated and will be removed from pandas in a future version. Use pandas.concat instead.\n",
      "  t2021 = t2021.append({'State': state}, ignore_index=True)\n",
      "/var/folders/_2/bzbffk715flfhcgl3wbq2pfm0000gn/T/ipykernel_79483/2134908128.py:9: FutureWarning: The frame.append method is deprecated and will be removed from pandas in a future version. Use pandas.concat instead.\n",
      "  t2021 = t2021.append({'State': state}, ignore_index=True)\n",
      "/var/folders/_2/bzbffk715flfhcgl3wbq2pfm0000gn/T/ipykernel_79483/2134908128.py:9: FutureWarning: The frame.append method is deprecated and will be removed from pandas in a future version. Use pandas.concat instead.\n",
      "  t2021 = t2021.append({'State': state}, ignore_index=True)\n",
      "/var/folders/_2/bzbffk715flfhcgl3wbq2pfm0000gn/T/ipykernel_79483/2134908128.py:9: FutureWarning: The frame.append method is deprecated and will be removed from pandas in a future version. Use pandas.concat instead.\n",
      "  t2021 = t2021.append({'State': state}, ignore_index=True)\n",
      "/var/folders/_2/bzbffk715flfhcgl3wbq2pfm0000gn/T/ipykernel_79483/2134908128.py:9: FutureWarning: The frame.append method is deprecated and will be removed from pandas in a future version. Use pandas.concat instead.\n",
      "  t2021 = t2021.append({'State': state}, ignore_index=True)\n",
      "/var/folders/_2/bzbffk715flfhcgl3wbq2pfm0000gn/T/ipykernel_79483/2134908128.py:9: FutureWarning: The frame.append method is deprecated and will be removed from pandas in a future version. Use pandas.concat instead.\n",
      "  t2021 = t2021.append({'State': state}, ignore_index=True)\n",
      "/var/folders/_2/bzbffk715flfhcgl3wbq2pfm0000gn/T/ipykernel_79483/2134908128.py:9: FutureWarning: The frame.append method is deprecated and will be removed from pandas in a future version. Use pandas.concat instead.\n",
      "  t2021 = t2021.append({'State': state}, ignore_index=True)\n",
      "/var/folders/_2/bzbffk715flfhcgl3wbq2pfm0000gn/T/ipykernel_79483/2134908128.py:9: FutureWarning: The frame.append method is deprecated and will be removed from pandas in a future version. Use pandas.concat instead.\n",
      "  t2021 = t2021.append({'State': state}, ignore_index=True)\n",
      "/var/folders/_2/bzbffk715flfhcgl3wbq2pfm0000gn/T/ipykernel_79483/2134908128.py:9: FutureWarning: The frame.append method is deprecated and will be removed from pandas in a future version. Use pandas.concat instead.\n",
      "  t2021 = t2021.append({'State': state}, ignore_index=True)\n",
      "/var/folders/_2/bzbffk715flfhcgl3wbq2pfm0000gn/T/ipykernel_79483/2134908128.py:9: FutureWarning: The frame.append method is deprecated and will be removed from pandas in a future version. Use pandas.concat instead.\n",
      "  t2021 = t2021.append({'State': state}, ignore_index=True)\n",
      "/var/folders/_2/bzbffk715flfhcgl3wbq2pfm0000gn/T/ipykernel_79483/2134908128.py:9: FutureWarning: The frame.append method is deprecated and will be removed from pandas in a future version. Use pandas.concat instead.\n",
      "  t2021 = t2021.append({'State': state}, ignore_index=True)\n",
      "/var/folders/_2/bzbffk715flfhcgl3wbq2pfm0000gn/T/ipykernel_79483/2134908128.py:9: FutureWarning: The frame.append method is deprecated and will be removed from pandas in a future version. Use pandas.concat instead.\n",
      "  t2021 = t2021.append({'State': state}, ignore_index=True)\n",
      "/var/folders/_2/bzbffk715flfhcgl3wbq2pfm0000gn/T/ipykernel_79483/2134908128.py:9: FutureWarning: The frame.append method is deprecated and will be removed from pandas in a future version. Use pandas.concat instead.\n",
      "  t2021 = t2021.append({'State': state}, ignore_index=True)\n",
      "/var/folders/_2/bzbffk715flfhcgl3wbq2pfm0000gn/T/ipykernel_79483/2134908128.py:9: FutureWarning: The frame.append method is deprecated and will be removed from pandas in a future version. Use pandas.concat instead.\n",
      "  t2021 = t2021.append({'State': state}, ignore_index=True)\n",
      "/var/folders/_2/bzbffk715flfhcgl3wbq2pfm0000gn/T/ipykernel_79483/2134908128.py:9: FutureWarning: The frame.append method is deprecated and will be removed from pandas in a future version. Use pandas.concat instead.\n",
      "  t2021 = t2021.append({'State': state}, ignore_index=True)\n",
      "/var/folders/_2/bzbffk715flfhcgl3wbq2pfm0000gn/T/ipykernel_79483/2134908128.py:9: FutureWarning: The frame.append method is deprecated and will be removed from pandas in a future version. Use pandas.concat instead.\n",
      "  t2021 = t2021.append({'State': state}, ignore_index=True)\n",
      "/var/folders/_2/bzbffk715flfhcgl3wbq2pfm0000gn/T/ipykernel_79483/2134908128.py:9: FutureWarning: The frame.append method is deprecated and will be removed from pandas in a future version. Use pandas.concat instead.\n",
      "  t2021 = t2021.append({'State': state}, ignore_index=True)\n",
      "/var/folders/_2/bzbffk715flfhcgl3wbq2pfm0000gn/T/ipykernel_79483/2134908128.py:9: FutureWarning: The frame.append method is deprecated and will be removed from pandas in a future version. Use pandas.concat instead.\n",
      "  t2021 = t2021.append({'State': state}, ignore_index=True)\n",
      "/var/folders/_2/bzbffk715flfhcgl3wbq2pfm0000gn/T/ipykernel_79483/2134908128.py:9: FutureWarning: The frame.append method is deprecated and will be removed from pandas in a future version. Use pandas.concat instead.\n",
      "  t2021 = t2021.append({'State': state}, ignore_index=True)\n",
      "/var/folders/_2/bzbffk715flfhcgl3wbq2pfm0000gn/T/ipykernel_79483/2134908128.py:9: FutureWarning: The frame.append method is deprecated and will be removed from pandas in a future version. Use pandas.concat instead.\n",
      "  t2021 = t2021.append({'State': state}, ignore_index=True)\n",
      "/var/folders/_2/bzbffk715flfhcgl3wbq2pfm0000gn/T/ipykernel_79483/2134908128.py:9: FutureWarning: The frame.append method is deprecated and will be removed from pandas in a future version. Use pandas.concat instead.\n",
      "  t2021 = t2021.append({'State': state}, ignore_index=True)\n",
      "/var/folders/_2/bzbffk715flfhcgl3wbq2pfm0000gn/T/ipykernel_79483/2134908128.py:9: FutureWarning: The frame.append method is deprecated and will be removed from pandas in a future version. Use pandas.concat instead.\n",
      "  t2021 = t2021.append({'State': state}, ignore_index=True)\n",
      "/var/folders/_2/bzbffk715flfhcgl3wbq2pfm0000gn/T/ipykernel_79483/2134908128.py:9: FutureWarning: The frame.append method is deprecated and will be removed from pandas in a future version. Use pandas.concat instead.\n",
      "  t2021 = t2021.append({'State': state}, ignore_index=True)\n",
      "/var/folders/_2/bzbffk715flfhcgl3wbq2pfm0000gn/T/ipykernel_79483/2134908128.py:9: FutureWarning: The frame.append method is deprecated and will be removed from pandas in a future version. Use pandas.concat instead.\n",
      "  t2021 = t2021.append({'State': state}, ignore_index=True)\n",
      "/var/folders/_2/bzbffk715flfhcgl3wbq2pfm0000gn/T/ipykernel_79483/2134908128.py:9: FutureWarning: The frame.append method is deprecated and will be removed from pandas in a future version. Use pandas.concat instead.\n",
      "  t2021 = t2021.append({'State': state}, ignore_index=True)\n",
      "/var/folders/_2/bzbffk715flfhcgl3wbq2pfm0000gn/T/ipykernel_79483/2134908128.py:9: FutureWarning: The frame.append method is deprecated and will be removed from pandas in a future version. Use pandas.concat instead.\n",
      "  t2021 = t2021.append({'State': state}, ignore_index=True)\n"
     ]
    }
   ],
   "source": [
    "t2021 = pd.DataFrame(columns = ['State','EV','PHEV','HEV','Biodiesel','E85','CNG','Propane','Hydrogen','Methanol','Gasoline','Diesel'])\n",
    "\n",
    "for row in table.tbody.find_all('tr'):\n",
    "    columns = row.find_all('td')\n",
    "    \n",
    "    if(columns != []):\n",
    "        state = columns[0].text.strip\n",
    "        \n",
    "        t2021 = t2021.append({'State': state}, ignore_index=True)"
   ]
  }
 ],
 "metadata": {
  "kernelspec": {
   "display_name": "venv6",
   "language": "python",
   "name": "python3"
  },
  "language_info": {
   "codemirror_mode": {
    "name": "ipython",
    "version": 3
   },
   "file_extension": ".py",
   "mimetype": "text/x-python",
   "name": "python",
   "nbconvert_exporter": "python",
   "pygments_lexer": "ipython3",
   "version": "3.11.1"
  },
  "orig_nbformat": 4
 },
 "nbformat": 4,
 "nbformat_minor": 2
}
