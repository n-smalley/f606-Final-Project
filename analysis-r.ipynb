{
 "cells": [
  {
   "cell_type": "code",
   "execution_count": 1,
   "metadata": {
    "vscode": {
     "languageId": "r"
    }
   },
   "outputs": [
    {
     "name": "stderr",
     "output_type": "stream",
     "text": [
      "-- \u001b[1mAttaching packages\u001b[22m --------------------------------------- tidyverse 1.3.2 --\n",
      "\u001b[32mv\u001b[39m \u001b[34mggplot2\u001b[39m 3.4.0     \u001b[32mv\u001b[39m \u001b[34mpurrr  \u001b[39m 1.0.0\n",
      "\u001b[32mv\u001b[39m \u001b[34mtibble \u001b[39m 3.2.1     \u001b[32mv\u001b[39m \u001b[34mdplyr  \u001b[39m 1.1.1\n",
      "\u001b[32mv\u001b[39m \u001b[34mtidyr  \u001b[39m 1.2.1     \u001b[32mv\u001b[39m \u001b[34mstringr\u001b[39m 1.5.0\n",
      "\u001b[32mv\u001b[39m \u001b[34mreadr  \u001b[39m 2.1.3     \u001b[32mv\u001b[39m \u001b[34mforcats\u001b[39m 0.5.2\n",
      "-- \u001b[1mConflicts\u001b[22m ------------------------------------------ tidyverse_conflicts() --\n",
      "\u001b[31mx\u001b[39m \u001b[34mdplyr\u001b[39m::\u001b[32mfilter()\u001b[39m masks \u001b[34mstats\u001b[39m::filter()\n",
      "\u001b[31mx\u001b[39m \u001b[34mdplyr\u001b[39m::\u001b[32mlag()\u001b[39m    masks \u001b[34mstats\u001b[39m::lag()\n",
      "\n",
      "Please cite as: \n",
      "\n",
      "\n",
      " Hlavac, Marek (2022). stargazer: Well-Formatted Regression and Summary Statistics Tables.\n",
      "\n",
      " R package version 5.2.3. https://CRAN.R-project.org/package=stargazer \n",
      "\n",
      "\n",
      "\n",
      "Attaching package: 'olsrr'\n",
      "\n",
      "\n",
      "The following object is masked from 'package:datasets':\n",
      "\n",
      "    rivers\n",
      "\n",
      "\n",
      "Loading required package: carData\n",
      "\n",
      "\n",
      "Attaching package: 'car'\n",
      "\n",
      "\n",
      "The following object is masked from 'package:dplyr':\n",
      "\n",
      "    recode\n",
      "\n",
      "\n",
      "The following object is masked from 'package:purrr':\n",
      "\n",
      "    some\n",
      "\n",
      "\n",
      "Loading required package: zoo\n",
      "\n",
      "\n",
      "Attaching package: 'zoo'\n",
      "\n",
      "\n",
      "The following objects are masked from 'package:base':\n",
      "\n",
      "    as.Date, as.Date.numeric\n",
      "\n",
      "\n",
      "\n",
      "Attaching package: 'plm'\n",
      "\n",
      "\n",
      "The following objects are masked from 'package:dplyr':\n",
      "\n",
      "    between, lag, lead\n",
      "\n",
      "\n",
      "Registered S3 method overwritten by 'quantmod':\n",
      "  method            from\n",
      "  as.zoo.data.frame zoo \n",
      "\n"
     ]
    }
   ],
   "source": [
    "library(tidyverse)\n",
    "library(stargazer)\n",
    "library(olsrr)\n",
    "library(readr)\n",
    "library(readxl)\n",
    "library(writexl)\n",
    "library(dplyr)\n",
    "library(broom)\n",
    "library(car)\n",
    "library(lmtest)\n",
    "library(corpcor)\n",
    "library(sandwich)\n",
    "library(fastDummies)\n",
    "library(plm)\n",
    "library(forecast)\n",
    "library(repr)"
   ]
  },
  {
   "cell_type": "code",
   "execution_count": 2,
   "metadata": {
    "vscode": {
     "languageId": "r"
    }
   },
   "outputs": [],
   "source": [
    "options(repr.plot.width=10, repr.plot.height=10)\n",
    "options(scipen=99)\n",
    "\n",
    "theme = theme(\n",
    "  title = element_text(size = 18),\n",
    "  axis.text.x = element_text(size = 16),\n",
    "  axis.title.x = element_text(size = 18),\n",
    "  axis.text.y = element_text(size = 16),\n",
    "  axis.title.y = element_text(size = 18),\n",
    "  legend.text = element_text(size= 10)\n",
    ") "
   ]
  },
  {
   "attachments": {},
   "cell_type": "markdown",
   "metadata": {},
   "source": [
    "# Setup Forecasts"
   ]
  },
  {
   "attachments": {},
   "cell_type": "markdown",
   "metadata": {},
   "source": [
    "## 2022 VMT Forecast"
   ]
  },
  {
   "cell_type": "code",
   "execution_count": 3,
   "metadata": {
    "vscode": {
     "languageId": "r"
    }
   },
   "outputs": [
    {
     "name": "stderr",
     "output_type": "stream",
     "text": [
      "\u001b[1m\u001b[22mNew names:\n",
      "\u001b[36m*\u001b[39m `` -> `...1`\n"
     ]
    }
   ],
   "source": [
    "vmt.ann = read_excel('data/WorkingData.xlsx', sheet = 'IN-VMT-clean')[1:30,]\n",
    "colnames(vmt.ann) = c('year','vmt')"
   ]
  },
  {
   "cell_type": "code",
   "execution_count": 4,
   "metadata": {
    "vscode": {
     "languageId": "r"
    }
   },
   "outputs": [
    {
     "data": {
      "text/html": [
       "84391.2100712538"
      ],
      "text/latex": [
       "84391.2100712538"
      ],
      "text/markdown": [
       "84391.2100712538"
      ],
      "text/plain": [
       "[1] 84391.21"
      ]
     },
     "metadata": {},
     "output_type": "display_data"
    }
   ],
   "source": [
    "vmt.2022.m = lm(vmt ~ year, vmt.ann)\n",
    "vmt.2022.m$coefficients[[1]] + vmt.2022.m$coefficients[[2]]*2022"
   ]
  },
  {
   "attachments": {},
   "cell_type": "markdown",
   "metadata": {},
   "source": [
    "## IN TPI Forecast"
   ]
  },
  {
   "cell_type": "code",
   "execution_count": 5,
   "metadata": {
    "vscode": {
     "languageId": "r"
    }
   },
   "outputs": [],
   "source": [
    "tpi = read_excel('data/WorkingData.xlsx',sheet='TPI')[2:5]\n",
    "tpi$tpi = tpi$`tpi (millions)`\n",
    "tpi$year = factor(tpi$year)\n",
    "tpi$quarter = factor(tpi$quarter)\n",
    "tpi = dummy_cols(tpi, select_columns = c('year','quarter'))"
   ]
  },
  {
   "cell_type": "code",
   "execution_count": 6,
   "metadata": {
    "vscode": {
     "languageId": "r"
    }
   },
   "outputs": [
    {
     "data": {
      "text/html": [
       "<style>\n",
       ".list-inline {list-style: none; margin:0; padding: 0}\n",
       ".list-inline>li {display: inline-block}\n",
       ".list-inline>li:not(:last-child)::after {content: \"\\00b7\"; padding: 0 .5ex}\n",
       "</style>\n",
       "<ol class=list-inline><li>'year'</li><li>'quarter'</li><li>'time'</li><li>'tpi (millions)'</li><li>'tpi'</li><li>'year_1948'</li><li>'year_1949'</li><li>'year_1950'</li><li>'year_1951'</li><li>'year_1952'</li><li>'year_1953'</li><li>'year_1954'</li><li>'year_1955'</li><li>'year_1956'</li><li>'year_1957'</li><li>'year_1958'</li><li>'year_1959'</li><li>'year_1960'</li><li>'year_1961'</li><li>'year_1962'</li><li>'year_1963'</li><li>'year_1964'</li><li>'year_1965'</li><li>'year_1966'</li><li>'year_1967'</li><li>'year_1968'</li><li>'year_1969'</li><li>'year_1970'</li><li>'year_1971'</li><li>'year_1972'</li><li>'year_1973'</li><li>'year_1974'</li><li>'year_1975'</li><li>'year_1976'</li><li>'year_1977'</li><li>'year_1978'</li><li>'year_1979'</li><li>'year_1980'</li><li>'year_1981'</li><li>'year_1982'</li><li>'year_1983'</li><li>'year_1984'</li><li>'year_1985'</li><li>'year_1986'</li><li>'year_1987'</li><li>'year_1988'</li><li>'year_1989'</li><li>'year_1990'</li><li>'year_1991'</li><li>'year_1992'</li><li>'year_1993'</li><li>'year_1994'</li><li>'year_1995'</li><li>'year_1996'</li><li>'year_1997'</li><li>'year_1998'</li><li>'year_1999'</li><li>'year_2000'</li><li>'year_2001'</li><li>'year_2002'</li><li>'year_2003'</li><li>'year_2004'</li><li>'year_2005'</li><li>'year_2006'</li><li>'year_2007'</li><li>'year_2008'</li><li>'year_2009'</li><li>'year_2010'</li><li>'year_2011'</li><li>'year_2012'</li><li>'year_2013'</li><li>'year_2014'</li><li>'year_2015'</li><li>'year_2016'</li><li>'year_2017'</li><li>'year_2018'</li><li>'year_2019'</li><li>'year_2020'</li><li>'year_2021'</li><li>'year_2022'</li><li>'quarter_0'</li><li>'quarter_1'</li><li>'quarter_2'</li><li>'quarter_3'</li></ol>\n"
      ],
      "text/latex": [
       "\\begin{enumerate*}\n",
       "\\item 'year'\n",
       "\\item 'quarter'\n",
       "\\item 'time'\n",
       "\\item 'tpi (millions)'\n",
       "\\item 'tpi'\n",
       "\\item 'year\\_1948'\n",
       "\\item 'year\\_1949'\n",
       "\\item 'year\\_1950'\n",
       "\\item 'year\\_1951'\n",
       "\\item 'year\\_1952'\n",
       "\\item 'year\\_1953'\n",
       "\\item 'year\\_1954'\n",
       "\\item 'year\\_1955'\n",
       "\\item 'year\\_1956'\n",
       "\\item 'year\\_1957'\n",
       "\\item 'year\\_1958'\n",
       "\\item 'year\\_1959'\n",
       "\\item 'year\\_1960'\n",
       "\\item 'year\\_1961'\n",
       "\\item 'year\\_1962'\n",
       "\\item 'year\\_1963'\n",
       "\\item 'year\\_1964'\n",
       "\\item 'year\\_1965'\n",
       "\\item 'year\\_1966'\n",
       "\\item 'year\\_1967'\n",
       "\\item 'year\\_1968'\n",
       "\\item 'year\\_1969'\n",
       "\\item 'year\\_1970'\n",
       "\\item 'year\\_1971'\n",
       "\\item 'year\\_1972'\n",
       "\\item 'year\\_1973'\n",
       "\\item 'year\\_1974'\n",
       "\\item 'year\\_1975'\n",
       "\\item 'year\\_1976'\n",
       "\\item 'year\\_1977'\n",
       "\\item 'year\\_1978'\n",
       "\\item 'year\\_1979'\n",
       "\\item 'year\\_1980'\n",
       "\\item 'year\\_1981'\n",
       "\\item 'year\\_1982'\n",
       "\\item 'year\\_1983'\n",
       "\\item 'year\\_1984'\n",
       "\\item 'year\\_1985'\n",
       "\\item 'year\\_1986'\n",
       "\\item 'year\\_1987'\n",
       "\\item 'year\\_1988'\n",
       "\\item 'year\\_1989'\n",
       "\\item 'year\\_1990'\n",
       "\\item 'year\\_1991'\n",
       "\\item 'year\\_1992'\n",
       "\\item 'year\\_1993'\n",
       "\\item 'year\\_1994'\n",
       "\\item 'year\\_1995'\n",
       "\\item 'year\\_1996'\n",
       "\\item 'year\\_1997'\n",
       "\\item 'year\\_1998'\n",
       "\\item 'year\\_1999'\n",
       "\\item 'year\\_2000'\n",
       "\\item 'year\\_2001'\n",
       "\\item 'year\\_2002'\n",
       "\\item 'year\\_2003'\n",
       "\\item 'year\\_2004'\n",
       "\\item 'year\\_2005'\n",
       "\\item 'year\\_2006'\n",
       "\\item 'year\\_2007'\n",
       "\\item 'year\\_2008'\n",
       "\\item 'year\\_2009'\n",
       "\\item 'year\\_2010'\n",
       "\\item 'year\\_2011'\n",
       "\\item 'year\\_2012'\n",
       "\\item 'year\\_2013'\n",
       "\\item 'year\\_2014'\n",
       "\\item 'year\\_2015'\n",
       "\\item 'year\\_2016'\n",
       "\\item 'year\\_2017'\n",
       "\\item 'year\\_2018'\n",
       "\\item 'year\\_2019'\n",
       "\\item 'year\\_2020'\n",
       "\\item 'year\\_2021'\n",
       "\\item 'year\\_2022'\n",
       "\\item 'quarter\\_0'\n",
       "\\item 'quarter\\_1'\n",
       "\\item 'quarter\\_2'\n",
       "\\item 'quarter\\_3'\n",
       "\\end{enumerate*}\n"
      ],
      "text/markdown": [
       "1. 'year'\n",
       "2. 'quarter'\n",
       "3. 'time'\n",
       "4. 'tpi (millions)'\n",
       "5. 'tpi'\n",
       "6. 'year_1948'\n",
       "7. 'year_1949'\n",
       "8. 'year_1950'\n",
       "9. 'year_1951'\n",
       "10. 'year_1952'\n",
       "11. 'year_1953'\n",
       "12. 'year_1954'\n",
       "13. 'year_1955'\n",
       "14. 'year_1956'\n",
       "15. 'year_1957'\n",
       "16. 'year_1958'\n",
       "17. 'year_1959'\n",
       "18. 'year_1960'\n",
       "19. 'year_1961'\n",
       "20. 'year_1962'\n",
       "21. 'year_1963'\n",
       "22. 'year_1964'\n",
       "23. 'year_1965'\n",
       "24. 'year_1966'\n",
       "25. 'year_1967'\n",
       "26. 'year_1968'\n",
       "27. 'year_1969'\n",
       "28. 'year_1970'\n",
       "29. 'year_1971'\n",
       "30. 'year_1972'\n",
       "31. 'year_1973'\n",
       "32. 'year_1974'\n",
       "33. 'year_1975'\n",
       "34. 'year_1976'\n",
       "35. 'year_1977'\n",
       "36. 'year_1978'\n",
       "37. 'year_1979'\n",
       "38. 'year_1980'\n",
       "39. 'year_1981'\n",
       "40. 'year_1982'\n",
       "41. 'year_1983'\n",
       "42. 'year_1984'\n",
       "43. 'year_1985'\n",
       "44. 'year_1986'\n",
       "45. 'year_1987'\n",
       "46. 'year_1988'\n",
       "47. 'year_1989'\n",
       "48. 'year_1990'\n",
       "49. 'year_1991'\n",
       "50. 'year_1992'\n",
       "51. 'year_1993'\n",
       "52. 'year_1994'\n",
       "53. 'year_1995'\n",
       "54. 'year_1996'\n",
       "55. 'year_1997'\n",
       "56. 'year_1998'\n",
       "57. 'year_1999'\n",
       "58. 'year_2000'\n",
       "59. 'year_2001'\n",
       "60. 'year_2002'\n",
       "61. 'year_2003'\n",
       "62. 'year_2004'\n",
       "63. 'year_2005'\n",
       "64. 'year_2006'\n",
       "65. 'year_2007'\n",
       "66. 'year_2008'\n",
       "67. 'year_2009'\n",
       "68. 'year_2010'\n",
       "69. 'year_2011'\n",
       "70. 'year_2012'\n",
       "71. 'year_2013'\n",
       "72. 'year_2014'\n",
       "73. 'year_2015'\n",
       "74. 'year_2016'\n",
       "75. 'year_2017'\n",
       "76. 'year_2018'\n",
       "77. 'year_2019'\n",
       "78. 'year_2020'\n",
       "79. 'year_2021'\n",
       "80. 'year_2022'\n",
       "81. 'quarter_0'\n",
       "82. 'quarter_1'\n",
       "83. 'quarter_2'\n",
       "84. 'quarter_3'\n",
       "\n",
       "\n"
      ],
      "text/plain": [
       " [1] \"year\"           \"quarter\"        \"time\"           \"tpi (millions)\"\n",
       " [5] \"tpi\"            \"year_1948\"      \"year_1949\"      \"year_1950\"     \n",
       " [9] \"year_1951\"      \"year_1952\"      \"year_1953\"      \"year_1954\"     \n",
       "[13] \"year_1955\"      \"year_1956\"      \"year_1957\"      \"year_1958\"     \n",
       "[17] \"year_1959\"      \"year_1960\"      \"year_1961\"      \"year_1962\"     \n",
       "[21] \"year_1963\"      \"year_1964\"      \"year_1965\"      \"year_1966\"     \n",
       "[25] \"year_1967\"      \"year_1968\"      \"year_1969\"      \"year_1970\"     \n",
       "[29] \"year_1971\"      \"year_1972\"      \"year_1973\"      \"year_1974\"     \n",
       "[33] \"year_1975\"      \"year_1976\"      \"year_1977\"      \"year_1978\"     \n",
       "[37] \"year_1979\"      \"year_1980\"      \"year_1981\"      \"year_1982\"     \n",
       "[41] \"year_1983\"      \"year_1984\"      \"year_1985\"      \"year_1986\"     \n",
       "[45] \"year_1987\"      \"year_1988\"      \"year_1989\"      \"year_1990\"     \n",
       "[49] \"year_1991\"      \"year_1992\"      \"year_1993\"      \"year_1994\"     \n",
       "[53] \"year_1995\"      \"year_1996\"      \"year_1997\"      \"year_1998\"     \n",
       "[57] \"year_1999\"      \"year_2000\"      \"year_2001\"      \"year_2002\"     \n",
       "[61] \"year_2003\"      \"year_2004\"      \"year_2005\"      \"year_2006\"     \n",
       "[65] \"year_2007\"      \"year_2008\"      \"year_2009\"      \"year_2010\"     \n",
       "[69] \"year_2011\"      \"year_2012\"      \"year_2013\"      \"year_2014\"     \n",
       "[73] \"year_2015\"      \"year_2016\"      \"year_2017\"      \"year_2018\"     \n",
       "[77] \"year_2019\"      \"year_2020\"      \"year_2021\"      \"year_2022\"     \n",
       "[81] \"quarter_0\"      \"quarter_1\"      \"quarter_2\"      \"quarter_3\"     "
      ]
     },
     "metadata": {},
     "output_type": "display_data"
    }
   ],
   "source": [
    "names(tpi)"
   ]
  },
  {
   "cell_type": "code",
   "execution_count": 7,
   "metadata": {
    "vscode": {
     "languageId": "r"
    }
   },
   "outputs": [
    {
     "data": {
      "text/html": [
       "<table class=\"dataframe\">\n",
       "<caption>A data.frame: 79 x 1</caption>\n",
       "<thead>\n",
       "\t<tr><th></th><th scope=col>tpi.m.coefficients</th></tr>\n",
       "\t<tr><th></th><th scope=col>&lt;dbl&gt;</th></tr>\n",
       "</thead>\n",
       "<tbody>\n",
       "\t<tr><th scope=row>(Intercept)</th><td>-10268403679261</td></tr>\n",
       "\t<tr><th scope=row>time</th><td>     5273283108</td></tr>\n",
       "\t<tr><th scope=row>quarter1</th><td>      764246408</td></tr>\n",
       "\t<tr><th scope=row>quarter2</th><td>     1155112815</td></tr>\n",
       "\t<tr><th scope=row>quarter3</th><td>     2099637890</td></tr>\n",
       "\t<tr><th scope=row>year1949</th><td>    -5516833108</td></tr>\n",
       "\t<tr><th scope=row>year1950</th><td>   -10112941216</td></tr>\n",
       "\t<tr><th scope=row>year1951</th><td>   -14392824324</td></tr>\n",
       "\t<tr><th scope=row>year1952</th><td>   -19299807432</td></tr>\n",
       "\t<tr><th scope=row>year1953</th><td>   -23819265541</td></tr>\n",
       "\t<tr><th scope=row>year1954</th><td>   -29538598649</td></tr>\n",
       "\t<tr><th scope=row>year1955</th><td>   -34204931757</td></tr>\n",
       "\t<tr><th scope=row>year1956</th><td>   -38836839865</td></tr>\n",
       "\t<tr><th scope=row>year1957</th><td>   -43809672973</td></tr>\n",
       "\t<tr><th scope=row>year1958</th><td>   -49076431081</td></tr>\n",
       "\t<tr><th scope=row>year1959</th><td>   -53747264189</td></tr>\n",
       "\t<tr><th scope=row>year1960</th><td>   -58504822297</td></tr>\n",
       "\t<tr><th scope=row>year1961</th><td>   -63461330405</td></tr>\n",
       "\t<tr><th scope=row>year1962</th><td>   -67977463514</td></tr>\n",
       "\t<tr><th scope=row>year1963</th><td>   -72672196622</td></tr>\n",
       "\t<tr><th scope=row>year1964</th><td>   -77171354730</td></tr>\n",
       "\t<tr><th scope=row>year1965</th><td>   -81099412838</td></tr>\n",
       "\t<tr><th scope=row>year1966</th><td>   -85247220946</td></tr>\n",
       "\t<tr><th scope=row>year1967</th><td>   -89790904054</td></tr>\n",
       "\t<tr><th scope=row>year1968</th><td>   -93668937162</td></tr>\n",
       "\t<tr><th scope=row>year1969</th><td>   -97116345270</td></tr>\n",
       "\t<tr><th scope=row>year1970</th><td>  -101599228378</td></tr>\n",
       "\t<tr><th scope=row>year1971</th><td>  -105107486486</td></tr>\n",
       "\t<tr><th scope=row>year1972</th><td>  -108327994595</td></tr>\n",
       "\t<tr><th scope=row>year1973</th><td>  -110079402703</td></tr>\n",
       "\t<tr><th scope=row>...</th><td>...</td></tr>\n",
       "\t<tr><th scope=row>year1993</th><td>-126801089865</td></tr>\n",
       "\t<tr><th scope=row>year1994</th><td>-124802572973</td></tr>\n",
       "\t<tr><th scope=row>year1995</th><td>-124454481081</td></tr>\n",
       "\t<tr><th scope=row>year1996</th><td>-122369839189</td></tr>\n",
       "\t<tr><th scope=row>year1997</th><td>-120510297297</td></tr>\n",
       "\t<tr><th scope=row>year1998</th><td>-114571530405</td></tr>\n",
       "\t<tr><th scope=row>year1999</th><td>-113755613514</td></tr>\n",
       "\t<tr><th scope=row>year2000</th><td>-108324971622</td></tr>\n",
       "\t<tr><th scope=row>year2001</th><td>-109605379730</td></tr>\n",
       "\t<tr><th scope=row>year2002</th><td>-112351937838</td></tr>\n",
       "\t<tr><th scope=row>year2003</th><td>-112717595946</td></tr>\n",
       "\t<tr><th scope=row>year2004</th><td>-109000854054</td></tr>\n",
       "\t<tr><th scope=row>year2005</th><td>-108003862162</td></tr>\n",
       "\t<tr><th scope=row>year2006</th><td>-101709920270</td></tr>\n",
       "\t<tr><th scope=row>year2007</th><td> -99485228378</td></tr>\n",
       "\t<tr><th scope=row>year2008</th><td> -94526186486</td></tr>\n",
       "\t<tr><th scope=row>year2009</th><td>-105942794595</td></tr>\n",
       "\t<tr><th scope=row>year2010</th><td>-100852077703</td></tr>\n",
       "\t<tr><th scope=row>year2011</th><td> -91338560811</td></tr>\n",
       "\t<tr><th scope=row>year2012</th><td> -84969393919</td></tr>\n",
       "\t<tr><th scope=row>year2013</th><td> -86676827027</td></tr>\n",
       "\t<tr><th scope=row>year2014</th><td> -81407460135</td></tr>\n",
       "\t<tr><th scope=row>year2015</th><td> -76104343243</td></tr>\n",
       "\t<tr><th scope=row>year2016</th><td> -73594601351</td></tr>\n",
       "\t<tr><th scope=row>year2017</th><td> -68507634459</td></tr>\n",
       "\t<tr><th scope=row>year2018</th><td> -59005117568</td></tr>\n",
       "\t<tr><th scope=row>year2019</th><td> -50393775676</td></tr>\n",
       "\t<tr><th scope=row>year2020</th><td> -30954383784</td></tr>\n",
       "\t<tr><th scope=row>year2021</th><td>  -6045366892</td></tr>\n",
       "\t<tr><th scope=row>year2022</th><td>           NA</td></tr>\n",
       "</tbody>\n",
       "</table>\n"
      ],
      "text/latex": [
       "A data.frame: 79 x 1\n",
       "\\begin{tabular}{r|l}\n",
       "  & tpi.m.coefficients\\\\\n",
       "  & <dbl>\\\\\n",
       "\\hline\n",
       "\t(Intercept) & -10268403679261\\\\\n",
       "\ttime &      5273283108\\\\\n",
       "\tquarter1 &       764246408\\\\\n",
       "\tquarter2 &      1155112815\\\\\n",
       "\tquarter3 &      2099637890\\\\\n",
       "\tyear1949 &     -5516833108\\\\\n",
       "\tyear1950 &    -10112941216\\\\\n",
       "\tyear1951 &    -14392824324\\\\\n",
       "\tyear1952 &    -19299807432\\\\\n",
       "\tyear1953 &    -23819265541\\\\\n",
       "\tyear1954 &    -29538598649\\\\\n",
       "\tyear1955 &    -34204931757\\\\\n",
       "\tyear1956 &    -38836839865\\\\\n",
       "\tyear1957 &    -43809672973\\\\\n",
       "\tyear1958 &    -49076431081\\\\\n",
       "\tyear1959 &    -53747264189\\\\\n",
       "\tyear1960 &    -58504822297\\\\\n",
       "\tyear1961 &    -63461330405\\\\\n",
       "\tyear1962 &    -67977463514\\\\\n",
       "\tyear1963 &    -72672196622\\\\\n",
       "\tyear1964 &    -77171354730\\\\\n",
       "\tyear1965 &    -81099412838\\\\\n",
       "\tyear1966 &    -85247220946\\\\\n",
       "\tyear1967 &    -89790904054\\\\\n",
       "\tyear1968 &    -93668937162\\\\\n",
       "\tyear1969 &    -97116345270\\\\\n",
       "\tyear1970 &   -101599228378\\\\\n",
       "\tyear1971 &   -105107486486\\\\\n",
       "\tyear1972 &   -108327994595\\\\\n",
       "\tyear1973 &   -110079402703\\\\\n",
       "\t... & ...\\\\\n",
       "\tyear1993 & -126801089865\\\\\n",
       "\tyear1994 & -124802572973\\\\\n",
       "\tyear1995 & -124454481081\\\\\n",
       "\tyear1996 & -122369839189\\\\\n",
       "\tyear1997 & -120510297297\\\\\n",
       "\tyear1998 & -114571530405\\\\\n",
       "\tyear1999 & -113755613514\\\\\n",
       "\tyear2000 & -108324971622\\\\\n",
       "\tyear2001 & -109605379730\\\\\n",
       "\tyear2002 & -112351937838\\\\\n",
       "\tyear2003 & -112717595946\\\\\n",
       "\tyear2004 & -109000854054\\\\\n",
       "\tyear2005 & -108003862162\\\\\n",
       "\tyear2006 & -101709920270\\\\\n",
       "\tyear2007 &  -99485228378\\\\\n",
       "\tyear2008 &  -94526186486\\\\\n",
       "\tyear2009 & -105942794595\\\\\n",
       "\tyear2010 & -100852077703\\\\\n",
       "\tyear2011 &  -91338560811\\\\\n",
       "\tyear2012 &  -84969393919\\\\\n",
       "\tyear2013 &  -86676827027\\\\\n",
       "\tyear2014 &  -81407460135\\\\\n",
       "\tyear2015 &  -76104343243\\\\\n",
       "\tyear2016 &  -73594601351\\\\\n",
       "\tyear2017 &  -68507634459\\\\\n",
       "\tyear2018 &  -59005117568\\\\\n",
       "\tyear2019 &  -50393775676\\\\\n",
       "\tyear2020 &  -30954383784\\\\\n",
       "\tyear2021 &   -6045366892\\\\\n",
       "\tyear2022 &            NA\\\\\n",
       "\\end{tabular}\n"
      ],
      "text/markdown": [
       "\n",
       "A data.frame: 79 x 1\n",
       "\n",
       "| <!--/--> | tpi.m.coefficients &lt;dbl&gt; |\n",
       "|---|---|\n",
       "| (Intercept) | -10268403679261 |\n",
       "| time |      5273283108 |\n",
       "| quarter1 |       764246408 |\n",
       "| quarter2 |      1155112815 |\n",
       "| quarter3 |      2099637890 |\n",
       "| year1949 |     -5516833108 |\n",
       "| year1950 |    -10112941216 |\n",
       "| year1951 |    -14392824324 |\n",
       "| year1952 |    -19299807432 |\n",
       "| year1953 |    -23819265541 |\n",
       "| year1954 |    -29538598649 |\n",
       "| year1955 |    -34204931757 |\n",
       "| year1956 |    -38836839865 |\n",
       "| year1957 |    -43809672973 |\n",
       "| year1958 |    -49076431081 |\n",
       "| year1959 |    -53747264189 |\n",
       "| year1960 |    -58504822297 |\n",
       "| year1961 |    -63461330405 |\n",
       "| year1962 |    -67977463514 |\n",
       "| year1963 |    -72672196622 |\n",
       "| year1964 |    -77171354730 |\n",
       "| year1965 |    -81099412838 |\n",
       "| year1966 |    -85247220946 |\n",
       "| year1967 |    -89790904054 |\n",
       "| year1968 |    -93668937162 |\n",
       "| year1969 |    -97116345270 |\n",
       "| year1970 |   -101599228378 |\n",
       "| year1971 |   -105107486486 |\n",
       "| year1972 |   -108327994595 |\n",
       "| year1973 |   -110079402703 |\n",
       "| ... | ... |\n",
       "| year1993 | -126801089865 |\n",
       "| year1994 | -124802572973 |\n",
       "| year1995 | -124454481081 |\n",
       "| year1996 | -122369839189 |\n",
       "| year1997 | -120510297297 |\n",
       "| year1998 | -114571530405 |\n",
       "| year1999 | -113755613514 |\n",
       "| year2000 | -108324971622 |\n",
       "| year2001 | -109605379730 |\n",
       "| year2002 | -112351937838 |\n",
       "| year2003 | -112717595946 |\n",
       "| year2004 | -109000854054 |\n",
       "| year2005 | -108003862162 |\n",
       "| year2006 | -101709920270 |\n",
       "| year2007 |  -99485228378 |\n",
       "| year2008 |  -94526186486 |\n",
       "| year2009 | -105942794595 |\n",
       "| year2010 | -100852077703 |\n",
       "| year2011 |  -91338560811 |\n",
       "| year2012 |  -84969393919 |\n",
       "| year2013 |  -86676827027 |\n",
       "| year2014 |  -81407460135 |\n",
       "| year2015 |  -76104343243 |\n",
       "| year2016 |  -73594601351 |\n",
       "| year2017 |  -68507634459 |\n",
       "| year2018 |  -59005117568 |\n",
       "| year2019 |  -50393775676 |\n",
       "| year2020 |  -30954383784 |\n",
       "| year2021 |   -6045366892 |\n",
       "| year2022 |            NA |\n",
       "\n"
      ],
      "text/plain": [
       "            tpi.m.coefficients\n",
       "(Intercept) -10268403679261   \n",
       "time             5273283108   \n",
       "quarter1          764246408   \n",
       "quarter2         1155112815   \n",
       "quarter3         2099637890   \n",
       "year1949        -5516833108   \n",
       "year1950       -10112941216   \n",
       "year1951       -14392824324   \n",
       "year1952       -19299807432   \n",
       "year1953       -23819265541   \n",
       "year1954       -29538598649   \n",
       "year1955       -34204931757   \n",
       "year1956       -38836839865   \n",
       "year1957       -43809672973   \n",
       "year1958       -49076431081   \n",
       "year1959       -53747264189   \n",
       "year1960       -58504822297   \n",
       "year1961       -63461330405   \n",
       "year1962       -67977463514   \n",
       "year1963       -72672196622   \n",
       "year1964       -77171354730   \n",
       "year1965       -81099412838   \n",
       "year1966       -85247220946   \n",
       "year1967       -89790904054   \n",
       "year1968       -93668937162   \n",
       "year1969       -97116345270   \n",
       "year1970      -101599228378   \n",
       "year1971      -105107486486   \n",
       "year1972      -108327994595   \n",
       "year1973      -110079402703   \n",
       "...         ...               \n",
       "year1993    -126801089865     \n",
       "year1994    -124802572973     \n",
       "year1995    -124454481081     \n",
       "year1996    -122369839189     \n",
       "year1997    -120510297297     \n",
       "year1998    -114571530405     \n",
       "year1999    -113755613514     \n",
       "year2000    -108324971622     \n",
       "year2001    -109605379730     \n",
       "year2002    -112351937838     \n",
       "year2003    -112717595946     \n",
       "year2004    -109000854054     \n",
       "year2005    -108003862162     \n",
       "year2006    -101709920270     \n",
       "year2007     -99485228378     \n",
       "year2008     -94526186486     \n",
       "year2009    -105942794595     \n",
       "year2010    -100852077703     \n",
       "year2011     -91338560811     \n",
       "year2012     -84969393919     \n",
       "year2013     -86676827027     \n",
       "year2014     -81407460135     \n",
       "year2015     -76104343243     \n",
       "year2016     -73594601351     \n",
       "year2017     -68507634459     \n",
       "year2018     -59005117568     \n",
       "year2019     -50393775676     \n",
       "year2020     -30954383784     \n",
       "year2021      -6045366892     \n",
       "year2022               NA     "
      ]
     },
     "metadata": {},
     "output_type": "display_data"
    }
   ],
   "source": [
    "tpi.m = lm(tpi ~ time + quarter + year, tpi)\n",
    "data.frame(tpi.m$coefficients)"
   ]
  },
  {
   "cell_type": "code",
   "execution_count": 8,
   "metadata": {
    "vscode": {
     "languageId": "r"
    }
   },
   "outputs": [
    {
     "data": {
      "text/html": [
       "<table class=\"dataframe\">\n",
       "<caption>A data.frame: 80 x 7</caption>\n",
       "<thead>\n",
       "\t<tr><th scope=col>year</th><th scope=col>qtr</th><th scope=col>time</th><th scope=col>qtr_0</th><th scope=col>qtr_1</th><th scope=col>qtr_2</th><th scope=col>qtr_3</th></tr>\n",
       "\t<tr><th scope=col>&lt;int&gt;</th><th scope=col>&lt;int&gt;</th><th scope=col>&lt;dbl&gt;</th><th scope=col>&lt;int&gt;</th><th scope=col>&lt;int&gt;</th><th scope=col>&lt;int&gt;</th><th scope=col>&lt;int&gt;</th></tr>\n",
       "</thead>\n",
       "<tbody>\n",
       "\t<tr><td>2023</td><td>0</td><td>2023.00</td><td>1</td><td>0</td><td>0</td><td>0</td></tr>\n",
       "\t<tr><td>2023</td><td>1</td><td>2023.25</td><td>0</td><td>1</td><td>0</td><td>0</td></tr>\n",
       "\t<tr><td>2023</td><td>2</td><td>2023.50</td><td>0</td><td>0</td><td>1</td><td>0</td></tr>\n",
       "\t<tr><td>2023</td><td>3</td><td>2023.75</td><td>0</td><td>0</td><td>0</td><td>1</td></tr>\n",
       "\t<tr><td>2024</td><td>0</td><td>2024.00</td><td>1</td><td>0</td><td>0</td><td>0</td></tr>\n",
       "\t<tr><td>2024</td><td>1</td><td>2024.25</td><td>0</td><td>1</td><td>0</td><td>0</td></tr>\n",
       "\t<tr><td>2024</td><td>2</td><td>2024.50</td><td>0</td><td>0</td><td>1</td><td>0</td></tr>\n",
       "\t<tr><td>2024</td><td>3</td><td>2024.75</td><td>0</td><td>0</td><td>0</td><td>1</td></tr>\n",
       "\t<tr><td>2025</td><td>0</td><td>2025.00</td><td>1</td><td>0</td><td>0</td><td>0</td></tr>\n",
       "\t<tr><td>2025</td><td>1</td><td>2025.25</td><td>0</td><td>1</td><td>0</td><td>0</td></tr>\n",
       "\t<tr><td>2025</td><td>2</td><td>2025.50</td><td>0</td><td>0</td><td>1</td><td>0</td></tr>\n",
       "\t<tr><td>2025</td><td>3</td><td>2025.75</td><td>0</td><td>0</td><td>0</td><td>1</td></tr>\n",
       "\t<tr><td>2026</td><td>0</td><td>2026.00</td><td>1</td><td>0</td><td>0</td><td>0</td></tr>\n",
       "\t<tr><td>2026</td><td>1</td><td>2026.25</td><td>0</td><td>1</td><td>0</td><td>0</td></tr>\n",
       "\t<tr><td>2026</td><td>2</td><td>2026.50</td><td>0</td><td>0</td><td>1</td><td>0</td></tr>\n",
       "\t<tr><td>2026</td><td>3</td><td>2026.75</td><td>0</td><td>0</td><td>0</td><td>1</td></tr>\n",
       "\t<tr><td>2027</td><td>0</td><td>2027.00</td><td>1</td><td>0</td><td>0</td><td>0</td></tr>\n",
       "\t<tr><td>2027</td><td>1</td><td>2027.25</td><td>0</td><td>1</td><td>0</td><td>0</td></tr>\n",
       "\t<tr><td>2027</td><td>2</td><td>2027.50</td><td>0</td><td>0</td><td>1</td><td>0</td></tr>\n",
       "\t<tr><td>2027</td><td>3</td><td>2027.75</td><td>0</td><td>0</td><td>0</td><td>1</td></tr>\n",
       "\t<tr><td>2028</td><td>0</td><td>2028.00</td><td>1</td><td>0</td><td>0</td><td>0</td></tr>\n",
       "\t<tr><td>2028</td><td>1</td><td>2028.25</td><td>0</td><td>1</td><td>0</td><td>0</td></tr>\n",
       "\t<tr><td>2028</td><td>2</td><td>2028.50</td><td>0</td><td>0</td><td>1</td><td>0</td></tr>\n",
       "\t<tr><td>2028</td><td>3</td><td>2028.75</td><td>0</td><td>0</td><td>0</td><td>1</td></tr>\n",
       "\t<tr><td>2029</td><td>0</td><td>2029.00</td><td>1</td><td>0</td><td>0</td><td>0</td></tr>\n",
       "\t<tr><td>2029</td><td>1</td><td>2029.25</td><td>0</td><td>1</td><td>0</td><td>0</td></tr>\n",
       "\t<tr><td>2029</td><td>2</td><td>2029.50</td><td>0</td><td>0</td><td>1</td><td>0</td></tr>\n",
       "\t<tr><td>2029</td><td>3</td><td>2029.75</td><td>0</td><td>0</td><td>0</td><td>1</td></tr>\n",
       "\t<tr><td>2030</td><td>0</td><td>2030.00</td><td>1</td><td>0</td><td>0</td><td>0</td></tr>\n",
       "\t<tr><td>2030</td><td>1</td><td>2030.25</td><td>0</td><td>1</td><td>0</td><td>0</td></tr>\n",
       "\t<tr><td>...</td><td>...</td><td>...</td><td>...</td><td>...</td><td>...</td><td>...</td></tr>\n",
       "\t<tr><td>2035</td><td>2</td><td>2035.50</td><td>0</td><td>0</td><td>1</td><td>0</td></tr>\n",
       "\t<tr><td>2035</td><td>3</td><td>2035.75</td><td>0</td><td>0</td><td>0</td><td>1</td></tr>\n",
       "\t<tr><td>2036</td><td>0</td><td>2036.00</td><td>1</td><td>0</td><td>0</td><td>0</td></tr>\n",
       "\t<tr><td>2036</td><td>1</td><td>2036.25</td><td>0</td><td>1</td><td>0</td><td>0</td></tr>\n",
       "\t<tr><td>2036</td><td>2</td><td>2036.50</td><td>0</td><td>0</td><td>1</td><td>0</td></tr>\n",
       "\t<tr><td>2036</td><td>3</td><td>2036.75</td><td>0</td><td>0</td><td>0</td><td>1</td></tr>\n",
       "\t<tr><td>2037</td><td>0</td><td>2037.00</td><td>1</td><td>0</td><td>0</td><td>0</td></tr>\n",
       "\t<tr><td>2037</td><td>1</td><td>2037.25</td><td>0</td><td>1</td><td>0</td><td>0</td></tr>\n",
       "\t<tr><td>2037</td><td>2</td><td>2037.50</td><td>0</td><td>0</td><td>1</td><td>0</td></tr>\n",
       "\t<tr><td>2037</td><td>3</td><td>2037.75</td><td>0</td><td>0</td><td>0</td><td>1</td></tr>\n",
       "\t<tr><td>2038</td><td>0</td><td>2038.00</td><td>1</td><td>0</td><td>0</td><td>0</td></tr>\n",
       "\t<tr><td>2038</td><td>1</td><td>2038.25</td><td>0</td><td>1</td><td>0</td><td>0</td></tr>\n",
       "\t<tr><td>2038</td><td>2</td><td>2038.50</td><td>0</td><td>0</td><td>1</td><td>0</td></tr>\n",
       "\t<tr><td>2038</td><td>3</td><td>2038.75</td><td>0</td><td>0</td><td>0</td><td>1</td></tr>\n",
       "\t<tr><td>2039</td><td>0</td><td>2039.00</td><td>1</td><td>0</td><td>0</td><td>0</td></tr>\n",
       "\t<tr><td>2039</td><td>1</td><td>2039.25</td><td>0</td><td>1</td><td>0</td><td>0</td></tr>\n",
       "\t<tr><td>2039</td><td>2</td><td>2039.50</td><td>0</td><td>0</td><td>1</td><td>0</td></tr>\n",
       "\t<tr><td>2039</td><td>3</td><td>2039.75</td><td>0</td><td>0</td><td>0</td><td>1</td></tr>\n",
       "\t<tr><td>2040</td><td>0</td><td>2040.00</td><td>1</td><td>0</td><td>0</td><td>0</td></tr>\n",
       "\t<tr><td>2040</td><td>1</td><td>2040.25</td><td>0</td><td>1</td><td>0</td><td>0</td></tr>\n",
       "\t<tr><td>2040</td><td>2</td><td>2040.50</td><td>0</td><td>0</td><td>1</td><td>0</td></tr>\n",
       "\t<tr><td>2040</td><td>3</td><td>2040.75</td><td>0</td><td>0</td><td>0</td><td>1</td></tr>\n",
       "\t<tr><td>2041</td><td>0</td><td>2041.00</td><td>1</td><td>0</td><td>0</td><td>0</td></tr>\n",
       "\t<tr><td>2041</td><td>1</td><td>2041.25</td><td>0</td><td>1</td><td>0</td><td>0</td></tr>\n",
       "\t<tr><td>2041</td><td>2</td><td>2041.50</td><td>0</td><td>0</td><td>1</td><td>0</td></tr>\n",
       "\t<tr><td>2041</td><td>3</td><td>2041.75</td><td>0</td><td>0</td><td>0</td><td>1</td></tr>\n",
       "\t<tr><td>2042</td><td>0</td><td>2042.00</td><td>1</td><td>0</td><td>0</td><td>0</td></tr>\n",
       "\t<tr><td>2042</td><td>1</td><td>2042.25</td><td>0</td><td>1</td><td>0</td><td>0</td></tr>\n",
       "\t<tr><td>2042</td><td>2</td><td>2042.50</td><td>0</td><td>0</td><td>1</td><td>0</td></tr>\n",
       "\t<tr><td>2042</td><td>3</td><td>2042.75</td><td>0</td><td>0</td><td>0</td><td>1</td></tr>\n",
       "</tbody>\n",
       "</table>\n"
      ],
      "text/latex": [
       "A data.frame: 80 x 7\n",
       "\\begin{tabular}{lllllll}\n",
       " year & qtr & time & qtr\\_0 & qtr\\_1 & qtr\\_2 & qtr\\_3\\\\\n",
       " <int> & <int> & <dbl> & <int> & <int> & <int> & <int>\\\\\n",
       "\\hline\n",
       "\t 2023 & 0 & 2023.00 & 1 & 0 & 0 & 0\\\\\n",
       "\t 2023 & 1 & 2023.25 & 0 & 1 & 0 & 0\\\\\n",
       "\t 2023 & 2 & 2023.50 & 0 & 0 & 1 & 0\\\\\n",
       "\t 2023 & 3 & 2023.75 & 0 & 0 & 0 & 1\\\\\n",
       "\t 2024 & 0 & 2024.00 & 1 & 0 & 0 & 0\\\\\n",
       "\t 2024 & 1 & 2024.25 & 0 & 1 & 0 & 0\\\\\n",
       "\t 2024 & 2 & 2024.50 & 0 & 0 & 1 & 0\\\\\n",
       "\t 2024 & 3 & 2024.75 & 0 & 0 & 0 & 1\\\\\n",
       "\t 2025 & 0 & 2025.00 & 1 & 0 & 0 & 0\\\\\n",
       "\t 2025 & 1 & 2025.25 & 0 & 1 & 0 & 0\\\\\n",
       "\t 2025 & 2 & 2025.50 & 0 & 0 & 1 & 0\\\\\n",
       "\t 2025 & 3 & 2025.75 & 0 & 0 & 0 & 1\\\\\n",
       "\t 2026 & 0 & 2026.00 & 1 & 0 & 0 & 0\\\\\n",
       "\t 2026 & 1 & 2026.25 & 0 & 1 & 0 & 0\\\\\n",
       "\t 2026 & 2 & 2026.50 & 0 & 0 & 1 & 0\\\\\n",
       "\t 2026 & 3 & 2026.75 & 0 & 0 & 0 & 1\\\\\n",
       "\t 2027 & 0 & 2027.00 & 1 & 0 & 0 & 0\\\\\n",
       "\t 2027 & 1 & 2027.25 & 0 & 1 & 0 & 0\\\\\n",
       "\t 2027 & 2 & 2027.50 & 0 & 0 & 1 & 0\\\\\n",
       "\t 2027 & 3 & 2027.75 & 0 & 0 & 0 & 1\\\\\n",
       "\t 2028 & 0 & 2028.00 & 1 & 0 & 0 & 0\\\\\n",
       "\t 2028 & 1 & 2028.25 & 0 & 1 & 0 & 0\\\\\n",
       "\t 2028 & 2 & 2028.50 & 0 & 0 & 1 & 0\\\\\n",
       "\t 2028 & 3 & 2028.75 & 0 & 0 & 0 & 1\\\\\n",
       "\t 2029 & 0 & 2029.00 & 1 & 0 & 0 & 0\\\\\n",
       "\t 2029 & 1 & 2029.25 & 0 & 1 & 0 & 0\\\\\n",
       "\t 2029 & 2 & 2029.50 & 0 & 0 & 1 & 0\\\\\n",
       "\t 2029 & 3 & 2029.75 & 0 & 0 & 0 & 1\\\\\n",
       "\t 2030 & 0 & 2030.00 & 1 & 0 & 0 & 0\\\\\n",
       "\t 2030 & 1 & 2030.25 & 0 & 1 & 0 & 0\\\\\n",
       "\t ... & ... & ... & ... & ... & ... & ...\\\\\n",
       "\t 2035 & 2 & 2035.50 & 0 & 0 & 1 & 0\\\\\n",
       "\t 2035 & 3 & 2035.75 & 0 & 0 & 0 & 1\\\\\n",
       "\t 2036 & 0 & 2036.00 & 1 & 0 & 0 & 0\\\\\n",
       "\t 2036 & 1 & 2036.25 & 0 & 1 & 0 & 0\\\\\n",
       "\t 2036 & 2 & 2036.50 & 0 & 0 & 1 & 0\\\\\n",
       "\t 2036 & 3 & 2036.75 & 0 & 0 & 0 & 1\\\\\n",
       "\t 2037 & 0 & 2037.00 & 1 & 0 & 0 & 0\\\\\n",
       "\t 2037 & 1 & 2037.25 & 0 & 1 & 0 & 0\\\\\n",
       "\t 2037 & 2 & 2037.50 & 0 & 0 & 1 & 0\\\\\n",
       "\t 2037 & 3 & 2037.75 & 0 & 0 & 0 & 1\\\\\n",
       "\t 2038 & 0 & 2038.00 & 1 & 0 & 0 & 0\\\\\n",
       "\t 2038 & 1 & 2038.25 & 0 & 1 & 0 & 0\\\\\n",
       "\t 2038 & 2 & 2038.50 & 0 & 0 & 1 & 0\\\\\n",
       "\t 2038 & 3 & 2038.75 & 0 & 0 & 0 & 1\\\\\n",
       "\t 2039 & 0 & 2039.00 & 1 & 0 & 0 & 0\\\\\n",
       "\t 2039 & 1 & 2039.25 & 0 & 1 & 0 & 0\\\\\n",
       "\t 2039 & 2 & 2039.50 & 0 & 0 & 1 & 0\\\\\n",
       "\t 2039 & 3 & 2039.75 & 0 & 0 & 0 & 1\\\\\n",
       "\t 2040 & 0 & 2040.00 & 1 & 0 & 0 & 0\\\\\n",
       "\t 2040 & 1 & 2040.25 & 0 & 1 & 0 & 0\\\\\n",
       "\t 2040 & 2 & 2040.50 & 0 & 0 & 1 & 0\\\\\n",
       "\t 2040 & 3 & 2040.75 & 0 & 0 & 0 & 1\\\\\n",
       "\t 2041 & 0 & 2041.00 & 1 & 0 & 0 & 0\\\\\n",
       "\t 2041 & 1 & 2041.25 & 0 & 1 & 0 & 0\\\\\n",
       "\t 2041 & 2 & 2041.50 & 0 & 0 & 1 & 0\\\\\n",
       "\t 2041 & 3 & 2041.75 & 0 & 0 & 0 & 1\\\\\n",
       "\t 2042 & 0 & 2042.00 & 1 & 0 & 0 & 0\\\\\n",
       "\t 2042 & 1 & 2042.25 & 0 & 1 & 0 & 0\\\\\n",
       "\t 2042 & 2 & 2042.50 & 0 & 0 & 1 & 0\\\\\n",
       "\t 2042 & 3 & 2042.75 & 0 & 0 & 0 & 1\\\\\n",
       "\\end{tabular}\n"
      ],
      "text/markdown": [
       "\n",
       "A data.frame: 80 x 7\n",
       "\n",
       "| year &lt;int&gt; | qtr &lt;int&gt; | time &lt;dbl&gt; | qtr_0 &lt;int&gt; | qtr_1 &lt;int&gt; | qtr_2 &lt;int&gt; | qtr_3 &lt;int&gt; |\n",
       "|---|---|---|---|---|---|---|\n",
       "| 2023 | 0 | 2023.00 | 1 | 0 | 0 | 0 |\n",
       "| 2023 | 1 | 2023.25 | 0 | 1 | 0 | 0 |\n",
       "| 2023 | 2 | 2023.50 | 0 | 0 | 1 | 0 |\n",
       "| 2023 | 3 | 2023.75 | 0 | 0 | 0 | 1 |\n",
       "| 2024 | 0 | 2024.00 | 1 | 0 | 0 | 0 |\n",
       "| 2024 | 1 | 2024.25 | 0 | 1 | 0 | 0 |\n",
       "| 2024 | 2 | 2024.50 | 0 | 0 | 1 | 0 |\n",
       "| 2024 | 3 | 2024.75 | 0 | 0 | 0 | 1 |\n",
       "| 2025 | 0 | 2025.00 | 1 | 0 | 0 | 0 |\n",
       "| 2025 | 1 | 2025.25 | 0 | 1 | 0 | 0 |\n",
       "| 2025 | 2 | 2025.50 | 0 | 0 | 1 | 0 |\n",
       "| 2025 | 3 | 2025.75 | 0 | 0 | 0 | 1 |\n",
       "| 2026 | 0 | 2026.00 | 1 | 0 | 0 | 0 |\n",
       "| 2026 | 1 | 2026.25 | 0 | 1 | 0 | 0 |\n",
       "| 2026 | 2 | 2026.50 | 0 | 0 | 1 | 0 |\n",
       "| 2026 | 3 | 2026.75 | 0 | 0 | 0 | 1 |\n",
       "| 2027 | 0 | 2027.00 | 1 | 0 | 0 | 0 |\n",
       "| 2027 | 1 | 2027.25 | 0 | 1 | 0 | 0 |\n",
       "| 2027 | 2 | 2027.50 | 0 | 0 | 1 | 0 |\n",
       "| 2027 | 3 | 2027.75 | 0 | 0 | 0 | 1 |\n",
       "| 2028 | 0 | 2028.00 | 1 | 0 | 0 | 0 |\n",
       "| 2028 | 1 | 2028.25 | 0 | 1 | 0 | 0 |\n",
       "| 2028 | 2 | 2028.50 | 0 | 0 | 1 | 0 |\n",
       "| 2028 | 3 | 2028.75 | 0 | 0 | 0 | 1 |\n",
       "| 2029 | 0 | 2029.00 | 1 | 0 | 0 | 0 |\n",
       "| 2029 | 1 | 2029.25 | 0 | 1 | 0 | 0 |\n",
       "| 2029 | 2 | 2029.50 | 0 | 0 | 1 | 0 |\n",
       "| 2029 | 3 | 2029.75 | 0 | 0 | 0 | 1 |\n",
       "| 2030 | 0 | 2030.00 | 1 | 0 | 0 | 0 |\n",
       "| 2030 | 1 | 2030.25 | 0 | 1 | 0 | 0 |\n",
       "| ... | ... | ... | ... | ... | ... | ... |\n",
       "| 2035 | 2 | 2035.50 | 0 | 0 | 1 | 0 |\n",
       "| 2035 | 3 | 2035.75 | 0 | 0 | 0 | 1 |\n",
       "| 2036 | 0 | 2036.00 | 1 | 0 | 0 | 0 |\n",
       "| 2036 | 1 | 2036.25 | 0 | 1 | 0 | 0 |\n",
       "| 2036 | 2 | 2036.50 | 0 | 0 | 1 | 0 |\n",
       "| 2036 | 3 | 2036.75 | 0 | 0 | 0 | 1 |\n",
       "| 2037 | 0 | 2037.00 | 1 | 0 | 0 | 0 |\n",
       "| 2037 | 1 | 2037.25 | 0 | 1 | 0 | 0 |\n",
       "| 2037 | 2 | 2037.50 | 0 | 0 | 1 | 0 |\n",
       "| 2037 | 3 | 2037.75 | 0 | 0 | 0 | 1 |\n",
       "| 2038 | 0 | 2038.00 | 1 | 0 | 0 | 0 |\n",
       "| 2038 | 1 | 2038.25 | 0 | 1 | 0 | 0 |\n",
       "| 2038 | 2 | 2038.50 | 0 | 0 | 1 | 0 |\n",
       "| 2038 | 3 | 2038.75 | 0 | 0 | 0 | 1 |\n",
       "| 2039 | 0 | 2039.00 | 1 | 0 | 0 | 0 |\n",
       "| 2039 | 1 | 2039.25 | 0 | 1 | 0 | 0 |\n",
       "| 2039 | 2 | 2039.50 | 0 | 0 | 1 | 0 |\n",
       "| 2039 | 3 | 2039.75 | 0 | 0 | 0 | 1 |\n",
       "| 2040 | 0 | 2040.00 | 1 | 0 | 0 | 0 |\n",
       "| 2040 | 1 | 2040.25 | 0 | 1 | 0 | 0 |\n",
       "| 2040 | 2 | 2040.50 | 0 | 0 | 1 | 0 |\n",
       "| 2040 | 3 | 2040.75 | 0 | 0 | 0 | 1 |\n",
       "| 2041 | 0 | 2041.00 | 1 | 0 | 0 | 0 |\n",
       "| 2041 | 1 | 2041.25 | 0 | 1 | 0 | 0 |\n",
       "| 2041 | 2 | 2041.50 | 0 | 0 | 1 | 0 |\n",
       "| 2041 | 3 | 2041.75 | 0 | 0 | 0 | 1 |\n",
       "| 2042 | 0 | 2042.00 | 1 | 0 | 0 | 0 |\n",
       "| 2042 | 1 | 2042.25 | 0 | 1 | 0 | 0 |\n",
       "| 2042 | 2 | 2042.50 | 0 | 0 | 1 | 0 |\n",
       "| 2042 | 3 | 2042.75 | 0 | 0 | 0 | 1 |\n",
       "\n"
      ],
      "text/plain": [
       "    year qtr time    qtr_0 qtr_1 qtr_2 qtr_3\n",
       "1   2023 0   2023.00 1     0     0     0    \n",
       "2   2023 1   2023.25 0     1     0     0    \n",
       "3   2023 2   2023.50 0     0     1     0    \n",
       "4   2023 3   2023.75 0     0     0     1    \n",
       "5   2024 0   2024.00 1     0     0     0    \n",
       "6   2024 1   2024.25 0     1     0     0    \n",
       "7   2024 2   2024.50 0     0     1     0    \n",
       "8   2024 3   2024.75 0     0     0     1    \n",
       "9   2025 0   2025.00 1     0     0     0    \n",
       "10  2025 1   2025.25 0     1     0     0    \n",
       "11  2025 2   2025.50 0     0     1     0    \n",
       "12  2025 3   2025.75 0     0     0     1    \n",
       "13  2026 0   2026.00 1     0     0     0    \n",
       "14  2026 1   2026.25 0     1     0     0    \n",
       "15  2026 2   2026.50 0     0     1     0    \n",
       "16  2026 3   2026.75 0     0     0     1    \n",
       "17  2027 0   2027.00 1     0     0     0    \n",
       "18  2027 1   2027.25 0     1     0     0    \n",
       "19  2027 2   2027.50 0     0     1     0    \n",
       "20  2027 3   2027.75 0     0     0     1    \n",
       "21  2028 0   2028.00 1     0     0     0    \n",
       "22  2028 1   2028.25 0     1     0     0    \n",
       "23  2028 2   2028.50 0     0     1     0    \n",
       "24  2028 3   2028.75 0     0     0     1    \n",
       "25  2029 0   2029.00 1     0     0     0    \n",
       "26  2029 1   2029.25 0     1     0     0    \n",
       "27  2029 2   2029.50 0     0     1     0    \n",
       "28  2029 3   2029.75 0     0     0     1    \n",
       "29  2030 0   2030.00 1     0     0     0    \n",
       "30  2030 1   2030.25 0     1     0     0    \n",
       "... ...  ... ...     ...   ...   ...   ...  \n",
       "51  2035 2   2035.50 0     0     1     0    \n",
       "52  2035 3   2035.75 0     0     0     1    \n",
       "53  2036 0   2036.00 1     0     0     0    \n",
       "54  2036 1   2036.25 0     1     0     0    \n",
       "55  2036 2   2036.50 0     0     1     0    \n",
       "56  2036 3   2036.75 0     0     0     1    \n",
       "57  2037 0   2037.00 1     0     0     0    \n",
       "58  2037 1   2037.25 0     1     0     0    \n",
       "59  2037 2   2037.50 0     0     1     0    \n",
       "60  2037 3   2037.75 0     0     0     1    \n",
       "61  2038 0   2038.00 1     0     0     0    \n",
       "62  2038 1   2038.25 0     1     0     0    \n",
       "63  2038 2   2038.50 0     0     1     0    \n",
       "64  2038 3   2038.75 0     0     0     1    \n",
       "65  2039 0   2039.00 1     0     0     0    \n",
       "66  2039 1   2039.25 0     1     0     0    \n",
       "67  2039 2   2039.50 0     0     1     0    \n",
       "68  2039 3   2039.75 0     0     0     1    \n",
       "69  2040 0   2040.00 1     0     0     0    \n",
       "70  2040 1   2040.25 0     1     0     0    \n",
       "71  2040 2   2040.50 0     0     1     0    \n",
       "72  2040 3   2040.75 0     0     0     1    \n",
       "73  2041 0   2041.00 1     0     0     0    \n",
       "74  2041 1   2041.25 0     1     0     0    \n",
       "75  2041 2   2041.50 0     0     1     0    \n",
       "76  2041 3   2041.75 0     0     0     1    \n",
       "77  2042 0   2042.00 1     0     0     0    \n",
       "78  2042 1   2042.25 0     1     0     0    \n",
       "79  2042 2   2042.50 0     0     1     0    \n",
       "80  2042 3   2042.75 0     0     0     1    "
      ]
     },
     "metadata": {},
     "output_type": "display_data"
    }
   ],
   "source": [
    "# create dataframe\n",
    "tpi.fc = data.frame(year = c(rep(2023:2042,4)))\n",
    "tpi.fc = data.frame(year = c(tpi.fc[order(tpi.fc$year),]))\n",
    "tpi.fc$qtr = c(0:3)\n",
    "tpi.fc$time = tpi.fc$year+(tpi.fc$qtr/4)\n",
    "tpi.fc = dummy_cols(tpi.fc, 'qtr')\n",
    "tpi.fc"
   ]
  },
  {
   "cell_type": "code",
   "execution_count": 9,
   "metadata": {
    "vscode": {
     "languageId": "r"
    }
   },
   "outputs": [],
   "source": [
    "tpi.fc$tpi = tpi.m$coefficients[[1]] + tpi.m$coefficients[[2]]*tpi.fc$time + tpi.m$coefficients[[3]]*tpi.fc$qtr_1 + tpi.m$coefficients[[4]]*tpi.fc$qtr_2 + \n",
    "    tpi.m$coefficients[[5]]*tpi.fc$qtr_3 + tpi.m$coefficients[[78]]\n",
    "tpi.fc.ann = aggregate(tpi ~ year, tpi.fc, mean)"
   ]
  },
  {
   "attachments": {},
   "cell_type": "markdown",
   "metadata": {},
   "source": [
    "# Income and Gas Correlation"
   ]
  },
  {
   "cell_type": "code",
   "execution_count": 10,
   "metadata": {
    "vscode": {
     "languageId": "r"
    }
   },
   "outputs": [],
   "source": [
    "nhts = read.csv('data/vehpub.csv')\n",
    "nhts2 = nhts[c('HHSTATE','HHFAMINC','BESTMILE')]\n",
    "nhts.in = nhts2[nhts2$HHSTATE=='IN' | nhts2$BESTMILE != -9,]"
   ]
  },
  {
   "cell_type": "code",
   "execution_count": 11,
   "metadata": {
    "vscode": {
     "languageId": "r"
    }
   },
   "outputs": [
    {
     "data": {
      "text/html": [
       "<table class=\"dataframe\">\n",
       "<caption>A data.frame: 11 x 3</caption>\n",
       "<thead>\n",
       "\t<tr><th></th><th scope=col>HHFAMINC</th><th scope=col>Bracket</th><th scope=col>BESTMILE</th></tr>\n",
       "\t<tr><th></th><th scope=col>&lt;int&gt;</th><th scope=col>&lt;chr&gt;</th><th scope=col>&lt;dbl&gt;</th></tr>\n",
       "</thead>\n",
       "<tbody>\n",
       "\t<tr><th scope=row>4</th><td> 1</td><td>Less than $10,000</td><td> 9595.484</td></tr>\n",
       "\t<tr><th scope=row>5</th><td> 2</td><td>$10,000-$14,999  </td><td> 9300.401</td></tr>\n",
       "\t<tr><th scope=row>6</th><td> 3</td><td>$15,000-$24,999  </td><td> 9230.974</td></tr>\n",
       "\t<tr><th scope=row>7</th><td> 4</td><td>$25,000-$34,999  </td><td> 9645.826</td></tr>\n",
       "\t<tr><th scope=row>8</th><td> 5</td><td>$35,000-$49,999  </td><td>10029.380</td></tr>\n",
       "\t<tr><th scope=row>9</th><td> 6</td><td>$50,000-$74,999  </td><td>10407.642</td></tr>\n",
       "\t<tr><th scope=row>10</th><td> 7</td><td>$75,000-$99,999  </td><td>10944.008</td></tr>\n",
       "\t<tr><th scope=row>11</th><td> 8</td><td>$100,000-$124,999</td><td>11235.182</td></tr>\n",
       "\t<tr><th scope=row>12</th><td> 9</td><td>$125,000-$149,999</td><td>11557.514</td></tr>\n",
       "\t<tr><th scope=row>13</th><td>10</td><td>$150,000-$199,999</td><td>11676.881</td></tr>\n",
       "\t<tr><th scope=row>14</th><td>11</td><td>$200,000 or more </td><td>11166.358</td></tr>\n",
       "</tbody>\n",
       "</table>\n"
      ],
      "text/latex": [
       "A data.frame: 11 x 3\n",
       "\\begin{tabular}{r|lll}\n",
       "  & HHFAMINC & Bracket & BESTMILE\\\\\n",
       "  & <int> & <chr> & <dbl>\\\\\n",
       "\\hline\n",
       "\t4 &  1 & Less than \\$10,000 &  9595.484\\\\\n",
       "\t5 &  2 & \\$10,000-\\$14,999   &  9300.401\\\\\n",
       "\t6 &  3 & \\$15,000-\\$24,999   &  9230.974\\\\\n",
       "\t7 &  4 & \\$25,000-\\$34,999   &  9645.826\\\\\n",
       "\t8 &  5 & \\$35,000-\\$49,999   & 10029.380\\\\\n",
       "\t9 &  6 & \\$50,000-\\$74,999   & 10407.642\\\\\n",
       "\t10 &  7 & \\$75,000-\\$99,999   & 10944.008\\\\\n",
       "\t11 &  8 & \\$100,000-\\$124,999 & 11235.182\\\\\n",
       "\t12 &  9 & \\$125,000-\\$149,999 & 11557.514\\\\\n",
       "\t13 & 10 & \\$150,000-\\$199,999 & 11676.881\\\\\n",
       "\t14 & 11 & \\$200,000 or more  & 11166.358\\\\\n",
       "\\end{tabular}\n"
      ],
      "text/markdown": [
       "\n",
       "A data.frame: 11 x 3\n",
       "\n",
       "| <!--/--> | HHFAMINC &lt;int&gt; | Bracket &lt;chr&gt; | BESTMILE &lt;dbl&gt; |\n",
       "|---|---|---|---|\n",
       "| 4 |  1 | Less than $10,000 |  9595.484 |\n",
       "| 5 |  2 | $10,000-$14,999   |  9300.401 |\n",
       "| 6 |  3 | $15,000-$24,999   |  9230.974 |\n",
       "| 7 |  4 | $25,000-$34,999   |  9645.826 |\n",
       "| 8 |  5 | $35,000-$49,999   | 10029.380 |\n",
       "| 9 |  6 | $50,000-$74,999   | 10407.642 |\n",
       "| 10 |  7 | $75,000-$99,999   | 10944.008 |\n",
       "| 11 |  8 | $100,000-$124,999 | 11235.182 |\n",
       "| 12 |  9 | $125,000-$149,999 | 11557.514 |\n",
       "| 13 | 10 | $150,000-$199,999 | 11676.881 |\n",
       "| 14 | 11 | $200,000 or more  | 11166.358 |\n",
       "\n"
      ],
      "text/plain": [
       "   HHFAMINC Bracket           BESTMILE \n",
       "4   1       Less than $10,000  9595.484\n",
       "5   2       $10,000-$14,999    9300.401\n",
       "6   3       $15,000-$24,999    9230.974\n",
       "7   4       $25,000-$34,999    9645.826\n",
       "8   5       $35,000-$49,999   10029.380\n",
       "9   6       $50,000-$74,999   10407.642\n",
       "10  7       $75,000-$99,999   10944.008\n",
       "11  8       $100,000-$124,999 11235.182\n",
       "12  9       $125,000-$149,999 11557.514\n",
       "13 10       $150,000-$199,999 11676.881\n",
       "14 11       $200,000 or more  11166.358"
      ]
     },
     "metadata": {},
     "output_type": "display_data"
    }
   ],
   "source": [
    "incmile = aggregate(BESTMILE ~ HHFAMINC,data=nhts.in,mean)\n",
    "incmile$Bracket = c('a','b','c','Less than $10,000','$10,000-$14,999','$15,000-$24,999','$25,000-$34,999','$35,000-$49,999','$50,000-$74,999','$75,000-$99,999','$100,000-$124,999','$125,000-$149,999','$150,000-$199,999','$200,000 or more')\n",
    "incmile = incmile[c('HHFAMINC','Bracket','BESTMILE')][4:14,]\n",
    "incmile"
   ]
  },
  {
   "cell_type": "code",
   "execution_count": 12,
   "metadata": {
    "vscode": {
     "languageId": "r"
    }
   },
   "outputs": [
    {
     "name": "stderr",
     "output_type": "stream",
     "text": [
      "Warning message:\n",
      "\"\u001b[1m\u001b[22mRemoved 3 rows containing missing values (`geom_point()`).\"\n"
     ]
    },
    {
     "data": {
      "image/png": "[encoded data removed]",
      "text/plain": [
       "plot without title"
      ]
     },
     "metadata": {
      "image/png": {
       "height": 600,
       "width": 600
      }
     },
     "output_type": "display_data"
    }
   ],
   "source": [
    "incmile = incmile[c('HHFAMINC','Bracket','BESTMILE')][4:14,]\n",
    "ggplot(incmile, aes(HHFAMINC,BESTMILE)) + geom_point()"
   ]
  },
  {
   "cell_type": "code",
   "execution_count": 13,
   "metadata": {
    "vscode": {
     "languageId": "r"
    }
   },
   "outputs": [
    {
     "data": {
      "text/plain": [
       "\n",
       "Call:\n",
       "lm(formula = BESTMILE ~ HHFAMINC, data = nhts.in)\n",
       "\n",
       "Residuals:\n",
       "   Min     1Q Median     3Q    Max \n",
       "-11677  -6050  -1972   3238 190769 \n",
       "\n",
       "Coefficients:\n",
       "            Estimate Std. Error t value   Pr(>|t|)    \n",
       "(Intercept)     7746       1738   4.457 0.00000831 ***\n",
       "HHFAMINC-8      1147       1771   0.648     0.5172    \n",
       "HHFAMINC-7      1751       1743   1.005     0.3151    \n",
       "HHFAMINC1       1850       1744   1.061     0.2887    \n",
       "HHFAMINC2       1555       1742   0.892     0.3723    \n",
       "HHFAMINC3       1485       1740   0.854     0.3933    \n",
       "HHFAMINC4       1900       1740   1.092     0.2747    \n",
       "HHFAMINC5       2284       1739   1.313     0.1891    \n",
       "HHFAMINC6       2662       1739   1.531     0.1257    \n",
       "HHFAMINC7       3198       1739   1.839     0.0659 .  \n",
       "HHFAMINC8       3490       1739   2.007     0.0448 *  \n",
       "HHFAMINC9       3812       1740   2.191     0.0285 *  \n",
       "HHFAMINC10      3931       1740   2.260     0.0238 *  \n",
       "HHFAMINC11      3421       1740   1.966     0.0493 *  \n",
       "---\n",
       "Signif. codes:  0 '***' 0.001 '**' 0.01 '*' 0.05 '.' 0.1 ' ' 1\n",
       "\n",
       "Residual standard error: 10850 on 252094 degrees of freedom\n",
       "Multiple R-squared:  0.004918,\tAdjusted R-squared:  0.004867 \n",
       "F-statistic: 95.84 on 13 and 252094 DF,  p-value: < 0.00000000000000022\n"
      ]
     },
     "metadata": {},
     "output_type": "display_data"
    }
   ],
   "source": [
    "nhts.in$HHFAMINC = as.factor(nhts.in$HHFAMINC)\n",
    "summary(lm(BESTMILE ~  HHFAMINC, nhts.in))"
   ]
  },
  {
   "attachments": {},
   "cell_type": "markdown",
   "metadata": {},
   "source": [
    "# Gas Tax Analysis"
   ]
  },
  {
   "attachments": {},
   "cell_type": "markdown",
   "metadata": {},
   "source": [
    "## Gas Forecast"
   ]
  },
  {
   "attachments": {},
   "cell_type": "markdown",
   "metadata": {},
   "source": [
    "### Setup"
   ]
  },
  {
   "cell_type": "code",
   "execution_count": 14,
   "metadata": {
    "vscode": {
     "languageId": "r"
    }
   },
   "outputs": [],
   "source": [
    "gas = read_excel('data/WorkingData.xlsx', sheet = 'GasRevMonthly')\n",
    "gas = dummy_cols(gas, select_columns = c('month','year'))\n",
    "gas$time = gas$year+gas$mnth/12\n",
    "gas$year = factor(gas$year)\n",
    "gas$mnth = factor(gas$mnth)\n"
   ]
  },
  {
   "cell_type": "code",
   "execution_count": 15,
   "metadata": {
    "vscode": {
     "languageId": "r"
    }
   },
   "outputs": [],
   "source": [
    "share.ann = read_excel('data/WorkingData.xlsx', sheet = 'share.ann')\n",
    "share.m = lm(share ~ I(year^2) + year, share.ann)\n",
    "reg.m = lm(registered ~ I(year^2) + year, share.ann)\n",
    "ev.m = lm(ev ~ I(year^2) + year, share.ann)"
   ]
  },
  {
   "cell_type": "code",
   "execution_count": 16,
   "metadata": {
    "vscode": {
     "languageId": "r"
    }
   },
   "outputs": [],
   "source": [
    "share.mnth = read_excel('data/WorkingData.xlsx', sheet = 'share.mnth')\n",
    "share.mnth$share.hat = share.m$coefficients[[1]] + share.m$coefficients[[2]]*(share.mnth$time^2) + \n",
    "    share.m$coefficients[[3]]*share.mnth$time\n",
    "share.mnth$reg.hat = reg.m$coefficients[[1]] + reg.m$coefficients[[2]]*(share.mnth$time^2) + \n",
    "    reg.m$coefficients[[3]]*share.mnth$time\n",
    "share.mnth$ev.hat = ev.m$coefficients[[1]] + ev.m$coefficients[[2]]*(share.mnth$time^2) + \n",
    "    ev.m$coefficients[[3]]*share.mnth$time\n",
    "# write_xlsx(share.mnth,'data/sharemnth.xlsx')"
   ]
  },
  {
   "attachments": {},
   "cell_type": "markdown",
   "metadata": {},
   "source": [
    "### Forecast"
   ]
  },
  {
   "cell_type": "code",
   "execution_count": 17,
   "metadata": {
    "vscode": {
     "languageId": "r"
    }
   },
   "outputs": [
    {
     "data": {
      "text/html": [
       "<style>\n",
       ".list-inline {list-style: none; margin:0; padding: 0}\n",
       ".list-inline>li {display: inline-block}\n",
       ".list-inline>li:not(:last-child)::after {content: \"\\00b7\"; padding: 0 .5ex}\n",
       "</style>\n",
       "<ol class=list-inline><li>'year'</li><li>'month'</li><li>'mnth'</li><li>'key'</li><li>'avg.vmt.share'</li><li>'gas.rev.ann'</li><li>'gas.base.ann'</li><li>'gas.tax'</li><li>'gas.base.mnth'</li><li>'gas.rev.mnth'</li><li>'vmt.ann (mill)'</li><li>'vmt.mnth'</li><li>'avg.mpg'</li><li>'ev.count'</li><li>'month_April'</li><li>'month_August'</li><li>'month_December'</li><li>'month_February'</li><li>'month_January'</li><li>'month_July'</li><li>'month_June'</li><li>'month_March'</li><li>'month_May'</li><li>'month_November'</li><li>'month_October'</li><li>'month_September'</li><li>'year_1999'</li><li>'year_2000'</li><li>'year_2001'</li><li>'year_2002'</li><li>'year_2003'</li><li>'year_2004'</li><li>'year_2005'</li><li>'year_2006'</li><li>'year_2007'</li><li>'year_2008'</li><li>'year_2009'</li><li>'year_2010'</li><li>'year_2011'</li><li>'year_2012'</li><li>'year_2013'</li><li>'year_2014'</li><li>'year_2015'</li><li>'year_2016'</li><li>'year_2017'</li><li>'year_2018'</li><li>'year_2019'</li><li>'year_2020'</li><li>'year_2021'</li><li>'year_2022'</li><li>'time'</li></ol>\n"
      ],
      "text/latex": [
       "\\begin{enumerate*}\n",
       "\\item 'year'\n",
       "\\item 'month'\n",
       "\\item 'mnth'\n",
       "\\item 'key'\n",
       "\\item 'avg.vmt.share'\n",
       "\\item 'gas.rev.ann'\n",
       "\\item 'gas.base.ann'\n",
       "\\item 'gas.tax'\n",
       "\\item 'gas.base.mnth'\n",
       "\\item 'gas.rev.mnth'\n",
       "\\item 'vmt.ann (mill)'\n",
       "\\item 'vmt.mnth'\n",
       "\\item 'avg.mpg'\n",
       "\\item 'ev.count'\n",
       "\\item 'month\\_April'\n",
       "\\item 'month\\_August'\n",
       "\\item 'month\\_December'\n",
       "\\item 'month\\_February'\n",
       "\\item 'month\\_January'\n",
       "\\item 'month\\_July'\n",
       "\\item 'month\\_June'\n",
       "\\item 'month\\_March'\n",
       "\\item 'month\\_May'\n",
       "\\item 'month\\_November'\n",
       "\\item 'month\\_October'\n",
       "\\item 'month\\_September'\n",
       "\\item 'year\\_1999'\n",
       "\\item 'year\\_2000'\n",
       "\\item 'year\\_2001'\n",
       "\\item 'year\\_2002'\n",
       "\\item 'year\\_2003'\n",
       "\\item 'year\\_2004'\n",
       "\\item 'year\\_2005'\n",
       "\\item 'year\\_2006'\n",
       "\\item 'year\\_2007'\n",
       "\\item 'year\\_2008'\n",
       "\\item 'year\\_2009'\n",
       "\\item 'year\\_2010'\n",
       "\\item 'year\\_2011'\n",
       "\\item 'year\\_2012'\n",
       "\\item 'year\\_2013'\n",
       "\\item 'year\\_2014'\n",
       "\\item 'year\\_2015'\n",
       "\\item 'year\\_2016'\n",
       "\\item 'year\\_2017'\n",
       "\\item 'year\\_2018'\n",
       "\\item 'year\\_2019'\n",
       "\\item 'year\\_2020'\n",
       "\\item 'year\\_2021'\n",
       "\\item 'year\\_2022'\n",
       "\\item 'time'\n",
       "\\end{enumerate*}\n"
      ],
      "text/markdown": [
       "1. 'year'\n",
       "2. 'month'\n",
       "3. 'mnth'\n",
       "4. 'key'\n",
       "5. 'avg.vmt.share'\n",
       "6. 'gas.rev.ann'\n",
       "7. 'gas.base.ann'\n",
       "8. 'gas.tax'\n",
       "9. 'gas.base.mnth'\n",
       "10. 'gas.rev.mnth'\n",
       "11. 'vmt.ann (mill)'\n",
       "12. 'vmt.mnth'\n",
       "13. 'avg.mpg'\n",
       "14. 'ev.count'\n",
       "15. 'month_April'\n",
       "16. 'month_August'\n",
       "17. 'month_December'\n",
       "18. 'month_February'\n",
       "19. 'month_January'\n",
       "20. 'month_July'\n",
       "21. 'month_June'\n",
       "22. 'month_March'\n",
       "23. 'month_May'\n",
       "24. 'month_November'\n",
       "25. 'month_October'\n",
       "26. 'month_September'\n",
       "27. 'year_1999'\n",
       "28. 'year_2000'\n",
       "29. 'year_2001'\n",
       "30. 'year_2002'\n",
       "31. 'year_2003'\n",
       "32. 'year_2004'\n",
       "33. 'year_2005'\n",
       "34. 'year_2006'\n",
       "35. 'year_2007'\n",
       "36. 'year_2008'\n",
       "37. 'year_2009'\n",
       "38. 'year_2010'\n",
       "39. 'year_2011'\n",
       "40. 'year_2012'\n",
       "41. 'year_2013'\n",
       "42. 'year_2014'\n",
       "43. 'year_2015'\n",
       "44. 'year_2016'\n",
       "45. 'year_2017'\n",
       "46. 'year_2018'\n",
       "47. 'year_2019'\n",
       "48. 'year_2020'\n",
       "49. 'year_2021'\n",
       "50. 'year_2022'\n",
       "51. 'time'\n",
       "\n",
       "\n"
      ],
      "text/plain": [
       " [1] \"year\"            \"month\"           \"mnth\"            \"key\"            \n",
       " [5] \"avg.vmt.share\"   \"gas.rev.ann\"     \"gas.base.ann\"    \"gas.tax\"        \n",
       " [9] \"gas.base.mnth\"   \"gas.rev.mnth\"    \"vmt.ann (mill)\"  \"vmt.mnth\"       \n",
       "[13] \"avg.mpg\"         \"ev.count\"        \"month_April\"     \"month_August\"   \n",
       "[17] \"month_December\"  \"month_February\"  \"month_January\"   \"month_July\"     \n",
       "[21] \"month_June\"      \"month_March\"     \"month_May\"       \"month_November\" \n",
       "[25] \"month_October\"   \"month_September\" \"year_1999\"       \"year_2000\"      \n",
       "[29] \"year_2001\"       \"year_2002\"       \"year_2003\"       \"year_2004\"      \n",
       "[33] \"year_2005\"       \"year_2006\"       \"year_2007\"       \"year_2008\"      \n",
       "[37] \"year_2009\"       \"year_2010\"       \"year_2011\"       \"year_2012\"      \n",
       "[41] \"year_2013\"       \"year_2014\"       \"year_2015\"       \"year_2016\"      \n",
       "[45] \"year_2017\"       \"year_2018\"       \"year_2019\"       \"year_2020\"      \n",
       "[49] \"year_2021\"       \"year_2022\"       \"time\"           "
      ]
     },
     "metadata": {},
     "output_type": "display_data"
    }
   ],
   "source": [
    "names(gas)"
   ]
  },
  {
   "attachments": {},
   "cell_type": "markdown",
   "metadata": {},
   "source": [
    "#### Revenue"
   ]
  },
  {
   "cell_type": "code",
   "execution_count": 18,
   "metadata": {
    "vscode": {
     "languageId": "r"
    }
   },
   "outputs": [
    {
     "data": {
      "text/plain": [
       "\n",
       "Call:\n",
       "lm(formula = gas.rev.mnth ~ time + mnth + year, data = gas)\n",
       "\n",
       "Residuals:\n",
       "     Min       1Q   Median       3Q      Max \n",
       "-9263212  -493118   -64545   506825  3723924 \n",
       "\n",
       "Coefficients: (1 not defined because of singularities)\n",
       "               Estimate  Std. Error t value             Pr(>|t|)    \n",
       "(Intercept) -3843135483    48453750 -79.316 < 0.0000000000000002 ***\n",
       "time            1938964       24100  80.456 < 0.0000000000000002 ***\n",
       "mnth1          -2552733      391948  -6.513   0.0000000003946020 ***\n",
       "mnth2           4165302      391963  10.627 < 0.0000000000000002 ***\n",
       "mnth3           3217038      391989   8.207   0.0000000000000116 ***\n",
       "mnth4           5866775      392025  14.965 < 0.0000000000000002 ***\n",
       "mnth5           6040829      392071  15.407 < 0.0000000000000002 ***\n",
       "mnth6           7197290      392128  18.354 < 0.0000000000000002 ***\n",
       "mnth7           6683633      392195  17.042 < 0.0000000000000002 ***\n",
       "mnth8           2494426      392272   6.359   0.0000000009431280 ***\n",
       "mnth9           5047553      392359  12.865 < 0.0000000000000002 ***\n",
       "mnth10          1345484      392457   3.428             0.000709 ***\n",
       "mnth11          2004310      392565   5.106   0.0000006486105686 ***\n",
       "year2000        -461904      542642  -0.851             0.395456    \n",
       "year2001          60096      531832   0.113             0.910121    \n",
       "year2002       -2951816      521911  -5.656   0.0000000418312455 ***\n",
       "year2003       -1766897      512931  -3.445             0.000669 ***\n",
       "year2004        1653741      504942   3.275             0.001204 ** \n",
       "year2005        -529867      497994  -1.064             0.288341    \n",
       "year2006       -3234210      492128  -6.572   0.0000000002816519 ***\n",
       "year2007       -5161659      487384 -10.591 < 0.0000000000000002 ***\n",
       "year2008       -8531611      483796 -17.635 < 0.0000000000000002 ***\n",
       "year2009      -11934366      481389 -24.792 < 0.0000000000000002 ***\n",
       "year2010      -13472984      480181 -28.058 < 0.0000000000000002 ***\n",
       "year2011      -15216747      480181 -31.690 < 0.0000000000000002 ***\n",
       "year2012      -17850162      481389 -37.081 < 0.0000000000000002 ***\n",
       "year2013      -20212850      483796 -41.780 < 0.0000000000000002 ***\n",
       "year2014      -22345954      487384 -45.849 < 0.0000000000000002 ***\n",
       "year2015      -23218884      492128 -47.181 < 0.0000000000000002 ***\n",
       "year2016      -23762718      497994 -47.717 < 0.0000000000000002 ***\n",
       "year2017      -25479949      504942 -50.461 < 0.0000000000000002 ***\n",
       "year2018       -3015967      512931  -5.880   0.0000000129244076 ***\n",
       "year2019        -473474      521911  -0.907             0.365167    \n",
       "year2020       -5298992      531832  -9.964 < 0.0000000000000002 ***\n",
       "year2021       -3454744      542642  -6.367   0.0000000009037410 ***\n",
       "year2022             NA          NA      NA                   NA    \n",
       "---\n",
       "Signif. codes:  0 '***' 0.001 '**' 0.01 '*' 0.05 '.' 0.1 ' ' 1\n",
       "\n",
       "Residual standard error: 1358000 on 253 degrees of freedom\n",
       "Multiple R-squared:  0.991,\tAdjusted R-squared:  0.9898 \n",
       "F-statistic: 820.6 on 34 and 253 DF,  p-value: < 0.00000000000000022\n"
      ]
     },
     "metadata": {},
     "output_type": "display_data"
    }
   ],
   "source": [
    "gas.m = lm(gas.rev.mnth ~ time + mnth + year, gas)\n",
    "summary(gas.m)"
   ]
  },
  {
   "cell_type": "code",
   "execution_count": 19,
   "metadata": {
    "vscode": {
     "languageId": "r"
    }
   },
   "outputs": [],
   "source": [
    "# create dataframe\n",
    "gas.fc = data.frame(year = c(rep(2023:2042,12)))\n",
    "gas.fc = data.frame(year = c(gas.fc[order(gas.fc$year),]))\n",
    "gas.fc$mnth = c(0:11)\n",
    "gas.fc$time = gas.fc$year+(gas.fc$mnth/12)\n",
    "gas.fc$vmt = NA\n",
    "gas.fc$rate = NA\n",
    "gas.fc$rev = NA\n",
    "gas.fc = dummy_cols(gas.fc, select_columns = c('mnth'))"
   ]
  },
  {
   "cell_type": "code",
   "execution_count": 20,
   "metadata": {
    "vscode": {
     "languageId": "r"
    }
   },
   "outputs": [],
   "source": [
    "gas.fc$gas.rev = gas.m$coefficients[[1]] + gas.m$coefficients[[2]]*gas.fc$time + gas.m$coefficients[[3]]*gas.fc$mnth_1 +\n",
    "    gas.m$coefficients[[4]]*gas.fc$mnth_2 + gas.m$coefficients[[5]]*gas.fc$mnth_3 + gas.m$coefficients[[6]]*gas.fc$mnth_4 + \n",
    "    gas.m$coefficients[[7]]*gas.fc$mnth_5 + gas.m$coefficients[[8]]*gas.fc$mnth_6 + gas.m$coefficients[[9]]*gas.fc$mnth_7 + \n",
    "    gas.m$coefficients[[10]]*gas.fc$mnth_8 + gas.m$coefficients[[11]]*gas.fc$mnth_9 + gas.m$coefficients[[12]]*gas.fc$mnth_10 + \n",
    "    gas.m$coefficients[[13]]*gas.fc$mnth_11 + gas.m$coefficients[[35]]"
   ]
  },
  {
   "cell_type": "code",
   "execution_count": 21,
   "metadata": {
    "vscode": {
     "languageId": "r"
    }
   },
   "outputs": [],
   "source": [
    "gas.fc = aggregate(gas.rev ~ year,gas.fc,sum)"
   ]
  },
  {
   "attachments": {},
   "cell_type": "markdown",
   "metadata": {},
   "source": [
    "#### Scoring"
   ]
  },
  {
   "attachments": {},
   "cell_type": "markdown",
   "metadata": {},
   "source": [
    "##### Constant Rate"
   ]
  },
  {
   "cell_type": "code",
   "execution_count": 22,
   "metadata": {
    "vscode": {
     "languageId": "r"
    }
   },
   "outputs": [],
   "source": [
    "base.m = lm(gas.base.mnth ~ time + mnth + year, gas)\n",
    "\n",
    "base.fc = data.frame(year = c(rep(2023:2042,12)))\n",
    "base.fc = data.frame(year = c(base.fc[order(base.fc$year),]))\n",
    "base.fc$mnth = c(0:11)\n",
    "base.fc$time = base.fc$year+(base.fc$mnth/12)\n",
    "base.fc$rate = NA\n",
    "base.fc$rev = NA\n",
    "base.fc = dummy_cols(base.fc, select_columns = 'mnth')"
   ]
  },
  {
   "cell_type": "code",
   "execution_count": 23,
   "metadata": {
    "vscode": {
     "languageId": "r"
    }
   },
   "outputs": [],
   "source": [
    "base.fc$gas.base = base.m$coefficients[[1]] + base.m$coefficients[[2]]*base.fc$time + base.m$coefficients[[3]]*base.fc$mnth_1 +\n",
    "    base.m$coefficients[[4]]*base.fc$mnth_2 + base.m$coefficients[[5]]*base.fc$mnth_3 + base.m$coefficients[[6]]*base.fc$mnth_4 + \n",
    "    base.m$coefficients[[7]]*base.fc$mnth_5 + base.m$coefficients[[8]]*base.fc$mnth_6 + base.m$coefficients[[9]]*base.fc$mnth_7 + \n",
    "    base.m$coefficients[[10]]*base.fc$mnth_8 + base.m$coefficients[[11]]*base.fc$mnth_9 + base.m$coefficients[[12]]*base.fc$mnth_10 + \n",
    "    base.m$coefficients[[13]]*base.fc$mnth_11 + base.m$coefficients[[35]]"
   ]
  },
  {
   "cell_type": "code",
   "execution_count": 24,
   "metadata": {
    "vscode": {
     "languageId": "r"
    }
   },
   "outputs": [
    {
     "data": {
      "text/html": [
       "<table class=\"dataframe\">\n",
       "<caption>A data.frame: 20 x 4</caption>\n",
       "<thead>\n",
       "\t<tr><th scope=col>year</th><th scope=col>gas.base</th><th scope=col>rate</th><th scope=col>rev</th></tr>\n",
       "\t<tr><th scope=col>&lt;int&gt;</th><th scope=col>&lt;dbl&gt;</th><th scope=col>&lt;dbl&gt;</th><th scope=col>&lt;dbl&gt;</th></tr>\n",
       "</thead>\n",
       "<tbody>\n",
       "\t<tr><td>2023</td><td>2865032795</td><td>0.33</td><td>945460822</td></tr>\n",
       "\t<tr><td>2024</td><td>2864959096</td><td>0.33</td><td>945436502</td></tr>\n",
       "\t<tr><td>2025</td><td>2864885397</td><td>0.33</td><td>945412181</td></tr>\n",
       "\t<tr><td>2026</td><td>2864811698</td><td>0.33</td><td>945387860</td></tr>\n",
       "\t<tr><td>2027</td><td>2864737999</td><td>0.33</td><td>945363540</td></tr>\n",
       "\t<tr><td>2028</td><td>2864664299</td><td>0.33</td><td>945339219</td></tr>\n",
       "\t<tr><td>2029</td><td>2864590600</td><td>0.33</td><td>945314898</td></tr>\n",
       "\t<tr><td>2030</td><td>2864516901</td><td>0.33</td><td>945290577</td></tr>\n",
       "\t<tr><td>2031</td><td>2864443202</td><td>0.33</td><td>945266257</td></tr>\n",
       "\t<tr><td>2032</td><td>2864369503</td><td>0.33</td><td>945241936</td></tr>\n",
       "\t<tr><td>2033</td><td>2864295804</td><td>0.33</td><td>945217615</td></tr>\n",
       "\t<tr><td>2034</td><td>2864222104</td><td>0.33</td><td>945193294</td></tr>\n",
       "\t<tr><td>2035</td><td>2864148405</td><td>0.33</td><td>945168974</td></tr>\n",
       "\t<tr><td>2036</td><td>2864074706</td><td>0.33</td><td>945144653</td></tr>\n",
       "\t<tr><td>2037</td><td>2864001007</td><td>0.33</td><td>945120332</td></tr>\n",
       "\t<tr><td>2038</td><td>2863927308</td><td>0.33</td><td>945096012</td></tr>\n",
       "\t<tr><td>2039</td><td>2863853608</td><td>0.33</td><td>945071691</td></tr>\n",
       "\t<tr><td>2040</td><td>2863779909</td><td>0.33</td><td>945047370</td></tr>\n",
       "\t<tr><td>2041</td><td>2863706210</td><td>0.33</td><td>945023049</td></tr>\n",
       "\t<tr><td>2042</td><td>2863632511</td><td>0.33</td><td>944998729</td></tr>\n",
       "</tbody>\n",
       "</table>\n"
      ],
      "text/latex": [
       "A data.frame: 20 x 4\n",
       "\\begin{tabular}{llll}\n",
       " year & gas.base & rate & rev\\\\\n",
       " <int> & <dbl> & <dbl> & <dbl>\\\\\n",
       "\\hline\n",
       "\t 2023 & 2865032795 & 0.33 & 945460822\\\\\n",
       "\t 2024 & 2864959096 & 0.33 & 945436502\\\\\n",
       "\t 2025 & 2864885397 & 0.33 & 945412181\\\\\n",
       "\t 2026 & 2864811698 & 0.33 & 945387860\\\\\n",
       "\t 2027 & 2864737999 & 0.33 & 945363540\\\\\n",
       "\t 2028 & 2864664299 & 0.33 & 945339219\\\\\n",
       "\t 2029 & 2864590600 & 0.33 & 945314898\\\\\n",
       "\t 2030 & 2864516901 & 0.33 & 945290577\\\\\n",
       "\t 2031 & 2864443202 & 0.33 & 945266257\\\\\n",
       "\t 2032 & 2864369503 & 0.33 & 945241936\\\\\n",
       "\t 2033 & 2864295804 & 0.33 & 945217615\\\\\n",
       "\t 2034 & 2864222104 & 0.33 & 945193294\\\\\n",
       "\t 2035 & 2864148405 & 0.33 & 945168974\\\\\n",
       "\t 2036 & 2864074706 & 0.33 & 945144653\\\\\n",
       "\t 2037 & 2864001007 & 0.33 & 945120332\\\\\n",
       "\t 2038 & 2863927308 & 0.33 & 945096012\\\\\n",
       "\t 2039 & 2863853608 & 0.33 & 945071691\\\\\n",
       "\t 2040 & 2863779909 & 0.33 & 945047370\\\\\n",
       "\t 2041 & 2863706210 & 0.33 & 945023049\\\\\n",
       "\t 2042 & 2863632511 & 0.33 & 944998729\\\\\n",
       "\\end{tabular}\n"
      ],
      "text/markdown": [
       "\n",
       "A data.frame: 20 x 4\n",
       "\n",
       "| year &lt;int&gt; | gas.base &lt;dbl&gt; | rate &lt;dbl&gt; | rev &lt;dbl&gt; |\n",
       "|---|---|---|---|\n",
       "| 2023 | 2865032795 | 0.33 | 945460822 |\n",
       "| 2024 | 2864959096 | 0.33 | 945436502 |\n",
       "| 2025 | 2864885397 | 0.33 | 945412181 |\n",
       "| 2026 | 2864811698 | 0.33 | 945387860 |\n",
       "| 2027 | 2864737999 | 0.33 | 945363540 |\n",
       "| 2028 | 2864664299 | 0.33 | 945339219 |\n",
       "| 2029 | 2864590600 | 0.33 | 945314898 |\n",
       "| 2030 | 2864516901 | 0.33 | 945290577 |\n",
       "| 2031 | 2864443202 | 0.33 | 945266257 |\n",
       "| 2032 | 2864369503 | 0.33 | 945241936 |\n",
       "| 2033 | 2864295804 | 0.33 | 945217615 |\n",
       "| 2034 | 2864222104 | 0.33 | 945193294 |\n",
       "| 2035 | 2864148405 | 0.33 | 945168974 |\n",
       "| 2036 | 2864074706 | 0.33 | 945144653 |\n",
       "| 2037 | 2864001007 | 0.33 | 945120332 |\n",
       "| 2038 | 2863927308 | 0.33 | 945096012 |\n",
       "| 2039 | 2863853608 | 0.33 | 945071691 |\n",
       "| 2040 | 2863779909 | 0.33 | 945047370 |\n",
       "| 2041 | 2863706210 | 0.33 | 945023049 |\n",
       "| 2042 | 2863632511 | 0.33 | 944998729 |\n",
       "\n"
      ],
      "text/plain": [
       "   year gas.base   rate rev      \n",
       "1  2023 2865032795 0.33 945460822\n",
       "2  2024 2864959096 0.33 945436502\n",
       "3  2025 2864885397 0.33 945412181\n",
       "4  2026 2864811698 0.33 945387860\n",
       "5  2027 2864737999 0.33 945363540\n",
       "6  2028 2864664299 0.33 945339219\n",
       "7  2029 2864590600 0.33 945314898\n",
       "8  2030 2864516901 0.33 945290577\n",
       "9  2031 2864443202 0.33 945266257\n",
       "10 2032 2864369503 0.33 945241936\n",
       "11 2033 2864295804 0.33 945217615\n",
       "12 2034 2864222104 0.33 945193294\n",
       "13 2035 2864148405 0.33 945168974\n",
       "14 2036 2864074706 0.33 945144653\n",
       "15 2037 2864001007 0.33 945120332\n",
       "16 2038 2863927308 0.33 945096012\n",
       "17 2039 2863853608 0.33 945071691\n",
       "18 2040 2863779909 0.33 945047370\n",
       "19 2041 2863706210 0.33 945023049\n",
       "20 2042 2863632511 0.33 944998729"
      ]
     },
     "metadata": {},
     "output_type": "display_data"
    }
   ],
   "source": [
    "constg.fc = aggregate(gas.base ~ year, base.fc, sum)\n",
    "constg.fc$rate = 0.33\n",
    "constg.fc$rev = constg.fc$rate*constg.fc$gas.base\n",
    "constg.fc"
   ]
  },
  {
   "attachments": {},
   "cell_type": "markdown",
   "metadata": {},
   "source": [
    "#### Scoring (+$0.01 per year)"
   ]
  },
  {
   "attachments": {},
   "cell_type": "markdown",
   "metadata": {},
   "source": [
    "#### Static"
   ]
  },
  {
   "cell_type": "code",
   "execution_count": 25,
   "metadata": {
    "vscode": {
     "languageId": "r"
    }
   },
   "outputs": [
    {
     "data": {
      "text/html": [
       "<table class=\"dataframe\">\n",
       "<caption>A data.frame: 20 x 4</caption>\n",
       "<thead>\n",
       "\t<tr><th scope=col>year</th><th scope=col>gas.base</th><th scope=col>rate</th><th scope=col>rev.static</th></tr>\n",
       "\t<tr><th scope=col>&lt;int&gt;</th><th scope=col>&lt;dbl&gt;</th><th scope=col>&lt;dbl&gt;</th><th scope=col>&lt;dbl&gt;</th></tr>\n",
       "</thead>\n",
       "<tbody>\n",
       "\t<tr><td>2023</td><td>2865032795</td><td>0.33</td><td> 945460822</td></tr>\n",
       "\t<tr><td>2024</td><td>2864959096</td><td>0.34</td><td> 974086093</td></tr>\n",
       "\t<tr><td>2025</td><td>2864885397</td><td>0.35</td><td>1002709889</td></tr>\n",
       "\t<tr><td>2026</td><td>2864811698</td><td>0.36</td><td>1031332211</td></tr>\n",
       "\t<tr><td>2027</td><td>2864737999</td><td>0.37</td><td>1059953060</td></tr>\n",
       "\t<tr><td>2028</td><td>2864664299</td><td>0.38</td><td>1088572434</td></tr>\n",
       "\t<tr><td>2029</td><td>2864590600</td><td>0.39</td><td>1117190334</td></tr>\n",
       "\t<tr><td>2030</td><td>2864516901</td><td>0.40</td><td>1145806760</td></tr>\n",
       "\t<tr><td>2031</td><td>2864443202</td><td>0.41</td><td>1174421713</td></tr>\n",
       "\t<tr><td>2032</td><td>2864369503</td><td>0.42</td><td>1203035191</td></tr>\n",
       "\t<tr><td>2033</td><td>2864295804</td><td>0.43</td><td>1231647196</td></tr>\n",
       "\t<tr><td>2034</td><td>2864222104</td><td>0.44</td><td>1260257726</td></tr>\n",
       "\t<tr><td>2035</td><td>2864148405</td><td>0.45</td><td>1288866782</td></tr>\n",
       "\t<tr><td>2036</td><td>2864074706</td><td>0.46</td><td>1317474365</td></tr>\n",
       "\t<tr><td>2037</td><td>2864001007</td><td>0.47</td><td>1346080473</td></tr>\n",
       "\t<tr><td>2038</td><td>2863927308</td><td>0.48</td><td>1374685108</td></tr>\n",
       "\t<tr><td>2039</td><td>2863853608</td><td>0.49</td><td>1403288268</td></tr>\n",
       "\t<tr><td>2040</td><td>2863779909</td><td>0.50</td><td>1431889955</td></tr>\n",
       "\t<tr><td>2041</td><td>2863706210</td><td>0.51</td><td>1460490167</td></tr>\n",
       "\t<tr><td>2042</td><td>2863632511</td><td>0.52</td><td>1489088906</td></tr>\n",
       "</tbody>\n",
       "</table>\n"
      ],
      "text/latex": [
       "A data.frame: 20 x 4\n",
       "\\begin{tabular}{llll}\n",
       " year & gas.base & rate & rev.static\\\\\n",
       " <int> & <dbl> & <dbl> & <dbl>\\\\\n",
       "\\hline\n",
       "\t 2023 & 2865032795 & 0.33 &  945460822\\\\\n",
       "\t 2024 & 2864959096 & 0.34 &  974086093\\\\\n",
       "\t 2025 & 2864885397 & 0.35 & 1002709889\\\\\n",
       "\t 2026 & 2864811698 & 0.36 & 1031332211\\\\\n",
       "\t 2027 & 2864737999 & 0.37 & 1059953060\\\\\n",
       "\t 2028 & 2864664299 & 0.38 & 1088572434\\\\\n",
       "\t 2029 & 2864590600 & 0.39 & 1117190334\\\\\n",
       "\t 2030 & 2864516901 & 0.40 & 1145806760\\\\\n",
       "\t 2031 & 2864443202 & 0.41 & 1174421713\\\\\n",
       "\t 2032 & 2864369503 & 0.42 & 1203035191\\\\\n",
       "\t 2033 & 2864295804 & 0.43 & 1231647196\\\\\n",
       "\t 2034 & 2864222104 & 0.44 & 1260257726\\\\\n",
       "\t 2035 & 2864148405 & 0.45 & 1288866782\\\\\n",
       "\t 2036 & 2864074706 & 0.46 & 1317474365\\\\\n",
       "\t 2037 & 2864001007 & 0.47 & 1346080473\\\\\n",
       "\t 2038 & 2863927308 & 0.48 & 1374685108\\\\\n",
       "\t 2039 & 2863853608 & 0.49 & 1403288268\\\\\n",
       "\t 2040 & 2863779909 & 0.50 & 1431889955\\\\\n",
       "\t 2041 & 2863706210 & 0.51 & 1460490167\\\\\n",
       "\t 2042 & 2863632511 & 0.52 & 1489088906\\\\\n",
       "\\end{tabular}\n"
      ],
      "text/markdown": [
       "\n",
       "A data.frame: 20 x 4\n",
       "\n",
       "| year &lt;int&gt; | gas.base &lt;dbl&gt; | rate &lt;dbl&gt; | rev.static &lt;dbl&gt; |\n",
       "|---|---|---|---|\n",
       "| 2023 | 2865032795 | 0.33 |  945460822 |\n",
       "| 2024 | 2864959096 | 0.34 |  974086093 |\n",
       "| 2025 | 2864885397 | 0.35 | 1002709889 |\n",
       "| 2026 | 2864811698 | 0.36 | 1031332211 |\n",
       "| 2027 | 2864737999 | 0.37 | 1059953060 |\n",
       "| 2028 | 2864664299 | 0.38 | 1088572434 |\n",
       "| 2029 | 2864590600 | 0.39 | 1117190334 |\n",
       "| 2030 | 2864516901 | 0.40 | 1145806760 |\n",
       "| 2031 | 2864443202 | 0.41 | 1174421713 |\n",
       "| 2032 | 2864369503 | 0.42 | 1203035191 |\n",
       "| 2033 | 2864295804 | 0.43 | 1231647196 |\n",
       "| 2034 | 2864222104 | 0.44 | 1260257726 |\n",
       "| 2035 | 2864148405 | 0.45 | 1288866782 |\n",
       "| 2036 | 2864074706 | 0.46 | 1317474365 |\n",
       "| 2037 | 2864001007 | 0.47 | 1346080473 |\n",
       "| 2038 | 2863927308 | 0.48 | 1374685108 |\n",
       "| 2039 | 2863853608 | 0.49 | 1403288268 |\n",
       "| 2040 | 2863779909 | 0.50 | 1431889955 |\n",
       "| 2041 | 2863706210 | 0.51 | 1460490167 |\n",
       "| 2042 | 2863632511 | 0.52 | 1489088906 |\n",
       "\n"
      ],
      "text/plain": [
       "   year gas.base   rate rev.static\n",
       "1  2023 2865032795 0.33  945460822\n",
       "2  2024 2864959096 0.34  974086093\n",
       "3  2025 2864885397 0.35 1002709889\n",
       "4  2026 2864811698 0.36 1031332211\n",
       "5  2027 2864737999 0.37 1059953060\n",
       "6  2028 2864664299 0.38 1088572434\n",
       "7  2029 2864590600 0.39 1117190334\n",
       "8  2030 2864516901 0.40 1145806760\n",
       "9  2031 2864443202 0.41 1174421713\n",
       "10 2032 2864369503 0.42 1203035191\n",
       "11 2033 2864295804 0.43 1231647196\n",
       "12 2034 2864222104 0.44 1260257726\n",
       "13 2035 2864148405 0.45 1288866782\n",
       "14 2036 2864074706 0.46 1317474365\n",
       "15 2037 2864001007 0.47 1346080473\n",
       "16 2038 2863927308 0.48 1374685108\n",
       "17 2039 2863853608 0.49 1403288268\n",
       "18 2040 2863779909 0.50 1431889955\n",
       "19 2041 2863706210 0.51 1460490167\n",
       "20 2042 2863632511 0.52 1489088906"
      ]
     },
     "metadata": {},
     "output_type": "display_data"
    }
   ],
   "source": [
    "staticg.fc = aggregate(gas.base ~ year, base.fc, sum)\n",
    "staticg.fc$rate = 0.33\n",
    "for (r in 2:length(staticg.fc$gas.base))\n",
    "    staticg.fc$rate[r] = staticg.fc$rate[r-1]+0.01\n",
    "staticg.fc$rev.static = staticg.fc$rate*staticg.fc$gas.base\n",
    "staticg.fc"
   ]
  },
  {
   "attachments": {},
   "cell_type": "markdown",
   "metadata": {},
   "source": [
    "##### Microdynamic"
   ]
  },
  {
   "cell_type": "code",
   "execution_count": 26,
   "metadata": {
    "vscode": {
     "languageId": "r"
    }
   },
   "outputs": [
    {
     "data": {
      "text/html": [
       "<table class=\"dataframe\">\n",
       "<caption>A data.frame: 20 x 9</caption>\n",
       "<thead>\n",
       "\t<tr><th scope=col>year</th><th scope=col>gas.base</th><th scope=col>rate</th><th scope=col>elas</th><th scope=col>taxperchange</th><th scope=col>baseperchange</th><th scope=col>basechange</th><th scope=col>base.micro</th><th scope=col>rev.micro</th></tr>\n",
       "\t<tr><th scope=col>&lt;int&gt;</th><th scope=col>&lt;dbl&gt;</th><th scope=col>&lt;dbl&gt;</th><th scope=col>&lt;dbl&gt;</th><th scope=col>&lt;dbl&gt;</th><th scope=col>&lt;dbl&gt;</th><th scope=col>&lt;dbl&gt;</th><th scope=col>&lt;dbl&gt;</th><th scope=col>&lt;dbl&gt;</th></tr>\n",
       "</thead>\n",
       "<tbody>\n",
       "\t<tr><td>2023</td><td>2865032795</td><td>0.33</td><td>-0.03</td><td>0.03030303</td><td>-0.0009090909</td><td>-2604575</td><td>2862428220</td><td> 944601313</td></tr>\n",
       "\t<tr><td>2024</td><td>2864959096</td><td>0.34</td><td>-0.03</td><td>0.03030303</td><td>-0.0009090909</td><td>-2604508</td><td>2862354588</td><td> 973200560</td></tr>\n",
       "\t<tr><td>2025</td><td>2864885397</td><td>0.35</td><td>-0.03</td><td>0.02941176</td><td>-0.0008823529</td><td>-2527840</td><td>2862357557</td><td>1001825145</td></tr>\n",
       "\t<tr><td>2026</td><td>2864811698</td><td>0.36</td><td>-0.03</td><td>0.02857143</td><td>-0.0008571429</td><td>-2455553</td><td>2862356145</td><td>1030448212</td></tr>\n",
       "\t<tr><td>2027</td><td>2864737999</td><td>0.37</td><td>-0.03</td><td>0.02777778</td><td>-0.0008333333</td><td>-2387282</td><td>2862350717</td><td>1059069765</td></tr>\n",
       "\t<tr><td>2028</td><td>2864664299</td><td>0.38</td><td>-0.03</td><td>0.02702703</td><td>-0.0008108108</td><td>-2322701</td><td>2862341599</td><td>1087689808</td></tr>\n",
       "\t<tr><td>2029</td><td>2864590600</td><td>0.39</td><td>-0.03</td><td>0.02631579</td><td>-0.0007894737</td><td>-2261519</td><td>2862329081</td><td>1116308342</td></tr>\n",
       "\t<tr><td>2030</td><td>2864516901</td><td>0.40</td><td>-0.03</td><td>0.02564103</td><td>-0.0007692308</td><td>-2203475</td><td>2862313427</td><td>1144925371</td></tr>\n",
       "\t<tr><td>2031</td><td>2864443202</td><td>0.41</td><td>-0.03</td><td>0.02500000</td><td>-0.0007500000</td><td>-2148332</td><td>2862294870</td><td>1173540897</td></tr>\n",
       "\t<tr><td>2032</td><td>2864369503</td><td>0.42</td><td>-0.03</td><td>0.02439024</td><td>-0.0007317073</td><td>-2095880</td><td>2862273623</td><td>1202154921</td></tr>\n",
       "\t<tr><td>2033</td><td>2864295804</td><td>0.43</td><td>-0.03</td><td>0.02380952</td><td>-0.0007142857</td><td>-2045926</td><td>2862249878</td><td>1230767448</td></tr>\n",
       "\t<tr><td>2034</td><td>2864222104</td><td>0.44</td><td>-0.03</td><td>0.02325581</td><td>-0.0006976744</td><td>-1998294</td><td>2862223810</td><td>1259378476</td></tr>\n",
       "\t<tr><td>2035</td><td>2864148405</td><td>0.45</td><td>-0.03</td><td>0.02272727</td><td>-0.0006818182</td><td>-1952828</td><td>2862195577</td><td>1287988010</td></tr>\n",
       "\t<tr><td>2036</td><td>2864074706</td><td>0.46</td><td>-0.03</td><td>0.02222222</td><td>-0.0006666667</td><td>-1909383</td><td>2862165323</td><td>1316596049</td></tr>\n",
       "\t<tr><td>2037</td><td>2864001007</td><td>0.47</td><td>-0.03</td><td>0.02173913</td><td>-0.0006521739</td><td>-1867827</td><td>2862133180</td><td>1345202595</td></tr>\n",
       "\t<tr><td>2038</td><td>2863927308</td><td>0.48</td><td>-0.03</td><td>0.02127660</td><td>-0.0006382979</td><td>-1828039</td><td>2862099269</td><td>1373807649</td></tr>\n",
       "\t<tr><td>2039</td><td>2863853608</td><td>0.49</td><td>-0.03</td><td>0.02083333</td><td>-0.0006250000</td><td>-1789909</td><td>2862063700</td><td>1402411213</td></tr>\n",
       "\t<tr><td>2040</td><td>2863779909</td><td>0.50</td><td>-0.03</td><td>0.02040816</td><td>-0.0006122449</td><td>-1753335</td><td>2862026575</td><td>1431013287</td></tr>\n",
       "\t<tr><td>2041</td><td>2863706210</td><td>0.51</td><td>-0.03</td><td>0.02000000</td><td>-0.0006000000</td><td>-1718224</td><td>2861987986</td><td>1459613873</td></tr>\n",
       "\t<tr><td>2042</td><td>2863632511</td><td>0.52</td><td>-0.03</td><td>0.01960784</td><td>-0.0005882353</td><td>-1684490</td><td>2861948021</td><td>1488212971</td></tr>\n",
       "</tbody>\n",
       "</table>\n"
      ],
      "text/latex": [
       "A data.frame: 20 x 9\n",
       "\\begin{tabular}{lllllllll}\n",
       " year & gas.base & rate & elas & taxperchange & baseperchange & basechange & base.micro & rev.micro\\\\\n",
       " <int> & <dbl> & <dbl> & <dbl> & <dbl> & <dbl> & <dbl> & <dbl> & <dbl>\\\\\n",
       "\\hline\n",
       "\t 2023 & 2865032795 & 0.33 & -0.03 & 0.03030303 & -0.0009090909 & -2604575 & 2862428220 &  944601313\\\\\n",
       "\t 2024 & 2864959096 & 0.34 & -0.03 & 0.03030303 & -0.0009090909 & -2604508 & 2862354588 &  973200560\\\\\n",
       "\t 2025 & 2864885397 & 0.35 & -0.03 & 0.02941176 & -0.0008823529 & -2527840 & 2862357557 & 1001825145\\\\\n",
       "\t 2026 & 2864811698 & 0.36 & -0.03 & 0.02857143 & -0.0008571429 & -2455553 & 2862356145 & 1030448212\\\\\n",
       "\t 2027 & 2864737999 & 0.37 & -0.03 & 0.02777778 & -0.0008333333 & -2387282 & 2862350717 & 1059069765\\\\\n",
       "\t 2028 & 2864664299 & 0.38 & -0.03 & 0.02702703 & -0.0008108108 & -2322701 & 2862341599 & 1087689808\\\\\n",
       "\t 2029 & 2864590600 & 0.39 & -0.03 & 0.02631579 & -0.0007894737 & -2261519 & 2862329081 & 1116308342\\\\\n",
       "\t 2030 & 2864516901 & 0.40 & -0.03 & 0.02564103 & -0.0007692308 & -2203475 & 2862313427 & 1144925371\\\\\n",
       "\t 2031 & 2864443202 & 0.41 & -0.03 & 0.02500000 & -0.0007500000 & -2148332 & 2862294870 & 1173540897\\\\\n",
       "\t 2032 & 2864369503 & 0.42 & -0.03 & 0.02439024 & -0.0007317073 & -2095880 & 2862273623 & 1202154921\\\\\n",
       "\t 2033 & 2864295804 & 0.43 & -0.03 & 0.02380952 & -0.0007142857 & -2045926 & 2862249878 & 1230767448\\\\\n",
       "\t 2034 & 2864222104 & 0.44 & -0.03 & 0.02325581 & -0.0006976744 & -1998294 & 2862223810 & 1259378476\\\\\n",
       "\t 2035 & 2864148405 & 0.45 & -0.03 & 0.02272727 & -0.0006818182 & -1952828 & 2862195577 & 1287988010\\\\\n",
       "\t 2036 & 2864074706 & 0.46 & -0.03 & 0.02222222 & -0.0006666667 & -1909383 & 2862165323 & 1316596049\\\\\n",
       "\t 2037 & 2864001007 & 0.47 & -0.03 & 0.02173913 & -0.0006521739 & -1867827 & 2862133180 & 1345202595\\\\\n",
       "\t 2038 & 2863927308 & 0.48 & -0.03 & 0.02127660 & -0.0006382979 & -1828039 & 2862099269 & 1373807649\\\\\n",
       "\t 2039 & 2863853608 & 0.49 & -0.03 & 0.02083333 & -0.0006250000 & -1789909 & 2862063700 & 1402411213\\\\\n",
       "\t 2040 & 2863779909 & 0.50 & -0.03 & 0.02040816 & -0.0006122449 & -1753335 & 2862026575 & 1431013287\\\\\n",
       "\t 2041 & 2863706210 & 0.51 & -0.03 & 0.02000000 & -0.0006000000 & -1718224 & 2861987986 & 1459613873\\\\\n",
       "\t 2042 & 2863632511 & 0.52 & -0.03 & 0.01960784 & -0.0005882353 & -1684490 & 2861948021 & 1488212971\\\\\n",
       "\\end{tabular}\n"
      ],
      "text/markdown": [
       "\n",
       "A data.frame: 20 x 9\n",
       "\n",
       "| year &lt;int&gt; | gas.base &lt;dbl&gt; | rate &lt;dbl&gt; | elas &lt;dbl&gt; | taxperchange &lt;dbl&gt; | baseperchange &lt;dbl&gt; | basechange &lt;dbl&gt; | base.micro &lt;dbl&gt; | rev.micro &lt;dbl&gt; |\n",
       "|---|---|---|---|---|---|---|---|---|\n",
       "| 2023 | 2865032795 | 0.33 | -0.03 | 0.03030303 | -0.0009090909 | -2604575 | 2862428220 |  944601313 |\n",
       "| 2024 | 2864959096 | 0.34 | -0.03 | 0.03030303 | -0.0009090909 | -2604508 | 2862354588 |  973200560 |\n",
       "| 2025 | 2864885397 | 0.35 | -0.03 | 0.02941176 | -0.0008823529 | -2527840 | 2862357557 | 1001825145 |\n",
       "| 2026 | 2864811698 | 0.36 | -0.03 | 0.02857143 | -0.0008571429 | -2455553 | 2862356145 | 1030448212 |\n",
       "| 2027 | 2864737999 | 0.37 | -0.03 | 0.02777778 | -0.0008333333 | -2387282 | 2862350717 | 1059069765 |\n",
       "| 2028 | 2864664299 | 0.38 | -0.03 | 0.02702703 | -0.0008108108 | -2322701 | 2862341599 | 1087689808 |\n",
       "| 2029 | 2864590600 | 0.39 | -0.03 | 0.02631579 | -0.0007894737 | -2261519 | 2862329081 | 1116308342 |\n",
       "| 2030 | 2864516901 | 0.40 | -0.03 | 0.02564103 | -0.0007692308 | -2203475 | 2862313427 | 1144925371 |\n",
       "| 2031 | 2864443202 | 0.41 | -0.03 | 0.02500000 | -0.0007500000 | -2148332 | 2862294870 | 1173540897 |\n",
       "| 2032 | 2864369503 | 0.42 | -0.03 | 0.02439024 | -0.0007317073 | -2095880 | 2862273623 | 1202154921 |\n",
       "| 2033 | 2864295804 | 0.43 | -0.03 | 0.02380952 | -0.0007142857 | -2045926 | 2862249878 | 1230767448 |\n",
       "| 2034 | 2864222104 | 0.44 | -0.03 | 0.02325581 | -0.0006976744 | -1998294 | 2862223810 | 1259378476 |\n",
       "| 2035 | 2864148405 | 0.45 | -0.03 | 0.02272727 | -0.0006818182 | -1952828 | 2862195577 | 1287988010 |\n",
       "| 2036 | 2864074706 | 0.46 | -0.03 | 0.02222222 | -0.0006666667 | -1909383 | 2862165323 | 1316596049 |\n",
       "| 2037 | 2864001007 | 0.47 | -0.03 | 0.02173913 | -0.0006521739 | -1867827 | 2862133180 | 1345202595 |\n",
       "| 2038 | 2863927308 | 0.48 | -0.03 | 0.02127660 | -0.0006382979 | -1828039 | 2862099269 | 1373807649 |\n",
       "| 2039 | 2863853608 | 0.49 | -0.03 | 0.02083333 | -0.0006250000 | -1789909 | 2862063700 | 1402411213 |\n",
       "| 2040 | 2863779909 | 0.50 | -0.03 | 0.02040816 | -0.0006122449 | -1753335 | 2862026575 | 1431013287 |\n",
       "| 2041 | 2863706210 | 0.51 | -0.03 | 0.02000000 | -0.0006000000 | -1718224 | 2861987986 | 1459613873 |\n",
       "| 2042 | 2863632511 | 0.52 | -0.03 | 0.01960784 | -0.0005882353 | -1684490 | 2861948021 | 1488212971 |\n",
       "\n"
      ],
      "text/plain": [
       "   year gas.base   rate elas  taxperchange baseperchange basechange base.micro\n",
       "1  2023 2865032795 0.33 -0.03 0.03030303   -0.0009090909 -2604575   2862428220\n",
       "2  2024 2864959096 0.34 -0.03 0.03030303   -0.0009090909 -2604508   2862354588\n",
       "3  2025 2864885397 0.35 -0.03 0.02941176   -0.0008823529 -2527840   2862357557\n",
       "4  2026 2864811698 0.36 -0.03 0.02857143   -0.0008571429 -2455553   2862356145\n",
       "5  2027 2864737999 0.37 -0.03 0.02777778   -0.0008333333 -2387282   2862350717\n",
       "6  2028 2864664299 0.38 -0.03 0.02702703   -0.0008108108 -2322701   2862341599\n",
       "7  2029 2864590600 0.39 -0.03 0.02631579   -0.0007894737 -2261519   2862329081\n",
       "8  2030 2864516901 0.40 -0.03 0.02564103   -0.0007692308 -2203475   2862313427\n",
       "9  2031 2864443202 0.41 -0.03 0.02500000   -0.0007500000 -2148332   2862294870\n",
       "10 2032 2864369503 0.42 -0.03 0.02439024   -0.0007317073 -2095880   2862273623\n",
       "11 2033 2864295804 0.43 -0.03 0.02380952   -0.0007142857 -2045926   2862249878\n",
       "12 2034 2864222104 0.44 -0.03 0.02325581   -0.0006976744 -1998294   2862223810\n",
       "13 2035 2864148405 0.45 -0.03 0.02272727   -0.0006818182 -1952828   2862195577\n",
       "14 2036 2864074706 0.46 -0.03 0.02222222   -0.0006666667 -1909383   2862165323\n",
       "15 2037 2864001007 0.47 -0.03 0.02173913   -0.0006521739 -1867827   2862133180\n",
       "16 2038 2863927308 0.48 -0.03 0.02127660   -0.0006382979 -1828039   2862099269\n",
       "17 2039 2863853608 0.49 -0.03 0.02083333   -0.0006250000 -1789909   2862063700\n",
       "18 2040 2863779909 0.50 -0.03 0.02040816   -0.0006122449 -1753335   2862026575\n",
       "19 2041 2863706210 0.51 -0.03 0.02000000   -0.0006000000 -1718224   2861987986\n",
       "20 2042 2863632511 0.52 -0.03 0.01960784   -0.0005882353 -1684490   2861948021\n",
       "   rev.micro \n",
       "1   944601313\n",
       "2   973200560\n",
       "3  1001825145\n",
       "4  1030448212\n",
       "5  1059069765\n",
       "6  1087689808\n",
       "7  1116308342\n",
       "8  1144925371\n",
       "9  1173540897\n",
       "10 1202154921\n",
       "11 1230767448\n",
       "12 1259378476\n",
       "13 1287988010\n",
       "14 1316596049\n",
       "15 1345202595\n",
       "16 1373807649\n",
       "17 1402411213\n",
       "18 1431013287\n",
       "19 1459613873\n",
       "20 1488212971"
      ]
     },
     "metadata": {},
     "output_type": "display_data"
    }
   ],
   "source": [
    "microg.fc = aggregate(gas.base ~ year, base.fc, sum)\n",
    "microg.fc$rate = 0.33\n",
    "microg.fc$elas = -0.03\n",
    "for (r in 2:length(microg.fc$gas.base))\n",
    "    microg.fc$rate[r] = microg.fc$rate[r-1]+0.01\n",
    "microg.fc$taxperchange = (0.34-0.33)/0.33\n",
    "for (r in 2:length(microg.fc$gas.base))\n",
    "    microg.fc$taxperchange[r] = (microg.fc$rate[r]-microg.fc$rate[r-1])/microg.fc$rate[r-1]\n",
    "microg.fc$baseperchange = microg.fc$elas*microg.fc$taxperchange\n",
    "microg.fc$basechange = microg.fc$baseperchange*microg.fc$gas.base\n",
    "microg.fc$base.micro = microg.fc$gas.base+microg.fc$basechange\n",
    "microg.fc$rev.micro = microg.fc$base.micro*microg.fc$rate\n",
    "microg.fc"
   ]
  },
  {
   "attachments": {},
   "cell_type": "markdown",
   "metadata": {},
   "source": [
    "##### Comparison"
   ]
  },
  {
   "cell_type": "code",
   "execution_count": 27,
   "metadata": {
    "vscode": {
     "languageId": "r"
    }
   },
   "outputs": [
    {
     "data": {
      "text/html": [
       "<table class=\"dataframe\">\n",
       "<caption>A data.frame: 20 x 7</caption>\n",
       "<thead>\n",
       "\t<tr><th scope=col>year</th><th scope=col>base.static</th><th scope=col>rate</th><th scope=col>rev.static</th><th scope=col>base.micro</th><th scope=col>rev.micro</th><th scope=col>difference</th></tr>\n",
       "\t<tr><th scope=col>&lt;int&gt;</th><th scope=col>&lt;dbl&gt;</th><th scope=col>&lt;dbl&gt;</th><th scope=col>&lt;dbl&gt;</th><th scope=col>&lt;dbl&gt;</th><th scope=col>&lt;dbl&gt;</th><th scope=col>&lt;dbl&gt;</th></tr>\n",
       "</thead>\n",
       "<tbody>\n",
       "\t<tr><td>2023</td><td>2865032795</td><td>0.33</td><td> 945460822</td><td>2862428220</td><td> 944601313</td><td>859509.8</td></tr>\n",
       "\t<tr><td>2024</td><td>2864959096</td><td>0.34</td><td> 974086093</td><td>2862354588</td><td> 973200560</td><td>885532.8</td></tr>\n",
       "\t<tr><td>2025</td><td>2864885397</td><td>0.35</td><td>1002709889</td><td>2862357557</td><td>1001825145</td><td>884744.0</td></tr>\n",
       "\t<tr><td>2026</td><td>2864811698</td><td>0.36</td><td>1031332211</td><td>2862356145</td><td>1030448212</td><td>883999.0</td></tr>\n",
       "\t<tr><td>2027</td><td>2864737999</td><td>0.37</td><td>1059953060</td><td>2862350717</td><td>1059069765</td><td>883294.2</td></tr>\n",
       "\t<tr><td>2028</td><td>2864664299</td><td>0.38</td><td>1088572434</td><td>2862341599</td><td>1087689808</td><td>882626.3</td></tr>\n",
       "\t<tr><td>2029</td><td>2864590600</td><td>0.39</td><td>1117190334</td><td>2862329081</td><td>1116308342</td><td>881992.4</td></tr>\n",
       "\t<tr><td>2030</td><td>2864516901</td><td>0.40</td><td>1145806760</td><td>2862313427</td><td>1144925371</td><td>881389.8</td></tr>\n",
       "\t<tr><td>2031</td><td>2864443202</td><td>0.41</td><td>1174421713</td><td>2862294870</td><td>1173540897</td><td>880816.3</td></tr>\n",
       "\t<tr><td>2032</td><td>2864369503</td><td>0.42</td><td>1203035191</td><td>2862273623</td><td>1202154921</td><td>880269.7</td></tr>\n",
       "\t<tr><td>2033</td><td>2864295804</td><td>0.43</td><td>1231647196</td><td>2862249878</td><td>1230767448</td><td>879748.0</td></tr>\n",
       "\t<tr><td>2034</td><td>2864222104</td><td>0.44</td><td>1260257726</td><td>2862223810</td><td>1259378476</td><td>879249.6</td></tr>\n",
       "\t<tr><td>2035</td><td>2864148405</td><td>0.45</td><td>1288866782</td><td>2862195577</td><td>1287988010</td><td>878772.8</td></tr>\n",
       "\t<tr><td>2036</td><td>2864074706</td><td>0.46</td><td>1317474365</td><td>2862165323</td><td>1316596049</td><td>878316.2</td></tr>\n",
       "\t<tr><td>2037</td><td>2864001007</td><td>0.47</td><td>1346080473</td><td>2862133180</td><td>1345202595</td><td>877878.6</td></tr>\n",
       "\t<tr><td>2038</td><td>2863927308</td><td>0.48</td><td>1374685108</td><td>2862099269</td><td>1373807649</td><td>877458.6</td></tr>\n",
       "\t<tr><td>2039</td><td>2863853608</td><td>0.49</td><td>1403288268</td><td>2862063700</td><td>1402411213</td><td>877055.2</td></tr>\n",
       "\t<tr><td>2040</td><td>2863779909</td><td>0.50</td><td>1431889955</td><td>2862026575</td><td>1431013287</td><td>876667.3</td></tr>\n",
       "\t<tr><td>2041</td><td>2863706210</td><td>0.51</td><td>1460490167</td><td>2861987986</td><td>1459613873</td><td>876294.1</td></tr>\n",
       "\t<tr><td>2042</td><td>2863632511</td><td>0.52</td><td>1489088906</td><td>2861948021</td><td>1488212971</td><td>875934.7</td></tr>\n",
       "</tbody>\n",
       "</table>\n"
      ],
      "text/latex": [
       "A data.frame: 20 x 7\n",
       "\\begin{tabular}{lllllll}\n",
       " year & base.static & rate & rev.static & base.micro & rev.micro & difference\\\\\n",
       " <int> & <dbl> & <dbl> & <dbl> & <dbl> & <dbl> & <dbl>\\\\\n",
       "\\hline\n",
       "\t 2023 & 2865032795 & 0.33 &  945460822 & 2862428220 &  944601313 & 859509.8\\\\\n",
       "\t 2024 & 2864959096 & 0.34 &  974086093 & 2862354588 &  973200560 & 885532.8\\\\\n",
       "\t 2025 & 2864885397 & 0.35 & 1002709889 & 2862357557 & 1001825145 & 884744.0\\\\\n",
       "\t 2026 & 2864811698 & 0.36 & 1031332211 & 2862356145 & 1030448212 & 883999.0\\\\\n",
       "\t 2027 & 2864737999 & 0.37 & 1059953060 & 2862350717 & 1059069765 & 883294.2\\\\\n",
       "\t 2028 & 2864664299 & 0.38 & 1088572434 & 2862341599 & 1087689808 & 882626.3\\\\\n",
       "\t 2029 & 2864590600 & 0.39 & 1117190334 & 2862329081 & 1116308342 & 881992.4\\\\\n",
       "\t 2030 & 2864516901 & 0.40 & 1145806760 & 2862313427 & 1144925371 & 881389.8\\\\\n",
       "\t 2031 & 2864443202 & 0.41 & 1174421713 & 2862294870 & 1173540897 & 880816.3\\\\\n",
       "\t 2032 & 2864369503 & 0.42 & 1203035191 & 2862273623 & 1202154921 & 880269.7\\\\\n",
       "\t 2033 & 2864295804 & 0.43 & 1231647196 & 2862249878 & 1230767448 & 879748.0\\\\\n",
       "\t 2034 & 2864222104 & 0.44 & 1260257726 & 2862223810 & 1259378476 & 879249.6\\\\\n",
       "\t 2035 & 2864148405 & 0.45 & 1288866782 & 2862195577 & 1287988010 & 878772.8\\\\\n",
       "\t 2036 & 2864074706 & 0.46 & 1317474365 & 2862165323 & 1316596049 & 878316.2\\\\\n",
       "\t 2037 & 2864001007 & 0.47 & 1346080473 & 2862133180 & 1345202595 & 877878.6\\\\\n",
       "\t 2038 & 2863927308 & 0.48 & 1374685108 & 2862099269 & 1373807649 & 877458.6\\\\\n",
       "\t 2039 & 2863853608 & 0.49 & 1403288268 & 2862063700 & 1402411213 & 877055.2\\\\\n",
       "\t 2040 & 2863779909 & 0.50 & 1431889955 & 2862026575 & 1431013287 & 876667.3\\\\\n",
       "\t 2041 & 2863706210 & 0.51 & 1460490167 & 2861987986 & 1459613873 & 876294.1\\\\\n",
       "\t 2042 & 2863632511 & 0.52 & 1489088906 & 2861948021 & 1488212971 & 875934.7\\\\\n",
       "\\end{tabular}\n"
      ],
      "text/markdown": [
       "\n",
       "A data.frame: 20 x 7\n",
       "\n",
       "| year &lt;int&gt; | base.static &lt;dbl&gt; | rate &lt;dbl&gt; | rev.static &lt;dbl&gt; | base.micro &lt;dbl&gt; | rev.micro &lt;dbl&gt; | difference &lt;dbl&gt; |\n",
       "|---|---|---|---|---|---|---|\n",
       "| 2023 | 2865032795 | 0.33 |  945460822 | 2862428220 |  944601313 | 859509.8 |\n",
       "| 2024 | 2864959096 | 0.34 |  974086093 | 2862354588 |  973200560 | 885532.8 |\n",
       "| 2025 | 2864885397 | 0.35 | 1002709889 | 2862357557 | 1001825145 | 884744.0 |\n",
       "| 2026 | 2864811698 | 0.36 | 1031332211 | 2862356145 | 1030448212 | 883999.0 |\n",
       "| 2027 | 2864737999 | 0.37 | 1059953060 | 2862350717 | 1059069765 | 883294.2 |\n",
       "| 2028 | 2864664299 | 0.38 | 1088572434 | 2862341599 | 1087689808 | 882626.3 |\n",
       "| 2029 | 2864590600 | 0.39 | 1117190334 | 2862329081 | 1116308342 | 881992.4 |\n",
       "| 2030 | 2864516901 | 0.40 | 1145806760 | 2862313427 | 1144925371 | 881389.8 |\n",
       "| 2031 | 2864443202 | 0.41 | 1174421713 | 2862294870 | 1173540897 | 880816.3 |\n",
       "| 2032 | 2864369503 | 0.42 | 1203035191 | 2862273623 | 1202154921 | 880269.7 |\n",
       "| 2033 | 2864295804 | 0.43 | 1231647196 | 2862249878 | 1230767448 | 879748.0 |\n",
       "| 2034 | 2864222104 | 0.44 | 1260257726 | 2862223810 | 1259378476 | 879249.6 |\n",
       "| 2035 | 2864148405 | 0.45 | 1288866782 | 2862195577 | 1287988010 | 878772.8 |\n",
       "| 2036 | 2864074706 | 0.46 | 1317474365 | 2862165323 | 1316596049 | 878316.2 |\n",
       "| 2037 | 2864001007 | 0.47 | 1346080473 | 2862133180 | 1345202595 | 877878.6 |\n",
       "| 2038 | 2863927308 | 0.48 | 1374685108 | 2862099269 | 1373807649 | 877458.6 |\n",
       "| 2039 | 2863853608 | 0.49 | 1403288268 | 2862063700 | 1402411213 | 877055.2 |\n",
       "| 2040 | 2863779909 | 0.50 | 1431889955 | 2862026575 | 1431013287 | 876667.3 |\n",
       "| 2041 | 2863706210 | 0.51 | 1460490167 | 2861987986 | 1459613873 | 876294.1 |\n",
       "| 2042 | 2863632511 | 0.52 | 1489088906 | 2861948021 | 1488212971 | 875934.7 |\n",
       "\n"
      ],
      "text/plain": [
       "   year base.static rate rev.static base.micro rev.micro  difference\n",
       "1  2023 2865032795  0.33  945460822 2862428220  944601313 859509.8  \n",
       "2  2024 2864959096  0.34  974086093 2862354588  973200560 885532.8  \n",
       "3  2025 2864885397  0.35 1002709889 2862357557 1001825145 884744.0  \n",
       "4  2026 2864811698  0.36 1031332211 2862356145 1030448212 883999.0  \n",
       "5  2027 2864737999  0.37 1059953060 2862350717 1059069765 883294.2  \n",
       "6  2028 2864664299  0.38 1088572434 2862341599 1087689808 882626.3  \n",
       "7  2029 2864590600  0.39 1117190334 2862329081 1116308342 881992.4  \n",
       "8  2030 2864516901  0.40 1145806760 2862313427 1144925371 881389.8  \n",
       "9  2031 2864443202  0.41 1174421713 2862294870 1173540897 880816.3  \n",
       "10 2032 2864369503  0.42 1203035191 2862273623 1202154921 880269.7  \n",
       "11 2033 2864295804  0.43 1231647196 2862249878 1230767448 879748.0  \n",
       "12 2034 2864222104  0.44 1260257726 2862223810 1259378476 879249.6  \n",
       "13 2035 2864148405  0.45 1288866782 2862195577 1287988010 878772.8  \n",
       "14 2036 2864074706  0.46 1317474365 2862165323 1316596049 878316.2  \n",
       "15 2037 2864001007  0.47 1346080473 2862133180 1345202595 877878.6  \n",
       "16 2038 2863927308  0.48 1374685108 2862099269 1373807649 877458.6  \n",
       "17 2039 2863853608  0.49 1403288268 2862063700 1402411213 877055.2  \n",
       "18 2040 2863779909  0.50 1431889955 2862026575 1431013287 876667.3  \n",
       "19 2041 2863706210  0.51 1460490167 2861987986 1459613873 876294.1  \n",
       "20 2042 2863632511  0.52 1489088906 2861948021 1488212971 875934.7  "
      ]
     },
     "metadata": {},
     "output_type": "display_data"
    }
   ],
   "source": [
    "scoreg.fc = data.frame(year = c(rep(2023:2042,12)))\n",
    "scoreg.fc = data.frame(year = c(scoreg.fc[order(scoreg.fc$year),]))\n",
    "scoreg.fc$base.static = 1\n",
    "scoreg.fc = aggregate(base.static ~ year, scoreg.fc,sum)\n",
    "scoreg.fc$base.static = staticg.fc$gas.base\n",
    "scoreg.fc$rate = staticg.fc$rate\n",
    "scoreg.fc$rev.static = staticg.fc$rev.static\n",
    "scoreg.fc$base.micro = microg.fc$base.micro\n",
    "scoreg.fc$rev.micro = microg.fc$rev.micro\n",
    "scoreg.fc$difference = scoreg.fc$rev.static-scoreg.fc$rev.micro\n",
    "scoreg.fc"
   ]
  },
  {
   "attachments": {},
   "cell_type": "markdown",
   "metadata": {},
   "source": [
    "## Relationship Analysis"
   ]
  },
  {
   "cell_type": "code",
   "execution_count": 28,
   "metadata": {
    "vscode": {
     "languageId": "r"
    }
   },
   "outputs": [
    {
     "data": {
      "text/html": [
       "<style>\n",
       ".list-inline {list-style: none; margin:0; padding: 0}\n",
       ".list-inline>li {display: inline-block}\n",
       ".list-inline>li:not(:last-child)::after {content: \"\\00b7\"; padding: 0 .5ex}\n",
       "</style>\n",
       "<ol class=list-inline><li>'year'</li><li>'month'</li><li>'mnth'</li><li>'key'</li><li>'avg.vmt.share'</li><li>'gas.rev.ann'</li><li>'gas.base.ann'</li><li>'gas.tax'</li><li>'gas.base.mnth'</li><li>'gas.rev.mnth'</li><li>'vmt.ann (mill)'</li><li>'vmt.mnth'</li><li>'avg.mpg'</li><li>'ev.count'</li><li>'month_April'</li><li>'month_August'</li><li>'month_December'</li><li>'month_February'</li><li>'month_January'</li><li>'month_July'</li><li>'month_June'</li><li>'month_March'</li><li>'month_May'</li><li>'month_November'</li><li>'month_October'</li><li>'month_September'</li><li>'year_1999'</li><li>'year_2000'</li><li>'year_2001'</li><li>'year_2002'</li><li>'year_2003'</li><li>'year_2004'</li><li>'year_2005'</li><li>'year_2006'</li><li>'year_2007'</li><li>'year_2008'</li><li>'year_2009'</li><li>'year_2010'</li><li>'year_2011'</li><li>'year_2012'</li><li>'year_2013'</li><li>'year_2014'</li><li>'year_2015'</li><li>'year_2016'</li><li>'year_2017'</li><li>'year_2018'</li><li>'year_2019'</li><li>'year_2020'</li><li>'year_2021'</li><li>'year_2022'</li><li>'time'</li></ol>\n"
      ],
      "text/latex": [
       "\\begin{enumerate*}\n",
       "\\item 'year'\n",
       "\\item 'month'\n",
       "\\item 'mnth'\n",
       "\\item 'key'\n",
       "\\item 'avg.vmt.share'\n",
       "\\item 'gas.rev.ann'\n",
       "\\item 'gas.base.ann'\n",
       "\\item 'gas.tax'\n",
       "\\item 'gas.base.mnth'\n",
       "\\item 'gas.rev.mnth'\n",
       "\\item 'vmt.ann (mill)'\n",
       "\\item 'vmt.mnth'\n",
       "\\item 'avg.mpg'\n",
       "\\item 'ev.count'\n",
       "\\item 'month\\_April'\n",
       "\\item 'month\\_August'\n",
       "\\item 'month\\_December'\n",
       "\\item 'month\\_February'\n",
       "\\item 'month\\_January'\n",
       "\\item 'month\\_July'\n",
       "\\item 'month\\_June'\n",
       "\\item 'month\\_March'\n",
       "\\item 'month\\_May'\n",
       "\\item 'month\\_November'\n",
       "\\item 'month\\_October'\n",
       "\\item 'month\\_September'\n",
       "\\item 'year\\_1999'\n",
       "\\item 'year\\_2000'\n",
       "\\item 'year\\_2001'\n",
       "\\item 'year\\_2002'\n",
       "\\item 'year\\_2003'\n",
       "\\item 'year\\_2004'\n",
       "\\item 'year\\_2005'\n",
       "\\item 'year\\_2006'\n",
       "\\item 'year\\_2007'\n",
       "\\item 'year\\_2008'\n",
       "\\item 'year\\_2009'\n",
       "\\item 'year\\_2010'\n",
       "\\item 'year\\_2011'\n",
       "\\item 'year\\_2012'\n",
       "\\item 'year\\_2013'\n",
       "\\item 'year\\_2014'\n",
       "\\item 'year\\_2015'\n",
       "\\item 'year\\_2016'\n",
       "\\item 'year\\_2017'\n",
       "\\item 'year\\_2018'\n",
       "\\item 'year\\_2019'\n",
       "\\item 'year\\_2020'\n",
       "\\item 'year\\_2021'\n",
       "\\item 'year\\_2022'\n",
       "\\item 'time'\n",
       "\\end{enumerate*}\n"
      ],
      "text/markdown": [
       "1. 'year'\n",
       "2. 'month'\n",
       "3. 'mnth'\n",
       "4. 'key'\n",
       "5. 'avg.vmt.share'\n",
       "6. 'gas.rev.ann'\n",
       "7. 'gas.base.ann'\n",
       "8. 'gas.tax'\n",
       "9. 'gas.base.mnth'\n",
       "10. 'gas.rev.mnth'\n",
       "11. 'vmt.ann (mill)'\n",
       "12. 'vmt.mnth'\n",
       "13. 'avg.mpg'\n",
       "14. 'ev.count'\n",
       "15. 'month_April'\n",
       "16. 'month_August'\n",
       "17. 'month_December'\n",
       "18. 'month_February'\n",
       "19. 'month_January'\n",
       "20. 'month_July'\n",
       "21. 'month_June'\n",
       "22. 'month_March'\n",
       "23. 'month_May'\n",
       "24. 'month_November'\n",
       "25. 'month_October'\n",
       "26. 'month_September'\n",
       "27. 'year_1999'\n",
       "28. 'year_2000'\n",
       "29. 'year_2001'\n",
       "30. 'year_2002'\n",
       "31. 'year_2003'\n",
       "32. 'year_2004'\n",
       "33. 'year_2005'\n",
       "34. 'year_2006'\n",
       "35. 'year_2007'\n",
       "36. 'year_2008'\n",
       "37. 'year_2009'\n",
       "38. 'year_2010'\n",
       "39. 'year_2011'\n",
       "40. 'year_2012'\n",
       "41. 'year_2013'\n",
       "42. 'year_2014'\n",
       "43. 'year_2015'\n",
       "44. 'year_2016'\n",
       "45. 'year_2017'\n",
       "46. 'year_2018'\n",
       "47. 'year_2019'\n",
       "48. 'year_2020'\n",
       "49. 'year_2021'\n",
       "50. 'year_2022'\n",
       "51. 'time'\n",
       "\n",
       "\n"
      ],
      "text/plain": [
       " [1] \"year\"            \"month\"           \"mnth\"            \"key\"            \n",
       " [5] \"avg.vmt.share\"   \"gas.rev.ann\"     \"gas.base.ann\"    \"gas.tax\"        \n",
       " [9] \"gas.base.mnth\"   \"gas.rev.mnth\"    \"vmt.ann (mill)\"  \"vmt.mnth\"       \n",
       "[13] \"avg.mpg\"         \"ev.count\"        \"month_April\"     \"month_August\"   \n",
       "[17] \"month_December\"  \"month_February\"  \"month_January\"   \"month_July\"     \n",
       "[21] \"month_June\"      \"month_March\"     \"month_May\"       \"month_November\" \n",
       "[25] \"month_October\"   \"month_September\" \"year_1999\"       \"year_2000\"      \n",
       "[29] \"year_2001\"       \"year_2002\"       \"year_2003\"       \"year_2004\"      \n",
       "[33] \"year_2005\"       \"year_2006\"       \"year_2007\"       \"year_2008\"      \n",
       "[37] \"year_2009\"       \"year_2010\"       \"year_2011\"       \"year_2012\"      \n",
       "[41] \"year_2013\"       \"year_2014\"       \"year_2015\"       \"year_2016\"      \n",
       "[45] \"year_2017\"       \"year_2018\"       \"year_2019\"       \"year_2020\"      \n",
       "[49] \"year_2021\"       \"year_2022\"       \"time\"           "
      ]
     },
     "metadata": {},
     "output_type": "display_data"
    }
   ],
   "source": [
    "names(gas)"
   ]
  },
  {
   "cell_type": "code",
   "execution_count": 29,
   "metadata": {
    "vscode": {
     "languageId": "r"
    }
   },
   "outputs": [
    {
     "data": {
      "text/plain": [
       "\n",
       "Call:\n",
       "lm(formula = gas.rev.mnth ~ gas.base.mnth + log(gas.tax) + ev.count + \n",
       "    mnth + time + year, data = gas)\n",
       "\n",
       "Residuals:\n",
       "     Min       1Q   Median       3Q      Max \n",
       "-3866706  -282574    -1106   279441  2689350 \n",
       "\n",
       "Coefficients: (3 not defined because of singularities)\n",
       "                        Estimate         Std. Error t value\n",
       "(Intercept)   -34583991599.74192  14457939963.07252  -2.392\n",
       "gas.base.mnth            0.22398            0.01357  16.506\n",
       "log(gas.tax)    -434370201.93069    201061033.55980  -2.160\n",
       "ev.count               -92.35053          288.55826  -0.320\n",
       "mnth1             -1296294.21873       690159.85802  -1.878\n",
       "mnth2             -3626300.27884      1186171.63711  -3.057\n",
       "mnth3             -5258190.97196      1748656.44277  -3.007\n",
       "mnth4             -6741127.80491      2317862.68122  -2.908\n",
       "mnth5             -8025036.27868      2891859.46422  -2.775\n",
       "mnth6             -9532221.41887      3465856.06279  -2.750\n",
       "mnth7            -11010333.13785      4045818.86582  -2.721\n",
       "mnth8            -11746800.93230      4658800.54158  -2.521\n",
       "mnth9            -13471817.52070      5219945.57403  -2.581\n",
       "mnth10           -14596950.69663      5836973.37595  -2.501\n",
       "mnth11           -15973630.94492      6415212.60306  -2.490\n",
       "time              16879587.31229      7042078.49001   2.397\n",
       "year2000         -17608049.45926      7030900.18048  -2.504\n",
       "year2001         -35701344.77538     14027209.65673  -2.545\n",
       "year2002         -52051771.54484     21083716.99739  -2.469\n",
       "year2003          19471799.99051      8473140.21475   2.298\n",
       "year2004           1282755.52801      1605301.33218   0.799\n",
       "year2005         -15537060.46957      5572531.60923  -2.788\n",
       "year2006         -32229650.59047     12608729.87170  -2.556\n",
       "year2007         -49112051.48970     19646835.60216  -2.500\n",
       "year2008         -65642020.16601     26707130.33851  -2.458\n",
       "year2009         -82163974.39921     33769457.57486  -2.433\n",
       "year2010         -99139712.04410     40800373.34385  -2.430\n",
       "year2011        -116062650.33230     47826480.84101  -2.427\n",
       "year2012        -132766474.59634     54860465.67628  -2.420\n",
       "year2013        -149522405.32460     61849203.48149  -2.418\n",
       "year2014        -166326947.82334     68812585.40339  -2.417\n",
       "year2015        -183433742.24984     75740867.91065  -2.422\n",
       "year2016        -200627221.20551     82682932.93808  -2.426\n",
       "year2017        -217505571.96171     89558338.15456  -2.429\n",
       "year2018            476265.22602       693260.37127   0.687\n",
       "year2019           1443685.16962       557669.16529   2.589\n",
       "year2020                      NA                 NA      NA\n",
       "year2021                      NA                 NA      NA\n",
       "year2022                      NA                 NA      NA\n",
       "                          Pr(>|t|)    \n",
       "(Intercept)                0.01749 *  \n",
       "gas.base.mnth < 0.0000000000000002 ***\n",
       "log(gas.tax)               0.03169 *  \n",
       "ev.count                   0.74920    \n",
       "mnth1                      0.06150 .  \n",
       "mnth2                      0.00248 ** \n",
       "mnth3                      0.00291 ** \n",
       "mnth4                      0.00396 ** \n",
       "mnth5                      0.00593 ** \n",
       "mnth6                      0.00639 ** \n",
       "mnth7                      0.00695 ** \n",
       "mnth8                      0.01231 *  \n",
       "mnth9                      0.01042 *  \n",
       "mnth10                     0.01303 *  \n",
       "mnth11                     0.01342 *  \n",
       "time                       0.01726 *  \n",
       "year2000                   0.01290 *  \n",
       "year2001                   0.01152 *  \n",
       "year2002                   0.01422 *  \n",
       "year2003                   0.02238 *  \n",
       "year2004                   0.42500    \n",
       "year2005                   0.00571 ** \n",
       "year2006                   0.01117 *  \n",
       "year2007                   0.01306 *  \n",
       "year2008                   0.01465 *  \n",
       "year2009                   0.01567 *  \n",
       "year2010                   0.01580 *  \n",
       "year2011                   0.01594 *  \n",
       "year2012                   0.01623 *  \n",
       "year2013                   0.01634 *  \n",
       "year2014                   0.01636 *  \n",
       "year2015                   0.01615 *  \n",
       "year2016                   0.01595 *  \n",
       "year2017                   0.01586 *  \n",
       "year2018                   0.49272    \n",
       "year2019                   0.01019 *  \n",
       "year2020                        NA    \n",
       "year2021                        NA    \n",
       "year2022                        NA    \n",
       "---\n",
       "Signif. codes:  0 '***' 0.001 '**' 0.01 '*' 0.05 '.' 0.1 ' ' 1\n",
       "\n",
       "Residual standard error: 943000 on 252 degrees of freedom\n",
       "Multiple R-squared:  0.9957,\tAdjusted R-squared:  0.9951 \n",
       "F-statistic:  1660 on 35 and 252 DF,  p-value: < 0.00000000000000022\n"
      ]
     },
     "metadata": {},
     "output_type": "display_data"
    }
   ],
   "source": [
    "rel.m = lm(gas.rev.mnth ~  gas.base.mnth + log(gas.tax) + ev.count + mnth + time + year, gas)\n",
    "summary(rel.m)"
   ]
  },
  {
   "attachments": {},
   "cell_type": "markdown",
   "metadata": {},
   "source": [
    "## Adequacy Assessment "
   ]
  },
  {
   "attachments": {},
   "cell_type": "markdown",
   "metadata": {},
   "source": [
    "### Historical Data (2022 USD)"
   ]
  },
  {
   "cell_type": "code",
   "execution_count": 30,
   "metadata": {
    "vscode": {
     "languageId": "r"
    }
   },
   "outputs": [],
   "source": [
    "adeq <- read_excel('data/WorkingData.xlsx', sheet = \"GasRev\")"
   ]
  },
  {
   "attachments": {},
   "cell_type": "markdown",
   "metadata": {},
   "source": [
    "#### Buoyancy"
   ]
  },
  {
   "cell_type": "code",
   "execution_count": 31,
   "metadata": {
    "vscode": {
     "languageId": "r"
    }
   },
   "outputs": [
    {
     "data": {
      "text/plain": [
       "\n",
       "Call:\n",
       "lm(formula = log(gas.rev.real) ~ log(tpi.real), data = adeq)\n",
       "\n",
       "Residuals:\n",
       "     Min       1Q   Median       3Q      Max \n",
       "-0.21902 -0.12223  0.04285  0.11055  0.19839 \n",
       "\n",
       "Coefficients:\n",
       "              Estimate Std. Error t value Pr(>|t|)  \n",
       "(Intercept)     8.2313     6.7323   1.223   0.2344  \n",
       "log(tpi.real)   0.4631     0.2536   1.826   0.0815 .\n",
       "---\n",
       "Signif. codes:  0 '***' 0.001 '**' 0.01 '*' 0.05 '.' 0.1 ' ' 1\n",
       "\n",
       "Residual standard error: 0.1406 on 22 degrees of freedom\n",
       "Multiple R-squared:  0.1316,\tAdjusted R-squared:  0.09212 \n",
       "F-statistic: 3.334 on 1 and 22 DF,  p-value: 0.08148\n"
      ]
     },
     "metadata": {},
     "output_type": "display_data"
    }
   ],
   "source": [
    "buoy.gas <- lm(log(gas.rev.real) ~ log(tpi.real), adeq)\n",
    "summary(buoy.gas)\n",
    "\n",
    "# Buoyancy = 0.4631"
   ]
  },
  {
   "attachments": {},
   "cell_type": "markdown",
   "metadata": {},
   "source": [
    "#### Elasticity"
   ]
  },
  {
   "cell_type": "code",
   "execution_count": 32,
   "metadata": {
    "vscode": {
     "languageId": "r"
    }
   },
   "outputs": [
    {
     "data": {
      "text/plain": [
       "\n",
       "Call:\n",
       "lm(formula = log(base) ~ log(tpi.real) + c1 + c2 + c2 + c3 + \n",
       "    c4 + c5 + c6, data = adeq)\n",
       "\n",
       "Residuals:\n",
       "     Min       1Q   Median       3Q      Max \n",
       "-0.06513 -0.01927  0.00000  0.02351  0.05355 \n",
       "\n",
       "Coefficients:\n",
       "              Estimate Std. Error t value  Pr(>|t|)    \n",
       "(Intercept)   23.93921    3.95273   6.056 0.0000167 ***\n",
       "log(tpi.real) -0.07843    0.14964  -0.524     0.607    \n",
       "c1            -0.02068    0.02635  -0.785     0.444    \n",
       "c2            -0.02621    0.04499  -0.583     0.568    \n",
       "c3             0.02925    0.05436   0.538     0.598    \n",
       "c4            -0.06706    0.05497  -1.220     0.240    \n",
       "c5             0.02185    0.05449   0.401     0.694    \n",
       "c6             0.03368    0.05470   0.616     0.547    \n",
       "---\n",
       "Signif. codes:  0 '***' 0.001 '**' 0.01 '*' 0.05 '.' 0.1 ' ' 1\n",
       "\n",
       "Residual standard error: 0.03835 on 16 degrees of freedom\n",
       "Multiple R-squared:  0.4053,\tAdjusted R-squared:  0.1451 \n",
       "F-statistic: 1.558 on 7 and 16 DF,  p-value: 0.2184\n"
      ]
     },
     "metadata": {},
     "output_type": "display_data"
    }
   ],
   "source": [
    "elas.gas <- lm(log(base) ~ log(tpi.real) + c1 + c2 + c2 + c3 + c4 + c5 + c6,adeq)\n",
    "summary(elas.gas)\n",
    "\n",
    "# Elasticity = -0.07843"
   ]
  },
  {
   "attachments": {},
   "cell_type": "markdown",
   "metadata": {},
   "source": [
    "#### Stability"
   ]
  },
  {
   "cell_type": "code",
   "execution_count": 33,
   "metadata": {
    "vscode": {
     "languageId": "r"
    }
   },
   "outputs": [
    {
     "data": {
      "text/html": [
       "<table class=\"dataframe\">\n",
       "<caption>A data.frame: 3 x 3</caption>\n",
       "<thead>\n",
       "\t<tr><th></th><th scope=col>SD</th><th scope=col>Max</th><th scope=col>Min</th></tr>\n",
       "\t<tr><th></th><th scope=col>&lt;dbl&gt;</th><th scope=col>&lt;dbl&gt;</th><th scope=col>&lt;dbl&gt;</th></tr>\n",
       "</thead>\n",
       "<tbody>\n",
       "\t<tr><th scope=row>Change in Revenue</th><td>10.744618</td><td>48.708014</td><td>-6.595596</td></tr>\n",
       "\t<tr><th scope=row>Change in Economic Activity</th><td> 2.205255</td><td> 2.205255</td><td> 2.205255</td></tr>\n",
       "\t<tr><th scope=row>Change in Base</th><td> 4.500163</td><td> 4.500163</td><td> 4.500163</td></tr>\n",
       "</tbody>\n",
       "</table>\n"
      ],
      "text/latex": [
       "A data.frame: 3 x 3\n",
       "\\begin{tabular}{r|lll}\n",
       "  & SD & Max & Min\\\\\n",
       "  & <dbl> & <dbl> & <dbl>\\\\\n",
       "\\hline\n",
       "\tChange in Revenue & 10.744618 & 48.708014 & -6.595596\\\\\n",
       "\tChange in Economic Activity &  2.205255 &  2.205255 &  2.205255\\\\\n",
       "\tChange in Base &  4.500163 &  4.500163 &  4.500163\\\\\n",
       "\\end{tabular}\n"
      ],
      "text/markdown": [
       "\n",
       "A data.frame: 3 x 3\n",
       "\n",
       "| <!--/--> | SD &lt;dbl&gt; | Max &lt;dbl&gt; | Min &lt;dbl&gt; |\n",
       "|---|---|---|---|\n",
       "| Change in Revenue | 10.744618 | 48.708014 | -6.595596 |\n",
       "| Change in Economic Activity |  2.205255 |  2.205255 |  2.205255 |\n",
       "| Change in Base |  4.500163 |  4.500163 |  4.500163 |\n",
       "\n"
      ],
      "text/plain": [
       "                            SD        Max       Min      \n",
       "Change in Revenue           10.744618 48.708014 -6.595596\n",
       "Change in Economic Activity  2.205255  2.205255  2.205255\n",
       "Change in Base               4.500163  4.500163  4.500163"
      ]
     },
     "metadata": {},
     "output_type": "display_data"
    }
   ],
   "source": [
    "stab <- data.frame(SD = c(sd(adeq$d.gas.real),sd(adeq$d.tpi.real),sd(adeq$d.base)),\n",
    "                   Max = c(max(adeq$d.gas.real),sd(adeq$d.tpi.real),sd(adeq$d.base)),\n",
    "                   Min = c(min(adeq$d.gas.real),sd(adeq$d.tpi.real),sd(adeq$d.base)),\n",
    "                   row.names = c('Change in Revenue','Change in Economic Activity',\n",
    "                                 'Change in Base'))\n",
    "stab*100"
   ]
  },
  {
   "attachments": {},
   "cell_type": "markdown",
   "metadata": {},
   "source": [
    "### Forecasted Data"
   ]
  },
  {
   "attachments": {},
   "cell_type": "markdown",
   "metadata": {},
   "source": [
    "#### Setup"
   ]
  },
  {
   "cell_type": "code",
   "execution_count": 35,
   "metadata": {
    "vscode": {
     "languageId": "r"
    }
   },
   "outputs": [],
   "source": [
    "#write excel file to add % change and tax change dummys\n",
    "adeq.fc = data.frame(year = scoreg.fc$year,\n",
    "    gas.rev = scoreg.fc$rev.micro)\n",
    "adeq.fc = aggregate(gas.rev ~ year, adeq.fc, sum)\n",
    "adeq.fc$tpi = tpi.fc.ann$tpi\n",
    "adeq.fc$base = c(aggregate(base.micro ~ year, scoreg.fc, sum)[2])[[1]]\n",
    "adeq.fc$rate = scoreg.fc$rate\n",
    "write_xlsx(share.mnth,'data/adeq.xlsx',)"
   ]
  },
  {
   "cell_type": "markdown",
   "metadata": {},
   "source": [
    "#### Buoyancy"
   ]
  },
  {
   "cell_type": "code",
   "execution_count": null,
   "metadata": {
    "vscode": {
     "languageId": "r"
    }
   },
   "outputs": [
    {
     "data": {
      "text/plain": [
       "\n",
       "Call:\n",
       "lm(formula = log(gas.rev) ~ log(tpi), data = adeq.fc)\n",
       "\n",
       "Residuals:\n",
       "      Min        1Q    Median        3Q       Max \n",
       "-0.009002 -0.003103  0.001173  0.003745  0.004768 \n",
       "\n",
       "Coefficients:\n",
       "             Estimate Std. Error t value            Pr(>|t|)    \n",
       "(Intercept) -33.01030    0.39449  -83.68 <0.0000000000000002 ***\n",
       "log(tpi)      2.01027    0.01471  136.68 <0.0000000000000002 ***\n",
       "---\n",
       "Signif. codes:  0 '***' 0.001 '**' 0.01 '*' 0.05 '.' 0.1 ' ' 1\n",
       "\n",
       "Residual standard error: 0.004494 on 18 degrees of freedom\n",
       "Multiple R-squared:  0.999,\tAdjusted R-squared:  0.999 \n",
       "F-statistic: 1.868e+04 on 1 and 18 DF,  p-value: < 0.00000000000000022\n"
      ]
     },
     "metadata": {},
     "output_type": "display_data"
    }
   ],
   "source": [
    "buoy.gas.fc <- lm(log(gas.rev) ~ log(tpi), adeq.fc)\n",
    "summary(buoy.gas.fc)\n",
    "\n",
    "# Buoyancy = 2.01027"
   ]
  },
  {
   "attachments": {},
   "cell_type": "markdown",
   "metadata": {},
   "source": [
    "#### Elasticity"
   ]
  },
  {
   "cell_type": "code",
   "execution_count": null,
   "metadata": {
    "vscode": {
     "languageId": "r"
    }
   },
   "outputs": [
    {
     "data": {
      "text/plain": [
       "\n",
       "Call:\n",
       "lm(formula = log(base) ~ log(tpi), data = adeq.fc)\n",
       "\n",
       "Residuals:\n",
       "         Min           1Q       Median           3Q          Max \n",
       "-0.000024602 -0.000008417  0.000002497  0.000011405  0.000014677 \n",
       "\n",
       "Coefficients:\n",
       "               Estimate  Std. Error  t value             Pr(>|t|)    \n",
       "(Intercept) 21.79301066  0.00115801 18819.35 < 0.0000000000000002 ***\n",
       "log(tpi)    -0.00067651  0.00004317   -15.67     0.00000000000619 ***\n",
       "---\n",
       "Signif. codes:  0 '***' 0.001 '**' 0.01 '*' 0.05 '.' 0.1 ' ' 1\n",
       "\n",
       "Residual standard error: 0.00001319 on 18 degrees of freedom\n",
       "Multiple R-squared:  0.9317,\tAdjusted R-squared:  0.9279 \n",
       "F-statistic: 245.5 on 1 and 18 DF,  p-value: 0.000000000006193\n"
      ]
     },
     "metadata": {},
     "output_type": "display_data"
    }
   ],
   "source": [
    "elas.gas.fc <- lm(log(base) ~ log(tpi),adeq.fc)\n",
    "summary(elas.gas.fc)"
   ]
  },
  {
   "cell_type": "markdown",
   "metadata": {},
   "source": [
    "#### Stability"
   ]
  },
  {
   "cell_type": "code",
   "execution_count": null,
   "metadata": {
    "vscode": {
     "languageId": "r"
    }
   },
   "outputs": [],
   "source": []
  },
  {
   "attachments": {},
   "cell_type": "markdown",
   "metadata": {},
   "source": [
    "### Suits Index"
   ]
  },
  {
   "cell_type": "code",
   "execution_count": null,
   "metadata": {
    "vscode": {
     "languageId": "r"
    }
   },
   "outputs": [],
   "source": [
    "g.suits = nhts[c('HHFAMINC','HHSTATE', 'GSTOTCST')][nhts$HHSTATE == 'IN',]\n",
    "g.suits = aggregate(GSTOTCST ~ HHFAMINC,g.suits,sum)[4:14,]\n",
    "g.suits$Bracket = c('Less than $10,000','$10,000-$14,999','$15,000-$24,999','$25,000-$34,999','$35,000-$49,999','$50,000-$74,999','$75,000-$99,999','$100,000-$124,999','$125,000-$149,999','$150,000-$199,999','$200,000 or more')"
   ]
  },
  {
   "cell_type": "code",
   "execution_count": null,
   "metadata": {
    "vscode": {
     "languageId": "r"
    }
   },
   "outputs": [],
   "source": [
    "g.suits$rate = 0.33\n",
    "g.suits$burden = g.suits$GSTOTCST * g.suits$rate\n",
    "g.suits$rawinc = c(10000,4999,9999,9999,14999,24999,24999,24999,24999,49999,49999)\n",
    "g.suits$shareinc = g.suits$rawinc/sum(g.suits$rawinc)\n",
    "g.suits$cuminc = g.suits$rawinc[1]/sum(g.suits$rawinc)\n",
    "g.suits$sharebur = g.suits$burden/sum(g.suits$burden)\n",
    "g.suits$cumbur = g.suits$burden[1]/sum(g.suits$burden)\n",
    "\n"
   ]
  },
  {
   "cell_type": "code",
   "execution_count": null,
   "metadata": {
    "vscode": {
     "languageId": "r"
    }
   },
   "outputs": [],
   "source": [
    "for (row in 2:length(g.suits$HHFAMINC)) {\n",
    "    g.suits$cuminc[row] = g.suits$shareinc[row] + g.suits$cuminc[row-1]\n",
    "    g.suits$cumbur[row] = g.suits$sharebur[row] + g.suits$cumbur[row-1]\n",
    "}\n"
   ]
  },
  {
   "cell_type": "code",
   "execution_count": null,
   "metadata": {
    "vscode": {
     "languageId": "r"
    }
   },
   "outputs": [],
   "source": [
    "g.suits = g.suits[c(1:6,8,10)]"
   ]
  },
  {
   "cell_type": "code",
   "execution_count": null,
   "metadata": {
    "vscode": {
     "languageId": "r"
    }
   },
   "outputs": [
    {
     "data": {
      "image/png": "[encoded data removed]",
      "text/plain": [
       "plot without title"
      ]
     },
     "metadata": {
      "image/png": {
       "height": 600,
       "width": 600
      }
     },
     "output_type": "display_data"
    }
   ],
   "source": [
    "# x = cumulative income share, y = cumulative tax burden\n",
    "ggplot(g.suits) + \n",
    "    geom_line(aes(cuminc,cumbur, color='Gasoline Tax')) + \n",
    "    geom_line(aes(cuminc,cuminc, color='Proportional Tax')) + theme\n",
    "    "
   ]
  },
  {
   "cell_type": "code",
   "execution_count": null,
   "metadata": {
    "vscode": {
     "languageId": "r"
    }
   },
   "outputs": [],
   "source": [
    "g.suits$k = (5000/length(g.suits$cumbur))/5000\n",
    "g.suits$l = (1/2)*(g.suits$cumbur[1])*\n",
    "    (g.suits$cuminc[1])\n",
    "for (row in 2:length(g.suits$cumbur)){\n",
    "    g.suits$l[row] = (1/2)*(g.suits$cumbur[row]+g.suits$cumbur[row-1])*\n",
    "    (g.suits$cuminc[row]+g.suits$cuminc[row-1])\n",
    "}"
   ]
  },
  {
   "cell_type": "code",
   "execution_count": null,
   "metadata": {
    "vscode": {
     "languageId": "r"
    }
   },
   "outputs": [
    {
     "data": {
      "text/html": [
       "-4.58122160674226"
      ],
      "text/latex": [
       "-4.58122160674226"
      ],
      "text/markdown": [
       "-4.58122160674226"
      ],
      "text/plain": [
       "[1] -4.581222"
      ]
     },
     "metadata": {},
     "output_type": "display_data"
    }
   ],
   "source": [
    "# Gas Tax Suits\n",
    "(sum(g.suits$k)-sum(g.suits$l))/sum(g.suits$k)"
   ]
  },
  {
   "cell_type": "markdown",
   "metadata": {},
   "source": []
  },
  {
   "attachments": {},
   "cell_type": "markdown",
   "metadata": {},
   "source": [
    "# VMT Tax Analysis"
   ]
  },
  {
   "attachments": {},
   "cell_type": "markdown",
   "metadata": {},
   "source": [
    "## VMT Forecast (10 Year)"
   ]
  },
  {
   "attachments": {},
   "cell_type": "markdown",
   "metadata": {},
   "source": [
    "### Setup"
   ]
  },
  {
   "cell_type": "code",
   "execution_count": null,
   "metadata": {
    "vscode": {
     "languageId": "r"
    }
   },
   "outputs": [],
   "source": [
    "vmt = read_excel('data/WorkingData.xlsx', sheet= 'VmtMonthly')\n",
    "vmt = dummy_cols(vmt, select_columns = c('mnth','year'))\n",
    "vmt$time = vmt$year+(vmt$mnth/12)\n",
    "vmt$year = factor(vmt$year)\n",
    "vmt$mnth = factor(vmt$mnth)\n",
    "\n",
    "\n",
    "vmt.fc = data.frame(year = c(rep(2023:2032,12)))\n",
    "vmt.fc = data.frame(year = c(vmt.fc[order(vmt.fc$year),]))\n",
    "vmt.fc$mnth = c(1:12)\n",
    "vmt.fc$time = vmt.fc$year+(vmt.fc$mnth/12)\n",
    "vmt.fc$vmt = NA\n",
    "vmt.fc$rate = NA\n",
    "vmt.fc$rev = NA\n",
    "vmt.fc$gas.rev = NA\n",
    "vmt.fc = dummy_cols(vmt.fc, select_columns = c('mnth'))"
   ]
  },
  {
   "attachments": {},
   "cell_type": "markdown",
   "metadata": {},
   "source": [
    "### Forecast"
   ]
  },
  {
   "cell_type": "code",
   "execution_count": null,
   "metadata": {
    "vscode": {
     "languageId": "r"
    }
   },
   "outputs": [
    {
     "data": {
      "text/html": [
       "<style>\n",
       ".list-inline {list-style: none; margin:0; padding: 0}\n",
       ".list-inline>li {display: inline-block}\n",
       ".list-inline>li:not(:last-child)::after {content: \"\\00b7\"; padding: 0 .5ex}\n",
       "</style>\n",
       "<ol class=list-inline><li>'year'</li><li>'month'</li><li>'mnth'</li><li>'key'</li><li>'vmt.mnth'</li><li>'mnth_0'</li><li>'mnth_1'</li><li>'mnth_2'</li><li>'mnth_3'</li><li>'mnth_4'</li><li>'mnth_5'</li><li>'mnth_6'</li><li>'mnth_7'</li><li>'mnth_8'</li><li>'mnth_9'</li><li>'mnth_10'</li><li>'mnth_11'</li><li>'year_1999'</li><li>'year_2000'</li><li>'year_2001'</li><li>'year_2002'</li><li>'year_2003'</li><li>'year_2004'</li><li>'year_2005'</li><li>'year_2006'</li><li>'year_2007'</li><li>'year_2008'</li><li>'year_2009'</li><li>'year_2010'</li><li>'year_2011'</li><li>'year_2012'</li><li>'year_2013'</li><li>'year_2014'</li><li>'year_2015'</li><li>'year_2016'</li><li>'year_2017'</li><li>'year_2018'</li><li>'year_2019'</li><li>'year_2020'</li><li>'year_2021'</li><li>'year_2022'</li><li>'time'</li></ol>\n"
      ],
      "text/latex": [
       "\\begin{enumerate*}\n",
       "\\item 'year'\n",
       "\\item 'month'\n",
       "\\item 'mnth'\n",
       "\\item 'key'\n",
       "\\item 'vmt.mnth'\n",
       "\\item 'mnth\\_0'\n",
       "\\item 'mnth\\_1'\n",
       "\\item 'mnth\\_2'\n",
       "\\item 'mnth\\_3'\n",
       "\\item 'mnth\\_4'\n",
       "\\item 'mnth\\_5'\n",
       "\\item 'mnth\\_6'\n",
       "\\item 'mnth\\_7'\n",
       "\\item 'mnth\\_8'\n",
       "\\item 'mnth\\_9'\n",
       "\\item 'mnth\\_10'\n",
       "\\item 'mnth\\_11'\n",
       "\\item 'year\\_1999'\n",
       "\\item 'year\\_2000'\n",
       "\\item 'year\\_2001'\n",
       "\\item 'year\\_2002'\n",
       "\\item 'year\\_2003'\n",
       "\\item 'year\\_2004'\n",
       "\\item 'year\\_2005'\n",
       "\\item 'year\\_2006'\n",
       "\\item 'year\\_2007'\n",
       "\\item 'year\\_2008'\n",
       "\\item 'year\\_2009'\n",
       "\\item 'year\\_2010'\n",
       "\\item 'year\\_2011'\n",
       "\\item 'year\\_2012'\n",
       "\\item 'year\\_2013'\n",
       "\\item 'year\\_2014'\n",
       "\\item 'year\\_2015'\n",
       "\\item 'year\\_2016'\n",
       "\\item 'year\\_2017'\n",
       "\\item 'year\\_2018'\n",
       "\\item 'year\\_2019'\n",
       "\\item 'year\\_2020'\n",
       "\\item 'year\\_2021'\n",
       "\\item 'year\\_2022'\n",
       "\\item 'time'\n",
       "\\end{enumerate*}\n"
      ],
      "text/markdown": [
       "1. 'year'\n",
       "2. 'month'\n",
       "3. 'mnth'\n",
       "4. 'key'\n",
       "5. 'vmt.mnth'\n",
       "6. 'mnth_0'\n",
       "7. 'mnth_1'\n",
       "8. 'mnth_2'\n",
       "9. 'mnth_3'\n",
       "10. 'mnth_4'\n",
       "11. 'mnth_5'\n",
       "12. 'mnth_6'\n",
       "13. 'mnth_7'\n",
       "14. 'mnth_8'\n",
       "15. 'mnth_9'\n",
       "16. 'mnth_10'\n",
       "17. 'mnth_11'\n",
       "18. 'year_1999'\n",
       "19. 'year_2000'\n",
       "20. 'year_2001'\n",
       "21. 'year_2002'\n",
       "22. 'year_2003'\n",
       "23. 'year_2004'\n",
       "24. 'year_2005'\n",
       "25. 'year_2006'\n",
       "26. 'year_2007'\n",
       "27. 'year_2008'\n",
       "28. 'year_2009'\n",
       "29. 'year_2010'\n",
       "30. 'year_2011'\n",
       "31. 'year_2012'\n",
       "32. 'year_2013'\n",
       "33. 'year_2014'\n",
       "34. 'year_2015'\n",
       "35. 'year_2016'\n",
       "36. 'year_2017'\n",
       "37. 'year_2018'\n",
       "38. 'year_2019'\n",
       "39. 'year_2020'\n",
       "40. 'year_2021'\n",
       "41. 'year_2022'\n",
       "42. 'time'\n",
       "\n",
       "\n"
      ],
      "text/plain": [
       " [1] \"year\"      \"month\"     \"mnth\"      \"key\"       \"vmt.mnth\"  \"mnth_0\"   \n",
       " [7] \"mnth_1\"    \"mnth_2\"    \"mnth_3\"    \"mnth_4\"    \"mnth_5\"    \"mnth_6\"   \n",
       "[13] \"mnth_7\"    \"mnth_8\"    \"mnth_9\"    \"mnth_10\"   \"mnth_11\"   \"year_1999\"\n",
       "[19] \"year_2000\" \"year_2001\" \"year_2002\" \"year_2003\" \"year_2004\" \"year_2005\"\n",
       "[25] \"year_2006\" \"year_2007\" \"year_2008\" \"year_2009\" \"year_2010\" \"year_2011\"\n",
       "[31] \"year_2012\" \"year_2013\" \"year_2014\" \"year_2015\" \"year_2016\" \"year_2017\"\n",
       "[37] \"year_2018\" \"year_2019\" \"year_2020\" \"year_2021\" \"year_2022\" \"time\"     "
      ]
     },
     "metadata": {},
     "output_type": "display_data"
    }
   ],
   "source": [
    "names(vmt)"
   ]
  },
  {
   "cell_type": "code",
   "execution_count": null,
   "metadata": {
    "vscode": {
     "languageId": "r"
    }
   },
   "outputs": [
    {
     "data": {
      "text/html": [
       "<table class=\"dataframe\">\n",
       "<caption>A data.frame: 36 x 1</caption>\n",
       "<thead>\n",
       "\t<tr><th></th><th scope=col>vmt.m.coefficients</th></tr>\n",
       "\t<tr><th></th><th scope=col>&lt;dbl&gt;</th></tr>\n",
       "</thead>\n",
       "<tbody>\n",
       "\t<tr><th scope=row>(Intercept)</th><td>-88279793315</td></tr>\n",
       "\t<tr><th scope=row>time</th><td>    46857634</td></tr>\n",
       "\t<tr><th scope=row>mnth1</th><td>  -291483160</td></tr>\n",
       "\t<tr><th scope=row>mnth2</th><td>   584799596</td></tr>\n",
       "\t<tr><th scope=row>mnth3</th><td>   511289998</td></tr>\n",
       "\t<tr><th scope=row>mnth4</th><td>   838745083</td></tr>\n",
       "\t<tr><th scope=row>mnth5</th><td>   862063603</td></tr>\n",
       "\t<tr><th scope=row>mnth6</th><td>  1019405029</td></tr>\n",
       "\t<tr><th scope=row>mnth7</th><td>   981631564</td></tr>\n",
       "\t<tr><th scope=row>mnth8</th><td>   451019861</td></tr>\n",
       "\t<tr><th scope=row>mnth9</th><td>   790786128</td></tr>\n",
       "\t<tr><th scope=row>mnth10</th><td>   349964396</td></tr>\n",
       "\t<tr><th scope=row>mnth11</th><td>   439160131</td></tr>\n",
       "\t<tr><th scope=row>year2000</th><td>    24589153</td></tr>\n",
       "\t<tr><th scope=row>year2001</th><td>   124897807</td></tr>\n",
       "\t<tr><th scope=row>year2002</th><td>   125063728</td></tr>\n",
       "\t<tr><th scope=row>year2003</th><td>    55426357</td></tr>\n",
       "\t<tr><th scope=row>year2004</th><td>    22406572</td></tr>\n",
       "\t<tr><th scope=row>year2005</th><td>   -46563978</td></tr>\n",
       "\t<tr><th scope=row>year2006</th><td>  -100447862</td></tr>\n",
       "\t<tr><th scope=row>year2007</th><td>  -142667259</td></tr>\n",
       "\t<tr><th scope=row>year2008</th><td>  -283465247</td></tr>\n",
       "\t<tr><th scope=row>year2009</th><td>    36314448</td></tr>\n",
       "\t<tr><th scope=row>year2010</th><td>  -440600482</td></tr>\n",
       "\t<tr><th scope=row>year2011</th><td>   -62476449</td></tr>\n",
       "\t<tr><th scope=row>year2012</th><td>   -10179821</td></tr>\n",
       "\t<tr><th scope=row>year2013</th><td>     2674533</td></tr>\n",
       "\t<tr><th scope=row>year2014</th><td>    82151003</td></tr>\n",
       "\t<tr><th scope=row>year2015</th><td>    45402349</td></tr>\n",
       "\t<tr><th scope=row>year2016</th><td>  -297479486</td></tr>\n",
       "\t<tr><th scope=row>year2017</th><td>  -640361321</td></tr>\n",
       "\t<tr><th scope=row>year2018</th><td>   100323447</td></tr>\n",
       "\t<tr><th scope=row>year2019</th><td>   135652063</td></tr>\n",
       "\t<tr><th scope=row>year2020</th><td>  -529150988</td></tr>\n",
       "\t<tr><th scope=row>year2021</th><td>    19945128</td></tr>\n",
       "\t<tr><th scope=row>year2022</th><td>          NA</td></tr>\n",
       "</tbody>\n",
       "</table>\n"
      ],
      "text/latex": [
       "A data.frame: 36 x 1\n",
       "\\begin{tabular}{r|l}\n",
       "  & vmt.m.coefficients\\\\\n",
       "  & <dbl>\\\\\n",
       "\\hline\n",
       "\t(Intercept) & -88279793315\\\\\n",
       "\ttime &     46857634\\\\\n",
       "\tmnth1 &   -291483160\\\\\n",
       "\tmnth2 &    584799596\\\\\n",
       "\tmnth3 &    511289998\\\\\n",
       "\tmnth4 &    838745083\\\\\n",
       "\tmnth5 &    862063603\\\\\n",
       "\tmnth6 &   1019405029\\\\\n",
       "\tmnth7 &    981631564\\\\\n",
       "\tmnth8 &    451019861\\\\\n",
       "\tmnth9 &    790786128\\\\\n",
       "\tmnth10 &    349964396\\\\\n",
       "\tmnth11 &    439160131\\\\\n",
       "\tyear2000 &     24589153\\\\\n",
       "\tyear2001 &    124897807\\\\\n",
       "\tyear2002 &    125063728\\\\\n",
       "\tyear2003 &     55426357\\\\\n",
       "\tyear2004 &     22406572\\\\\n",
       "\tyear2005 &    -46563978\\\\\n",
       "\tyear2006 &   -100447862\\\\\n",
       "\tyear2007 &   -142667259\\\\\n",
       "\tyear2008 &   -283465247\\\\\n",
       "\tyear2009 &     36314448\\\\\n",
       "\tyear2010 &   -440600482\\\\\n",
       "\tyear2011 &    -62476449\\\\\n",
       "\tyear2012 &    -10179821\\\\\n",
       "\tyear2013 &      2674533\\\\\n",
       "\tyear2014 &     82151003\\\\\n",
       "\tyear2015 &     45402349\\\\\n",
       "\tyear2016 &   -297479486\\\\\n",
       "\tyear2017 &   -640361321\\\\\n",
       "\tyear2018 &    100323447\\\\\n",
       "\tyear2019 &    135652063\\\\\n",
       "\tyear2020 &   -529150988\\\\\n",
       "\tyear2021 &     19945128\\\\\n",
       "\tyear2022 &           NA\\\\\n",
       "\\end{tabular}\n"
      ],
      "text/markdown": [
       "\n",
       "A data.frame: 36 x 1\n",
       "\n",
       "| <!--/--> | vmt.m.coefficients &lt;dbl&gt; |\n",
       "|---|---|\n",
       "| (Intercept) | -88279793315 |\n",
       "| time |     46857634 |\n",
       "| mnth1 |   -291483160 |\n",
       "| mnth2 |    584799596 |\n",
       "| mnth3 |    511289998 |\n",
       "| mnth4 |    838745083 |\n",
       "| mnth5 |    862063603 |\n",
       "| mnth6 |   1019405029 |\n",
       "| mnth7 |    981631564 |\n",
       "| mnth8 |    451019861 |\n",
       "| mnth9 |    790786128 |\n",
       "| mnth10 |    349964396 |\n",
       "| mnth11 |    439160131 |\n",
       "| year2000 |     24589153 |\n",
       "| year2001 |    124897807 |\n",
       "| year2002 |    125063728 |\n",
       "| year2003 |     55426357 |\n",
       "| year2004 |     22406572 |\n",
       "| year2005 |    -46563978 |\n",
       "| year2006 |   -100447862 |\n",
       "| year2007 |   -142667259 |\n",
       "| year2008 |   -283465247 |\n",
       "| year2009 |     36314448 |\n",
       "| year2010 |   -440600482 |\n",
       "| year2011 |    -62476449 |\n",
       "| year2012 |    -10179821 |\n",
       "| year2013 |      2674533 |\n",
       "| year2014 |     82151003 |\n",
       "| year2015 |     45402349 |\n",
       "| year2016 |   -297479486 |\n",
       "| year2017 |   -640361321 |\n",
       "| year2018 |    100323447 |\n",
       "| year2019 |    135652063 |\n",
       "| year2020 |   -529150988 |\n",
       "| year2021 |     19945128 |\n",
       "| year2022 |           NA |\n",
       "\n"
      ],
      "text/plain": [
       "            vmt.m.coefficients\n",
       "(Intercept) -88279793315      \n",
       "time            46857634      \n",
       "mnth1         -291483160      \n",
       "mnth2          584799596      \n",
       "mnth3          511289998      \n",
       "mnth4          838745083      \n",
       "mnth5          862063603      \n",
       "mnth6         1019405029      \n",
       "mnth7          981631564      \n",
       "mnth8          451019861      \n",
       "mnth9          790786128      \n",
       "mnth10         349964396      \n",
       "mnth11         439160131      \n",
       "year2000        24589153      \n",
       "year2001       124897807      \n",
       "year2002       125063728      \n",
       "year2003        55426357      \n",
       "year2004        22406572      \n",
       "year2005       -46563978      \n",
       "year2006      -100447862      \n",
       "year2007      -142667259      \n",
       "year2008      -283465247      \n",
       "year2009        36314448      \n",
       "year2010      -440600482      \n",
       "year2011       -62476449      \n",
       "year2012       -10179821      \n",
       "year2013         2674533      \n",
       "year2014        82151003      \n",
       "year2015        45402349      \n",
       "year2016      -297479486      \n",
       "year2017      -640361321      \n",
       "year2018       100323447      \n",
       "year2019       135652063      \n",
       "year2020      -529150988      \n",
       "year2021        19945128      \n",
       "year2022              NA      "
      ]
     },
     "metadata": {},
     "output_type": "display_data"
    }
   ],
   "source": [
    "vmt.m = lm(vmt.mnth ~ time + mnth + year, vmt)\n",
    "data.frame(vmt.m$coefficients)"
   ]
  },
  {
   "cell_type": "code",
   "execution_count": null,
   "metadata": {
    "vscode": {
     "languageId": "r"
    }
   },
   "outputs": [],
   "source": [
    "vmt.fc$vmt = vmt.m$coefficients[[1]] + vmt.m$coefficients[[2]]*vmt.fc$time + vmt.m$coefficients[[3]]*vmt.fc$mnth_1 +\n",
    "    vmt.m$coefficients[[4]]*vmt.fc$mnth_2 + vmt.m$coefficients[[5]]*vmt.fc$mnth_3 + vmt.m$coefficients[[6]]*vmt.fc$mnth_4 + \n",
    "    vmt.m$coefficients[[7]]*vmt.fc$mnth_5 + vmt.m$coefficients[[8]]*vmt.fc$mnth_6 + vmt.m$coefficients[[9]]*vmt.fc$mnth_7 + \n",
    "    vmt.m$coefficients[[10]]*vmt.fc$mnth_8 + vmt.m$coefficients[[11]]*vmt.fc$mnth_9 + vmt.m$coefficients[[12]]*vmt.fc$mnth_10 + \n",
    "    vmt.m$coefficients[[13]]*vmt.fc$mnth_11 + vmt.m$coefficients[[35]]"
   ]
  },
  {
   "cell_type": "code",
   "execution_count": null,
   "metadata": {
    "vscode": {
     "languageId": "r"
    }
   },
   "outputs": [],
   "source": []
  },
  {
   "attachments": {},
   "cell_type": "markdown",
   "metadata": {},
   "source": [
    "## VMT Tax Revenue Forecast"
   ]
  },
  {
   "attachments": {},
   "cell_type": "markdown",
   "metadata": {},
   "source": [
    "### Assumes all drivers switch to vmt tax on Jan 1, 2023 (no OOS)"
   ]
  },
  {
   "cell_type": "code",
   "execution_count": null,
   "metadata": {
    "vscode": {
     "languageId": "r"
    }
   },
   "outputs": [
    {
     "data": {
      "text/html": [
       "<table class=\"dataframe\">\n",
       "<caption>A data.frame: 10 x 2</caption>\n",
       "<thead>\n",
       "\t<tr><th scope=col>year</th><th scope=col>rev</th></tr>\n",
       "\t<tr><th scope=col>&lt;int&gt;</th><th scope=col>&lt;dbl&gt;</th></tr>\n",
       "</thead>\n",
       "<tbody>\n",
       "\t<tr><td>2023</td><td>1534314615</td></tr>\n",
       "\t<tr><td>2024</td><td>1544435864</td></tr>\n",
       "\t<tr><td>2025</td><td>1554557113</td></tr>\n",
       "\t<tr><td>2026</td><td>1564678362</td></tr>\n",
       "\t<tr><td>2027</td><td>1574799611</td></tr>\n",
       "\t<tr><td>2028</td><td>1584920860</td></tr>\n",
       "\t<tr><td>2029</td><td>1595042109</td></tr>\n",
       "\t<tr><td>2030</td><td>1605163358</td></tr>\n",
       "\t<tr><td>2031</td><td>1615284607</td></tr>\n",
       "\t<tr><td>2032</td><td>1625405856</td></tr>\n",
       "</tbody>\n",
       "</table>\n"
      ],
      "text/latex": [
       "A data.frame: 10 x 2\n",
       "\\begin{tabular}{ll}\n",
       " year & rev\\\\\n",
       " <int> & <dbl>\\\\\n",
       "\\hline\n",
       "\t 2023 & 1534314615\\\\\n",
       "\t 2024 & 1544435864\\\\\n",
       "\t 2025 & 1554557113\\\\\n",
       "\t 2026 & 1564678362\\\\\n",
       "\t 2027 & 1574799611\\\\\n",
       "\t 2028 & 1584920860\\\\\n",
       "\t 2029 & 1595042109\\\\\n",
       "\t 2030 & 1605163358\\\\\n",
       "\t 2031 & 1615284607\\\\\n",
       "\t 2032 & 1625405856\\\\\n",
       "\\end{tabular}\n"
      ],
      "text/markdown": [
       "\n",
       "A data.frame: 10 x 2\n",
       "\n",
       "| year &lt;int&gt; | rev &lt;dbl&gt; |\n",
       "|---|---|\n",
       "| 2023 | 1534314615 |\n",
       "| 2024 | 1544435864 |\n",
       "| 2025 | 1554557113 |\n",
       "| 2026 | 1564678362 |\n",
       "| 2027 | 1574799611 |\n",
       "| 2028 | 1584920860 |\n",
       "| 2029 | 1595042109 |\n",
       "| 2030 | 1605163358 |\n",
       "| 2031 | 1615284607 |\n",
       "| 2032 | 1625405856 |\n",
       "\n"
      ],
      "text/plain": [
       "   year rev       \n",
       "1  2023 1534314615\n",
       "2  2024 1544435864\n",
       "3  2025 1554557113\n",
       "4  2026 1564678362\n",
       "5  2027 1574799611\n",
       "6  2028 1584920860\n",
       "7  2029 1595042109\n",
       "8  2030 1605163358\n",
       "9  2031 1615284607\n",
       "10 2032 1625405856"
      ]
     },
     "metadata": {},
     "output_type": "display_data"
    }
   ],
   "source": [
    "# Oregon Rate\n",
    "vmt.fc$rate = 0.018\n",
    "vmt.fc$rev = vmt.fc$vmt*vmt.fc$rate\n",
    "vmt.fc.year = aggregate(rev ~ year, vmt.fc, sum)\n",
    "vmt.fc.year"
   ]
  },
  {
   "attachments": {},
   "cell_type": "markdown",
   "metadata": {},
   "source": []
  }
 ],
 "metadata": {
  "kernelspec": {
   "display_name": "R",
   "language": "R",
   "name": "ir"
  },
  "language_info": {
   "codemirror_mode": "r",
   "file_extension": ".r",
   "mimetype": "text/x-r-source",
   "name": "R",
   "pygments_lexer": "r",
   "version": "4.2.3"
  },
  "orig_nbformat": 4
 },
 "nbformat": 4,
 "nbformat_minor": 2
}
