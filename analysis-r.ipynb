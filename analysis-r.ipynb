{
 "cells": [
  {
   "cell_type": "code",
   "execution_count": 1,
   "metadata": {
    "vscode": {
     "languageId": "r"
    }
   },
   "outputs": [
    {
     "name": "stderr",
     "output_type": "stream",
     "text": [
      "-- \u001b[1mAttaching packages\u001b[22m --------------------------------------- tidyverse 1.3.2 --\n",
      "\u001b[32mv\u001b[39m \u001b[34mggplot2\u001b[39m 3.4.0     \u001b[32mv\u001b[39m \u001b[34mpurrr  \u001b[39m 1.0.0\n",
      "\u001b[32mv\u001b[39m \u001b[34mtibble \u001b[39m 3.2.1     \u001b[32mv\u001b[39m \u001b[34mdplyr  \u001b[39m 1.1.1\n",
      "\u001b[32mv\u001b[39m \u001b[34mtidyr  \u001b[39m 1.2.1     \u001b[32mv\u001b[39m \u001b[34mstringr\u001b[39m 1.5.0\n",
      "\u001b[32mv\u001b[39m \u001b[34mreadr  \u001b[39m 2.1.3     \u001b[32mv\u001b[39m \u001b[34mforcats\u001b[39m 0.5.2\n",
      "-- \u001b[1mConflicts\u001b[22m ------------------------------------------ tidyverse_conflicts() --\n",
      "\u001b[31mx\u001b[39m \u001b[34mdplyr\u001b[39m::\u001b[32mfilter()\u001b[39m masks \u001b[34mstats\u001b[39m::filter()\n",
      "\u001b[31mx\u001b[39m \u001b[34mdplyr\u001b[39m::\u001b[32mlag()\u001b[39m    masks \u001b[34mstats\u001b[39m::lag()\n",
      "\n",
      "Please cite as: \n",
      "\n",
      "\n",
      " Hlavac, Marek (2022). stargazer: Well-Formatted Regression and Summary Statistics Tables.\n",
      "\n",
      " R package version 5.2.3. https://CRAN.R-project.org/package=stargazer \n",
      "\n",
      "\n",
      "\n",
      "Attaching package: 'olsrr'\n",
      "\n",
      "\n",
      "The following object is masked from 'package:datasets':\n",
      "\n",
      "    rivers\n",
      "\n",
      "\n",
      "Loading required package: carData\n",
      "\n",
      "\n",
      "Attaching package: 'car'\n",
      "\n",
      "\n",
      "The following object is masked from 'package:dplyr':\n",
      "\n",
      "    recode\n",
      "\n",
      "\n",
      "The following object is masked from 'package:purrr':\n",
      "\n",
      "    some\n",
      "\n",
      "\n",
      "Loading required package: zoo\n",
      "\n",
      "\n",
      "Attaching package: 'zoo'\n",
      "\n",
      "\n",
      "The following objects are masked from 'package:base':\n",
      "\n",
      "    as.Date, as.Date.numeric\n",
      "\n",
      "\n",
      "\n",
      "Attaching package: 'plm'\n",
      "\n",
      "\n",
      "The following objects are masked from 'package:dplyr':\n",
      "\n",
      "    between, lag, lead\n",
      "\n",
      "\n",
      "Registered S3 method overwritten by 'quantmod':\n",
      "  method            from\n",
      "  as.zoo.data.frame zoo \n",
      "\n"
     ]
    }
   ],
   "source": [
    "library(tidyverse)\n",
    "library(stargazer)\n",
    "library(olsrr)\n",
    "library(readr)\n",
    "library(readxl)\n",
    "library(writexl)\n",
    "library(dplyr)\n",
    "library(broom)\n",
    "library(car)\n",
    "library(lmtest)\n",
    "library(corpcor)\n",
    "library(sandwich)\n",
    "library(fastDummies)\n",
    "library(plm)\n",
    "library(forecast)\n",
    "library(repr)"
   ]
  },
  {
   "cell_type": "code",
   "execution_count": 2,
   "metadata": {
    "vscode": {
     "languageId": "r"
    }
   },
   "outputs": [],
   "source": [
    "options(repr.plot.width=10, repr.plot.height=10)\n",
    "options(scipen=99)\n",
    "\n",
    "theme = theme(\n",
    "  title = element_text(size = 18),\n",
    "  axis.text.x = element_text(size = 16),\n",
    "  axis.title.x = element_text(size = 18),\n",
    "  axis.text.y = element_text(size = 16),\n",
    "  axis.title.y = element_text(size = 18),\n",
    "  legend.text = element_text(size= 10)\n",
    ") "
   ]
  },
  {
   "attachments": {},
   "cell_type": "markdown",
   "metadata": {},
   "source": [
    "# Setup Forecasts"
   ]
  },
  {
   "attachments": {},
   "cell_type": "markdown",
   "metadata": {},
   "source": [
    "## 2022 VMT Forecast"
   ]
  },
  {
   "cell_type": "code",
   "execution_count": 3,
   "metadata": {
    "vscode": {
     "languageId": "r"
    }
   },
   "outputs": [
    {
     "name": "stderr",
     "output_type": "stream",
     "text": [
      "\u001b[1m\u001b[22mNew names:\n",
      "\u001b[36m*\u001b[39m `` -> `...1`\n"
     ]
    }
   ],
   "source": [
    "vmt.ann = read_excel('data/WorkingData.xlsx', sheet = 'IN-VMT-clean')[1:30,]\n",
    "colnames(vmt.ann) = c('year','vmt')\n",
    "\n",
    "vmt.2022.m = lm(vmt ~ year, vmt.ann)\n",
    "\n",
    "\n",
    "vmt.ann[nrow(vmt.ann)+1,] = 2022\n",
    "vmt.ann$vmt[length(vmt.ann$vmt)] = vmt.2022.m$coefficients[[1]] + vmt.2022.m$coefficients[[2]]*2022\n",
    "vmt.ann$vmt = vmt.ann$vmt*1000000"
   ]
  },
  {
   "attachments": {},
   "cell_type": "markdown",
   "metadata": {},
   "source": [
    "## IN TPI Forecast"
   ]
  },
  {
   "cell_type": "code",
   "execution_count": 4,
   "metadata": {
    "vscode": {
     "languageId": "r"
    }
   },
   "outputs": [],
   "source": [
    "tpi = read_excel('data/WorkingData.xlsx',sheet='TPI')[2:5]\n",
    "tpi$tpi = tpi$`tpi (millions)`\n",
    "tpi$year = factor(tpi$year)\n",
    "tpi$quarter = factor(tpi$quarter)\n",
    "tpi = dummy_cols(tpi, select_columns = c('year','quarter'))\n",
    "\n",
    "tpi.ann = aggregate(tpi~year,tpi,mean)"
   ]
  },
  {
   "cell_type": "code",
   "execution_count": 5,
   "metadata": {
    "vscode": {
     "languageId": "r"
    }
   },
   "outputs": [
    {
     "data": {
      "text/html": [
       "<style>\n",
       ".list-inline {list-style: none; margin:0; padding: 0}\n",
       ".list-inline>li {display: inline-block}\n",
       ".list-inline>li:not(:last-child)::after {content: \"\\00b7\"; padding: 0 .5ex}\n",
       "</style>\n",
       "<ol class=list-inline><li>'year'</li><li>'quarter'</li><li>'time'</li><li>'tpi (millions)'</li><li>'tpi'</li><li>'year_1948'</li><li>'year_1949'</li><li>'year_1950'</li><li>'year_1951'</li><li>'year_1952'</li><li>'year_1953'</li><li>'year_1954'</li><li>'year_1955'</li><li>'year_1956'</li><li>'year_1957'</li><li>'year_1958'</li><li>'year_1959'</li><li>'year_1960'</li><li>'year_1961'</li><li>'year_1962'</li><li>'year_1963'</li><li>'year_1964'</li><li>'year_1965'</li><li>'year_1966'</li><li>'year_1967'</li><li>'year_1968'</li><li>'year_1969'</li><li>'year_1970'</li><li>'year_1971'</li><li>'year_1972'</li><li>'year_1973'</li><li>'year_1974'</li><li>'year_1975'</li><li>'year_1976'</li><li>'year_1977'</li><li>'year_1978'</li><li>'year_1979'</li><li>'year_1980'</li><li>'year_1981'</li><li>'year_1982'</li><li>'year_1983'</li><li>'year_1984'</li><li>'year_1985'</li><li>'year_1986'</li><li>'year_1987'</li><li>'year_1988'</li><li>'year_1989'</li><li>'year_1990'</li><li>'year_1991'</li><li>'year_1992'</li><li>'year_1993'</li><li>'year_1994'</li><li>'year_1995'</li><li>'year_1996'</li><li>'year_1997'</li><li>'year_1998'</li><li>'year_1999'</li><li>'year_2000'</li><li>'year_2001'</li><li>'year_2002'</li><li>'year_2003'</li><li>'year_2004'</li><li>'year_2005'</li><li>'year_2006'</li><li>'year_2007'</li><li>'year_2008'</li><li>'year_2009'</li><li>'year_2010'</li><li>'year_2011'</li><li>'year_2012'</li><li>'year_2013'</li><li>'year_2014'</li><li>'year_2015'</li><li>'year_2016'</li><li>'year_2017'</li><li>'year_2018'</li><li>'year_2019'</li><li>'year_2020'</li><li>'year_2021'</li><li>'year_2022'</li><li>'quarter_0'</li><li>'quarter_1'</li><li>'quarter_2'</li><li>'quarter_3'</li></ol>\n"
      ],
      "text/latex": [
       "\\begin{enumerate*}\n",
       "\\item 'year'\n",
       "\\item 'quarter'\n",
       "\\item 'time'\n",
       "\\item 'tpi (millions)'\n",
       "\\item 'tpi'\n",
       "\\item 'year\\_1948'\n",
       "\\item 'year\\_1949'\n",
       "\\item 'year\\_1950'\n",
       "\\item 'year\\_1951'\n",
       "\\item 'year\\_1952'\n",
       "\\item 'year\\_1953'\n",
       "\\item 'year\\_1954'\n",
       "\\item 'year\\_1955'\n",
       "\\item 'year\\_1956'\n",
       "\\item 'year\\_1957'\n",
       "\\item 'year\\_1958'\n",
       "\\item 'year\\_1959'\n",
       "\\item 'year\\_1960'\n",
       "\\item 'year\\_1961'\n",
       "\\item 'year\\_1962'\n",
       "\\item 'year\\_1963'\n",
       "\\item 'year\\_1964'\n",
       "\\item 'year\\_1965'\n",
       "\\item 'year\\_1966'\n",
       "\\item 'year\\_1967'\n",
       "\\item 'year\\_1968'\n",
       "\\item 'year\\_1969'\n",
       "\\item 'year\\_1970'\n",
       "\\item 'year\\_1971'\n",
       "\\item 'year\\_1972'\n",
       "\\item 'year\\_1973'\n",
       "\\item 'year\\_1974'\n",
       "\\item 'year\\_1975'\n",
       "\\item 'year\\_1976'\n",
       "\\item 'year\\_1977'\n",
       "\\item 'year\\_1978'\n",
       "\\item 'year\\_1979'\n",
       "\\item 'year\\_1980'\n",
       "\\item 'year\\_1981'\n",
       "\\item 'year\\_1982'\n",
       "\\item 'year\\_1983'\n",
       "\\item 'year\\_1984'\n",
       "\\item 'year\\_1985'\n",
       "\\item 'year\\_1986'\n",
       "\\item 'year\\_1987'\n",
       "\\item 'year\\_1988'\n",
       "\\item 'year\\_1989'\n",
       "\\item 'year\\_1990'\n",
       "\\item 'year\\_1991'\n",
       "\\item 'year\\_1992'\n",
       "\\item 'year\\_1993'\n",
       "\\item 'year\\_1994'\n",
       "\\item 'year\\_1995'\n",
       "\\item 'year\\_1996'\n",
       "\\item 'year\\_1997'\n",
       "\\item 'year\\_1998'\n",
       "\\item 'year\\_1999'\n",
       "\\item 'year\\_2000'\n",
       "\\item 'year\\_2001'\n",
       "\\item 'year\\_2002'\n",
       "\\item 'year\\_2003'\n",
       "\\item 'year\\_2004'\n",
       "\\item 'year\\_2005'\n",
       "\\item 'year\\_2006'\n",
       "\\item 'year\\_2007'\n",
       "\\item 'year\\_2008'\n",
       "\\item 'year\\_2009'\n",
       "\\item 'year\\_2010'\n",
       "\\item 'year\\_2011'\n",
       "\\item 'year\\_2012'\n",
       "\\item 'year\\_2013'\n",
       "\\item 'year\\_2014'\n",
       "\\item 'year\\_2015'\n",
       "\\item 'year\\_2016'\n",
       "\\item 'year\\_2017'\n",
       "\\item 'year\\_2018'\n",
       "\\item 'year\\_2019'\n",
       "\\item 'year\\_2020'\n",
       "\\item 'year\\_2021'\n",
       "\\item 'year\\_2022'\n",
       "\\item 'quarter\\_0'\n",
       "\\item 'quarter\\_1'\n",
       "\\item 'quarter\\_2'\n",
       "\\item 'quarter\\_3'\n",
       "\\end{enumerate*}\n"
      ],
      "text/markdown": [
       "1. 'year'\n",
       "2. 'quarter'\n",
       "3. 'time'\n",
       "4. 'tpi (millions)'\n",
       "5. 'tpi'\n",
       "6. 'year_1948'\n",
       "7. 'year_1949'\n",
       "8. 'year_1950'\n",
       "9. 'year_1951'\n",
       "10. 'year_1952'\n",
       "11. 'year_1953'\n",
       "12. 'year_1954'\n",
       "13. 'year_1955'\n",
       "14. 'year_1956'\n",
       "15. 'year_1957'\n",
       "16. 'year_1958'\n",
       "17. 'year_1959'\n",
       "18. 'year_1960'\n",
       "19. 'year_1961'\n",
       "20. 'year_1962'\n",
       "21. 'year_1963'\n",
       "22. 'year_1964'\n",
       "23. 'year_1965'\n",
       "24. 'year_1966'\n",
       "25. 'year_1967'\n",
       "26. 'year_1968'\n",
       "27. 'year_1969'\n",
       "28. 'year_1970'\n",
       "29. 'year_1971'\n",
       "30. 'year_1972'\n",
       "31. 'year_1973'\n",
       "32. 'year_1974'\n",
       "33. 'year_1975'\n",
       "34. 'year_1976'\n",
       "35. 'year_1977'\n",
       "36. 'year_1978'\n",
       "37. 'year_1979'\n",
       "38. 'year_1980'\n",
       "39. 'year_1981'\n",
       "40. 'year_1982'\n",
       "41. 'year_1983'\n",
       "42. 'year_1984'\n",
       "43. 'year_1985'\n",
       "44. 'year_1986'\n",
       "45. 'year_1987'\n",
       "46. 'year_1988'\n",
       "47. 'year_1989'\n",
       "48. 'year_1990'\n",
       "49. 'year_1991'\n",
       "50. 'year_1992'\n",
       "51. 'year_1993'\n",
       "52. 'year_1994'\n",
       "53. 'year_1995'\n",
       "54. 'year_1996'\n",
       "55. 'year_1997'\n",
       "56. 'year_1998'\n",
       "57. 'year_1999'\n",
       "58. 'year_2000'\n",
       "59. 'year_2001'\n",
       "60. 'year_2002'\n",
       "61. 'year_2003'\n",
       "62. 'year_2004'\n",
       "63. 'year_2005'\n",
       "64. 'year_2006'\n",
       "65. 'year_2007'\n",
       "66. 'year_2008'\n",
       "67. 'year_2009'\n",
       "68. 'year_2010'\n",
       "69. 'year_2011'\n",
       "70. 'year_2012'\n",
       "71. 'year_2013'\n",
       "72. 'year_2014'\n",
       "73. 'year_2015'\n",
       "74. 'year_2016'\n",
       "75. 'year_2017'\n",
       "76. 'year_2018'\n",
       "77. 'year_2019'\n",
       "78. 'year_2020'\n",
       "79. 'year_2021'\n",
       "80. 'year_2022'\n",
       "81. 'quarter_0'\n",
       "82. 'quarter_1'\n",
       "83. 'quarter_2'\n",
       "84. 'quarter_3'\n",
       "\n",
       "\n"
      ],
      "text/plain": [
       " [1] \"year\"           \"quarter\"        \"time\"           \"tpi (millions)\"\n",
       " [5] \"tpi\"            \"year_1948\"      \"year_1949\"      \"year_1950\"     \n",
       " [9] \"year_1951\"      \"year_1952\"      \"year_1953\"      \"year_1954\"     \n",
       "[13] \"year_1955\"      \"year_1956\"      \"year_1957\"      \"year_1958\"     \n",
       "[17] \"year_1959\"      \"year_1960\"      \"year_1961\"      \"year_1962\"     \n",
       "[21] \"year_1963\"      \"year_1964\"      \"year_1965\"      \"year_1966\"     \n",
       "[25] \"year_1967\"      \"year_1968\"      \"year_1969\"      \"year_1970\"     \n",
       "[29] \"year_1971\"      \"year_1972\"      \"year_1973\"      \"year_1974\"     \n",
       "[33] \"year_1975\"      \"year_1976\"      \"year_1977\"      \"year_1978\"     \n",
       "[37] \"year_1979\"      \"year_1980\"      \"year_1981\"      \"year_1982\"     \n",
       "[41] \"year_1983\"      \"year_1984\"      \"year_1985\"      \"year_1986\"     \n",
       "[45] \"year_1987\"      \"year_1988\"      \"year_1989\"      \"year_1990\"     \n",
       "[49] \"year_1991\"      \"year_1992\"      \"year_1993\"      \"year_1994\"     \n",
       "[53] \"year_1995\"      \"year_1996\"      \"year_1997\"      \"year_1998\"     \n",
       "[57] \"year_1999\"      \"year_2000\"      \"year_2001\"      \"year_2002\"     \n",
       "[61] \"year_2003\"      \"year_2004\"      \"year_2005\"      \"year_2006\"     \n",
       "[65] \"year_2007\"      \"year_2008\"      \"year_2009\"      \"year_2010\"     \n",
       "[69] \"year_2011\"      \"year_2012\"      \"year_2013\"      \"year_2014\"     \n",
       "[73] \"year_2015\"      \"year_2016\"      \"year_2017\"      \"year_2018\"     \n",
       "[77] \"year_2019\"      \"year_2020\"      \"year_2021\"      \"year_2022\"     \n",
       "[81] \"quarter_0\"      \"quarter_1\"      \"quarter_2\"      \"quarter_3\"     "
      ]
     },
     "metadata": {},
     "output_type": "display_data"
    }
   ],
   "source": [
    "names(tpi)"
   ]
  },
  {
   "cell_type": "code",
   "execution_count": 6,
   "metadata": {
    "vscode": {
     "languageId": "r"
    }
   },
   "outputs": [
    {
     "data": {
      "text/html": [
       "<table class=\"dataframe\">\n",
       "<caption>A data.frame: 79 x 1</caption>\n",
       "<thead>\n",
       "\t<tr><th></th><th scope=col>tpi.m.coefficients</th></tr>\n",
       "\t<tr><th></th><th scope=col>&lt;dbl&gt;</th></tr>\n",
       "</thead>\n",
       "<tbody>\n",
       "\t<tr><th scope=row>(Intercept)</th><td>-10268403679261</td></tr>\n",
       "\t<tr><th scope=row>time</th><td>     5273283108</td></tr>\n",
       "\t<tr><th scope=row>quarter1</th><td>      764246408</td></tr>\n",
       "\t<tr><th scope=row>quarter2</th><td>     1155112815</td></tr>\n",
       "\t<tr><th scope=row>quarter3</th><td>     2099637890</td></tr>\n",
       "\t<tr><th scope=row>year1949</th><td>    -5516833108</td></tr>\n",
       "\t<tr><th scope=row>year1950</th><td>   -10112941216</td></tr>\n",
       "\t<tr><th scope=row>year1951</th><td>   -14392824324</td></tr>\n",
       "\t<tr><th scope=row>year1952</th><td>   -19299807432</td></tr>\n",
       "\t<tr><th scope=row>year1953</th><td>   -23819265541</td></tr>\n",
       "\t<tr><th scope=row>year1954</th><td>   -29538598649</td></tr>\n",
       "\t<tr><th scope=row>year1955</th><td>   -34204931757</td></tr>\n",
       "\t<tr><th scope=row>year1956</th><td>   -38836839865</td></tr>\n",
       "\t<tr><th scope=row>year1957</th><td>   -43809672973</td></tr>\n",
       "\t<tr><th scope=row>year1958</th><td>   -49076431081</td></tr>\n",
       "\t<tr><th scope=row>year1959</th><td>   -53747264189</td></tr>\n",
       "\t<tr><th scope=row>year1960</th><td>   -58504822297</td></tr>\n",
       "\t<tr><th scope=row>year1961</th><td>   -63461330405</td></tr>\n",
       "\t<tr><th scope=row>year1962</th><td>   -67977463514</td></tr>\n",
       "\t<tr><th scope=row>year1963</th><td>   -72672196622</td></tr>\n",
       "\t<tr><th scope=row>year1964</th><td>   -77171354730</td></tr>\n",
       "\t<tr><th scope=row>year1965</th><td>   -81099412838</td></tr>\n",
       "\t<tr><th scope=row>year1966</th><td>   -85247220946</td></tr>\n",
       "\t<tr><th scope=row>year1967</th><td>   -89790904054</td></tr>\n",
       "\t<tr><th scope=row>year1968</th><td>   -93668937162</td></tr>\n",
       "\t<tr><th scope=row>year1969</th><td>   -97116345270</td></tr>\n",
       "\t<tr><th scope=row>year1970</th><td>  -101599228378</td></tr>\n",
       "\t<tr><th scope=row>year1971</th><td>  -105107486486</td></tr>\n",
       "\t<tr><th scope=row>year1972</th><td>  -108327994595</td></tr>\n",
       "\t<tr><th scope=row>year1973</th><td>  -110079402703</td></tr>\n",
       "\t<tr><th scope=row>...</th><td>...</td></tr>\n",
       "\t<tr><th scope=row>year1993</th><td>-126801089865</td></tr>\n",
       "\t<tr><th scope=row>year1994</th><td>-124802572973</td></tr>\n",
       "\t<tr><th scope=row>year1995</th><td>-124454481081</td></tr>\n",
       "\t<tr><th scope=row>year1996</th><td>-122369839189</td></tr>\n",
       "\t<tr><th scope=row>year1997</th><td>-120510297297</td></tr>\n",
       "\t<tr><th scope=row>year1998</th><td>-114571530405</td></tr>\n",
       "\t<tr><th scope=row>year1999</th><td>-113755613514</td></tr>\n",
       "\t<tr><th scope=row>year2000</th><td>-108324971622</td></tr>\n",
       "\t<tr><th scope=row>year2001</th><td>-109605379730</td></tr>\n",
       "\t<tr><th scope=row>year2002</th><td>-112351937838</td></tr>\n",
       "\t<tr><th scope=row>year2003</th><td>-112717595946</td></tr>\n",
       "\t<tr><th scope=row>year2004</th><td>-109000854054</td></tr>\n",
       "\t<tr><th scope=row>year2005</th><td>-108003862162</td></tr>\n",
       "\t<tr><th scope=row>year2006</th><td>-101709920270</td></tr>\n",
       "\t<tr><th scope=row>year2007</th><td> -99485228378</td></tr>\n",
       "\t<tr><th scope=row>year2008</th><td> -94526186486</td></tr>\n",
       "\t<tr><th scope=row>year2009</th><td>-105942794595</td></tr>\n",
       "\t<tr><th scope=row>year2010</th><td>-100852077703</td></tr>\n",
       "\t<tr><th scope=row>year2011</th><td> -91338560811</td></tr>\n",
       "\t<tr><th scope=row>year2012</th><td> -84969393919</td></tr>\n",
       "\t<tr><th scope=row>year2013</th><td> -86676827027</td></tr>\n",
       "\t<tr><th scope=row>year2014</th><td> -81407460135</td></tr>\n",
       "\t<tr><th scope=row>year2015</th><td> -76104343243</td></tr>\n",
       "\t<tr><th scope=row>year2016</th><td> -73594601351</td></tr>\n",
       "\t<tr><th scope=row>year2017</th><td> -68507634459</td></tr>\n",
       "\t<tr><th scope=row>year2018</th><td> -59005117568</td></tr>\n",
       "\t<tr><th scope=row>year2019</th><td> -50393775676</td></tr>\n",
       "\t<tr><th scope=row>year2020</th><td> -30954383784</td></tr>\n",
       "\t<tr><th scope=row>year2021</th><td>  -6045366892</td></tr>\n",
       "\t<tr><th scope=row>year2022</th><td>           NA</td></tr>\n",
       "</tbody>\n",
       "</table>\n"
      ],
      "text/latex": [
       "A data.frame: 79 x 1\n",
       "\\begin{tabular}{r|l}\n",
       "  & tpi.m.coefficients\\\\\n",
       "  & <dbl>\\\\\n",
       "\\hline\n",
       "\t(Intercept) & -10268403679261\\\\\n",
       "\ttime &      5273283108\\\\\n",
       "\tquarter1 &       764246408\\\\\n",
       "\tquarter2 &      1155112815\\\\\n",
       "\tquarter3 &      2099637890\\\\\n",
       "\tyear1949 &     -5516833108\\\\\n",
       "\tyear1950 &    -10112941216\\\\\n",
       "\tyear1951 &    -14392824324\\\\\n",
       "\tyear1952 &    -19299807432\\\\\n",
       "\tyear1953 &    -23819265541\\\\\n",
       "\tyear1954 &    -29538598649\\\\\n",
       "\tyear1955 &    -34204931757\\\\\n",
       "\tyear1956 &    -38836839865\\\\\n",
       "\tyear1957 &    -43809672973\\\\\n",
       "\tyear1958 &    -49076431081\\\\\n",
       "\tyear1959 &    -53747264189\\\\\n",
       "\tyear1960 &    -58504822297\\\\\n",
       "\tyear1961 &    -63461330405\\\\\n",
       "\tyear1962 &    -67977463514\\\\\n",
       "\tyear1963 &    -72672196622\\\\\n",
       "\tyear1964 &    -77171354730\\\\\n",
       "\tyear1965 &    -81099412838\\\\\n",
       "\tyear1966 &    -85247220946\\\\\n",
       "\tyear1967 &    -89790904054\\\\\n",
       "\tyear1968 &    -93668937162\\\\\n",
       "\tyear1969 &    -97116345270\\\\\n",
       "\tyear1970 &   -101599228378\\\\\n",
       "\tyear1971 &   -105107486486\\\\\n",
       "\tyear1972 &   -108327994595\\\\\n",
       "\tyear1973 &   -110079402703\\\\\n",
       "\t... & ...\\\\\n",
       "\tyear1993 & -126801089865\\\\\n",
       "\tyear1994 & -124802572973\\\\\n",
       "\tyear1995 & -124454481081\\\\\n",
       "\tyear1996 & -122369839189\\\\\n",
       "\tyear1997 & -120510297297\\\\\n",
       "\tyear1998 & -114571530405\\\\\n",
       "\tyear1999 & -113755613514\\\\\n",
       "\tyear2000 & -108324971622\\\\\n",
       "\tyear2001 & -109605379730\\\\\n",
       "\tyear2002 & -112351937838\\\\\n",
       "\tyear2003 & -112717595946\\\\\n",
       "\tyear2004 & -109000854054\\\\\n",
       "\tyear2005 & -108003862162\\\\\n",
       "\tyear2006 & -101709920270\\\\\n",
       "\tyear2007 &  -99485228378\\\\\n",
       "\tyear2008 &  -94526186486\\\\\n",
       "\tyear2009 & -105942794595\\\\\n",
       "\tyear2010 & -100852077703\\\\\n",
       "\tyear2011 &  -91338560811\\\\\n",
       "\tyear2012 &  -84969393919\\\\\n",
       "\tyear2013 &  -86676827027\\\\\n",
       "\tyear2014 &  -81407460135\\\\\n",
       "\tyear2015 &  -76104343243\\\\\n",
       "\tyear2016 &  -73594601351\\\\\n",
       "\tyear2017 &  -68507634459\\\\\n",
       "\tyear2018 &  -59005117568\\\\\n",
       "\tyear2019 &  -50393775676\\\\\n",
       "\tyear2020 &  -30954383784\\\\\n",
       "\tyear2021 &   -6045366892\\\\\n",
       "\tyear2022 &            NA\\\\\n",
       "\\end{tabular}\n"
      ],
      "text/markdown": [
       "\n",
       "A data.frame: 79 x 1\n",
       "\n",
       "| <!--/--> | tpi.m.coefficients &lt;dbl&gt; |\n",
       "|---|---|\n",
       "| (Intercept) | -10268403679261 |\n",
       "| time |      5273283108 |\n",
       "| quarter1 |       764246408 |\n",
       "| quarter2 |      1155112815 |\n",
       "| quarter3 |      2099637890 |\n",
       "| year1949 |     -5516833108 |\n",
       "| year1950 |    -10112941216 |\n",
       "| year1951 |    -14392824324 |\n",
       "| year1952 |    -19299807432 |\n",
       "| year1953 |    -23819265541 |\n",
       "| year1954 |    -29538598649 |\n",
       "| year1955 |    -34204931757 |\n",
       "| year1956 |    -38836839865 |\n",
       "| year1957 |    -43809672973 |\n",
       "| year1958 |    -49076431081 |\n",
       "| year1959 |    -53747264189 |\n",
       "| year1960 |    -58504822297 |\n",
       "| year1961 |    -63461330405 |\n",
       "| year1962 |    -67977463514 |\n",
       "| year1963 |    -72672196622 |\n",
       "| year1964 |    -77171354730 |\n",
       "| year1965 |    -81099412838 |\n",
       "| year1966 |    -85247220946 |\n",
       "| year1967 |    -89790904054 |\n",
       "| year1968 |    -93668937162 |\n",
       "| year1969 |    -97116345270 |\n",
       "| year1970 |   -101599228378 |\n",
       "| year1971 |   -105107486486 |\n",
       "| year1972 |   -108327994595 |\n",
       "| year1973 |   -110079402703 |\n",
       "| ... | ... |\n",
       "| year1993 | -126801089865 |\n",
       "| year1994 | -124802572973 |\n",
       "| year1995 | -124454481081 |\n",
       "| year1996 | -122369839189 |\n",
       "| year1997 | -120510297297 |\n",
       "| year1998 | -114571530405 |\n",
       "| year1999 | -113755613514 |\n",
       "| year2000 | -108324971622 |\n",
       "| year2001 | -109605379730 |\n",
       "| year2002 | -112351937838 |\n",
       "| year2003 | -112717595946 |\n",
       "| year2004 | -109000854054 |\n",
       "| year2005 | -108003862162 |\n",
       "| year2006 | -101709920270 |\n",
       "| year2007 |  -99485228378 |\n",
       "| year2008 |  -94526186486 |\n",
       "| year2009 | -105942794595 |\n",
       "| year2010 | -100852077703 |\n",
       "| year2011 |  -91338560811 |\n",
       "| year2012 |  -84969393919 |\n",
       "| year2013 |  -86676827027 |\n",
       "| year2014 |  -81407460135 |\n",
       "| year2015 |  -76104343243 |\n",
       "| year2016 |  -73594601351 |\n",
       "| year2017 |  -68507634459 |\n",
       "| year2018 |  -59005117568 |\n",
       "| year2019 |  -50393775676 |\n",
       "| year2020 |  -30954383784 |\n",
       "| year2021 |   -6045366892 |\n",
       "| year2022 |            NA |\n",
       "\n"
      ],
      "text/plain": [
       "            tpi.m.coefficients\n",
       "(Intercept) -10268403679261   \n",
       "time             5273283108   \n",
       "quarter1          764246408   \n",
       "quarter2         1155112815   \n",
       "quarter3         2099637890   \n",
       "year1949        -5516833108   \n",
       "year1950       -10112941216   \n",
       "year1951       -14392824324   \n",
       "year1952       -19299807432   \n",
       "year1953       -23819265541   \n",
       "year1954       -29538598649   \n",
       "year1955       -34204931757   \n",
       "year1956       -38836839865   \n",
       "year1957       -43809672973   \n",
       "year1958       -49076431081   \n",
       "year1959       -53747264189   \n",
       "year1960       -58504822297   \n",
       "year1961       -63461330405   \n",
       "year1962       -67977463514   \n",
       "year1963       -72672196622   \n",
       "year1964       -77171354730   \n",
       "year1965       -81099412838   \n",
       "year1966       -85247220946   \n",
       "year1967       -89790904054   \n",
       "year1968       -93668937162   \n",
       "year1969       -97116345270   \n",
       "year1970      -101599228378   \n",
       "year1971      -105107486486   \n",
       "year1972      -108327994595   \n",
       "year1973      -110079402703   \n",
       "...         ...               \n",
       "year1993    -126801089865     \n",
       "year1994    -124802572973     \n",
       "year1995    -124454481081     \n",
       "year1996    -122369839189     \n",
       "year1997    -120510297297     \n",
       "year1998    -114571530405     \n",
       "year1999    -113755613514     \n",
       "year2000    -108324971622     \n",
       "year2001    -109605379730     \n",
       "year2002    -112351937838     \n",
       "year2003    -112717595946     \n",
       "year2004    -109000854054     \n",
       "year2005    -108003862162     \n",
       "year2006    -101709920270     \n",
       "year2007     -99485228378     \n",
       "year2008     -94526186486     \n",
       "year2009    -105942794595     \n",
       "year2010    -100852077703     \n",
       "year2011     -91338560811     \n",
       "year2012     -84969393919     \n",
       "year2013     -86676827027     \n",
       "year2014     -81407460135     \n",
       "year2015     -76104343243     \n",
       "year2016     -73594601351     \n",
       "year2017     -68507634459     \n",
       "year2018     -59005117568     \n",
       "year2019     -50393775676     \n",
       "year2020     -30954383784     \n",
       "year2021      -6045366892     \n",
       "year2022               NA     "
      ]
     },
     "metadata": {},
     "output_type": "display_data"
    }
   ],
   "source": [
    "tpi.m = lm(tpi ~ time + quarter + year, tpi)\n",
    "data.frame(tpi.m$coefficients)"
   ]
  },
  {
   "cell_type": "code",
   "execution_count": 7,
   "metadata": {
    "vscode": {
     "languageId": "r"
    }
   },
   "outputs": [
    {
     "data": {
      "text/html": [
       "<table class=\"dataframe\">\n",
       "<caption>A data.frame: 80 x 7</caption>\n",
       "<thead>\n",
       "\t<tr><th scope=col>year</th><th scope=col>qtr</th><th scope=col>time</th><th scope=col>qtr_0</th><th scope=col>qtr_1</th><th scope=col>qtr_2</th><th scope=col>qtr_3</th></tr>\n",
       "\t<tr><th scope=col>&lt;int&gt;</th><th scope=col>&lt;int&gt;</th><th scope=col>&lt;dbl&gt;</th><th scope=col>&lt;int&gt;</th><th scope=col>&lt;int&gt;</th><th scope=col>&lt;int&gt;</th><th scope=col>&lt;int&gt;</th></tr>\n",
       "</thead>\n",
       "<tbody>\n",
       "\t<tr><td>2023</td><td>0</td><td>2023.00</td><td>1</td><td>0</td><td>0</td><td>0</td></tr>\n",
       "\t<tr><td>2023</td><td>1</td><td>2023.25</td><td>0</td><td>1</td><td>0</td><td>0</td></tr>\n",
       "\t<tr><td>2023</td><td>2</td><td>2023.50</td><td>0</td><td>0</td><td>1</td><td>0</td></tr>\n",
       "\t<tr><td>2023</td><td>3</td><td>2023.75</td><td>0</td><td>0</td><td>0</td><td>1</td></tr>\n",
       "\t<tr><td>2024</td><td>0</td><td>2024.00</td><td>1</td><td>0</td><td>0</td><td>0</td></tr>\n",
       "\t<tr><td>2024</td><td>1</td><td>2024.25</td><td>0</td><td>1</td><td>0</td><td>0</td></tr>\n",
       "\t<tr><td>2024</td><td>2</td><td>2024.50</td><td>0</td><td>0</td><td>1</td><td>0</td></tr>\n",
       "\t<tr><td>2024</td><td>3</td><td>2024.75</td><td>0</td><td>0</td><td>0</td><td>1</td></tr>\n",
       "\t<tr><td>2025</td><td>0</td><td>2025.00</td><td>1</td><td>0</td><td>0</td><td>0</td></tr>\n",
       "\t<tr><td>2025</td><td>1</td><td>2025.25</td><td>0</td><td>1</td><td>0</td><td>0</td></tr>\n",
       "\t<tr><td>2025</td><td>2</td><td>2025.50</td><td>0</td><td>0</td><td>1</td><td>0</td></tr>\n",
       "\t<tr><td>2025</td><td>3</td><td>2025.75</td><td>0</td><td>0</td><td>0</td><td>1</td></tr>\n",
       "\t<tr><td>2026</td><td>0</td><td>2026.00</td><td>1</td><td>0</td><td>0</td><td>0</td></tr>\n",
       "\t<tr><td>2026</td><td>1</td><td>2026.25</td><td>0</td><td>1</td><td>0</td><td>0</td></tr>\n",
       "\t<tr><td>2026</td><td>2</td><td>2026.50</td><td>0</td><td>0</td><td>1</td><td>0</td></tr>\n",
       "\t<tr><td>2026</td><td>3</td><td>2026.75</td><td>0</td><td>0</td><td>0</td><td>1</td></tr>\n",
       "\t<tr><td>2027</td><td>0</td><td>2027.00</td><td>1</td><td>0</td><td>0</td><td>0</td></tr>\n",
       "\t<tr><td>2027</td><td>1</td><td>2027.25</td><td>0</td><td>1</td><td>0</td><td>0</td></tr>\n",
       "\t<tr><td>2027</td><td>2</td><td>2027.50</td><td>0</td><td>0</td><td>1</td><td>0</td></tr>\n",
       "\t<tr><td>2027</td><td>3</td><td>2027.75</td><td>0</td><td>0</td><td>0</td><td>1</td></tr>\n",
       "\t<tr><td>2028</td><td>0</td><td>2028.00</td><td>1</td><td>0</td><td>0</td><td>0</td></tr>\n",
       "\t<tr><td>2028</td><td>1</td><td>2028.25</td><td>0</td><td>1</td><td>0</td><td>0</td></tr>\n",
       "\t<tr><td>2028</td><td>2</td><td>2028.50</td><td>0</td><td>0</td><td>1</td><td>0</td></tr>\n",
       "\t<tr><td>2028</td><td>3</td><td>2028.75</td><td>0</td><td>0</td><td>0</td><td>1</td></tr>\n",
       "\t<tr><td>2029</td><td>0</td><td>2029.00</td><td>1</td><td>0</td><td>0</td><td>0</td></tr>\n",
       "\t<tr><td>2029</td><td>1</td><td>2029.25</td><td>0</td><td>1</td><td>0</td><td>0</td></tr>\n",
       "\t<tr><td>2029</td><td>2</td><td>2029.50</td><td>0</td><td>0</td><td>1</td><td>0</td></tr>\n",
       "\t<tr><td>2029</td><td>3</td><td>2029.75</td><td>0</td><td>0</td><td>0</td><td>1</td></tr>\n",
       "\t<tr><td>2030</td><td>0</td><td>2030.00</td><td>1</td><td>0</td><td>0</td><td>0</td></tr>\n",
       "\t<tr><td>2030</td><td>1</td><td>2030.25</td><td>0</td><td>1</td><td>0</td><td>0</td></tr>\n",
       "\t<tr><td>...</td><td>...</td><td>...</td><td>...</td><td>...</td><td>...</td><td>...</td></tr>\n",
       "\t<tr><td>2035</td><td>2</td><td>2035.50</td><td>0</td><td>0</td><td>1</td><td>0</td></tr>\n",
       "\t<tr><td>2035</td><td>3</td><td>2035.75</td><td>0</td><td>0</td><td>0</td><td>1</td></tr>\n",
       "\t<tr><td>2036</td><td>0</td><td>2036.00</td><td>1</td><td>0</td><td>0</td><td>0</td></tr>\n",
       "\t<tr><td>2036</td><td>1</td><td>2036.25</td><td>0</td><td>1</td><td>0</td><td>0</td></tr>\n",
       "\t<tr><td>2036</td><td>2</td><td>2036.50</td><td>0</td><td>0</td><td>1</td><td>0</td></tr>\n",
       "\t<tr><td>2036</td><td>3</td><td>2036.75</td><td>0</td><td>0</td><td>0</td><td>1</td></tr>\n",
       "\t<tr><td>2037</td><td>0</td><td>2037.00</td><td>1</td><td>0</td><td>0</td><td>0</td></tr>\n",
       "\t<tr><td>2037</td><td>1</td><td>2037.25</td><td>0</td><td>1</td><td>0</td><td>0</td></tr>\n",
       "\t<tr><td>2037</td><td>2</td><td>2037.50</td><td>0</td><td>0</td><td>1</td><td>0</td></tr>\n",
       "\t<tr><td>2037</td><td>3</td><td>2037.75</td><td>0</td><td>0</td><td>0</td><td>1</td></tr>\n",
       "\t<tr><td>2038</td><td>0</td><td>2038.00</td><td>1</td><td>0</td><td>0</td><td>0</td></tr>\n",
       "\t<tr><td>2038</td><td>1</td><td>2038.25</td><td>0</td><td>1</td><td>0</td><td>0</td></tr>\n",
       "\t<tr><td>2038</td><td>2</td><td>2038.50</td><td>0</td><td>0</td><td>1</td><td>0</td></tr>\n",
       "\t<tr><td>2038</td><td>3</td><td>2038.75</td><td>0</td><td>0</td><td>0</td><td>1</td></tr>\n",
       "\t<tr><td>2039</td><td>0</td><td>2039.00</td><td>1</td><td>0</td><td>0</td><td>0</td></tr>\n",
       "\t<tr><td>2039</td><td>1</td><td>2039.25</td><td>0</td><td>1</td><td>0</td><td>0</td></tr>\n",
       "\t<tr><td>2039</td><td>2</td><td>2039.50</td><td>0</td><td>0</td><td>1</td><td>0</td></tr>\n",
       "\t<tr><td>2039</td><td>3</td><td>2039.75</td><td>0</td><td>0</td><td>0</td><td>1</td></tr>\n",
       "\t<tr><td>2040</td><td>0</td><td>2040.00</td><td>1</td><td>0</td><td>0</td><td>0</td></tr>\n",
       "\t<tr><td>2040</td><td>1</td><td>2040.25</td><td>0</td><td>1</td><td>0</td><td>0</td></tr>\n",
       "\t<tr><td>2040</td><td>2</td><td>2040.50</td><td>0</td><td>0</td><td>1</td><td>0</td></tr>\n",
       "\t<tr><td>2040</td><td>3</td><td>2040.75</td><td>0</td><td>0</td><td>0</td><td>1</td></tr>\n",
       "\t<tr><td>2041</td><td>0</td><td>2041.00</td><td>1</td><td>0</td><td>0</td><td>0</td></tr>\n",
       "\t<tr><td>2041</td><td>1</td><td>2041.25</td><td>0</td><td>1</td><td>0</td><td>0</td></tr>\n",
       "\t<tr><td>2041</td><td>2</td><td>2041.50</td><td>0</td><td>0</td><td>1</td><td>0</td></tr>\n",
       "\t<tr><td>2041</td><td>3</td><td>2041.75</td><td>0</td><td>0</td><td>0</td><td>1</td></tr>\n",
       "\t<tr><td>2042</td><td>0</td><td>2042.00</td><td>1</td><td>0</td><td>0</td><td>0</td></tr>\n",
       "\t<tr><td>2042</td><td>1</td><td>2042.25</td><td>0</td><td>1</td><td>0</td><td>0</td></tr>\n",
       "\t<tr><td>2042</td><td>2</td><td>2042.50</td><td>0</td><td>0</td><td>1</td><td>0</td></tr>\n",
       "\t<tr><td>2042</td><td>3</td><td>2042.75</td><td>0</td><td>0</td><td>0</td><td>1</td></tr>\n",
       "</tbody>\n",
       "</table>\n"
      ],
      "text/latex": [
       "A data.frame: 80 x 7\n",
       "\\begin{tabular}{lllllll}\n",
       " year & qtr & time & qtr\\_0 & qtr\\_1 & qtr\\_2 & qtr\\_3\\\\\n",
       " <int> & <int> & <dbl> & <int> & <int> & <int> & <int>\\\\\n",
       "\\hline\n",
       "\t 2023 & 0 & 2023.00 & 1 & 0 & 0 & 0\\\\\n",
       "\t 2023 & 1 & 2023.25 & 0 & 1 & 0 & 0\\\\\n",
       "\t 2023 & 2 & 2023.50 & 0 & 0 & 1 & 0\\\\\n",
       "\t 2023 & 3 & 2023.75 & 0 & 0 & 0 & 1\\\\\n",
       "\t 2024 & 0 & 2024.00 & 1 & 0 & 0 & 0\\\\\n",
       "\t 2024 & 1 & 2024.25 & 0 & 1 & 0 & 0\\\\\n",
       "\t 2024 & 2 & 2024.50 & 0 & 0 & 1 & 0\\\\\n",
       "\t 2024 & 3 & 2024.75 & 0 & 0 & 0 & 1\\\\\n",
       "\t 2025 & 0 & 2025.00 & 1 & 0 & 0 & 0\\\\\n",
       "\t 2025 & 1 & 2025.25 & 0 & 1 & 0 & 0\\\\\n",
       "\t 2025 & 2 & 2025.50 & 0 & 0 & 1 & 0\\\\\n",
       "\t 2025 & 3 & 2025.75 & 0 & 0 & 0 & 1\\\\\n",
       "\t 2026 & 0 & 2026.00 & 1 & 0 & 0 & 0\\\\\n",
       "\t 2026 & 1 & 2026.25 & 0 & 1 & 0 & 0\\\\\n",
       "\t 2026 & 2 & 2026.50 & 0 & 0 & 1 & 0\\\\\n",
       "\t 2026 & 3 & 2026.75 & 0 & 0 & 0 & 1\\\\\n",
       "\t 2027 & 0 & 2027.00 & 1 & 0 & 0 & 0\\\\\n",
       "\t 2027 & 1 & 2027.25 & 0 & 1 & 0 & 0\\\\\n",
       "\t 2027 & 2 & 2027.50 & 0 & 0 & 1 & 0\\\\\n",
       "\t 2027 & 3 & 2027.75 & 0 & 0 & 0 & 1\\\\\n",
       "\t 2028 & 0 & 2028.00 & 1 & 0 & 0 & 0\\\\\n",
       "\t 2028 & 1 & 2028.25 & 0 & 1 & 0 & 0\\\\\n",
       "\t 2028 & 2 & 2028.50 & 0 & 0 & 1 & 0\\\\\n",
       "\t 2028 & 3 & 2028.75 & 0 & 0 & 0 & 1\\\\\n",
       "\t 2029 & 0 & 2029.00 & 1 & 0 & 0 & 0\\\\\n",
       "\t 2029 & 1 & 2029.25 & 0 & 1 & 0 & 0\\\\\n",
       "\t 2029 & 2 & 2029.50 & 0 & 0 & 1 & 0\\\\\n",
       "\t 2029 & 3 & 2029.75 & 0 & 0 & 0 & 1\\\\\n",
       "\t 2030 & 0 & 2030.00 & 1 & 0 & 0 & 0\\\\\n",
       "\t 2030 & 1 & 2030.25 & 0 & 1 & 0 & 0\\\\\n",
       "\t ... & ... & ... & ... & ... & ... & ...\\\\\n",
       "\t 2035 & 2 & 2035.50 & 0 & 0 & 1 & 0\\\\\n",
       "\t 2035 & 3 & 2035.75 & 0 & 0 & 0 & 1\\\\\n",
       "\t 2036 & 0 & 2036.00 & 1 & 0 & 0 & 0\\\\\n",
       "\t 2036 & 1 & 2036.25 & 0 & 1 & 0 & 0\\\\\n",
       "\t 2036 & 2 & 2036.50 & 0 & 0 & 1 & 0\\\\\n",
       "\t 2036 & 3 & 2036.75 & 0 & 0 & 0 & 1\\\\\n",
       "\t 2037 & 0 & 2037.00 & 1 & 0 & 0 & 0\\\\\n",
       "\t 2037 & 1 & 2037.25 & 0 & 1 & 0 & 0\\\\\n",
       "\t 2037 & 2 & 2037.50 & 0 & 0 & 1 & 0\\\\\n",
       "\t 2037 & 3 & 2037.75 & 0 & 0 & 0 & 1\\\\\n",
       "\t 2038 & 0 & 2038.00 & 1 & 0 & 0 & 0\\\\\n",
       "\t 2038 & 1 & 2038.25 & 0 & 1 & 0 & 0\\\\\n",
       "\t 2038 & 2 & 2038.50 & 0 & 0 & 1 & 0\\\\\n",
       "\t 2038 & 3 & 2038.75 & 0 & 0 & 0 & 1\\\\\n",
       "\t 2039 & 0 & 2039.00 & 1 & 0 & 0 & 0\\\\\n",
       "\t 2039 & 1 & 2039.25 & 0 & 1 & 0 & 0\\\\\n",
       "\t 2039 & 2 & 2039.50 & 0 & 0 & 1 & 0\\\\\n",
       "\t 2039 & 3 & 2039.75 & 0 & 0 & 0 & 1\\\\\n",
       "\t 2040 & 0 & 2040.00 & 1 & 0 & 0 & 0\\\\\n",
       "\t 2040 & 1 & 2040.25 & 0 & 1 & 0 & 0\\\\\n",
       "\t 2040 & 2 & 2040.50 & 0 & 0 & 1 & 0\\\\\n",
       "\t 2040 & 3 & 2040.75 & 0 & 0 & 0 & 1\\\\\n",
       "\t 2041 & 0 & 2041.00 & 1 & 0 & 0 & 0\\\\\n",
       "\t 2041 & 1 & 2041.25 & 0 & 1 & 0 & 0\\\\\n",
       "\t 2041 & 2 & 2041.50 & 0 & 0 & 1 & 0\\\\\n",
       "\t 2041 & 3 & 2041.75 & 0 & 0 & 0 & 1\\\\\n",
       "\t 2042 & 0 & 2042.00 & 1 & 0 & 0 & 0\\\\\n",
       "\t 2042 & 1 & 2042.25 & 0 & 1 & 0 & 0\\\\\n",
       "\t 2042 & 2 & 2042.50 & 0 & 0 & 1 & 0\\\\\n",
       "\t 2042 & 3 & 2042.75 & 0 & 0 & 0 & 1\\\\\n",
       "\\end{tabular}\n"
      ],
      "text/markdown": [
       "\n",
       "A data.frame: 80 x 7\n",
       "\n",
       "| year &lt;int&gt; | qtr &lt;int&gt; | time &lt;dbl&gt; | qtr_0 &lt;int&gt; | qtr_1 &lt;int&gt; | qtr_2 &lt;int&gt; | qtr_3 &lt;int&gt; |\n",
       "|---|---|---|---|---|---|---|\n",
       "| 2023 | 0 | 2023.00 | 1 | 0 | 0 | 0 |\n",
       "| 2023 | 1 | 2023.25 | 0 | 1 | 0 | 0 |\n",
       "| 2023 | 2 | 2023.50 | 0 | 0 | 1 | 0 |\n",
       "| 2023 | 3 | 2023.75 | 0 | 0 | 0 | 1 |\n",
       "| 2024 | 0 | 2024.00 | 1 | 0 | 0 | 0 |\n",
       "| 2024 | 1 | 2024.25 | 0 | 1 | 0 | 0 |\n",
       "| 2024 | 2 | 2024.50 | 0 | 0 | 1 | 0 |\n",
       "| 2024 | 3 | 2024.75 | 0 | 0 | 0 | 1 |\n",
       "| 2025 | 0 | 2025.00 | 1 | 0 | 0 | 0 |\n",
       "| 2025 | 1 | 2025.25 | 0 | 1 | 0 | 0 |\n",
       "| 2025 | 2 | 2025.50 | 0 | 0 | 1 | 0 |\n",
       "| 2025 | 3 | 2025.75 | 0 | 0 | 0 | 1 |\n",
       "| 2026 | 0 | 2026.00 | 1 | 0 | 0 | 0 |\n",
       "| 2026 | 1 | 2026.25 | 0 | 1 | 0 | 0 |\n",
       "| 2026 | 2 | 2026.50 | 0 | 0 | 1 | 0 |\n",
       "| 2026 | 3 | 2026.75 | 0 | 0 | 0 | 1 |\n",
       "| 2027 | 0 | 2027.00 | 1 | 0 | 0 | 0 |\n",
       "| 2027 | 1 | 2027.25 | 0 | 1 | 0 | 0 |\n",
       "| 2027 | 2 | 2027.50 | 0 | 0 | 1 | 0 |\n",
       "| 2027 | 3 | 2027.75 | 0 | 0 | 0 | 1 |\n",
       "| 2028 | 0 | 2028.00 | 1 | 0 | 0 | 0 |\n",
       "| 2028 | 1 | 2028.25 | 0 | 1 | 0 | 0 |\n",
       "| 2028 | 2 | 2028.50 | 0 | 0 | 1 | 0 |\n",
       "| 2028 | 3 | 2028.75 | 0 | 0 | 0 | 1 |\n",
       "| 2029 | 0 | 2029.00 | 1 | 0 | 0 | 0 |\n",
       "| 2029 | 1 | 2029.25 | 0 | 1 | 0 | 0 |\n",
       "| 2029 | 2 | 2029.50 | 0 | 0 | 1 | 0 |\n",
       "| 2029 | 3 | 2029.75 | 0 | 0 | 0 | 1 |\n",
       "| 2030 | 0 | 2030.00 | 1 | 0 | 0 | 0 |\n",
       "| 2030 | 1 | 2030.25 | 0 | 1 | 0 | 0 |\n",
       "| ... | ... | ... | ... | ... | ... | ... |\n",
       "| 2035 | 2 | 2035.50 | 0 | 0 | 1 | 0 |\n",
       "| 2035 | 3 | 2035.75 | 0 | 0 | 0 | 1 |\n",
       "| 2036 | 0 | 2036.00 | 1 | 0 | 0 | 0 |\n",
       "| 2036 | 1 | 2036.25 | 0 | 1 | 0 | 0 |\n",
       "| 2036 | 2 | 2036.50 | 0 | 0 | 1 | 0 |\n",
       "| 2036 | 3 | 2036.75 | 0 | 0 | 0 | 1 |\n",
       "| 2037 | 0 | 2037.00 | 1 | 0 | 0 | 0 |\n",
       "| 2037 | 1 | 2037.25 | 0 | 1 | 0 | 0 |\n",
       "| 2037 | 2 | 2037.50 | 0 | 0 | 1 | 0 |\n",
       "| 2037 | 3 | 2037.75 | 0 | 0 | 0 | 1 |\n",
       "| 2038 | 0 | 2038.00 | 1 | 0 | 0 | 0 |\n",
       "| 2038 | 1 | 2038.25 | 0 | 1 | 0 | 0 |\n",
       "| 2038 | 2 | 2038.50 | 0 | 0 | 1 | 0 |\n",
       "| 2038 | 3 | 2038.75 | 0 | 0 | 0 | 1 |\n",
       "| 2039 | 0 | 2039.00 | 1 | 0 | 0 | 0 |\n",
       "| 2039 | 1 | 2039.25 | 0 | 1 | 0 | 0 |\n",
       "| 2039 | 2 | 2039.50 | 0 | 0 | 1 | 0 |\n",
       "| 2039 | 3 | 2039.75 | 0 | 0 | 0 | 1 |\n",
       "| 2040 | 0 | 2040.00 | 1 | 0 | 0 | 0 |\n",
       "| 2040 | 1 | 2040.25 | 0 | 1 | 0 | 0 |\n",
       "| 2040 | 2 | 2040.50 | 0 | 0 | 1 | 0 |\n",
       "| 2040 | 3 | 2040.75 | 0 | 0 | 0 | 1 |\n",
       "| 2041 | 0 | 2041.00 | 1 | 0 | 0 | 0 |\n",
       "| 2041 | 1 | 2041.25 | 0 | 1 | 0 | 0 |\n",
       "| 2041 | 2 | 2041.50 | 0 | 0 | 1 | 0 |\n",
       "| 2041 | 3 | 2041.75 | 0 | 0 | 0 | 1 |\n",
       "| 2042 | 0 | 2042.00 | 1 | 0 | 0 | 0 |\n",
       "| 2042 | 1 | 2042.25 | 0 | 1 | 0 | 0 |\n",
       "| 2042 | 2 | 2042.50 | 0 | 0 | 1 | 0 |\n",
       "| 2042 | 3 | 2042.75 | 0 | 0 | 0 | 1 |\n",
       "\n"
      ],
      "text/plain": [
       "    year qtr time    qtr_0 qtr_1 qtr_2 qtr_3\n",
       "1   2023 0   2023.00 1     0     0     0    \n",
       "2   2023 1   2023.25 0     1     0     0    \n",
       "3   2023 2   2023.50 0     0     1     0    \n",
       "4   2023 3   2023.75 0     0     0     1    \n",
       "5   2024 0   2024.00 1     0     0     0    \n",
       "6   2024 1   2024.25 0     1     0     0    \n",
       "7   2024 2   2024.50 0     0     1     0    \n",
       "8   2024 3   2024.75 0     0     0     1    \n",
       "9   2025 0   2025.00 1     0     0     0    \n",
       "10  2025 1   2025.25 0     1     0     0    \n",
       "11  2025 2   2025.50 0     0     1     0    \n",
       "12  2025 3   2025.75 0     0     0     1    \n",
       "13  2026 0   2026.00 1     0     0     0    \n",
       "14  2026 1   2026.25 0     1     0     0    \n",
       "15  2026 2   2026.50 0     0     1     0    \n",
       "16  2026 3   2026.75 0     0     0     1    \n",
       "17  2027 0   2027.00 1     0     0     0    \n",
       "18  2027 1   2027.25 0     1     0     0    \n",
       "19  2027 2   2027.50 0     0     1     0    \n",
       "20  2027 3   2027.75 0     0     0     1    \n",
       "21  2028 0   2028.00 1     0     0     0    \n",
       "22  2028 1   2028.25 0     1     0     0    \n",
       "23  2028 2   2028.50 0     0     1     0    \n",
       "24  2028 3   2028.75 0     0     0     1    \n",
       "25  2029 0   2029.00 1     0     0     0    \n",
       "26  2029 1   2029.25 0     1     0     0    \n",
       "27  2029 2   2029.50 0     0     1     0    \n",
       "28  2029 3   2029.75 0     0     0     1    \n",
       "29  2030 0   2030.00 1     0     0     0    \n",
       "30  2030 1   2030.25 0     1     0     0    \n",
       "... ...  ... ...     ...   ...   ...   ...  \n",
       "51  2035 2   2035.50 0     0     1     0    \n",
       "52  2035 3   2035.75 0     0     0     1    \n",
       "53  2036 0   2036.00 1     0     0     0    \n",
       "54  2036 1   2036.25 0     1     0     0    \n",
       "55  2036 2   2036.50 0     0     1     0    \n",
       "56  2036 3   2036.75 0     0     0     1    \n",
       "57  2037 0   2037.00 1     0     0     0    \n",
       "58  2037 1   2037.25 0     1     0     0    \n",
       "59  2037 2   2037.50 0     0     1     0    \n",
       "60  2037 3   2037.75 0     0     0     1    \n",
       "61  2038 0   2038.00 1     0     0     0    \n",
       "62  2038 1   2038.25 0     1     0     0    \n",
       "63  2038 2   2038.50 0     0     1     0    \n",
       "64  2038 3   2038.75 0     0     0     1    \n",
       "65  2039 0   2039.00 1     0     0     0    \n",
       "66  2039 1   2039.25 0     1     0     0    \n",
       "67  2039 2   2039.50 0     0     1     0    \n",
       "68  2039 3   2039.75 0     0     0     1    \n",
       "69  2040 0   2040.00 1     0     0     0    \n",
       "70  2040 1   2040.25 0     1     0     0    \n",
       "71  2040 2   2040.50 0     0     1     0    \n",
       "72  2040 3   2040.75 0     0     0     1    \n",
       "73  2041 0   2041.00 1     0     0     0    \n",
       "74  2041 1   2041.25 0     1     0     0    \n",
       "75  2041 2   2041.50 0     0     1     0    \n",
       "76  2041 3   2041.75 0     0     0     1    \n",
       "77  2042 0   2042.00 1     0     0     0    \n",
       "78  2042 1   2042.25 0     1     0     0    \n",
       "79  2042 2   2042.50 0     0     1     0    \n",
       "80  2042 3   2042.75 0     0     0     1    "
      ]
     },
     "metadata": {},
     "output_type": "display_data"
    }
   ],
   "source": [
    "# create dataframe\n",
    "tpi.fc = data.frame(year = c(rep(2023:2042,4)))\n",
    "tpi.fc = data.frame(year = c(tpi.fc[order(tpi.fc$year),]))\n",
    "tpi.fc$qtr = c(0:3)\n",
    "tpi.fc$time = tpi.fc$year+(tpi.fc$qtr/4)\n",
    "tpi.fc = dummy_cols(tpi.fc, 'qtr')\n",
    "tpi.fc"
   ]
  },
  {
   "cell_type": "code",
   "execution_count": 8,
   "metadata": {
    "vscode": {
     "languageId": "r"
    }
   },
   "outputs": [],
   "source": [
    "tpi.fc$tpi = tpi.m$coefficients[[1]] + tpi.m$coefficients[[2]]*tpi.fc$time + tpi.m$coefficients[[3]]*tpi.fc$qtr_1 + tpi.m$coefficients[[4]]*tpi.fc$qtr_2 + \n",
    "    tpi.m$coefficients[[5]]*tpi.fc$qtr_3 + tpi.m$coefficients[[78]]\n",
    "tpi.fc.ann = aggregate(tpi ~ year, tpi.fc, mean)"
   ]
  },
  {
   "attachments": {},
   "cell_type": "markdown",
   "metadata": {},
   "source": [
    "# Income and VMT Correlation"
   ]
  },
  {
   "cell_type": "code",
   "execution_count": 9,
   "metadata": {
    "vscode": {
     "languageId": "r"
    }
   },
   "outputs": [],
   "source": [
    "nhts = read.csv('data/vehpub.csv')\n",
    "nhts2 = nhts[c('HHSTATE','HHFAMINC','BESTMILE')]\n",
    "nhts.in = nhts2[nhts2$HHSTATE=='IN',]\n",
    "nhts.in = nhts.in[nhts.in$BESTMILE != -9,]\n",
    "nhts.in = nhts.in[nhts.in$BESTMILE != max(nhts.in$BESTMILE),]\n",
    "nhts.in = nhts.in[nhts.in$BESTMILE != max(nhts.in$BESTMILE),]"
   ]
  },
  {
   "cell_type": "code",
   "execution_count": null,
   "metadata": {
    "vscode": {
     "languageId": "r"
    }
   },
   "outputs": [],
   "source": []
  },
  {
   "cell_type": "code",
   "execution_count": 10,
   "metadata": {
    "vscode": {
     "languageId": "r"
    }
   },
   "outputs": [],
   "source": [
    "incmile.mean = aggregate(BESTMILE ~ HHFAMINC,data=nhts.in,mean)\n",
    "incmile.sum = aggregate(BESTMILE ~ HHFAMINC,data=nhts.in,sum)\n",
    "incmile.mean$Bracket = c('a','b','c','Less than $10,000','$10,000-$14,999','$15,000-$24,999',\n",
    "    '$25,000-$34,999','$35,000-$49,999','$50,000-$74,999','$75,000-$99,999','$100,000-$124,999','$125,000-$149,999',\n",
    "    '$150,000-$199,999','$200,000 or more')\n",
    "incmile.sum$Bracket = c('a','b','c','Less than $10,000','$10,000-$14,999','$15,000-$24,999',\n",
    "    '$25,000-$34,999','$35,000-$49,999','$50,000-$74,999','$75,000-$99,999','$100,000-$124,999','$125,000-$149,999',\n",
    "    '$150,000-$199,999','$200,000 or more')\n",
    "incmile.mean = incmile.mean[c('HHFAMINC','Bracket','BESTMILE')][4:14,]\n",
    "incmile.sum = incmile.sum[c('HHFAMINC','Bracket','BESTMILE')][4:14,]\n"
   ]
  },
  {
   "cell_type": "code",
   "execution_count": 11,
   "metadata": {
    "vscode": {
     "languageId": "r"
    }
   },
   "outputs": [
    {
     "data": {
      "image/png": "[encoded data removed]",
      "text/plain": [
       "plot without title"
      ]
     },
     "metadata": {
      "image/png": {
       "height": 600,
       "width": 600
      }
     },
     "output_type": "display_data"
    }
   ],
   "source": [
    "incmile.gg = incmile.mean[c('HHFAMINC','Bracket','BESTMILE')][4:14,]\n",
    "ggplot(incmile.mean, aes(HHFAMINC,BESTMILE)) + geom_point()"
   ]
  },
  {
   "cell_type": "code",
   "execution_count": 12,
   "metadata": {
    "vscode": {
     "languageId": "r"
    }
   },
   "outputs": [
    {
     "name": "stderr",
     "output_type": "stream",
     "text": [
      "\u001b[1m\u001b[22m`stat_bin()` using `bins = 30`. Pick better value with `binwidth`.\n"
     ]
    },
    {
     "data": {
      "image/png": "[encoded data removed]",
      "text/plain": [
       "plot without title"
      ]
     },
     "metadata": {
      "image/png": {
       "height": 600,
       "width": 600
      }
     },
     "output_type": "display_data"
    }
   ],
   "source": [
    "nhts.in$mile.std = nhts.in$BESTMILE-mean(nhts.in$BESTMILE)\n",
    "\n",
    "ggplot(nhts.in, aes(mile.std))+ geom_histogram()"
   ]
  },
  {
   "cell_type": "code",
   "execution_count": 13,
   "metadata": {
    "vscode": {
     "languageId": "r"
    }
   },
   "outputs": [
    {
     "data": {
      "text/plain": [
       "\n",
       "Call:\n",
       "lm(formula = BESTMILE ~ HHFAMINC, data = nhts.in)\n",
       "\n",
       "Residuals:\n",
       "   Min     1Q Median     3Q    Max \n",
       "-12647  -5566  -1553   3981  42342 \n",
       "\n",
       "Coefficients:\n",
       "            Estimate Std. Error t value Pr(>|t|)  \n",
       "(Intercept)    15000       7531   1.992   0.0467 *\n",
       "HHFAMINC-8     -6307       7988  -0.790   0.4299  \n",
       "HHFAMINC-7     -6984       7708  -0.906   0.3651  \n",
       "HHFAMINC1      -7927       7693  -1.030   0.3031  \n",
       "HHFAMINC2      -6896       7659  -0.900   0.3681  \n",
       "HHFAMINC3      -5850       7588  -0.771   0.4409  \n",
       "HHFAMINC4      -5613       7570  -0.742   0.4586  \n",
       "HHFAMINC5      -6490       7555  -0.859   0.3905  \n",
       "HHFAMINC6      -5017       7547  -0.665   0.5064  \n",
       "HHFAMINC7      -4615       7557  -0.611   0.5415  \n",
       "HHFAMINC8      -4188       7562  -0.554   0.5797  \n",
       "HHFAMINC9      -4406       7589  -0.581   0.5617  \n",
       "HHFAMINC10     -3198       7629  -0.419   0.6752  \n",
       "HHFAMINC11     -2264       7664  -0.295   0.7677  \n",
       "---\n",
       "Signif. codes:  0 '***' 0.001 '**' 0.01 '*' 0.05 '.' 0.1 ' ' 1\n",
       "\n",
       "Residual standard error: 7531 on 1014 degrees of freedom\n",
       "Multiple R-squared:  0.02175,\tAdjusted R-squared:  0.009204 \n",
       "F-statistic: 1.734 on 13 and 1014 DF,  p-value: 0.04928\n"
      ]
     },
     "metadata": {},
     "output_type": "display_data"
    }
   ],
   "source": [
    "nhts.in$HHFAMINC = as.factor(nhts.in$HHFAMINC)\n",
    "summary(lm(BESTMILE ~  HHFAMINC, nhts.in))"
   ]
  },
  {
   "attachments": {},
   "cell_type": "markdown",
   "metadata": {},
   "source": [
    "# Gas Tax Analysis"
   ]
  },
  {
   "attachments": {},
   "cell_type": "markdown",
   "metadata": {},
   "source": [
    "## Gas Forecast"
   ]
  },
  {
   "attachments": {},
   "cell_type": "markdown",
   "metadata": {},
   "source": [
    "### Setup"
   ]
  },
  {
   "cell_type": "code",
   "execution_count": 14,
   "metadata": {
    "vscode": {
     "languageId": "r"
    }
   },
   "outputs": [],
   "source": [
    "gas = read_excel('data/WorkingData.xlsx', sheet = 'GasRevMonthly')\n",
    "gas = dummy_cols(gas, select_columns = c('month','year'))\n",
    "gas$time = gas$year+gas$mnth/12\n",
    "gas$year = factor(gas$year)\n",
    "gas$mnth = factor(gas$mnth)\n"
   ]
  },
  {
   "cell_type": "code",
   "execution_count": 15,
   "metadata": {
    "vscode": {
     "languageId": "r"
    }
   },
   "outputs": [],
   "source": [
    "share.ann = read_excel('data/WorkingData.xlsx', sheet = 'share.ann')\n",
    "share.m = lm(share ~ I(year^2) + year, share.ann)\n",
    "reg.m = lm(registered ~ I(year^2) + year, share.ann)\n",
    "ev.m = lm(ev ~ I(year^2) + year, share.ann)"
   ]
  },
  {
   "cell_type": "code",
   "execution_count": 16,
   "metadata": {
    "vscode": {
     "languageId": "r"
    }
   },
   "outputs": [],
   "source": [
    "share.mnth = read_excel('data/WorkingData.xlsx', sheet = 'share.mnth')\n",
    "share.mnth$share.hat = share.m$coefficients[[1]] + share.m$coefficients[[2]]*(share.mnth$time^2) + \n",
    "    share.m$coefficients[[3]]*share.mnth$time\n",
    "share.mnth$reg.hat = reg.m$coefficients[[1]] + reg.m$coefficients[[2]]*(share.mnth$time^2) + \n",
    "    reg.m$coefficients[[3]]*share.mnth$time\n",
    "share.mnth$ev.hat = ev.m$coefficients[[1]] + ev.m$coefficients[[2]]*(share.mnth$time^2) + \n",
    "    ev.m$coefficients[[3]]*share.mnth$time\n",
    "# write_xlsx(share.mnth,'data/sharemnth.xlsx')"
   ]
  },
  {
   "attachments": {},
   "cell_type": "markdown",
   "metadata": {},
   "source": [
    "### Forecast"
   ]
  },
  {
   "cell_type": "code",
   "execution_count": 17,
   "metadata": {
    "vscode": {
     "languageId": "r"
    }
   },
   "outputs": [
    {
     "data": {
      "text/html": [
       "<style>\n",
       ".list-inline {list-style: none; margin:0; padding: 0}\n",
       ".list-inline>li {display: inline-block}\n",
       ".list-inline>li:not(:last-child)::after {content: \"\\00b7\"; padding: 0 .5ex}\n",
       "</style>\n",
       "<ol class=list-inline><li>'year'</li><li>'month'</li><li>'mnth'</li><li>'key'</li><li>'avg.vmt.share'</li><li>'gas.rev.ann'</li><li>'gas.base.ann'</li><li>'gas.tax'</li><li>'gas.base.mnth'</li><li>'gas.rev.mnth'</li><li>'vmt.ann (mill)'</li><li>'vmt.mnth'</li><li>'avg.mpg'</li><li>'ev.count'</li><li>'month_April'</li><li>'month_August'</li><li>'month_December'</li><li>'month_February'</li><li>'month_January'</li><li>'month_July'</li><li>'month_June'</li><li>'month_March'</li><li>'month_May'</li><li>'month_November'</li><li>'month_October'</li><li>'month_September'</li><li>'year_1999'</li><li>'year_2000'</li><li>'year_2001'</li><li>'year_2002'</li><li>'year_2003'</li><li>'year_2004'</li><li>'year_2005'</li><li>'year_2006'</li><li>'year_2007'</li><li>'year_2008'</li><li>'year_2009'</li><li>'year_2010'</li><li>'year_2011'</li><li>'year_2012'</li><li>'year_2013'</li><li>'year_2014'</li><li>'year_2015'</li><li>'year_2016'</li><li>'year_2017'</li><li>'year_2018'</li><li>'year_2019'</li><li>'year_2020'</li><li>'year_2021'</li><li>'year_2022'</li><li>'time'</li></ol>\n"
      ],
      "text/latex": [
       "\\begin{enumerate*}\n",
       "\\item 'year'\n",
       "\\item 'month'\n",
       "\\item 'mnth'\n",
       "\\item 'key'\n",
       "\\item 'avg.vmt.share'\n",
       "\\item 'gas.rev.ann'\n",
       "\\item 'gas.base.ann'\n",
       "\\item 'gas.tax'\n",
       "\\item 'gas.base.mnth'\n",
       "\\item 'gas.rev.mnth'\n",
       "\\item 'vmt.ann (mill)'\n",
       "\\item 'vmt.mnth'\n",
       "\\item 'avg.mpg'\n",
       "\\item 'ev.count'\n",
       "\\item 'month\\_April'\n",
       "\\item 'month\\_August'\n",
       "\\item 'month\\_December'\n",
       "\\item 'month\\_February'\n",
       "\\item 'month\\_January'\n",
       "\\item 'month\\_July'\n",
       "\\item 'month\\_June'\n",
       "\\item 'month\\_March'\n",
       "\\item 'month\\_May'\n",
       "\\item 'month\\_November'\n",
       "\\item 'month\\_October'\n",
       "\\item 'month\\_September'\n",
       "\\item 'year\\_1999'\n",
       "\\item 'year\\_2000'\n",
       "\\item 'year\\_2001'\n",
       "\\item 'year\\_2002'\n",
       "\\item 'year\\_2003'\n",
       "\\item 'year\\_2004'\n",
       "\\item 'year\\_2005'\n",
       "\\item 'year\\_2006'\n",
       "\\item 'year\\_2007'\n",
       "\\item 'year\\_2008'\n",
       "\\item 'year\\_2009'\n",
       "\\item 'year\\_2010'\n",
       "\\item 'year\\_2011'\n",
       "\\item 'year\\_2012'\n",
       "\\item 'year\\_2013'\n",
       "\\item 'year\\_2014'\n",
       "\\item 'year\\_2015'\n",
       "\\item 'year\\_2016'\n",
       "\\item 'year\\_2017'\n",
       "\\item 'year\\_2018'\n",
       "\\item 'year\\_2019'\n",
       "\\item 'year\\_2020'\n",
       "\\item 'year\\_2021'\n",
       "\\item 'year\\_2022'\n",
       "\\item 'time'\n",
       "\\end{enumerate*}\n"
      ],
      "text/markdown": [
       "1. 'year'\n",
       "2. 'month'\n",
       "3. 'mnth'\n",
       "4. 'key'\n",
       "5. 'avg.vmt.share'\n",
       "6. 'gas.rev.ann'\n",
       "7. 'gas.base.ann'\n",
       "8. 'gas.tax'\n",
       "9. 'gas.base.mnth'\n",
       "10. 'gas.rev.mnth'\n",
       "11. 'vmt.ann (mill)'\n",
       "12. 'vmt.mnth'\n",
       "13. 'avg.mpg'\n",
       "14. 'ev.count'\n",
       "15. 'month_April'\n",
       "16. 'month_August'\n",
       "17. 'month_December'\n",
       "18. 'month_February'\n",
       "19. 'month_January'\n",
       "20. 'month_July'\n",
       "21. 'month_June'\n",
       "22. 'month_March'\n",
       "23. 'month_May'\n",
       "24. 'month_November'\n",
       "25. 'month_October'\n",
       "26. 'month_September'\n",
       "27. 'year_1999'\n",
       "28. 'year_2000'\n",
       "29. 'year_2001'\n",
       "30. 'year_2002'\n",
       "31. 'year_2003'\n",
       "32. 'year_2004'\n",
       "33. 'year_2005'\n",
       "34. 'year_2006'\n",
       "35. 'year_2007'\n",
       "36. 'year_2008'\n",
       "37. 'year_2009'\n",
       "38. 'year_2010'\n",
       "39. 'year_2011'\n",
       "40. 'year_2012'\n",
       "41. 'year_2013'\n",
       "42. 'year_2014'\n",
       "43. 'year_2015'\n",
       "44. 'year_2016'\n",
       "45. 'year_2017'\n",
       "46. 'year_2018'\n",
       "47. 'year_2019'\n",
       "48. 'year_2020'\n",
       "49. 'year_2021'\n",
       "50. 'year_2022'\n",
       "51. 'time'\n",
       "\n",
       "\n"
      ],
      "text/plain": [
       " [1] \"year\"            \"month\"           \"mnth\"            \"key\"            \n",
       " [5] \"avg.vmt.share\"   \"gas.rev.ann\"     \"gas.base.ann\"    \"gas.tax\"        \n",
       " [9] \"gas.base.mnth\"   \"gas.rev.mnth\"    \"vmt.ann (mill)\"  \"vmt.mnth\"       \n",
       "[13] \"avg.mpg\"         \"ev.count\"        \"month_April\"     \"month_August\"   \n",
       "[17] \"month_December\"  \"month_February\"  \"month_January\"   \"month_July\"     \n",
       "[21] \"month_June\"      \"month_March\"     \"month_May\"       \"month_November\" \n",
       "[25] \"month_October\"   \"month_September\" \"year_1999\"       \"year_2000\"      \n",
       "[29] \"year_2001\"       \"year_2002\"       \"year_2003\"       \"year_2004\"      \n",
       "[33] \"year_2005\"       \"year_2006\"       \"year_2007\"       \"year_2008\"      \n",
       "[37] \"year_2009\"       \"year_2010\"       \"year_2011\"       \"year_2012\"      \n",
       "[41] \"year_2013\"       \"year_2014\"       \"year_2015\"       \"year_2016\"      \n",
       "[45] \"year_2017\"       \"year_2018\"       \"year_2019\"       \"year_2020\"      \n",
       "[49] \"year_2021\"       \"year_2022\"       \"time\"           "
      ]
     },
     "metadata": {},
     "output_type": "display_data"
    }
   ],
   "source": [
    "names(gas)"
   ]
  },
  {
   "attachments": {},
   "cell_type": "markdown",
   "metadata": {},
   "source": [
    "#### Revenue"
   ]
  },
  {
   "cell_type": "code",
   "execution_count": 18,
   "metadata": {
    "vscode": {
     "languageId": "r"
    }
   },
   "outputs": [
    {
     "data": {
      "text/plain": [
       "\n",
       "Call:\n",
       "lm(formula = gas.rev.mnth ~ time + mnth + year, data = gas)\n",
       "\n",
       "Residuals:\n",
       "     Min       1Q   Median       3Q      Max \n",
       "-9263212  -493118   -64545   506825  3723924 \n",
       "\n",
       "Coefficients: (1 not defined because of singularities)\n",
       "               Estimate  Std. Error t value             Pr(>|t|)    \n",
       "(Intercept) -3843135483    48453750 -79.316 < 0.0000000000000002 ***\n",
       "time            1938964       24100  80.456 < 0.0000000000000002 ***\n",
       "mnth1          -2552733      391948  -6.513   0.0000000003946020 ***\n",
       "mnth2           4165302      391963  10.627 < 0.0000000000000002 ***\n",
       "mnth3           3217038      391989   8.207   0.0000000000000116 ***\n",
       "mnth4           5866775      392025  14.965 < 0.0000000000000002 ***\n",
       "mnth5           6040829      392071  15.407 < 0.0000000000000002 ***\n",
       "mnth6           7197290      392128  18.354 < 0.0000000000000002 ***\n",
       "mnth7           6683633      392195  17.042 < 0.0000000000000002 ***\n",
       "mnth8           2494426      392272   6.359   0.0000000009431280 ***\n",
       "mnth9           5047553      392359  12.865 < 0.0000000000000002 ***\n",
       "mnth10          1345484      392457   3.428             0.000709 ***\n",
       "mnth11          2004310      392565   5.106   0.0000006486105686 ***\n",
       "year2000        -461904      542642  -0.851             0.395456    \n",
       "year2001          60096      531832   0.113             0.910121    \n",
       "year2002       -2951816      521911  -5.656   0.0000000418312455 ***\n",
       "year2003       -1766897      512931  -3.445             0.000669 ***\n",
       "year2004        1653741      504942   3.275             0.001204 ** \n",
       "year2005        -529867      497994  -1.064             0.288341    \n",
       "year2006       -3234210      492128  -6.572   0.0000000002816519 ***\n",
       "year2007       -5161659      487384 -10.591 < 0.0000000000000002 ***\n",
       "year2008       -8531611      483796 -17.635 < 0.0000000000000002 ***\n",
       "year2009      -11934366      481389 -24.792 < 0.0000000000000002 ***\n",
       "year2010      -13472984      480181 -28.058 < 0.0000000000000002 ***\n",
       "year2011      -15216747      480181 -31.690 < 0.0000000000000002 ***\n",
       "year2012      -17850162      481389 -37.081 < 0.0000000000000002 ***\n",
       "year2013      -20212850      483796 -41.780 < 0.0000000000000002 ***\n",
       "year2014      -22345954      487384 -45.849 < 0.0000000000000002 ***\n",
       "year2015      -23218884      492128 -47.181 < 0.0000000000000002 ***\n",
       "year2016      -23762718      497994 -47.717 < 0.0000000000000002 ***\n",
       "year2017      -25479949      504942 -50.461 < 0.0000000000000002 ***\n",
       "year2018       -3015967      512931  -5.880   0.0000000129244076 ***\n",
       "year2019        -473474      521911  -0.907             0.365167    \n",
       "year2020       -5298992      531832  -9.964 < 0.0000000000000002 ***\n",
       "year2021       -3454744      542642  -6.367   0.0000000009037410 ***\n",
       "year2022             NA          NA      NA                   NA    \n",
       "---\n",
       "Signif. codes:  0 '***' 0.001 '**' 0.01 '*' 0.05 '.' 0.1 ' ' 1\n",
       "\n",
       "Residual standard error: 1358000 on 253 degrees of freedom\n",
       "Multiple R-squared:  0.991,\tAdjusted R-squared:  0.9898 \n",
       "F-statistic: 820.6 on 34 and 253 DF,  p-value: < 0.00000000000000022\n"
      ]
     },
     "metadata": {},
     "output_type": "display_data"
    }
   ],
   "source": [
    "gas.m = lm(gas.rev.mnth ~ time + mnth + year, gas)\n",
    "summary(gas.m)"
   ]
  },
  {
   "cell_type": "code",
   "execution_count": 19,
   "metadata": {
    "vscode": {
     "languageId": "r"
    }
   },
   "outputs": [],
   "source": [
    "# create dataframe\n",
    "gas.fc = data.frame(year = c(rep(2023:2042,12)))\n",
    "gas.fc = data.frame(year = c(gas.fc[order(gas.fc$year),]))\n",
    "gas.fc$mnth = c(0:11)\n",
    "gas.fc$time = gas.fc$year+(gas.fc$mnth/12)\n",
    "gas.fc$vmt = NA\n",
    "gas.fc$rate = NA\n",
    "gas.fc$rev = NA\n",
    "gas.fc = dummy_cols(gas.fc, select_columns = c('mnth'))"
   ]
  },
  {
   "cell_type": "code",
   "execution_count": 20,
   "metadata": {
    "vscode": {
     "languageId": "r"
    }
   },
   "outputs": [],
   "source": [
    "gas.fc$gas.rev = gas.m$coefficients[[1]] + gas.m$coefficients[[2]]*gas.fc$time + gas.m$coefficients[[3]]*gas.fc$mnth_1 +\n",
    "    gas.m$coefficients[[4]]*gas.fc$mnth_2 + gas.m$coefficients[[5]]*gas.fc$mnth_3 + gas.m$coefficients[[6]]*gas.fc$mnth_4 + \n",
    "    gas.m$coefficients[[7]]*gas.fc$mnth_5 + gas.m$coefficients[[8]]*gas.fc$mnth_6 + gas.m$coefficients[[9]]*gas.fc$mnth_7 + \n",
    "    gas.m$coefficients[[10]]*gas.fc$mnth_8 + gas.m$coefficients[[11]]*gas.fc$mnth_9 + gas.m$coefficients[[12]]*gas.fc$mnth_10 + \n",
    "    gas.m$coefficients[[13]]*gas.fc$mnth_11 + gas.m$coefficients[[35]]"
   ]
  },
  {
   "cell_type": "code",
   "execution_count": 21,
   "metadata": {
    "vscode": {
     "languageId": "r"
    }
   },
   "outputs": [],
   "source": [
    "gas.fc = aggregate(gas.rev ~ year,gas.fc,sum)"
   ]
  },
  {
   "attachments": {},
   "cell_type": "markdown",
   "metadata": {},
   "source": [
    "#### Scoring"
   ]
  },
  {
   "attachments": {},
   "cell_type": "markdown",
   "metadata": {},
   "source": [
    "##### Constant Rate"
   ]
  },
  {
   "cell_type": "code",
   "execution_count": 22,
   "metadata": {
    "vscode": {
     "languageId": "r"
    }
   },
   "outputs": [],
   "source": [
    "base.m = lm(gas.base.mnth ~ time + mnth + year, gas)\n",
    "\n",
    "base.fc = data.frame(year = c(rep(2023:2042,12)))\n",
    "base.fc = data.frame(year = c(base.fc[order(base.fc$year),]))\n",
    "base.fc$mnth = c(0:11)\n",
    "base.fc$time = base.fc$year+(base.fc$mnth/12)\n",
    "base.fc$rate = NA\n",
    "base.fc$rev = NA\n",
    "base.fc = dummy_cols(base.fc, select_columns = 'mnth')"
   ]
  },
  {
   "cell_type": "code",
   "execution_count": 23,
   "metadata": {
    "vscode": {
     "languageId": "r"
    }
   },
   "outputs": [],
   "source": [
    "base.fc$gas.base = base.m$coefficients[[1]] + base.m$coefficients[[2]]*base.fc$time + base.m$coefficients[[3]]*base.fc$mnth_1 +\n",
    "    base.m$coefficients[[4]]*base.fc$mnth_2 + base.m$coefficients[[5]]*base.fc$mnth_3 + base.m$coefficients[[6]]*base.fc$mnth_4 + \n",
    "    base.m$coefficients[[7]]*base.fc$mnth_5 + base.m$coefficients[[8]]*base.fc$mnth_6 + base.m$coefficients[[9]]*base.fc$mnth_7 + \n",
    "    base.m$coefficients[[10]]*base.fc$mnth_8 + base.m$coefficients[[11]]*base.fc$mnth_9 + base.m$coefficients[[12]]*base.fc$mnth_10 + \n",
    "    base.m$coefficients[[13]]*base.fc$mnth_11 + base.m$coefficients[[35]]"
   ]
  },
  {
   "cell_type": "code",
   "execution_count": 24,
   "metadata": {
    "vscode": {
     "languageId": "r"
    }
   },
   "outputs": [
    {
     "data": {
      "text/html": [
       "<table class=\"dataframe\">\n",
       "<caption>A data.frame: 20 x 4</caption>\n",
       "<thead>\n",
       "\t<tr><th scope=col>year</th><th scope=col>gas.base</th><th scope=col>rate</th><th scope=col>rev</th></tr>\n",
       "\t<tr><th scope=col>&lt;int&gt;</th><th scope=col>&lt;dbl&gt;</th><th scope=col>&lt;dbl&gt;</th><th scope=col>&lt;dbl&gt;</th></tr>\n",
       "</thead>\n",
       "<tbody>\n",
       "\t<tr><td>2023</td><td>2865032795</td><td>0.33</td><td>945460822</td></tr>\n",
       "\t<tr><td>2024</td><td>2864959096</td><td>0.33</td><td>945436502</td></tr>\n",
       "\t<tr><td>2025</td><td>2864885397</td><td>0.33</td><td>945412181</td></tr>\n",
       "\t<tr><td>2026</td><td>2864811698</td><td>0.33</td><td>945387860</td></tr>\n",
       "\t<tr><td>2027</td><td>2864737999</td><td>0.33</td><td>945363540</td></tr>\n",
       "\t<tr><td>2028</td><td>2864664299</td><td>0.33</td><td>945339219</td></tr>\n",
       "\t<tr><td>2029</td><td>2864590600</td><td>0.33</td><td>945314898</td></tr>\n",
       "\t<tr><td>2030</td><td>2864516901</td><td>0.33</td><td>945290577</td></tr>\n",
       "\t<tr><td>2031</td><td>2864443202</td><td>0.33</td><td>945266257</td></tr>\n",
       "\t<tr><td>2032</td><td>2864369503</td><td>0.33</td><td>945241936</td></tr>\n",
       "\t<tr><td>2033</td><td>2864295804</td><td>0.33</td><td>945217615</td></tr>\n",
       "\t<tr><td>2034</td><td>2864222104</td><td>0.33</td><td>945193294</td></tr>\n",
       "\t<tr><td>2035</td><td>2864148405</td><td>0.33</td><td>945168974</td></tr>\n",
       "\t<tr><td>2036</td><td>2864074706</td><td>0.33</td><td>945144653</td></tr>\n",
       "\t<tr><td>2037</td><td>2864001007</td><td>0.33</td><td>945120332</td></tr>\n",
       "\t<tr><td>2038</td><td>2863927308</td><td>0.33</td><td>945096012</td></tr>\n",
       "\t<tr><td>2039</td><td>2863853608</td><td>0.33</td><td>945071691</td></tr>\n",
       "\t<tr><td>2040</td><td>2863779909</td><td>0.33</td><td>945047370</td></tr>\n",
       "\t<tr><td>2041</td><td>2863706210</td><td>0.33</td><td>945023049</td></tr>\n",
       "\t<tr><td>2042</td><td>2863632511</td><td>0.33</td><td>944998729</td></tr>\n",
       "</tbody>\n",
       "</table>\n"
      ],
      "text/latex": [
       "A data.frame: 20 x 4\n",
       "\\begin{tabular}{llll}\n",
       " year & gas.base & rate & rev\\\\\n",
       " <int> & <dbl> & <dbl> & <dbl>\\\\\n",
       "\\hline\n",
       "\t 2023 & 2865032795 & 0.33 & 945460822\\\\\n",
       "\t 2024 & 2864959096 & 0.33 & 945436502\\\\\n",
       "\t 2025 & 2864885397 & 0.33 & 945412181\\\\\n",
       "\t 2026 & 2864811698 & 0.33 & 945387860\\\\\n",
       "\t 2027 & 2864737999 & 0.33 & 945363540\\\\\n",
       "\t 2028 & 2864664299 & 0.33 & 945339219\\\\\n",
       "\t 2029 & 2864590600 & 0.33 & 945314898\\\\\n",
       "\t 2030 & 2864516901 & 0.33 & 945290577\\\\\n",
       "\t 2031 & 2864443202 & 0.33 & 945266257\\\\\n",
       "\t 2032 & 2864369503 & 0.33 & 945241936\\\\\n",
       "\t 2033 & 2864295804 & 0.33 & 945217615\\\\\n",
       "\t 2034 & 2864222104 & 0.33 & 945193294\\\\\n",
       "\t 2035 & 2864148405 & 0.33 & 945168974\\\\\n",
       "\t 2036 & 2864074706 & 0.33 & 945144653\\\\\n",
       "\t 2037 & 2864001007 & 0.33 & 945120332\\\\\n",
       "\t 2038 & 2863927308 & 0.33 & 945096012\\\\\n",
       "\t 2039 & 2863853608 & 0.33 & 945071691\\\\\n",
       "\t 2040 & 2863779909 & 0.33 & 945047370\\\\\n",
       "\t 2041 & 2863706210 & 0.33 & 945023049\\\\\n",
       "\t 2042 & 2863632511 & 0.33 & 944998729\\\\\n",
       "\\end{tabular}\n"
      ],
      "text/markdown": [
       "\n",
       "A data.frame: 20 x 4\n",
       "\n",
       "| year &lt;int&gt; | gas.base &lt;dbl&gt; | rate &lt;dbl&gt; | rev &lt;dbl&gt; |\n",
       "|---|---|---|---|\n",
       "| 2023 | 2865032795 | 0.33 | 945460822 |\n",
       "| 2024 | 2864959096 | 0.33 | 945436502 |\n",
       "| 2025 | 2864885397 | 0.33 | 945412181 |\n",
       "| 2026 | 2864811698 | 0.33 | 945387860 |\n",
       "| 2027 | 2864737999 | 0.33 | 945363540 |\n",
       "| 2028 | 2864664299 | 0.33 | 945339219 |\n",
       "| 2029 | 2864590600 | 0.33 | 945314898 |\n",
       "| 2030 | 2864516901 | 0.33 | 945290577 |\n",
       "| 2031 | 2864443202 | 0.33 | 945266257 |\n",
       "| 2032 | 2864369503 | 0.33 | 945241936 |\n",
       "| 2033 | 2864295804 | 0.33 | 945217615 |\n",
       "| 2034 | 2864222104 | 0.33 | 945193294 |\n",
       "| 2035 | 2864148405 | 0.33 | 945168974 |\n",
       "| 2036 | 2864074706 | 0.33 | 945144653 |\n",
       "| 2037 | 2864001007 | 0.33 | 945120332 |\n",
       "| 2038 | 2863927308 | 0.33 | 945096012 |\n",
       "| 2039 | 2863853608 | 0.33 | 945071691 |\n",
       "| 2040 | 2863779909 | 0.33 | 945047370 |\n",
       "| 2041 | 2863706210 | 0.33 | 945023049 |\n",
       "| 2042 | 2863632511 | 0.33 | 944998729 |\n",
       "\n"
      ],
      "text/plain": [
       "   year gas.base   rate rev      \n",
       "1  2023 2865032795 0.33 945460822\n",
       "2  2024 2864959096 0.33 945436502\n",
       "3  2025 2864885397 0.33 945412181\n",
       "4  2026 2864811698 0.33 945387860\n",
       "5  2027 2864737999 0.33 945363540\n",
       "6  2028 2864664299 0.33 945339219\n",
       "7  2029 2864590600 0.33 945314898\n",
       "8  2030 2864516901 0.33 945290577\n",
       "9  2031 2864443202 0.33 945266257\n",
       "10 2032 2864369503 0.33 945241936\n",
       "11 2033 2864295804 0.33 945217615\n",
       "12 2034 2864222104 0.33 945193294\n",
       "13 2035 2864148405 0.33 945168974\n",
       "14 2036 2864074706 0.33 945144653\n",
       "15 2037 2864001007 0.33 945120332\n",
       "16 2038 2863927308 0.33 945096012\n",
       "17 2039 2863853608 0.33 945071691\n",
       "18 2040 2863779909 0.33 945047370\n",
       "19 2041 2863706210 0.33 945023049\n",
       "20 2042 2863632511 0.33 944998729"
      ]
     },
     "metadata": {},
     "output_type": "display_data"
    }
   ],
   "source": [
    "constg.fc = aggregate(gas.base ~ year, base.fc, sum)\n",
    "constg.fc$rate = 0.33\n",
    "constg.fc$rev = constg.fc$rate*constg.fc$gas.base\n",
    "constg.fc"
   ]
  },
  {
   "attachments": {},
   "cell_type": "markdown",
   "metadata": {},
   "source": [
    "#### Scoring (+$0.01 per year)"
   ]
  },
  {
   "attachments": {},
   "cell_type": "markdown",
   "metadata": {},
   "source": [
    "#### Static"
   ]
  },
  {
   "cell_type": "code",
   "execution_count": 25,
   "metadata": {
    "vscode": {
     "languageId": "r"
    }
   },
   "outputs": [
    {
     "data": {
      "text/html": [
       "<table class=\"dataframe\">\n",
       "<caption>A data.frame: 240 x 19</caption>\n",
       "<thead>\n",
       "\t<tr><th scope=col>year</th><th scope=col>mnth</th><th scope=col>time</th><th scope=col>rate</th><th scope=col>rev</th><th scope=col>mnth_0</th><th scope=col>mnth_1</th><th scope=col>mnth_2</th><th scope=col>mnth_3</th><th scope=col>mnth_4</th><th scope=col>mnth_5</th><th scope=col>mnth_6</th><th scope=col>mnth_7</th><th scope=col>mnth_8</th><th scope=col>mnth_9</th><th scope=col>mnth_10</th><th scope=col>mnth_11</th><th scope=col>gas.base</th><th scope=col>rev.static</th></tr>\n",
       "\t<tr><th scope=col>&lt;int&gt;</th><th scope=col>&lt;int&gt;</th><th scope=col>&lt;dbl&gt;</th><th scope=col>&lt;dbl&gt;</th><th scope=col>&lt;lgl&gt;</th><th scope=col>&lt;int&gt;</th><th scope=col>&lt;int&gt;</th><th scope=col>&lt;int&gt;</th><th scope=col>&lt;int&gt;</th><th scope=col>&lt;int&gt;</th><th scope=col>&lt;int&gt;</th><th scope=col>&lt;int&gt;</th><th scope=col>&lt;int&gt;</th><th scope=col>&lt;int&gt;</th><th scope=col>&lt;int&gt;</th><th scope=col>&lt;int&gt;</th><th scope=col>&lt;int&gt;</th><th scope=col>&lt;dbl&gt;</th><th scope=col>&lt;dbl&gt;</th></tr>\n",
       "</thead>\n",
       "<tbody>\n",
       "\t<tr><td>2023</td><td> 0</td><td>2023.000</td><td>0.33</td><td>NA</td><td>1</td><td>0</td><td>0</td><td>0</td><td>0</td><td>0</td><td>0</td><td>0</td><td>0</td><td>0</td><td>0</td><td>0</td><td>216200182</td><td> 71346060</td></tr>\n",
       "\t<tr><td>2023</td><td> 1</td><td>2023.083</td><td>0.34</td><td>NA</td><td>0</td><td>1</td><td>0</td><td>0</td><td>0</td><td>0</td><td>0</td><td>0</td><td>0</td><td>0</td><td>0</td><td>0</td><td>205031693</td><td> 69710775</td></tr>\n",
       "\t<tr><td>2023</td><td> 2</td><td>2023.167</td><td>0.35</td><td>NA</td><td>0</td><td>0</td><td>1</td><td>0</td><td>0</td><td>0</td><td>0</td><td>0</td><td>0</td><td>0</td><td>0</td><td>0</td><td>239869957</td><td> 83954485</td></tr>\n",
       "\t<tr><td>2023</td><td> 3</td><td>2023.250</td><td>0.36</td><td>NA</td><td>0</td><td>0</td><td>0</td><td>1</td><td>0</td><td>0</td><td>0</td><td>0</td><td>0</td><td>0</td><td>0</td><td>0</td><td>237363342</td><td> 85450803</td></tr>\n",
       "\t<tr><td>2023</td><td> 4</td><td>2023.333</td><td>0.37</td><td>NA</td><td>0</td><td>0</td><td>0</td><td>0</td><td>1</td><td>0</td><td>0</td><td>0</td><td>0</td><td>0</td><td>0</td><td>0</td><td>250255804</td><td> 92594647</td></tr>\n",
       "\t<tr><td>2023</td><td> 5</td><td>2023.417</td><td>0.38</td><td>NA</td><td>0</td><td>0</td><td>0</td><td>0</td><td>0</td><td>1</td><td>0</td><td>0</td><td>0</td><td>0</td><td>0</td><td>0</td><td>251206392</td><td> 95458429</td></tr>\n",
       "\t<tr><td>2023</td><td> 6</td><td>2023.500</td><td>0.39</td><td>NA</td><td>0</td><td>0</td><td>0</td><td>0</td><td>0</td><td>0</td><td>1</td><td>0</td><td>0</td><td>0</td><td>0</td><td>0</td><td>257540038</td><td>100440615</td></tr>\n",
       "\t<tr><td>2023</td><td> 7</td><td>2023.583</td><td>0.40</td><td>NA</td><td>0</td><td>0</td><td>0</td><td>0</td><td>0</td><td>0</td><td>0</td><td>1</td><td>0</td><td>0</td><td>0</td><td>0</td><td>256287245</td><td>102514898</td></tr>\n",
       "\t<tr><td>2023</td><td> 8</td><td>2023.667</td><td>0.41</td><td>NA</td><td>0</td><td>0</td><td>0</td><td>0</td><td>0</td><td>0</td><td>0</td><td>0</td><td>1</td><td>0</td><td>0</td><td>0</td><td>235312863</td><td> 96478274</td></tr>\n",
       "\t<tr><td>2023</td><td> 9</td><td>2023.750</td><td>0.42</td><td>NA</td><td>0</td><td>0</td><td>0</td><td>0</td><td>0</td><td>0</td><td>0</td><td>0</td><td>0</td><td>1</td><td>0</td><td>0</td><td>248854808</td><td>104519019</td></tr>\n",
       "\t<tr><td>2023</td><td>10</td><td>2023.833</td><td>0.43</td><td>NA</td><td>0</td><td>0</td><td>0</td><td>0</td><td>0</td><td>0</td><td>0</td><td>0</td><td>0</td><td>0</td><td>1</td><td>0</td><td>231790654</td><td> 99669981</td></tr>\n",
       "\t<tr><td>2023</td><td>11</td><td>2023.917</td><td>0.44</td><td>NA</td><td>0</td><td>0</td><td>0</td><td>0</td><td>0</td><td>0</td><td>0</td><td>0</td><td>0</td><td>0</td><td>0</td><td>1</td><td>235319819</td><td>103540720</td></tr>\n",
       "\t<tr><td>2024</td><td> 0</td><td>2024.000</td><td>0.45</td><td>NA</td><td>1</td><td>0</td><td>0</td><td>0</td><td>0</td><td>0</td><td>0</td><td>0</td><td>0</td><td>0</td><td>0</td><td>0</td><td>216194040</td><td> 97287318</td></tr>\n",
       "\t<tr><td>2024</td><td> 1</td><td>2024.083</td><td>0.46</td><td>NA</td><td>0</td><td>1</td><td>0</td><td>0</td><td>0</td><td>0</td><td>0</td><td>0</td><td>0</td><td>0</td><td>0</td><td>0</td><td>205025551</td><td> 94311753</td></tr>\n",
       "\t<tr><td>2024</td><td> 2</td><td>2024.167</td><td>0.47</td><td>NA</td><td>0</td><td>0</td><td>1</td><td>0</td><td>0</td><td>0</td><td>0</td><td>0</td><td>0</td><td>0</td><td>0</td><td>0</td><td>239863815</td><td>112735993</td></tr>\n",
       "\t<tr><td>2024</td><td> 3</td><td>2024.250</td><td>0.48</td><td>NA</td><td>0</td><td>0</td><td>0</td><td>1</td><td>0</td><td>0</td><td>0</td><td>0</td><td>0</td><td>0</td><td>0</td><td>0</td><td>237357200</td><td>113931456</td></tr>\n",
       "\t<tr><td>2024</td><td> 4</td><td>2024.333</td><td>0.49</td><td>NA</td><td>0</td><td>0</td><td>0</td><td>0</td><td>1</td><td>0</td><td>0</td><td>0</td><td>0</td><td>0</td><td>0</td><td>0</td><td>250249662</td><td>122622335</td></tr>\n",
       "\t<tr><td>2024</td><td> 5</td><td>2024.417</td><td>0.50</td><td>NA</td><td>0</td><td>0</td><td>0</td><td>0</td><td>0</td><td>1</td><td>0</td><td>0</td><td>0</td><td>0</td><td>0</td><td>0</td><td>251200250</td><td>125600125</td></tr>\n",
       "\t<tr><td>2024</td><td> 6</td><td>2024.500</td><td>0.51</td><td>NA</td><td>0</td><td>0</td><td>0</td><td>0</td><td>0</td><td>0</td><td>1</td><td>0</td><td>0</td><td>0</td><td>0</td><td>0</td><td>257533897</td><td>131342287</td></tr>\n",
       "\t<tr><td>2024</td><td> 7</td><td>2024.583</td><td>0.52</td><td>NA</td><td>0</td><td>0</td><td>0</td><td>0</td><td>0</td><td>0</td><td>0</td><td>1</td><td>0</td><td>0</td><td>0</td><td>0</td><td>256281104</td><td>133266174</td></tr>\n",
       "\t<tr><td>2024</td><td> 8</td><td>2024.667</td><td>0.53</td><td>NA</td><td>0</td><td>0</td><td>0</td><td>0</td><td>0</td><td>0</td><td>0</td><td>0</td><td>1</td><td>0</td><td>0</td><td>0</td><td>235306721</td><td>124712562</td></tr>\n",
       "\t<tr><td>2024</td><td> 9</td><td>2024.750</td><td>0.54</td><td>NA</td><td>0</td><td>0</td><td>0</td><td>0</td><td>0</td><td>0</td><td>0</td><td>0</td><td>0</td><td>1</td><td>0</td><td>0</td><td>248848666</td><td>134378280</td></tr>\n",
       "\t<tr><td>2024</td><td>10</td><td>2024.833</td><td>0.55</td><td>NA</td><td>0</td><td>0</td><td>0</td><td>0</td><td>0</td><td>0</td><td>0</td><td>0</td><td>0</td><td>0</td><td>1</td><td>0</td><td>231784512</td><td>127481482</td></tr>\n",
       "\t<tr><td>2024</td><td>11</td><td>2024.917</td><td>0.56</td><td>NA</td><td>0</td><td>0</td><td>0</td><td>0</td><td>0</td><td>0</td><td>0</td><td>0</td><td>0</td><td>0</td><td>0</td><td>1</td><td>235313677</td><td>131775659</td></tr>\n",
       "\t<tr><td>2025</td><td> 0</td><td>2025.000</td><td>0.57</td><td>NA</td><td>1</td><td>0</td><td>0</td><td>0</td><td>0</td><td>0</td><td>0</td><td>0</td><td>0</td><td>0</td><td>0</td><td>0</td><td>216187899</td><td>123227102</td></tr>\n",
       "\t<tr><td>2025</td><td> 1</td><td>2025.083</td><td>0.58</td><td>NA</td><td>0</td><td>1</td><td>0</td><td>0</td><td>0</td><td>0</td><td>0</td><td>0</td><td>0</td><td>0</td><td>0</td><td>0</td><td>205019409</td><td>118911257</td></tr>\n",
       "\t<tr><td>2025</td><td> 2</td><td>2025.167</td><td>0.59</td><td>NA</td><td>0</td><td>0</td><td>1</td><td>0</td><td>0</td><td>0</td><td>0</td><td>0</td><td>0</td><td>0</td><td>0</td><td>0</td><td>239857674</td><td>141516028</td></tr>\n",
       "\t<tr><td>2025</td><td> 3</td><td>2025.250</td><td>0.60</td><td>NA</td><td>0</td><td>0</td><td>0</td><td>1</td><td>0</td><td>0</td><td>0</td><td>0</td><td>0</td><td>0</td><td>0</td><td>0</td><td>237351058</td><td>142410635</td></tr>\n",
       "\t<tr><td>2025</td><td> 4</td><td>2025.333</td><td>0.61</td><td>NA</td><td>0</td><td>0</td><td>0</td><td>0</td><td>1</td><td>0</td><td>0</td><td>0</td><td>0</td><td>0</td><td>0</td><td>0</td><td>250243521</td><td>152648548</td></tr>\n",
       "\t<tr><td>2025</td><td> 5</td><td>2025.417</td><td>0.62</td><td>NA</td><td>0</td><td>0</td><td>0</td><td>0</td><td>0</td><td>1</td><td>0</td><td>0</td><td>0</td><td>0</td><td>0</td><td>0</td><td>251194109</td><td>155740347</td></tr>\n",
       "\t<tr><td>...</td><td>...</td><td>...</td><td>...</td><td>...</td><td>...</td><td>...</td><td>...</td><td>...</td><td>...</td><td>...</td><td>...</td><td>...</td><td>...</td><td>...</td><td>...</td><td>...</td><td>...</td><td>...</td></tr>\n",
       "\t<tr><td>2040</td><td> 6</td><td>2040.500</td><td>2.43</td><td>NA</td><td>0</td><td>0</td><td>0</td><td>0</td><td>0</td><td>0</td><td>1</td><td>0</td><td>0</td><td>0</td><td>0</td><td>0</td><td>257435631</td><td>625568584</td></tr>\n",
       "\t<tr><td>2040</td><td> 7</td><td>2040.583</td><td>2.44</td><td>NA</td><td>0</td><td>0</td><td>0</td><td>0</td><td>0</td><td>0</td><td>0</td><td>1</td><td>0</td><td>0</td><td>0</td><td>0</td><td>256182838</td><td>625086125</td></tr>\n",
       "\t<tr><td>2040</td><td> 8</td><td>2040.667</td><td>2.45</td><td>NA</td><td>0</td><td>0</td><td>0</td><td>0</td><td>0</td><td>0</td><td>0</td><td>0</td><td>1</td><td>0</td><td>0</td><td>0</td><td>235208455</td><td>576260716</td></tr>\n",
       "\t<tr><td>2040</td><td> 9</td><td>2040.750</td><td>2.46</td><td>NA</td><td>0</td><td>0</td><td>0</td><td>0</td><td>0</td><td>0</td><td>0</td><td>0</td><td>0</td><td>1</td><td>0</td><td>0</td><td>248750401</td><td>611925986</td></tr>\n",
       "\t<tr><td>2040</td><td>10</td><td>2040.833</td><td>2.47</td><td>NA</td><td>0</td><td>0</td><td>0</td><td>0</td><td>0</td><td>0</td><td>0</td><td>0</td><td>0</td><td>0</td><td>1</td><td>0</td><td>231686246</td><td>572265029</td></tr>\n",
       "\t<tr><td>2040</td><td>11</td><td>2040.917</td><td>2.48</td><td>NA</td><td>0</td><td>0</td><td>0</td><td>0</td><td>0</td><td>0</td><td>0</td><td>0</td><td>0</td><td>0</td><td>0</td><td>1</td><td>235215412</td><td>583334221</td></tr>\n",
       "\t<tr><td>2041</td><td> 0</td><td>2041.000</td><td>2.49</td><td>NA</td><td>1</td><td>0</td><td>0</td><td>0</td><td>0</td><td>0</td><td>0</td><td>0</td><td>0</td><td>0</td><td>0</td><td>0</td><td>216089633</td><td>538063186</td></tr>\n",
       "\t<tr><td>2041</td><td> 1</td><td>2041.083</td><td>2.50</td><td>NA</td><td>0</td><td>1</td><td>0</td><td>0</td><td>0</td><td>0</td><td>0</td><td>0</td><td>0</td><td>0</td><td>0</td><td>0</td><td>204921144</td><td>512302860</td></tr>\n",
       "\t<tr><td>2041</td><td> 2</td><td>2041.167</td><td>2.51</td><td>NA</td><td>0</td><td>0</td><td>1</td><td>0</td><td>0</td><td>0</td><td>0</td><td>0</td><td>0</td><td>0</td><td>0</td><td>0</td><td>239759408</td><td>601796115</td></tr>\n",
       "\t<tr><td>2041</td><td> 3</td><td>2041.250</td><td>2.52</td><td>NA</td><td>0</td><td>0</td><td>0</td><td>1</td><td>0</td><td>0</td><td>0</td><td>0</td><td>0</td><td>0</td><td>0</td><td>0</td><td>237252793</td><td>597877038</td></tr>\n",
       "\t<tr><td>2041</td><td> 4</td><td>2041.333</td><td>2.53</td><td>NA</td><td>0</td><td>0</td><td>0</td><td>0</td><td>1</td><td>0</td><td>0</td><td>0</td><td>0</td><td>0</td><td>0</td><td>0</td><td>250145255</td><td>632867496</td></tr>\n",
       "\t<tr><td>2041</td><td> 5</td><td>2041.417</td><td>2.54</td><td>NA</td><td>0</td><td>0</td><td>0</td><td>0</td><td>0</td><td>1</td><td>0</td><td>0</td><td>0</td><td>0</td><td>0</td><td>0</td><td>251095843</td><td>637783441</td></tr>\n",
       "\t<tr><td>2041</td><td> 6</td><td>2041.500</td><td>2.55</td><td>NA</td><td>0</td><td>0</td><td>0</td><td>0</td><td>0</td><td>0</td><td>1</td><td>0</td><td>0</td><td>0</td><td>0</td><td>0</td><td>257429490</td><td>656445199</td></tr>\n",
       "\t<tr><td>2041</td><td> 7</td><td>2041.583</td><td>2.56</td><td>NA</td><td>0</td><td>0</td><td>0</td><td>0</td><td>0</td><td>0</td><td>0</td><td>1</td><td>0</td><td>0</td><td>0</td><td>0</td><td>256176696</td><td>655812343</td></tr>\n",
       "\t<tr><td>2041</td><td> 8</td><td>2041.667</td><td>2.57</td><td>NA</td><td>0</td><td>0</td><td>0</td><td>0</td><td>0</td><td>0</td><td>0</td><td>0</td><td>1</td><td>0</td><td>0</td><td>0</td><td>235202314</td><td>604469947</td></tr>\n",
       "\t<tr><td>2041</td><td> 9</td><td>2041.750</td><td>2.58</td><td>NA</td><td>0</td><td>0</td><td>0</td><td>0</td><td>0</td><td>0</td><td>0</td><td>0</td><td>0</td><td>1</td><td>0</td><td>0</td><td>248744259</td><td>641760189</td></tr>\n",
       "\t<tr><td>2041</td><td>10</td><td>2041.833</td><td>2.59</td><td>NA</td><td>0</td><td>0</td><td>0</td><td>0</td><td>0</td><td>0</td><td>0</td><td>0</td><td>0</td><td>0</td><td>1</td><td>0</td><td>231680105</td><td>600051472</td></tr>\n",
       "\t<tr><td>2041</td><td>11</td><td>2041.917</td><td>2.60</td><td>NA</td><td>0</td><td>0</td><td>0</td><td>0</td><td>0</td><td>0</td><td>0</td><td>0</td><td>0</td><td>0</td><td>0</td><td>1</td><td>235209270</td><td>611544102</td></tr>\n",
       "\t<tr><td>2042</td><td> 0</td><td>2042.000</td><td>2.61</td><td>NA</td><td>1</td><td>0</td><td>0</td><td>0</td><td>0</td><td>0</td><td>0</td><td>0</td><td>0</td><td>0</td><td>0</td><td>0</td><td>216083491</td><td>563977913</td></tr>\n",
       "\t<tr><td>2042</td><td> 1</td><td>2042.083</td><td>2.62</td><td>NA</td><td>0</td><td>1</td><td>0</td><td>0</td><td>0</td><td>0</td><td>0</td><td>0</td><td>0</td><td>0</td><td>0</td><td>0</td><td>204915002</td><td>536877306</td></tr>\n",
       "\t<tr><td>2042</td><td> 2</td><td>2042.167</td><td>2.63</td><td>NA</td><td>0</td><td>0</td><td>1</td><td>0</td><td>0</td><td>0</td><td>0</td><td>0</td><td>0</td><td>0</td><td>0</td><td>0</td><td>239753267</td><td>630551091</td></tr>\n",
       "\t<tr><td>2042</td><td> 3</td><td>2042.250</td><td>2.64</td><td>NA</td><td>0</td><td>0</td><td>0</td><td>1</td><td>0</td><td>0</td><td>0</td><td>0</td><td>0</td><td>0</td><td>0</td><td>0</td><td>237246651</td><td>626331159</td></tr>\n",
       "\t<tr><td>2042</td><td> 4</td><td>2042.333</td><td>2.65</td><td>NA</td><td>0</td><td>0</td><td>0</td><td>0</td><td>1</td><td>0</td><td>0</td><td>0</td><td>0</td><td>0</td><td>0</td><td>0</td><td>250139114</td><td>662868651</td></tr>\n",
       "\t<tr><td>2042</td><td> 5</td><td>2042.417</td><td>2.66</td><td>NA</td><td>0</td><td>0</td><td>0</td><td>0</td><td>0</td><td>1</td><td>0</td><td>0</td><td>0</td><td>0</td><td>0</td><td>0</td><td>251089701</td><td>667898606</td></tr>\n",
       "\t<tr><td>2042</td><td> 6</td><td>2042.500</td><td>2.67</td><td>NA</td><td>0</td><td>0</td><td>0</td><td>0</td><td>0</td><td>0</td><td>1</td><td>0</td><td>0</td><td>0</td><td>0</td><td>0</td><td>257423348</td><td>687320339</td></tr>\n",
       "\t<tr><td>2042</td><td> 7</td><td>2042.583</td><td>2.68</td><td>NA</td><td>0</td><td>0</td><td>0</td><td>0</td><td>0</td><td>0</td><td>0</td><td>1</td><td>0</td><td>0</td><td>0</td><td>0</td><td>256170555</td><td>686537087</td></tr>\n",
       "\t<tr><td>2042</td><td> 8</td><td>2042.667</td><td>2.69</td><td>NA</td><td>0</td><td>0</td><td>0</td><td>0</td><td>0</td><td>0</td><td>0</td><td>0</td><td>1</td><td>0</td><td>0</td><td>0</td><td>235196172</td><td>632677703</td></tr>\n",
       "\t<tr><td>2042</td><td> 9</td><td>2042.750</td><td>2.70</td><td>NA</td><td>0</td><td>0</td><td>0</td><td>0</td><td>0</td><td>0</td><td>0</td><td>0</td><td>0</td><td>1</td><td>0</td><td>0</td><td>248738118</td><td>671592918</td></tr>\n",
       "\t<tr><td>2042</td><td>10</td><td>2042.833</td><td>2.71</td><td>NA</td><td>0</td><td>0</td><td>0</td><td>0</td><td>0</td><td>0</td><td>0</td><td>0</td><td>0</td><td>0</td><td>1</td><td>0</td><td>231673963</td><td>627836440</td></tr>\n",
       "\t<tr><td>2042</td><td>11</td><td>2042.917</td><td>2.72</td><td>NA</td><td>0</td><td>0</td><td>0</td><td>0</td><td>0</td><td>0</td><td>0</td><td>0</td><td>0</td><td>0</td><td>0</td><td>1</td><td>235203128</td><td>639752509</td></tr>\n",
       "</tbody>\n",
       "</table>\n"
      ],
      "text/latex": [
       "A data.frame: 240 x 19\n",
       "\\begin{tabular}{lllllllllllllllllll}\n",
       " year & mnth & time & rate & rev & mnth\\_0 & mnth\\_1 & mnth\\_2 & mnth\\_3 & mnth\\_4 & mnth\\_5 & mnth\\_6 & mnth\\_7 & mnth\\_8 & mnth\\_9 & mnth\\_10 & mnth\\_11 & gas.base & rev.static\\\\\n",
       " <int> & <int> & <dbl> & <dbl> & <lgl> & <int> & <int> & <int> & <int> & <int> & <int> & <int> & <int> & <int> & <int> & <int> & <int> & <dbl> & <dbl>\\\\\n",
       "\\hline\n",
       "\t 2023 &  0 & 2023.000 & 0.33 & NA & 1 & 0 & 0 & 0 & 0 & 0 & 0 & 0 & 0 & 0 & 0 & 0 & 216200182 &  71346060\\\\\n",
       "\t 2023 &  1 & 2023.083 & 0.34 & NA & 0 & 1 & 0 & 0 & 0 & 0 & 0 & 0 & 0 & 0 & 0 & 0 & 205031693 &  69710775\\\\\n",
       "\t 2023 &  2 & 2023.167 & 0.35 & NA & 0 & 0 & 1 & 0 & 0 & 0 & 0 & 0 & 0 & 0 & 0 & 0 & 239869957 &  83954485\\\\\n",
       "\t 2023 &  3 & 2023.250 & 0.36 & NA & 0 & 0 & 0 & 1 & 0 & 0 & 0 & 0 & 0 & 0 & 0 & 0 & 237363342 &  85450803\\\\\n",
       "\t 2023 &  4 & 2023.333 & 0.37 & NA & 0 & 0 & 0 & 0 & 1 & 0 & 0 & 0 & 0 & 0 & 0 & 0 & 250255804 &  92594647\\\\\n",
       "\t 2023 &  5 & 2023.417 & 0.38 & NA & 0 & 0 & 0 & 0 & 0 & 1 & 0 & 0 & 0 & 0 & 0 & 0 & 251206392 &  95458429\\\\\n",
       "\t 2023 &  6 & 2023.500 & 0.39 & NA & 0 & 0 & 0 & 0 & 0 & 0 & 1 & 0 & 0 & 0 & 0 & 0 & 257540038 & 100440615\\\\\n",
       "\t 2023 &  7 & 2023.583 & 0.40 & NA & 0 & 0 & 0 & 0 & 0 & 0 & 0 & 1 & 0 & 0 & 0 & 0 & 256287245 & 102514898\\\\\n",
       "\t 2023 &  8 & 2023.667 & 0.41 & NA & 0 & 0 & 0 & 0 & 0 & 0 & 0 & 0 & 1 & 0 & 0 & 0 & 235312863 &  96478274\\\\\n",
       "\t 2023 &  9 & 2023.750 & 0.42 & NA & 0 & 0 & 0 & 0 & 0 & 0 & 0 & 0 & 0 & 1 & 0 & 0 & 248854808 & 104519019\\\\\n",
       "\t 2023 & 10 & 2023.833 & 0.43 & NA & 0 & 0 & 0 & 0 & 0 & 0 & 0 & 0 & 0 & 0 & 1 & 0 & 231790654 &  99669981\\\\\n",
       "\t 2023 & 11 & 2023.917 & 0.44 & NA & 0 & 0 & 0 & 0 & 0 & 0 & 0 & 0 & 0 & 0 & 0 & 1 & 235319819 & 103540720\\\\\n",
       "\t 2024 &  0 & 2024.000 & 0.45 & NA & 1 & 0 & 0 & 0 & 0 & 0 & 0 & 0 & 0 & 0 & 0 & 0 & 216194040 &  97287318\\\\\n",
       "\t 2024 &  1 & 2024.083 & 0.46 & NA & 0 & 1 & 0 & 0 & 0 & 0 & 0 & 0 & 0 & 0 & 0 & 0 & 205025551 &  94311753\\\\\n",
       "\t 2024 &  2 & 2024.167 & 0.47 & NA & 0 & 0 & 1 & 0 & 0 & 0 & 0 & 0 & 0 & 0 & 0 & 0 & 239863815 & 112735993\\\\\n",
       "\t 2024 &  3 & 2024.250 & 0.48 & NA & 0 & 0 & 0 & 1 & 0 & 0 & 0 & 0 & 0 & 0 & 0 & 0 & 237357200 & 113931456\\\\\n",
       "\t 2024 &  4 & 2024.333 & 0.49 & NA & 0 & 0 & 0 & 0 & 1 & 0 & 0 & 0 & 0 & 0 & 0 & 0 & 250249662 & 122622335\\\\\n",
       "\t 2024 &  5 & 2024.417 & 0.50 & NA & 0 & 0 & 0 & 0 & 0 & 1 & 0 & 0 & 0 & 0 & 0 & 0 & 251200250 & 125600125\\\\\n",
       "\t 2024 &  6 & 2024.500 & 0.51 & NA & 0 & 0 & 0 & 0 & 0 & 0 & 1 & 0 & 0 & 0 & 0 & 0 & 257533897 & 131342287\\\\\n",
       "\t 2024 &  7 & 2024.583 & 0.52 & NA & 0 & 0 & 0 & 0 & 0 & 0 & 0 & 1 & 0 & 0 & 0 & 0 & 256281104 & 133266174\\\\\n",
       "\t 2024 &  8 & 2024.667 & 0.53 & NA & 0 & 0 & 0 & 0 & 0 & 0 & 0 & 0 & 1 & 0 & 0 & 0 & 235306721 & 124712562\\\\\n",
       "\t 2024 &  9 & 2024.750 & 0.54 & NA & 0 & 0 & 0 & 0 & 0 & 0 & 0 & 0 & 0 & 1 & 0 & 0 & 248848666 & 134378280\\\\\n",
       "\t 2024 & 10 & 2024.833 & 0.55 & NA & 0 & 0 & 0 & 0 & 0 & 0 & 0 & 0 & 0 & 0 & 1 & 0 & 231784512 & 127481482\\\\\n",
       "\t 2024 & 11 & 2024.917 & 0.56 & NA & 0 & 0 & 0 & 0 & 0 & 0 & 0 & 0 & 0 & 0 & 0 & 1 & 235313677 & 131775659\\\\\n",
       "\t 2025 &  0 & 2025.000 & 0.57 & NA & 1 & 0 & 0 & 0 & 0 & 0 & 0 & 0 & 0 & 0 & 0 & 0 & 216187899 & 123227102\\\\\n",
       "\t 2025 &  1 & 2025.083 & 0.58 & NA & 0 & 1 & 0 & 0 & 0 & 0 & 0 & 0 & 0 & 0 & 0 & 0 & 205019409 & 118911257\\\\\n",
       "\t 2025 &  2 & 2025.167 & 0.59 & NA & 0 & 0 & 1 & 0 & 0 & 0 & 0 & 0 & 0 & 0 & 0 & 0 & 239857674 & 141516028\\\\\n",
       "\t 2025 &  3 & 2025.250 & 0.60 & NA & 0 & 0 & 0 & 1 & 0 & 0 & 0 & 0 & 0 & 0 & 0 & 0 & 237351058 & 142410635\\\\\n",
       "\t 2025 &  4 & 2025.333 & 0.61 & NA & 0 & 0 & 0 & 0 & 1 & 0 & 0 & 0 & 0 & 0 & 0 & 0 & 250243521 & 152648548\\\\\n",
       "\t 2025 &  5 & 2025.417 & 0.62 & NA & 0 & 0 & 0 & 0 & 0 & 1 & 0 & 0 & 0 & 0 & 0 & 0 & 251194109 & 155740347\\\\\n",
       "\t ... & ... & ... & ... & ... & ... & ... & ... & ... & ... & ... & ... & ... & ... & ... & ... & ... & ... & ...\\\\\n",
       "\t 2040 &  6 & 2040.500 & 2.43 & NA & 0 & 0 & 0 & 0 & 0 & 0 & 1 & 0 & 0 & 0 & 0 & 0 & 257435631 & 625568584\\\\\n",
       "\t 2040 &  7 & 2040.583 & 2.44 & NA & 0 & 0 & 0 & 0 & 0 & 0 & 0 & 1 & 0 & 0 & 0 & 0 & 256182838 & 625086125\\\\\n",
       "\t 2040 &  8 & 2040.667 & 2.45 & NA & 0 & 0 & 0 & 0 & 0 & 0 & 0 & 0 & 1 & 0 & 0 & 0 & 235208455 & 576260716\\\\\n",
       "\t 2040 &  9 & 2040.750 & 2.46 & NA & 0 & 0 & 0 & 0 & 0 & 0 & 0 & 0 & 0 & 1 & 0 & 0 & 248750401 & 611925986\\\\\n",
       "\t 2040 & 10 & 2040.833 & 2.47 & NA & 0 & 0 & 0 & 0 & 0 & 0 & 0 & 0 & 0 & 0 & 1 & 0 & 231686246 & 572265029\\\\\n",
       "\t 2040 & 11 & 2040.917 & 2.48 & NA & 0 & 0 & 0 & 0 & 0 & 0 & 0 & 0 & 0 & 0 & 0 & 1 & 235215412 & 583334221\\\\\n",
       "\t 2041 &  0 & 2041.000 & 2.49 & NA & 1 & 0 & 0 & 0 & 0 & 0 & 0 & 0 & 0 & 0 & 0 & 0 & 216089633 & 538063186\\\\\n",
       "\t 2041 &  1 & 2041.083 & 2.50 & NA & 0 & 1 & 0 & 0 & 0 & 0 & 0 & 0 & 0 & 0 & 0 & 0 & 204921144 & 512302860\\\\\n",
       "\t 2041 &  2 & 2041.167 & 2.51 & NA & 0 & 0 & 1 & 0 & 0 & 0 & 0 & 0 & 0 & 0 & 0 & 0 & 239759408 & 601796115\\\\\n",
       "\t 2041 &  3 & 2041.250 & 2.52 & NA & 0 & 0 & 0 & 1 & 0 & 0 & 0 & 0 & 0 & 0 & 0 & 0 & 237252793 & 597877038\\\\\n",
       "\t 2041 &  4 & 2041.333 & 2.53 & NA & 0 & 0 & 0 & 0 & 1 & 0 & 0 & 0 & 0 & 0 & 0 & 0 & 250145255 & 632867496\\\\\n",
       "\t 2041 &  5 & 2041.417 & 2.54 & NA & 0 & 0 & 0 & 0 & 0 & 1 & 0 & 0 & 0 & 0 & 0 & 0 & 251095843 & 637783441\\\\\n",
       "\t 2041 &  6 & 2041.500 & 2.55 & NA & 0 & 0 & 0 & 0 & 0 & 0 & 1 & 0 & 0 & 0 & 0 & 0 & 257429490 & 656445199\\\\\n",
       "\t 2041 &  7 & 2041.583 & 2.56 & NA & 0 & 0 & 0 & 0 & 0 & 0 & 0 & 1 & 0 & 0 & 0 & 0 & 256176696 & 655812343\\\\\n",
       "\t 2041 &  8 & 2041.667 & 2.57 & NA & 0 & 0 & 0 & 0 & 0 & 0 & 0 & 0 & 1 & 0 & 0 & 0 & 235202314 & 604469947\\\\\n",
       "\t 2041 &  9 & 2041.750 & 2.58 & NA & 0 & 0 & 0 & 0 & 0 & 0 & 0 & 0 & 0 & 1 & 0 & 0 & 248744259 & 641760189\\\\\n",
       "\t 2041 & 10 & 2041.833 & 2.59 & NA & 0 & 0 & 0 & 0 & 0 & 0 & 0 & 0 & 0 & 0 & 1 & 0 & 231680105 & 600051472\\\\\n",
       "\t 2041 & 11 & 2041.917 & 2.60 & NA & 0 & 0 & 0 & 0 & 0 & 0 & 0 & 0 & 0 & 0 & 0 & 1 & 235209270 & 611544102\\\\\n",
       "\t 2042 &  0 & 2042.000 & 2.61 & NA & 1 & 0 & 0 & 0 & 0 & 0 & 0 & 0 & 0 & 0 & 0 & 0 & 216083491 & 563977913\\\\\n",
       "\t 2042 &  1 & 2042.083 & 2.62 & NA & 0 & 1 & 0 & 0 & 0 & 0 & 0 & 0 & 0 & 0 & 0 & 0 & 204915002 & 536877306\\\\\n",
       "\t 2042 &  2 & 2042.167 & 2.63 & NA & 0 & 0 & 1 & 0 & 0 & 0 & 0 & 0 & 0 & 0 & 0 & 0 & 239753267 & 630551091\\\\\n",
       "\t 2042 &  3 & 2042.250 & 2.64 & NA & 0 & 0 & 0 & 1 & 0 & 0 & 0 & 0 & 0 & 0 & 0 & 0 & 237246651 & 626331159\\\\\n",
       "\t 2042 &  4 & 2042.333 & 2.65 & NA & 0 & 0 & 0 & 0 & 1 & 0 & 0 & 0 & 0 & 0 & 0 & 0 & 250139114 & 662868651\\\\\n",
       "\t 2042 &  5 & 2042.417 & 2.66 & NA & 0 & 0 & 0 & 0 & 0 & 1 & 0 & 0 & 0 & 0 & 0 & 0 & 251089701 & 667898606\\\\\n",
       "\t 2042 &  6 & 2042.500 & 2.67 & NA & 0 & 0 & 0 & 0 & 0 & 0 & 1 & 0 & 0 & 0 & 0 & 0 & 257423348 & 687320339\\\\\n",
       "\t 2042 &  7 & 2042.583 & 2.68 & NA & 0 & 0 & 0 & 0 & 0 & 0 & 0 & 1 & 0 & 0 & 0 & 0 & 256170555 & 686537087\\\\\n",
       "\t 2042 &  8 & 2042.667 & 2.69 & NA & 0 & 0 & 0 & 0 & 0 & 0 & 0 & 0 & 1 & 0 & 0 & 0 & 235196172 & 632677703\\\\\n",
       "\t 2042 &  9 & 2042.750 & 2.70 & NA & 0 & 0 & 0 & 0 & 0 & 0 & 0 & 0 & 0 & 1 & 0 & 0 & 248738118 & 671592918\\\\\n",
       "\t 2042 & 10 & 2042.833 & 2.71 & NA & 0 & 0 & 0 & 0 & 0 & 0 & 0 & 0 & 0 & 0 & 1 & 0 & 231673963 & 627836440\\\\\n",
       "\t 2042 & 11 & 2042.917 & 2.72 & NA & 0 & 0 & 0 & 0 & 0 & 0 & 0 & 0 & 0 & 0 & 0 & 1 & 235203128 & 639752509\\\\\n",
       "\\end{tabular}\n"
      ],
      "text/markdown": [
       "\n",
       "A data.frame: 240 x 19\n",
       "\n",
       "| year &lt;int&gt; | mnth &lt;int&gt; | time &lt;dbl&gt; | rate &lt;dbl&gt; | rev &lt;lgl&gt; | mnth_0 &lt;int&gt; | mnth_1 &lt;int&gt; | mnth_2 &lt;int&gt; | mnth_3 &lt;int&gt; | mnth_4 &lt;int&gt; | mnth_5 &lt;int&gt; | mnth_6 &lt;int&gt; | mnth_7 &lt;int&gt; | mnth_8 &lt;int&gt; | mnth_9 &lt;int&gt; | mnth_10 &lt;int&gt; | mnth_11 &lt;int&gt; | gas.base &lt;dbl&gt; | rev.static &lt;dbl&gt; |\n",
       "|---|---|---|---|---|---|---|---|---|---|---|---|---|---|---|---|---|---|---|\n",
       "| 2023 |  0 | 2023.000 | 0.33 | NA | 1 | 0 | 0 | 0 | 0 | 0 | 0 | 0 | 0 | 0 | 0 | 0 | 216200182 |  71346060 |\n",
       "| 2023 |  1 | 2023.083 | 0.34 | NA | 0 | 1 | 0 | 0 | 0 | 0 | 0 | 0 | 0 | 0 | 0 | 0 | 205031693 |  69710775 |\n",
       "| 2023 |  2 | 2023.167 | 0.35 | NA | 0 | 0 | 1 | 0 | 0 | 0 | 0 | 0 | 0 | 0 | 0 | 0 | 239869957 |  83954485 |\n",
       "| 2023 |  3 | 2023.250 | 0.36 | NA | 0 | 0 | 0 | 1 | 0 | 0 | 0 | 0 | 0 | 0 | 0 | 0 | 237363342 |  85450803 |\n",
       "| 2023 |  4 | 2023.333 | 0.37 | NA | 0 | 0 | 0 | 0 | 1 | 0 | 0 | 0 | 0 | 0 | 0 | 0 | 250255804 |  92594647 |\n",
       "| 2023 |  5 | 2023.417 | 0.38 | NA | 0 | 0 | 0 | 0 | 0 | 1 | 0 | 0 | 0 | 0 | 0 | 0 | 251206392 |  95458429 |\n",
       "| 2023 |  6 | 2023.500 | 0.39 | NA | 0 | 0 | 0 | 0 | 0 | 0 | 1 | 0 | 0 | 0 | 0 | 0 | 257540038 | 100440615 |\n",
       "| 2023 |  7 | 2023.583 | 0.40 | NA | 0 | 0 | 0 | 0 | 0 | 0 | 0 | 1 | 0 | 0 | 0 | 0 | 256287245 | 102514898 |\n",
       "| 2023 |  8 | 2023.667 | 0.41 | NA | 0 | 0 | 0 | 0 | 0 | 0 | 0 | 0 | 1 | 0 | 0 | 0 | 235312863 |  96478274 |\n",
       "| 2023 |  9 | 2023.750 | 0.42 | NA | 0 | 0 | 0 | 0 | 0 | 0 | 0 | 0 | 0 | 1 | 0 | 0 | 248854808 | 104519019 |\n",
       "| 2023 | 10 | 2023.833 | 0.43 | NA | 0 | 0 | 0 | 0 | 0 | 0 | 0 | 0 | 0 | 0 | 1 | 0 | 231790654 |  99669981 |\n",
       "| 2023 | 11 | 2023.917 | 0.44 | NA | 0 | 0 | 0 | 0 | 0 | 0 | 0 | 0 | 0 | 0 | 0 | 1 | 235319819 | 103540720 |\n",
       "| 2024 |  0 | 2024.000 | 0.45 | NA | 1 | 0 | 0 | 0 | 0 | 0 | 0 | 0 | 0 | 0 | 0 | 0 | 216194040 |  97287318 |\n",
       "| 2024 |  1 | 2024.083 | 0.46 | NA | 0 | 1 | 0 | 0 | 0 | 0 | 0 | 0 | 0 | 0 | 0 | 0 | 205025551 |  94311753 |\n",
       "| 2024 |  2 | 2024.167 | 0.47 | NA | 0 | 0 | 1 | 0 | 0 | 0 | 0 | 0 | 0 | 0 | 0 | 0 | 239863815 | 112735993 |\n",
       "| 2024 |  3 | 2024.250 | 0.48 | NA | 0 | 0 | 0 | 1 | 0 | 0 | 0 | 0 | 0 | 0 | 0 | 0 | 237357200 | 113931456 |\n",
       "| 2024 |  4 | 2024.333 | 0.49 | NA | 0 | 0 | 0 | 0 | 1 | 0 | 0 | 0 | 0 | 0 | 0 | 0 | 250249662 | 122622335 |\n",
       "| 2024 |  5 | 2024.417 | 0.50 | NA | 0 | 0 | 0 | 0 | 0 | 1 | 0 | 0 | 0 | 0 | 0 | 0 | 251200250 | 125600125 |\n",
       "| 2024 |  6 | 2024.500 | 0.51 | NA | 0 | 0 | 0 | 0 | 0 | 0 | 1 | 0 | 0 | 0 | 0 | 0 | 257533897 | 131342287 |\n",
       "| 2024 |  7 | 2024.583 | 0.52 | NA | 0 | 0 | 0 | 0 | 0 | 0 | 0 | 1 | 0 | 0 | 0 | 0 | 256281104 | 133266174 |\n",
       "| 2024 |  8 | 2024.667 | 0.53 | NA | 0 | 0 | 0 | 0 | 0 | 0 | 0 | 0 | 1 | 0 | 0 | 0 | 235306721 | 124712562 |\n",
       "| 2024 |  9 | 2024.750 | 0.54 | NA | 0 | 0 | 0 | 0 | 0 | 0 | 0 | 0 | 0 | 1 | 0 | 0 | 248848666 | 134378280 |\n",
       "| 2024 | 10 | 2024.833 | 0.55 | NA | 0 | 0 | 0 | 0 | 0 | 0 | 0 | 0 | 0 | 0 | 1 | 0 | 231784512 | 127481482 |\n",
       "| 2024 | 11 | 2024.917 | 0.56 | NA | 0 | 0 | 0 | 0 | 0 | 0 | 0 | 0 | 0 | 0 | 0 | 1 | 235313677 | 131775659 |\n",
       "| 2025 |  0 | 2025.000 | 0.57 | NA | 1 | 0 | 0 | 0 | 0 | 0 | 0 | 0 | 0 | 0 | 0 | 0 | 216187899 | 123227102 |\n",
       "| 2025 |  1 | 2025.083 | 0.58 | NA | 0 | 1 | 0 | 0 | 0 | 0 | 0 | 0 | 0 | 0 | 0 | 0 | 205019409 | 118911257 |\n",
       "| 2025 |  2 | 2025.167 | 0.59 | NA | 0 | 0 | 1 | 0 | 0 | 0 | 0 | 0 | 0 | 0 | 0 | 0 | 239857674 | 141516028 |\n",
       "| 2025 |  3 | 2025.250 | 0.60 | NA | 0 | 0 | 0 | 1 | 0 | 0 | 0 | 0 | 0 | 0 | 0 | 0 | 237351058 | 142410635 |\n",
       "| 2025 |  4 | 2025.333 | 0.61 | NA | 0 | 0 | 0 | 0 | 1 | 0 | 0 | 0 | 0 | 0 | 0 | 0 | 250243521 | 152648548 |\n",
       "| 2025 |  5 | 2025.417 | 0.62 | NA | 0 | 0 | 0 | 0 | 0 | 1 | 0 | 0 | 0 | 0 | 0 | 0 | 251194109 | 155740347 |\n",
       "| ... | ... | ... | ... | ... | ... | ... | ... | ... | ... | ... | ... | ... | ... | ... | ... | ... | ... | ... |\n",
       "| 2040 |  6 | 2040.500 | 2.43 | NA | 0 | 0 | 0 | 0 | 0 | 0 | 1 | 0 | 0 | 0 | 0 | 0 | 257435631 | 625568584 |\n",
       "| 2040 |  7 | 2040.583 | 2.44 | NA | 0 | 0 | 0 | 0 | 0 | 0 | 0 | 1 | 0 | 0 | 0 | 0 | 256182838 | 625086125 |\n",
       "| 2040 |  8 | 2040.667 | 2.45 | NA | 0 | 0 | 0 | 0 | 0 | 0 | 0 | 0 | 1 | 0 | 0 | 0 | 235208455 | 576260716 |\n",
       "| 2040 |  9 | 2040.750 | 2.46 | NA | 0 | 0 | 0 | 0 | 0 | 0 | 0 | 0 | 0 | 1 | 0 | 0 | 248750401 | 611925986 |\n",
       "| 2040 | 10 | 2040.833 | 2.47 | NA | 0 | 0 | 0 | 0 | 0 | 0 | 0 | 0 | 0 | 0 | 1 | 0 | 231686246 | 572265029 |\n",
       "| 2040 | 11 | 2040.917 | 2.48 | NA | 0 | 0 | 0 | 0 | 0 | 0 | 0 | 0 | 0 | 0 | 0 | 1 | 235215412 | 583334221 |\n",
       "| 2041 |  0 | 2041.000 | 2.49 | NA | 1 | 0 | 0 | 0 | 0 | 0 | 0 | 0 | 0 | 0 | 0 | 0 | 216089633 | 538063186 |\n",
       "| 2041 |  1 | 2041.083 | 2.50 | NA | 0 | 1 | 0 | 0 | 0 | 0 | 0 | 0 | 0 | 0 | 0 | 0 | 204921144 | 512302860 |\n",
       "| 2041 |  2 | 2041.167 | 2.51 | NA | 0 | 0 | 1 | 0 | 0 | 0 | 0 | 0 | 0 | 0 | 0 | 0 | 239759408 | 601796115 |\n",
       "| 2041 |  3 | 2041.250 | 2.52 | NA | 0 | 0 | 0 | 1 | 0 | 0 | 0 | 0 | 0 | 0 | 0 | 0 | 237252793 | 597877038 |\n",
       "| 2041 |  4 | 2041.333 | 2.53 | NA | 0 | 0 | 0 | 0 | 1 | 0 | 0 | 0 | 0 | 0 | 0 | 0 | 250145255 | 632867496 |\n",
       "| 2041 |  5 | 2041.417 | 2.54 | NA | 0 | 0 | 0 | 0 | 0 | 1 | 0 | 0 | 0 | 0 | 0 | 0 | 251095843 | 637783441 |\n",
       "| 2041 |  6 | 2041.500 | 2.55 | NA | 0 | 0 | 0 | 0 | 0 | 0 | 1 | 0 | 0 | 0 | 0 | 0 | 257429490 | 656445199 |\n",
       "| 2041 |  7 | 2041.583 | 2.56 | NA | 0 | 0 | 0 | 0 | 0 | 0 | 0 | 1 | 0 | 0 | 0 | 0 | 256176696 | 655812343 |\n",
       "| 2041 |  8 | 2041.667 | 2.57 | NA | 0 | 0 | 0 | 0 | 0 | 0 | 0 | 0 | 1 | 0 | 0 | 0 | 235202314 | 604469947 |\n",
       "| 2041 |  9 | 2041.750 | 2.58 | NA | 0 | 0 | 0 | 0 | 0 | 0 | 0 | 0 | 0 | 1 | 0 | 0 | 248744259 | 641760189 |\n",
       "| 2041 | 10 | 2041.833 | 2.59 | NA | 0 | 0 | 0 | 0 | 0 | 0 | 0 | 0 | 0 | 0 | 1 | 0 | 231680105 | 600051472 |\n",
       "| 2041 | 11 | 2041.917 | 2.60 | NA | 0 | 0 | 0 | 0 | 0 | 0 | 0 | 0 | 0 | 0 | 0 | 1 | 235209270 | 611544102 |\n",
       "| 2042 |  0 | 2042.000 | 2.61 | NA | 1 | 0 | 0 | 0 | 0 | 0 | 0 | 0 | 0 | 0 | 0 | 0 | 216083491 | 563977913 |\n",
       "| 2042 |  1 | 2042.083 | 2.62 | NA | 0 | 1 | 0 | 0 | 0 | 0 | 0 | 0 | 0 | 0 | 0 | 0 | 204915002 | 536877306 |\n",
       "| 2042 |  2 | 2042.167 | 2.63 | NA | 0 | 0 | 1 | 0 | 0 | 0 | 0 | 0 | 0 | 0 | 0 | 0 | 239753267 | 630551091 |\n",
       "| 2042 |  3 | 2042.250 | 2.64 | NA | 0 | 0 | 0 | 1 | 0 | 0 | 0 | 0 | 0 | 0 | 0 | 0 | 237246651 | 626331159 |\n",
       "| 2042 |  4 | 2042.333 | 2.65 | NA | 0 | 0 | 0 | 0 | 1 | 0 | 0 | 0 | 0 | 0 | 0 | 0 | 250139114 | 662868651 |\n",
       "| 2042 |  5 | 2042.417 | 2.66 | NA | 0 | 0 | 0 | 0 | 0 | 1 | 0 | 0 | 0 | 0 | 0 | 0 | 251089701 | 667898606 |\n",
       "| 2042 |  6 | 2042.500 | 2.67 | NA | 0 | 0 | 0 | 0 | 0 | 0 | 1 | 0 | 0 | 0 | 0 | 0 | 257423348 | 687320339 |\n",
       "| 2042 |  7 | 2042.583 | 2.68 | NA | 0 | 0 | 0 | 0 | 0 | 0 | 0 | 1 | 0 | 0 | 0 | 0 | 256170555 | 686537087 |\n",
       "| 2042 |  8 | 2042.667 | 2.69 | NA | 0 | 0 | 0 | 0 | 0 | 0 | 0 | 0 | 1 | 0 | 0 | 0 | 235196172 | 632677703 |\n",
       "| 2042 |  9 | 2042.750 | 2.70 | NA | 0 | 0 | 0 | 0 | 0 | 0 | 0 | 0 | 0 | 1 | 0 | 0 | 248738118 | 671592918 |\n",
       "| 2042 | 10 | 2042.833 | 2.71 | NA | 0 | 0 | 0 | 0 | 0 | 0 | 0 | 0 | 0 | 0 | 1 | 0 | 231673963 | 627836440 |\n",
       "| 2042 | 11 | 2042.917 | 2.72 | NA | 0 | 0 | 0 | 0 | 0 | 0 | 0 | 0 | 0 | 0 | 0 | 1 | 235203128 | 639752509 |\n",
       "\n"
      ],
      "text/plain": [
       "    year mnth time     rate rev mnth_0 mnth_1 mnth_2 mnth_3 mnth_4 mnth_5\n",
       "1   2023  0   2023.000 0.33 NA  1      0      0      0      0      0     \n",
       "2   2023  1   2023.083 0.34 NA  0      1      0      0      0      0     \n",
       "3   2023  2   2023.167 0.35 NA  0      0      1      0      0      0     \n",
       "4   2023  3   2023.250 0.36 NA  0      0      0      1      0      0     \n",
       "5   2023  4   2023.333 0.37 NA  0      0      0      0      1      0     \n",
       "6   2023  5   2023.417 0.38 NA  0      0      0      0      0      1     \n",
       "7   2023  6   2023.500 0.39 NA  0      0      0      0      0      0     \n",
       "8   2023  7   2023.583 0.40 NA  0      0      0      0      0      0     \n",
       "9   2023  8   2023.667 0.41 NA  0      0      0      0      0      0     \n",
       "10  2023  9   2023.750 0.42 NA  0      0      0      0      0      0     \n",
       "11  2023 10   2023.833 0.43 NA  0      0      0      0      0      0     \n",
       "12  2023 11   2023.917 0.44 NA  0      0      0      0      0      0     \n",
       "13  2024  0   2024.000 0.45 NA  1      0      0      0      0      0     \n",
       "14  2024  1   2024.083 0.46 NA  0      1      0      0      0      0     \n",
       "15  2024  2   2024.167 0.47 NA  0      0      1      0      0      0     \n",
       "16  2024  3   2024.250 0.48 NA  0      0      0      1      0      0     \n",
       "17  2024  4   2024.333 0.49 NA  0      0      0      0      1      0     \n",
       "18  2024  5   2024.417 0.50 NA  0      0      0      0      0      1     \n",
       "19  2024  6   2024.500 0.51 NA  0      0      0      0      0      0     \n",
       "20  2024  7   2024.583 0.52 NA  0      0      0      0      0      0     \n",
       "21  2024  8   2024.667 0.53 NA  0      0      0      0      0      0     \n",
       "22  2024  9   2024.750 0.54 NA  0      0      0      0      0      0     \n",
       "23  2024 10   2024.833 0.55 NA  0      0      0      0      0      0     \n",
       "24  2024 11   2024.917 0.56 NA  0      0      0      0      0      0     \n",
       "25  2025  0   2025.000 0.57 NA  1      0      0      0      0      0     \n",
       "26  2025  1   2025.083 0.58 NA  0      1      0      0      0      0     \n",
       "27  2025  2   2025.167 0.59 NA  0      0      1      0      0      0     \n",
       "28  2025  3   2025.250 0.60 NA  0      0      0      1      0      0     \n",
       "29  2025  4   2025.333 0.61 NA  0      0      0      0      1      0     \n",
       "30  2025  5   2025.417 0.62 NA  0      0      0      0      0      1     \n",
       "... ...  ...  ...      ...  ... ...    ...    ...    ...    ...    ...   \n",
       "211 2040  6   2040.500 2.43 NA  0      0      0      0      0      0     \n",
       "212 2040  7   2040.583 2.44 NA  0      0      0      0      0      0     \n",
       "213 2040  8   2040.667 2.45 NA  0      0      0      0      0      0     \n",
       "214 2040  9   2040.750 2.46 NA  0      0      0      0      0      0     \n",
       "215 2040 10   2040.833 2.47 NA  0      0      0      0      0      0     \n",
       "216 2040 11   2040.917 2.48 NA  0      0      0      0      0      0     \n",
       "217 2041  0   2041.000 2.49 NA  1      0      0      0      0      0     \n",
       "218 2041  1   2041.083 2.50 NA  0      1      0      0      0      0     \n",
       "219 2041  2   2041.167 2.51 NA  0      0      1      0      0      0     \n",
       "220 2041  3   2041.250 2.52 NA  0      0      0      1      0      0     \n",
       "221 2041  4   2041.333 2.53 NA  0      0      0      0      1      0     \n",
       "222 2041  5   2041.417 2.54 NA  0      0      0      0      0      1     \n",
       "223 2041  6   2041.500 2.55 NA  0      0      0      0      0      0     \n",
       "224 2041  7   2041.583 2.56 NA  0      0      0      0      0      0     \n",
       "225 2041  8   2041.667 2.57 NA  0      0      0      0      0      0     \n",
       "226 2041  9   2041.750 2.58 NA  0      0      0      0      0      0     \n",
       "227 2041 10   2041.833 2.59 NA  0      0      0      0      0      0     \n",
       "228 2041 11   2041.917 2.60 NA  0      0      0      0      0      0     \n",
       "229 2042  0   2042.000 2.61 NA  1      0      0      0      0      0     \n",
       "230 2042  1   2042.083 2.62 NA  0      1      0      0      0      0     \n",
       "231 2042  2   2042.167 2.63 NA  0      0      1      0      0      0     \n",
       "232 2042  3   2042.250 2.64 NA  0      0      0      1      0      0     \n",
       "233 2042  4   2042.333 2.65 NA  0      0      0      0      1      0     \n",
       "234 2042  5   2042.417 2.66 NA  0      0      0      0      0      1     \n",
       "235 2042  6   2042.500 2.67 NA  0      0      0      0      0      0     \n",
       "236 2042  7   2042.583 2.68 NA  0      0      0      0      0      0     \n",
       "237 2042  8   2042.667 2.69 NA  0      0      0      0      0      0     \n",
       "238 2042  9   2042.750 2.70 NA  0      0      0      0      0      0     \n",
       "239 2042 10   2042.833 2.71 NA  0      0      0      0      0      0     \n",
       "240 2042 11   2042.917 2.72 NA  0      0      0      0      0      0     \n",
       "    mnth_6 mnth_7 mnth_8 mnth_9 mnth_10 mnth_11 gas.base  rev.static\n",
       "1   0      0      0      0      0       0       216200182  71346060 \n",
       "2   0      0      0      0      0       0       205031693  69710775 \n",
       "3   0      0      0      0      0       0       239869957  83954485 \n",
       "4   0      0      0      0      0       0       237363342  85450803 \n",
       "5   0      0      0      0      0       0       250255804  92594647 \n",
       "6   0      0      0      0      0       0       251206392  95458429 \n",
       "7   1      0      0      0      0       0       257540038 100440615 \n",
       "8   0      1      0      0      0       0       256287245 102514898 \n",
       "9   0      0      1      0      0       0       235312863  96478274 \n",
       "10  0      0      0      1      0       0       248854808 104519019 \n",
       "11  0      0      0      0      1       0       231790654  99669981 \n",
       "12  0      0      0      0      0       1       235319819 103540720 \n",
       "13  0      0      0      0      0       0       216194040  97287318 \n",
       "14  0      0      0      0      0       0       205025551  94311753 \n",
       "15  0      0      0      0      0       0       239863815 112735993 \n",
       "16  0      0      0      0      0       0       237357200 113931456 \n",
       "17  0      0      0      0      0       0       250249662 122622335 \n",
       "18  0      0      0      0      0       0       251200250 125600125 \n",
       "19  1      0      0      0      0       0       257533897 131342287 \n",
       "20  0      1      0      0      0       0       256281104 133266174 \n",
       "21  0      0      1      0      0       0       235306721 124712562 \n",
       "22  0      0      0      1      0       0       248848666 134378280 \n",
       "23  0      0      0      0      1       0       231784512 127481482 \n",
       "24  0      0      0      0      0       1       235313677 131775659 \n",
       "25  0      0      0      0      0       0       216187899 123227102 \n",
       "26  0      0      0      0      0       0       205019409 118911257 \n",
       "27  0      0      0      0      0       0       239857674 141516028 \n",
       "28  0      0      0      0      0       0       237351058 142410635 \n",
       "29  0      0      0      0      0       0       250243521 152648548 \n",
       "30  0      0      0      0      0       0       251194109 155740347 \n",
       "... ...    ...    ...    ...    ...     ...     ...       ...       \n",
       "211 1      0      0      0      0       0       257435631 625568584 \n",
       "212 0      1      0      0      0       0       256182838 625086125 \n",
       "213 0      0      1      0      0       0       235208455 576260716 \n",
       "214 0      0      0      1      0       0       248750401 611925986 \n",
       "215 0      0      0      0      1       0       231686246 572265029 \n",
       "216 0      0      0      0      0       1       235215412 583334221 \n",
       "217 0      0      0      0      0       0       216089633 538063186 \n",
       "218 0      0      0      0      0       0       204921144 512302860 \n",
       "219 0      0      0      0      0       0       239759408 601796115 \n",
       "220 0      0      0      0      0       0       237252793 597877038 \n",
       "221 0      0      0      0      0       0       250145255 632867496 \n",
       "222 0      0      0      0      0       0       251095843 637783441 \n",
       "223 1      0      0      0      0       0       257429490 656445199 \n",
       "224 0      1      0      0      0       0       256176696 655812343 \n",
       "225 0      0      1      0      0       0       235202314 604469947 \n",
       "226 0      0      0      1      0       0       248744259 641760189 \n",
       "227 0      0      0      0      1       0       231680105 600051472 \n",
       "228 0      0      0      0      0       1       235209270 611544102 \n",
       "229 0      0      0      0      0       0       216083491 563977913 \n",
       "230 0      0      0      0      0       0       204915002 536877306 \n",
       "231 0      0      0      0      0       0       239753267 630551091 \n",
       "232 0      0      0      0      0       0       237246651 626331159 \n",
       "233 0      0      0      0      0       0       250139114 662868651 \n",
       "234 0      0      0      0      0       0       251089701 667898606 \n",
       "235 1      0      0      0      0       0       257423348 687320339 \n",
       "236 0      1      0      0      0       0       256170555 686537087 \n",
       "237 0      0      1      0      0       0       235196172 632677703 \n",
       "238 0      0      0      1      0       0       248738118 671592918 \n",
       "239 0      0      0      0      1       0       231673963 627836440 \n",
       "240 0      0      0      0      0       1       235203128 639752509 "
      ]
     },
     "metadata": {},
     "output_type": "display_data"
    }
   ],
   "source": [
    "staticg.fc = base.fc\n",
    "staticg.fc$rate = 0.33\n",
    "for (r in 2:length(staticg.fc$gas.base))\n",
    "    staticg.fc$rate[r] = staticg.fc$rate[r-1]+0.01\n",
    "staticg.fc$rev.static = staticg.fc$rate*staticg.fc$gas.base\n",
    "staticg.fc"
   ]
  },
  {
   "attachments": {},
   "cell_type": "markdown",
   "metadata": {},
   "source": [
    "##### Microdynamic"
   ]
  },
  {
   "cell_type": "code",
   "execution_count": 26,
   "metadata": {
    "vscode": {
     "languageId": "r"
    }
   },
   "outputs": [
    {
     "data": {
      "text/html": [
       "<table class=\"dataframe\">\n",
       "<caption>A data.frame: 240 x 24</caption>\n",
       "<thead>\n",
       "\t<tr><th scope=col>year</th><th scope=col>mnth</th><th scope=col>time</th><th scope=col>rate</th><th scope=col>rev</th><th scope=col>mnth_0</th><th scope=col>mnth_1</th><th scope=col>mnth_2</th><th scope=col>mnth_3</th><th scope=col>mnth_4</th><th scope=col>...</th><th scope=col>mnth_9</th><th scope=col>mnth_10</th><th scope=col>mnth_11</th><th scope=col>gas.base</th><th scope=col>elas</th><th scope=col>taxperchange</th><th scope=col>baseperchange</th><th scope=col>basechange</th><th scope=col>base.micro</th><th scope=col>rev.micro</th></tr>\n",
       "\t<tr><th scope=col>&lt;int&gt;</th><th scope=col>&lt;int&gt;</th><th scope=col>&lt;dbl&gt;</th><th scope=col>&lt;dbl&gt;</th><th scope=col>&lt;lgl&gt;</th><th scope=col>&lt;int&gt;</th><th scope=col>&lt;int&gt;</th><th scope=col>&lt;int&gt;</th><th scope=col>&lt;int&gt;</th><th scope=col>&lt;int&gt;</th><th scope=col>...</th><th scope=col>&lt;int&gt;</th><th scope=col>&lt;int&gt;</th><th scope=col>&lt;int&gt;</th><th scope=col>&lt;dbl&gt;</th><th scope=col>&lt;dbl&gt;</th><th scope=col>&lt;dbl&gt;</th><th scope=col>&lt;dbl&gt;</th><th scope=col>&lt;dbl&gt;</th><th scope=col>&lt;dbl&gt;</th><th scope=col>&lt;dbl&gt;</th></tr>\n",
       "</thead>\n",
       "<tbody>\n",
       "\t<tr><td>2023</td><td> 0</td><td>2023.000</td><td>0.33</td><td>NA</td><td>1</td><td>0</td><td>0</td><td>0</td><td>0</td><td>...</td><td>0</td><td>0</td><td>0</td><td>216200182</td><td>-0.03</td><td>0.03030303</td><td>-0.0009090909</td><td>-196545.6</td><td>216003636</td><td>71281200</td></tr>\n",
       "\t<tr><td>2023</td><td> 1</td><td>2023.083</td><td>0.33</td><td>NA</td><td>0</td><td>1</td><td>0</td><td>0</td><td>0</td><td>...</td><td>0</td><td>0</td><td>0</td><td>205031693</td><td>-0.03</td><td>0.00000000</td><td> 0.0000000000</td><td>      0.0</td><td>205031693</td><td>67660459</td></tr>\n",
       "\t<tr><td>2023</td><td> 2</td><td>2023.167</td><td>0.33</td><td>NA</td><td>0</td><td>0</td><td>1</td><td>0</td><td>0</td><td>...</td><td>0</td><td>0</td><td>0</td><td>239869957</td><td>-0.03</td><td>0.00000000</td><td> 0.0000000000</td><td>      0.0</td><td>239869957</td><td>79157086</td></tr>\n",
       "\t<tr><td>2023</td><td> 3</td><td>2023.250</td><td>0.33</td><td>NA</td><td>0</td><td>0</td><td>0</td><td>1</td><td>0</td><td>...</td><td>0</td><td>0</td><td>0</td><td>237363342</td><td>-0.03</td><td>0.00000000</td><td> 0.0000000000</td><td>      0.0</td><td>237363342</td><td>78329903</td></tr>\n",
       "\t<tr><td>2023</td><td> 4</td><td>2023.333</td><td>0.33</td><td>NA</td><td>0</td><td>0</td><td>0</td><td>0</td><td>1</td><td>...</td><td>0</td><td>0</td><td>0</td><td>250255804</td><td>-0.03</td><td>0.00000000</td><td> 0.0000000000</td><td>      0.0</td><td>250255804</td><td>82584415</td></tr>\n",
       "\t<tr><td>2023</td><td> 5</td><td>2023.417</td><td>0.33</td><td>NA</td><td>0</td><td>0</td><td>0</td><td>0</td><td>0</td><td>...</td><td>0</td><td>0</td><td>0</td><td>251206392</td><td>-0.03</td><td>0.00000000</td><td> 0.0000000000</td><td>      0.0</td><td>251206392</td><td>82898109</td></tr>\n",
       "\t<tr><td>2023</td><td> 6</td><td>2023.500</td><td>0.33</td><td>NA</td><td>0</td><td>0</td><td>0</td><td>0</td><td>0</td><td>...</td><td>0</td><td>0</td><td>0</td><td>257540038</td><td>-0.03</td><td>0.00000000</td><td> 0.0000000000</td><td>      0.0</td><td>257540038</td><td>84988213</td></tr>\n",
       "\t<tr><td>2023</td><td> 7</td><td>2023.583</td><td>0.33</td><td>NA</td><td>0</td><td>0</td><td>0</td><td>0</td><td>0</td><td>...</td><td>0</td><td>0</td><td>0</td><td>256287245</td><td>-0.03</td><td>0.00000000</td><td> 0.0000000000</td><td>      0.0</td><td>256287245</td><td>84574791</td></tr>\n",
       "\t<tr><td>2023</td><td> 8</td><td>2023.667</td><td>0.33</td><td>NA</td><td>0</td><td>0</td><td>0</td><td>0</td><td>0</td><td>...</td><td>0</td><td>0</td><td>0</td><td>235312863</td><td>-0.03</td><td>0.00000000</td><td> 0.0000000000</td><td>      0.0</td><td>235312863</td><td>77653245</td></tr>\n",
       "\t<tr><td>2023</td><td> 9</td><td>2023.750</td><td>0.33</td><td>NA</td><td>0</td><td>0</td><td>0</td><td>0</td><td>0</td><td>...</td><td>1</td><td>0</td><td>0</td><td>248854808</td><td>-0.03</td><td>0.00000000</td><td> 0.0000000000</td><td>      0.0</td><td>248854808</td><td>82122087</td></tr>\n",
       "\t<tr><td>2023</td><td>10</td><td>2023.833</td><td>0.33</td><td>NA</td><td>0</td><td>0</td><td>0</td><td>0</td><td>0</td><td>...</td><td>0</td><td>1</td><td>0</td><td>231790654</td><td>-0.03</td><td>0.00000000</td><td> 0.0000000000</td><td>      0.0</td><td>231790654</td><td>76490916</td></tr>\n",
       "\t<tr><td>2023</td><td>11</td><td>2023.917</td><td>0.33</td><td>NA</td><td>0</td><td>0</td><td>0</td><td>0</td><td>0</td><td>...</td><td>0</td><td>0</td><td>1</td><td>235319819</td><td>-0.03</td><td>0.00000000</td><td> 0.0000000000</td><td>      0.0</td><td>235319819</td><td>77655540</td></tr>\n",
       "\t<tr><td>2024</td><td> 0</td><td>2024.000</td><td>0.34</td><td>NA</td><td>1</td><td>0</td><td>0</td><td>0</td><td>0</td><td>...</td><td>0</td><td>0</td><td>0</td><td>216194040</td><td>-0.03</td><td>0.03030303</td><td>-0.0009090909</td><td>-196540.0</td><td>215997500</td><td>73439150</td></tr>\n",
       "\t<tr><td>2024</td><td> 1</td><td>2024.083</td><td>0.34</td><td>NA</td><td>0</td><td>1</td><td>0</td><td>0</td><td>0</td><td>...</td><td>0</td><td>0</td><td>0</td><td>205025551</td><td>-0.03</td><td>0.00000000</td><td> 0.0000000000</td><td>      0.0</td><td>205025551</td><td>69708687</td></tr>\n",
       "\t<tr><td>2024</td><td> 2</td><td>2024.167</td><td>0.34</td><td>NA</td><td>0</td><td>0</td><td>1</td><td>0</td><td>0</td><td>...</td><td>0</td><td>0</td><td>0</td><td>239863815</td><td>-0.03</td><td>0.00000000</td><td> 0.0000000000</td><td>      0.0</td><td>239863815</td><td>81553697</td></tr>\n",
       "\t<tr><td>2024</td><td> 3</td><td>2024.250</td><td>0.34</td><td>NA</td><td>0</td><td>0</td><td>0</td><td>1</td><td>0</td><td>...</td><td>0</td><td>0</td><td>0</td><td>237357200</td><td>-0.03</td><td>0.00000000</td><td> 0.0000000000</td><td>      0.0</td><td>237357200</td><td>80701448</td></tr>\n",
       "\t<tr><td>2024</td><td> 4</td><td>2024.333</td><td>0.34</td><td>NA</td><td>0</td><td>0</td><td>0</td><td>0</td><td>1</td><td>...</td><td>0</td><td>0</td><td>0</td><td>250249662</td><td>-0.03</td><td>0.00000000</td><td> 0.0000000000</td><td>      0.0</td><td>250249662</td><td>85084885</td></tr>\n",
       "\t<tr><td>2024</td><td> 5</td><td>2024.417</td><td>0.34</td><td>NA</td><td>0</td><td>0</td><td>0</td><td>0</td><td>0</td><td>...</td><td>0</td><td>0</td><td>0</td><td>251200250</td><td>-0.03</td><td>0.00000000</td><td> 0.0000000000</td><td>      0.0</td><td>251200250</td><td>85408085</td></tr>\n",
       "\t<tr><td>2024</td><td> 6</td><td>2024.500</td><td>0.34</td><td>NA</td><td>0</td><td>0</td><td>0</td><td>0</td><td>0</td><td>...</td><td>0</td><td>0</td><td>0</td><td>257533897</td><td>-0.03</td><td>0.00000000</td><td> 0.0000000000</td><td>      0.0</td><td>257533897</td><td>87561525</td></tr>\n",
       "\t<tr><td>2024</td><td> 7</td><td>2024.583</td><td>0.34</td><td>NA</td><td>0</td><td>0</td><td>0</td><td>0</td><td>0</td><td>...</td><td>0</td><td>0</td><td>0</td><td>256281104</td><td>-0.03</td><td>0.00000000</td><td> 0.0000000000</td><td>      0.0</td><td>256281104</td><td>87135575</td></tr>\n",
       "\t<tr><td>2024</td><td> 8</td><td>2024.667</td><td>0.34</td><td>NA</td><td>0</td><td>0</td><td>0</td><td>0</td><td>0</td><td>...</td><td>0</td><td>0</td><td>0</td><td>235306721</td><td>-0.03</td><td>0.00000000</td><td> 0.0000000000</td><td>      0.0</td><td>235306721</td><td>80004285</td></tr>\n",
       "\t<tr><td>2024</td><td> 9</td><td>2024.750</td><td>0.34</td><td>NA</td><td>0</td><td>0</td><td>0</td><td>0</td><td>0</td><td>...</td><td>1</td><td>0</td><td>0</td><td>248848666</td><td>-0.03</td><td>0.00000000</td><td> 0.0000000000</td><td>      0.0</td><td>248848666</td><td>84608547</td></tr>\n",
       "\t<tr><td>2024</td><td>10</td><td>2024.833</td><td>0.34</td><td>NA</td><td>0</td><td>0</td><td>0</td><td>0</td><td>0</td><td>...</td><td>0</td><td>1</td><td>0</td><td>231784512</td><td>-0.03</td><td>0.00000000</td><td> 0.0000000000</td><td>      0.0</td><td>231784512</td><td>78806734</td></tr>\n",
       "\t<tr><td>2024</td><td>11</td><td>2024.917</td><td>0.34</td><td>NA</td><td>0</td><td>0</td><td>0</td><td>0</td><td>0</td><td>...</td><td>0</td><td>0</td><td>1</td><td>235313677</td><td>-0.03</td><td>0.00000000</td><td> 0.0000000000</td><td>      0.0</td><td>235313677</td><td>80006650</td></tr>\n",
       "\t<tr><td>2025</td><td> 0</td><td>2025.000</td><td>0.35</td><td>NA</td><td>1</td><td>0</td><td>0</td><td>0</td><td>0</td><td>...</td><td>0</td><td>0</td><td>0</td><td>216187899</td><td>-0.03</td><td>0.02941176</td><td>-0.0008823529</td><td>-190754.0</td><td>215997145</td><td>75599001</td></tr>\n",
       "\t<tr><td>2025</td><td> 1</td><td>2025.083</td><td>0.35</td><td>NA</td><td>0</td><td>1</td><td>0</td><td>0</td><td>0</td><td>...</td><td>0</td><td>0</td><td>0</td><td>205019409</td><td>-0.03</td><td>0.00000000</td><td> 0.0000000000</td><td>      0.0</td><td>205019409</td><td>71756793</td></tr>\n",
       "\t<tr><td>2025</td><td> 2</td><td>2025.167</td><td>0.35</td><td>NA</td><td>0</td><td>0</td><td>1</td><td>0</td><td>0</td><td>...</td><td>0</td><td>0</td><td>0</td><td>239857674</td><td>-0.03</td><td>0.00000000</td><td> 0.0000000000</td><td>      0.0</td><td>239857674</td><td>83950186</td></tr>\n",
       "\t<tr><td>2025</td><td> 3</td><td>2025.250</td><td>0.35</td><td>NA</td><td>0</td><td>0</td><td>0</td><td>1</td><td>0</td><td>...</td><td>0</td><td>0</td><td>0</td><td>237351058</td><td>-0.03</td><td>0.00000000</td><td> 0.0000000000</td><td>      0.0</td><td>237351058</td><td>83072870</td></tr>\n",
       "\t<tr><td>2025</td><td> 4</td><td>2025.333</td><td>0.35</td><td>NA</td><td>0</td><td>0</td><td>0</td><td>0</td><td>1</td><td>...</td><td>0</td><td>0</td><td>0</td><td>250243521</td><td>-0.03</td><td>0.00000000</td><td> 0.0000000000</td><td>      0.0</td><td>250243521</td><td>87585232</td></tr>\n",
       "\t<tr><td>2025</td><td> 5</td><td>2025.417</td><td>0.35</td><td>NA</td><td>0</td><td>0</td><td>0</td><td>0</td><td>0</td><td>...</td><td>0</td><td>0</td><td>0</td><td>251194109</td><td>-0.03</td><td>0.00000000</td><td> 0.0000000000</td><td>      0.0</td><td>251194109</td><td>87917938</td></tr>\n",
       "\t<tr><td>...</td><td>...</td><td>...</td><td>...</td><td>...</td><td>...</td><td>...</td><td>...</td><td>...</td><td>...</td><td></td><td>...</td><td>...</td><td>...</td><td>...</td><td>...</td><td>...</td><td>...</td><td>...</td><td>...</td><td>...</td></tr>\n",
       "\t<tr><td>2040</td><td> 6</td><td>2040.500</td><td>0.50</td><td>NA</td><td>0</td><td>0</td><td>0</td><td>0</td><td>0</td><td>...</td><td>0</td><td>0</td><td>0</td><td>257435631</td><td>-0.03</td><td>0.00000000</td><td> 0.0000000000</td><td>      0.0</td><td>257435631</td><td>128717816</td></tr>\n",
       "\t<tr><td>2040</td><td> 7</td><td>2040.583</td><td>0.50</td><td>NA</td><td>0</td><td>0</td><td>0</td><td>0</td><td>0</td><td>...</td><td>0</td><td>0</td><td>0</td><td>256182838</td><td>-0.03</td><td>0.00000000</td><td> 0.0000000000</td><td>      0.0</td><td>256182838</td><td>128091419</td></tr>\n",
       "\t<tr><td>2040</td><td> 8</td><td>2040.667</td><td>0.50</td><td>NA</td><td>0</td><td>0</td><td>0</td><td>0</td><td>0</td><td>...</td><td>0</td><td>0</td><td>0</td><td>235208455</td><td>-0.03</td><td>0.00000000</td><td> 0.0000000000</td><td>      0.0</td><td>235208455</td><td>117604228</td></tr>\n",
       "\t<tr><td>2040</td><td> 9</td><td>2040.750</td><td>0.50</td><td>NA</td><td>0</td><td>0</td><td>0</td><td>0</td><td>0</td><td>...</td><td>1</td><td>0</td><td>0</td><td>248750401</td><td>-0.03</td><td>0.00000000</td><td> 0.0000000000</td><td>      0.0</td><td>248750401</td><td>124375200</td></tr>\n",
       "\t<tr><td>2040</td><td>10</td><td>2040.833</td><td>0.50</td><td>NA</td><td>0</td><td>0</td><td>0</td><td>0</td><td>0</td><td>...</td><td>0</td><td>1</td><td>0</td><td>231686246</td><td>-0.03</td><td>0.00000000</td><td> 0.0000000000</td><td>      0.0</td><td>231686246</td><td>115843123</td></tr>\n",
       "\t<tr><td>2040</td><td>11</td><td>2040.917</td><td>0.50</td><td>NA</td><td>0</td><td>0</td><td>0</td><td>0</td><td>0</td><td>...</td><td>0</td><td>0</td><td>1</td><td>235215412</td><td>-0.03</td><td>0.00000000</td><td> 0.0000000000</td><td>      0.0</td><td>235215412</td><td>117607706</td></tr>\n",
       "\t<tr><td>2041</td><td> 0</td><td>2041.000</td><td>0.51</td><td>NA</td><td>1</td><td>0</td><td>0</td><td>0</td><td>0</td><td>...</td><td>0</td><td>0</td><td>0</td><td>216089633</td><td>-0.03</td><td>0.02000000</td><td>-0.0006000000</td><td>-129653.8</td><td>215959979</td><td>110139589</td></tr>\n",
       "\t<tr><td>2041</td><td> 1</td><td>2041.083</td><td>0.51</td><td>NA</td><td>0</td><td>1</td><td>0</td><td>0</td><td>0</td><td>...</td><td>0</td><td>0</td><td>0</td><td>204921144</td><td>-0.03</td><td>0.00000000</td><td> 0.0000000000</td><td>      0.0</td><td>204921144</td><td>104509783</td></tr>\n",
       "\t<tr><td>2041</td><td> 2</td><td>2041.167</td><td>0.51</td><td>NA</td><td>0</td><td>0</td><td>1</td><td>0</td><td>0</td><td>...</td><td>0</td><td>0</td><td>0</td><td>239759408</td><td>-0.03</td><td>0.00000000</td><td> 0.0000000000</td><td>      0.0</td><td>239759408</td><td>122277298</td></tr>\n",
       "\t<tr><td>2041</td><td> 3</td><td>2041.250</td><td>0.51</td><td>NA</td><td>0</td><td>0</td><td>0</td><td>1</td><td>0</td><td>...</td><td>0</td><td>0</td><td>0</td><td>237252793</td><td>-0.03</td><td>0.00000000</td><td> 0.0000000000</td><td>      0.0</td><td>237252793</td><td>120998924</td></tr>\n",
       "\t<tr><td>2041</td><td> 4</td><td>2041.333</td><td>0.51</td><td>NA</td><td>0</td><td>0</td><td>0</td><td>0</td><td>1</td><td>...</td><td>0</td><td>0</td><td>0</td><td>250145255</td><td>-0.03</td><td>0.00000000</td><td> 0.0000000000</td><td>      0.0</td><td>250145255</td><td>127574080</td></tr>\n",
       "\t<tr><td>2041</td><td> 5</td><td>2041.417</td><td>0.51</td><td>NA</td><td>0</td><td>0</td><td>0</td><td>0</td><td>0</td><td>...</td><td>0</td><td>0</td><td>0</td><td>251095843</td><td>-0.03</td><td>0.00000000</td><td> 0.0000000000</td><td>      0.0</td><td>251095843</td><td>128058880</td></tr>\n",
       "\t<tr><td>2041</td><td> 6</td><td>2041.500</td><td>0.51</td><td>NA</td><td>0</td><td>0</td><td>0</td><td>0</td><td>0</td><td>...</td><td>0</td><td>0</td><td>0</td><td>257429490</td><td>-0.03</td><td>0.00000000</td><td> 0.0000000000</td><td>      0.0</td><td>257429490</td><td>131289040</td></tr>\n",
       "\t<tr><td>2041</td><td> 7</td><td>2041.583</td><td>0.51</td><td>NA</td><td>0</td><td>0</td><td>0</td><td>0</td><td>0</td><td>...</td><td>0</td><td>0</td><td>0</td><td>256176696</td><td>-0.03</td><td>0.00000000</td><td> 0.0000000000</td><td>      0.0</td><td>256176696</td><td>130650115</td></tr>\n",
       "\t<tr><td>2041</td><td> 8</td><td>2041.667</td><td>0.51</td><td>NA</td><td>0</td><td>0</td><td>0</td><td>0</td><td>0</td><td>...</td><td>0</td><td>0</td><td>0</td><td>235202314</td><td>-0.03</td><td>0.00000000</td><td> 0.0000000000</td><td>      0.0</td><td>235202314</td><td>119953180</td></tr>\n",
       "\t<tr><td>2041</td><td> 9</td><td>2041.750</td><td>0.51</td><td>NA</td><td>0</td><td>0</td><td>0</td><td>0</td><td>0</td><td>...</td><td>1</td><td>0</td><td>0</td><td>248744259</td><td>-0.03</td><td>0.00000000</td><td> 0.0000000000</td><td>      0.0</td><td>248744259</td><td>126859572</td></tr>\n",
       "\t<tr><td>2041</td><td>10</td><td>2041.833</td><td>0.51</td><td>NA</td><td>0</td><td>0</td><td>0</td><td>0</td><td>0</td><td>...</td><td>0</td><td>1</td><td>0</td><td>231680105</td><td>-0.03</td><td>0.00000000</td><td> 0.0000000000</td><td>      0.0</td><td>231680105</td><td>118156853</td></tr>\n",
       "\t<tr><td>2041</td><td>11</td><td>2041.917</td><td>0.51</td><td>NA</td><td>0</td><td>0</td><td>0</td><td>0</td><td>0</td><td>...</td><td>0</td><td>0</td><td>1</td><td>235209270</td><td>-0.03</td><td>0.00000000</td><td> 0.0000000000</td><td>      0.0</td><td>235209270</td><td>119956728</td></tr>\n",
       "\t<tr><td>2042</td><td> 0</td><td>2042.000</td><td>0.52</td><td>NA</td><td>1</td><td>0</td><td>0</td><td>0</td><td>0</td><td>...</td><td>0</td><td>0</td><td>0</td><td>216083491</td><td>-0.03</td><td>0.01960784</td><td>-0.0005882353</td><td>-127107.9</td><td>215956383</td><td>112297319</td></tr>\n",
       "\t<tr><td>2042</td><td> 1</td><td>2042.083</td><td>0.52</td><td>NA</td><td>0</td><td>1</td><td>0</td><td>0</td><td>0</td><td>...</td><td>0</td><td>0</td><td>0</td><td>204915002</td><td>-0.03</td><td>0.00000000</td><td> 0.0000000000</td><td>      0.0</td><td>204915002</td><td>106555801</td></tr>\n",
       "\t<tr><td>2042</td><td> 2</td><td>2042.167</td><td>0.52</td><td>NA</td><td>0</td><td>0</td><td>1</td><td>0</td><td>0</td><td>...</td><td>0</td><td>0</td><td>0</td><td>239753267</td><td>-0.03</td><td>0.00000000</td><td> 0.0000000000</td><td>      0.0</td><td>239753267</td><td>124671699</td></tr>\n",
       "\t<tr><td>2042</td><td> 3</td><td>2042.250</td><td>0.52</td><td>NA</td><td>0</td><td>0</td><td>0</td><td>1</td><td>0</td><td>...</td><td>0</td><td>0</td><td>0</td><td>237246651</td><td>-0.03</td><td>0.00000000</td><td> 0.0000000000</td><td>      0.0</td><td>237246651</td><td>123368259</td></tr>\n",
       "\t<tr><td>2042</td><td> 4</td><td>2042.333</td><td>0.52</td><td>NA</td><td>0</td><td>0</td><td>0</td><td>0</td><td>1</td><td>...</td><td>0</td><td>0</td><td>0</td><td>250139114</td><td>-0.03</td><td>0.00000000</td><td> 0.0000000000</td><td>      0.0</td><td>250139114</td><td>130072339</td></tr>\n",
       "\t<tr><td>2042</td><td> 5</td><td>2042.417</td><td>0.52</td><td>NA</td><td>0</td><td>0</td><td>0</td><td>0</td><td>0</td><td>...</td><td>0</td><td>0</td><td>0</td><td>251089701</td><td>-0.03</td><td>0.00000000</td><td> 0.0000000000</td><td>      0.0</td><td>251089701</td><td>130566645</td></tr>\n",
       "\t<tr><td>2042</td><td> 6</td><td>2042.500</td><td>0.52</td><td>NA</td><td>0</td><td>0</td><td>0</td><td>0</td><td>0</td><td>...</td><td>0</td><td>0</td><td>0</td><td>257423348</td><td>-0.03</td><td>0.00000000</td><td> 0.0000000000</td><td>      0.0</td><td>257423348</td><td>133860141</td></tr>\n",
       "\t<tr><td>2042</td><td> 7</td><td>2042.583</td><td>0.52</td><td>NA</td><td>0</td><td>0</td><td>0</td><td>0</td><td>0</td><td>...</td><td>0</td><td>0</td><td>0</td><td>256170555</td><td>-0.03</td><td>0.00000000</td><td> 0.0000000000</td><td>      0.0</td><td>256170555</td><td>133208689</td></tr>\n",
       "\t<tr><td>2042</td><td> 8</td><td>2042.667</td><td>0.52</td><td>NA</td><td>0</td><td>0</td><td>0</td><td>0</td><td>0</td><td>...</td><td>0</td><td>0</td><td>0</td><td>235196172</td><td>-0.03</td><td>0.00000000</td><td> 0.0000000000</td><td>      0.0</td><td>235196172</td><td>122302010</td></tr>\n",
       "\t<tr><td>2042</td><td> 9</td><td>2042.750</td><td>0.52</td><td>NA</td><td>0</td><td>0</td><td>0</td><td>0</td><td>0</td><td>...</td><td>1</td><td>0</td><td>0</td><td>248738118</td><td>-0.03</td><td>0.00000000</td><td> 0.0000000000</td><td>      0.0</td><td>248738118</td><td>129343821</td></tr>\n",
       "\t<tr><td>2042</td><td>10</td><td>2042.833</td><td>0.52</td><td>NA</td><td>0</td><td>0</td><td>0</td><td>0</td><td>0</td><td>...</td><td>0</td><td>1</td><td>0</td><td>231673963</td><td>-0.03</td><td>0.00000000</td><td> 0.0000000000</td><td>      0.0</td><td>231673963</td><td>120470461</td></tr>\n",
       "\t<tr><td>2042</td><td>11</td><td>2042.917</td><td>0.52</td><td>NA</td><td>0</td><td>0</td><td>0</td><td>0</td><td>0</td><td>...</td><td>0</td><td>0</td><td>1</td><td>235203128</td><td>-0.03</td><td>0.00000000</td><td> 0.0000000000</td><td>      0.0</td><td>235203128</td><td>122305627</td></tr>\n",
       "</tbody>\n",
       "</table>\n"
      ],
      "text/latex": [
       "A data.frame: 240 x 24\n",
       "\\begin{tabular}{lllllllllllllllllllll}\n",
       " year & mnth & time & rate & rev & mnth\\_0 & mnth\\_1 & mnth\\_2 & mnth\\_3 & mnth\\_4 & ... & mnth\\_9 & mnth\\_10 & mnth\\_11 & gas.base & elas & taxperchange & baseperchange & basechange & base.micro & rev.micro\\\\\n",
       " <int> & <int> & <dbl> & <dbl> & <lgl> & <int> & <int> & <int> & <int> & <int> & ... & <int> & <int> & <int> & <dbl> & <dbl> & <dbl> & <dbl> & <dbl> & <dbl> & <dbl>\\\\\n",
       "\\hline\n",
       "\t 2023 &  0 & 2023.000 & 0.33 & NA & 1 & 0 & 0 & 0 & 0 & ... & 0 & 0 & 0 & 216200182 & -0.03 & 0.03030303 & -0.0009090909 & -196545.6 & 216003636 & 71281200\\\\\n",
       "\t 2023 &  1 & 2023.083 & 0.33 & NA & 0 & 1 & 0 & 0 & 0 & ... & 0 & 0 & 0 & 205031693 & -0.03 & 0.00000000 &  0.0000000000 &       0.0 & 205031693 & 67660459\\\\\n",
       "\t 2023 &  2 & 2023.167 & 0.33 & NA & 0 & 0 & 1 & 0 & 0 & ... & 0 & 0 & 0 & 239869957 & -0.03 & 0.00000000 &  0.0000000000 &       0.0 & 239869957 & 79157086\\\\\n",
       "\t 2023 &  3 & 2023.250 & 0.33 & NA & 0 & 0 & 0 & 1 & 0 & ... & 0 & 0 & 0 & 237363342 & -0.03 & 0.00000000 &  0.0000000000 &       0.0 & 237363342 & 78329903\\\\\n",
       "\t 2023 &  4 & 2023.333 & 0.33 & NA & 0 & 0 & 0 & 0 & 1 & ... & 0 & 0 & 0 & 250255804 & -0.03 & 0.00000000 &  0.0000000000 &       0.0 & 250255804 & 82584415\\\\\n",
       "\t 2023 &  5 & 2023.417 & 0.33 & NA & 0 & 0 & 0 & 0 & 0 & ... & 0 & 0 & 0 & 251206392 & -0.03 & 0.00000000 &  0.0000000000 &       0.0 & 251206392 & 82898109\\\\\n",
       "\t 2023 &  6 & 2023.500 & 0.33 & NA & 0 & 0 & 0 & 0 & 0 & ... & 0 & 0 & 0 & 257540038 & -0.03 & 0.00000000 &  0.0000000000 &       0.0 & 257540038 & 84988213\\\\\n",
       "\t 2023 &  7 & 2023.583 & 0.33 & NA & 0 & 0 & 0 & 0 & 0 & ... & 0 & 0 & 0 & 256287245 & -0.03 & 0.00000000 &  0.0000000000 &       0.0 & 256287245 & 84574791\\\\\n",
       "\t 2023 &  8 & 2023.667 & 0.33 & NA & 0 & 0 & 0 & 0 & 0 & ... & 0 & 0 & 0 & 235312863 & -0.03 & 0.00000000 &  0.0000000000 &       0.0 & 235312863 & 77653245\\\\\n",
       "\t 2023 &  9 & 2023.750 & 0.33 & NA & 0 & 0 & 0 & 0 & 0 & ... & 1 & 0 & 0 & 248854808 & -0.03 & 0.00000000 &  0.0000000000 &       0.0 & 248854808 & 82122087\\\\\n",
       "\t 2023 & 10 & 2023.833 & 0.33 & NA & 0 & 0 & 0 & 0 & 0 & ... & 0 & 1 & 0 & 231790654 & -0.03 & 0.00000000 &  0.0000000000 &       0.0 & 231790654 & 76490916\\\\\n",
       "\t 2023 & 11 & 2023.917 & 0.33 & NA & 0 & 0 & 0 & 0 & 0 & ... & 0 & 0 & 1 & 235319819 & -0.03 & 0.00000000 &  0.0000000000 &       0.0 & 235319819 & 77655540\\\\\n",
       "\t 2024 &  0 & 2024.000 & 0.34 & NA & 1 & 0 & 0 & 0 & 0 & ... & 0 & 0 & 0 & 216194040 & -0.03 & 0.03030303 & -0.0009090909 & -196540.0 & 215997500 & 73439150\\\\\n",
       "\t 2024 &  1 & 2024.083 & 0.34 & NA & 0 & 1 & 0 & 0 & 0 & ... & 0 & 0 & 0 & 205025551 & -0.03 & 0.00000000 &  0.0000000000 &       0.0 & 205025551 & 69708687\\\\\n",
       "\t 2024 &  2 & 2024.167 & 0.34 & NA & 0 & 0 & 1 & 0 & 0 & ... & 0 & 0 & 0 & 239863815 & -0.03 & 0.00000000 &  0.0000000000 &       0.0 & 239863815 & 81553697\\\\\n",
       "\t 2024 &  3 & 2024.250 & 0.34 & NA & 0 & 0 & 0 & 1 & 0 & ... & 0 & 0 & 0 & 237357200 & -0.03 & 0.00000000 &  0.0000000000 &       0.0 & 237357200 & 80701448\\\\\n",
       "\t 2024 &  4 & 2024.333 & 0.34 & NA & 0 & 0 & 0 & 0 & 1 & ... & 0 & 0 & 0 & 250249662 & -0.03 & 0.00000000 &  0.0000000000 &       0.0 & 250249662 & 85084885\\\\\n",
       "\t 2024 &  5 & 2024.417 & 0.34 & NA & 0 & 0 & 0 & 0 & 0 & ... & 0 & 0 & 0 & 251200250 & -0.03 & 0.00000000 &  0.0000000000 &       0.0 & 251200250 & 85408085\\\\\n",
       "\t 2024 &  6 & 2024.500 & 0.34 & NA & 0 & 0 & 0 & 0 & 0 & ... & 0 & 0 & 0 & 257533897 & -0.03 & 0.00000000 &  0.0000000000 &       0.0 & 257533897 & 87561525\\\\\n",
       "\t 2024 &  7 & 2024.583 & 0.34 & NA & 0 & 0 & 0 & 0 & 0 & ... & 0 & 0 & 0 & 256281104 & -0.03 & 0.00000000 &  0.0000000000 &       0.0 & 256281104 & 87135575\\\\\n",
       "\t 2024 &  8 & 2024.667 & 0.34 & NA & 0 & 0 & 0 & 0 & 0 & ... & 0 & 0 & 0 & 235306721 & -0.03 & 0.00000000 &  0.0000000000 &       0.0 & 235306721 & 80004285\\\\\n",
       "\t 2024 &  9 & 2024.750 & 0.34 & NA & 0 & 0 & 0 & 0 & 0 & ... & 1 & 0 & 0 & 248848666 & -0.03 & 0.00000000 &  0.0000000000 &       0.0 & 248848666 & 84608547\\\\\n",
       "\t 2024 & 10 & 2024.833 & 0.34 & NA & 0 & 0 & 0 & 0 & 0 & ... & 0 & 1 & 0 & 231784512 & -0.03 & 0.00000000 &  0.0000000000 &       0.0 & 231784512 & 78806734\\\\\n",
       "\t 2024 & 11 & 2024.917 & 0.34 & NA & 0 & 0 & 0 & 0 & 0 & ... & 0 & 0 & 1 & 235313677 & -0.03 & 0.00000000 &  0.0000000000 &       0.0 & 235313677 & 80006650\\\\\n",
       "\t 2025 &  0 & 2025.000 & 0.35 & NA & 1 & 0 & 0 & 0 & 0 & ... & 0 & 0 & 0 & 216187899 & -0.03 & 0.02941176 & -0.0008823529 & -190754.0 & 215997145 & 75599001\\\\\n",
       "\t 2025 &  1 & 2025.083 & 0.35 & NA & 0 & 1 & 0 & 0 & 0 & ... & 0 & 0 & 0 & 205019409 & -0.03 & 0.00000000 &  0.0000000000 &       0.0 & 205019409 & 71756793\\\\\n",
       "\t 2025 &  2 & 2025.167 & 0.35 & NA & 0 & 0 & 1 & 0 & 0 & ... & 0 & 0 & 0 & 239857674 & -0.03 & 0.00000000 &  0.0000000000 &       0.0 & 239857674 & 83950186\\\\\n",
       "\t 2025 &  3 & 2025.250 & 0.35 & NA & 0 & 0 & 0 & 1 & 0 & ... & 0 & 0 & 0 & 237351058 & -0.03 & 0.00000000 &  0.0000000000 &       0.0 & 237351058 & 83072870\\\\\n",
       "\t 2025 &  4 & 2025.333 & 0.35 & NA & 0 & 0 & 0 & 0 & 1 & ... & 0 & 0 & 0 & 250243521 & -0.03 & 0.00000000 &  0.0000000000 &       0.0 & 250243521 & 87585232\\\\\n",
       "\t 2025 &  5 & 2025.417 & 0.35 & NA & 0 & 0 & 0 & 0 & 0 & ... & 0 & 0 & 0 & 251194109 & -0.03 & 0.00000000 &  0.0000000000 &       0.0 & 251194109 & 87917938\\\\\n",
       "\t ... & ... & ... & ... & ... & ... & ... & ... & ... & ... &  & ... & ... & ... & ... & ... & ... & ... & ... & ... & ...\\\\\n",
       "\t 2040 &  6 & 2040.500 & 0.50 & NA & 0 & 0 & 0 & 0 & 0 & ... & 0 & 0 & 0 & 257435631 & -0.03 & 0.00000000 &  0.0000000000 &       0.0 & 257435631 & 128717816\\\\\n",
       "\t 2040 &  7 & 2040.583 & 0.50 & NA & 0 & 0 & 0 & 0 & 0 & ... & 0 & 0 & 0 & 256182838 & -0.03 & 0.00000000 &  0.0000000000 &       0.0 & 256182838 & 128091419\\\\\n",
       "\t 2040 &  8 & 2040.667 & 0.50 & NA & 0 & 0 & 0 & 0 & 0 & ... & 0 & 0 & 0 & 235208455 & -0.03 & 0.00000000 &  0.0000000000 &       0.0 & 235208455 & 117604228\\\\\n",
       "\t 2040 &  9 & 2040.750 & 0.50 & NA & 0 & 0 & 0 & 0 & 0 & ... & 1 & 0 & 0 & 248750401 & -0.03 & 0.00000000 &  0.0000000000 &       0.0 & 248750401 & 124375200\\\\\n",
       "\t 2040 & 10 & 2040.833 & 0.50 & NA & 0 & 0 & 0 & 0 & 0 & ... & 0 & 1 & 0 & 231686246 & -0.03 & 0.00000000 &  0.0000000000 &       0.0 & 231686246 & 115843123\\\\\n",
       "\t 2040 & 11 & 2040.917 & 0.50 & NA & 0 & 0 & 0 & 0 & 0 & ... & 0 & 0 & 1 & 235215412 & -0.03 & 0.00000000 &  0.0000000000 &       0.0 & 235215412 & 117607706\\\\\n",
       "\t 2041 &  0 & 2041.000 & 0.51 & NA & 1 & 0 & 0 & 0 & 0 & ... & 0 & 0 & 0 & 216089633 & -0.03 & 0.02000000 & -0.0006000000 & -129653.8 & 215959979 & 110139589\\\\\n",
       "\t 2041 &  1 & 2041.083 & 0.51 & NA & 0 & 1 & 0 & 0 & 0 & ... & 0 & 0 & 0 & 204921144 & -0.03 & 0.00000000 &  0.0000000000 &       0.0 & 204921144 & 104509783\\\\\n",
       "\t 2041 &  2 & 2041.167 & 0.51 & NA & 0 & 0 & 1 & 0 & 0 & ... & 0 & 0 & 0 & 239759408 & -0.03 & 0.00000000 &  0.0000000000 &       0.0 & 239759408 & 122277298\\\\\n",
       "\t 2041 &  3 & 2041.250 & 0.51 & NA & 0 & 0 & 0 & 1 & 0 & ... & 0 & 0 & 0 & 237252793 & -0.03 & 0.00000000 &  0.0000000000 &       0.0 & 237252793 & 120998924\\\\\n",
       "\t 2041 &  4 & 2041.333 & 0.51 & NA & 0 & 0 & 0 & 0 & 1 & ... & 0 & 0 & 0 & 250145255 & -0.03 & 0.00000000 &  0.0000000000 &       0.0 & 250145255 & 127574080\\\\\n",
       "\t 2041 &  5 & 2041.417 & 0.51 & NA & 0 & 0 & 0 & 0 & 0 & ... & 0 & 0 & 0 & 251095843 & -0.03 & 0.00000000 &  0.0000000000 &       0.0 & 251095843 & 128058880\\\\\n",
       "\t 2041 &  6 & 2041.500 & 0.51 & NA & 0 & 0 & 0 & 0 & 0 & ... & 0 & 0 & 0 & 257429490 & -0.03 & 0.00000000 &  0.0000000000 &       0.0 & 257429490 & 131289040\\\\\n",
       "\t 2041 &  7 & 2041.583 & 0.51 & NA & 0 & 0 & 0 & 0 & 0 & ... & 0 & 0 & 0 & 256176696 & -0.03 & 0.00000000 &  0.0000000000 &       0.0 & 256176696 & 130650115\\\\\n",
       "\t 2041 &  8 & 2041.667 & 0.51 & NA & 0 & 0 & 0 & 0 & 0 & ... & 0 & 0 & 0 & 235202314 & -0.03 & 0.00000000 &  0.0000000000 &       0.0 & 235202314 & 119953180\\\\\n",
       "\t 2041 &  9 & 2041.750 & 0.51 & NA & 0 & 0 & 0 & 0 & 0 & ... & 1 & 0 & 0 & 248744259 & -0.03 & 0.00000000 &  0.0000000000 &       0.0 & 248744259 & 126859572\\\\\n",
       "\t 2041 & 10 & 2041.833 & 0.51 & NA & 0 & 0 & 0 & 0 & 0 & ... & 0 & 1 & 0 & 231680105 & -0.03 & 0.00000000 &  0.0000000000 &       0.0 & 231680105 & 118156853\\\\\n",
       "\t 2041 & 11 & 2041.917 & 0.51 & NA & 0 & 0 & 0 & 0 & 0 & ... & 0 & 0 & 1 & 235209270 & -0.03 & 0.00000000 &  0.0000000000 &       0.0 & 235209270 & 119956728\\\\\n",
       "\t 2042 &  0 & 2042.000 & 0.52 & NA & 1 & 0 & 0 & 0 & 0 & ... & 0 & 0 & 0 & 216083491 & -0.03 & 0.01960784 & -0.0005882353 & -127107.9 & 215956383 & 112297319\\\\\n",
       "\t 2042 &  1 & 2042.083 & 0.52 & NA & 0 & 1 & 0 & 0 & 0 & ... & 0 & 0 & 0 & 204915002 & -0.03 & 0.00000000 &  0.0000000000 &       0.0 & 204915002 & 106555801\\\\\n",
       "\t 2042 &  2 & 2042.167 & 0.52 & NA & 0 & 0 & 1 & 0 & 0 & ... & 0 & 0 & 0 & 239753267 & -0.03 & 0.00000000 &  0.0000000000 &       0.0 & 239753267 & 124671699\\\\\n",
       "\t 2042 &  3 & 2042.250 & 0.52 & NA & 0 & 0 & 0 & 1 & 0 & ... & 0 & 0 & 0 & 237246651 & -0.03 & 0.00000000 &  0.0000000000 &       0.0 & 237246651 & 123368259\\\\\n",
       "\t 2042 &  4 & 2042.333 & 0.52 & NA & 0 & 0 & 0 & 0 & 1 & ... & 0 & 0 & 0 & 250139114 & -0.03 & 0.00000000 &  0.0000000000 &       0.0 & 250139114 & 130072339\\\\\n",
       "\t 2042 &  5 & 2042.417 & 0.52 & NA & 0 & 0 & 0 & 0 & 0 & ... & 0 & 0 & 0 & 251089701 & -0.03 & 0.00000000 &  0.0000000000 &       0.0 & 251089701 & 130566645\\\\\n",
       "\t 2042 &  6 & 2042.500 & 0.52 & NA & 0 & 0 & 0 & 0 & 0 & ... & 0 & 0 & 0 & 257423348 & -0.03 & 0.00000000 &  0.0000000000 &       0.0 & 257423348 & 133860141\\\\\n",
       "\t 2042 &  7 & 2042.583 & 0.52 & NA & 0 & 0 & 0 & 0 & 0 & ... & 0 & 0 & 0 & 256170555 & -0.03 & 0.00000000 &  0.0000000000 &       0.0 & 256170555 & 133208689\\\\\n",
       "\t 2042 &  8 & 2042.667 & 0.52 & NA & 0 & 0 & 0 & 0 & 0 & ... & 0 & 0 & 0 & 235196172 & -0.03 & 0.00000000 &  0.0000000000 &       0.0 & 235196172 & 122302010\\\\\n",
       "\t 2042 &  9 & 2042.750 & 0.52 & NA & 0 & 0 & 0 & 0 & 0 & ... & 1 & 0 & 0 & 248738118 & -0.03 & 0.00000000 &  0.0000000000 &       0.0 & 248738118 & 129343821\\\\\n",
       "\t 2042 & 10 & 2042.833 & 0.52 & NA & 0 & 0 & 0 & 0 & 0 & ... & 0 & 1 & 0 & 231673963 & -0.03 & 0.00000000 &  0.0000000000 &       0.0 & 231673963 & 120470461\\\\\n",
       "\t 2042 & 11 & 2042.917 & 0.52 & NA & 0 & 0 & 0 & 0 & 0 & ... & 0 & 0 & 1 & 235203128 & -0.03 & 0.00000000 &  0.0000000000 &       0.0 & 235203128 & 122305627\\\\\n",
       "\\end{tabular}\n"
      ],
      "text/markdown": [
       "\n",
       "A data.frame: 240 x 24\n",
       "\n",
       "| year &lt;int&gt; | mnth &lt;int&gt; | time &lt;dbl&gt; | rate &lt;dbl&gt; | rev &lt;lgl&gt; | mnth_0 &lt;int&gt; | mnth_1 &lt;int&gt; | mnth_2 &lt;int&gt; | mnth_3 &lt;int&gt; | mnth_4 &lt;int&gt; | ... ... | mnth_9 &lt;int&gt; | mnth_10 &lt;int&gt; | mnth_11 &lt;int&gt; | gas.base &lt;dbl&gt; | elas &lt;dbl&gt; | taxperchange &lt;dbl&gt; | baseperchange &lt;dbl&gt; | basechange &lt;dbl&gt; | base.micro &lt;dbl&gt; | rev.micro &lt;dbl&gt; |\n",
       "|---|---|---|---|---|---|---|---|---|---|---|---|---|---|---|---|---|---|---|---|---|\n",
       "| 2023 |  0 | 2023.000 | 0.33 | NA | 1 | 0 | 0 | 0 | 0 | ... | 0 | 0 | 0 | 216200182 | -0.03 | 0.03030303 | -0.0009090909 | -196545.6 | 216003636 | 71281200 |\n",
       "| 2023 |  1 | 2023.083 | 0.33 | NA | 0 | 1 | 0 | 0 | 0 | ... | 0 | 0 | 0 | 205031693 | -0.03 | 0.00000000 |  0.0000000000 |       0.0 | 205031693 | 67660459 |\n",
       "| 2023 |  2 | 2023.167 | 0.33 | NA | 0 | 0 | 1 | 0 | 0 | ... | 0 | 0 | 0 | 239869957 | -0.03 | 0.00000000 |  0.0000000000 |       0.0 | 239869957 | 79157086 |\n",
       "| 2023 |  3 | 2023.250 | 0.33 | NA | 0 | 0 | 0 | 1 | 0 | ... | 0 | 0 | 0 | 237363342 | -0.03 | 0.00000000 |  0.0000000000 |       0.0 | 237363342 | 78329903 |\n",
       "| 2023 |  4 | 2023.333 | 0.33 | NA | 0 | 0 | 0 | 0 | 1 | ... | 0 | 0 | 0 | 250255804 | -0.03 | 0.00000000 |  0.0000000000 |       0.0 | 250255804 | 82584415 |\n",
       "| 2023 |  5 | 2023.417 | 0.33 | NA | 0 | 0 | 0 | 0 | 0 | ... | 0 | 0 | 0 | 251206392 | -0.03 | 0.00000000 |  0.0000000000 |       0.0 | 251206392 | 82898109 |\n",
       "| 2023 |  6 | 2023.500 | 0.33 | NA | 0 | 0 | 0 | 0 | 0 | ... | 0 | 0 | 0 | 257540038 | -0.03 | 0.00000000 |  0.0000000000 |       0.0 | 257540038 | 84988213 |\n",
       "| 2023 |  7 | 2023.583 | 0.33 | NA | 0 | 0 | 0 | 0 | 0 | ... | 0 | 0 | 0 | 256287245 | -0.03 | 0.00000000 |  0.0000000000 |       0.0 | 256287245 | 84574791 |\n",
       "| 2023 |  8 | 2023.667 | 0.33 | NA | 0 | 0 | 0 | 0 | 0 | ... | 0 | 0 | 0 | 235312863 | -0.03 | 0.00000000 |  0.0000000000 |       0.0 | 235312863 | 77653245 |\n",
       "| 2023 |  9 | 2023.750 | 0.33 | NA | 0 | 0 | 0 | 0 | 0 | ... | 1 | 0 | 0 | 248854808 | -0.03 | 0.00000000 |  0.0000000000 |       0.0 | 248854808 | 82122087 |\n",
       "| 2023 | 10 | 2023.833 | 0.33 | NA | 0 | 0 | 0 | 0 | 0 | ... | 0 | 1 | 0 | 231790654 | -0.03 | 0.00000000 |  0.0000000000 |       0.0 | 231790654 | 76490916 |\n",
       "| 2023 | 11 | 2023.917 | 0.33 | NA | 0 | 0 | 0 | 0 | 0 | ... | 0 | 0 | 1 | 235319819 | -0.03 | 0.00000000 |  0.0000000000 |       0.0 | 235319819 | 77655540 |\n",
       "| 2024 |  0 | 2024.000 | 0.34 | NA | 1 | 0 | 0 | 0 | 0 | ... | 0 | 0 | 0 | 216194040 | -0.03 | 0.03030303 | -0.0009090909 | -196540.0 | 215997500 | 73439150 |\n",
       "| 2024 |  1 | 2024.083 | 0.34 | NA | 0 | 1 | 0 | 0 | 0 | ... | 0 | 0 | 0 | 205025551 | -0.03 | 0.00000000 |  0.0000000000 |       0.0 | 205025551 | 69708687 |\n",
       "| 2024 |  2 | 2024.167 | 0.34 | NA | 0 | 0 | 1 | 0 | 0 | ... | 0 | 0 | 0 | 239863815 | -0.03 | 0.00000000 |  0.0000000000 |       0.0 | 239863815 | 81553697 |\n",
       "| 2024 |  3 | 2024.250 | 0.34 | NA | 0 | 0 | 0 | 1 | 0 | ... | 0 | 0 | 0 | 237357200 | -0.03 | 0.00000000 |  0.0000000000 |       0.0 | 237357200 | 80701448 |\n",
       "| 2024 |  4 | 2024.333 | 0.34 | NA | 0 | 0 | 0 | 0 | 1 | ... | 0 | 0 | 0 | 250249662 | -0.03 | 0.00000000 |  0.0000000000 |       0.0 | 250249662 | 85084885 |\n",
       "| 2024 |  5 | 2024.417 | 0.34 | NA | 0 | 0 | 0 | 0 | 0 | ... | 0 | 0 | 0 | 251200250 | -0.03 | 0.00000000 |  0.0000000000 |       0.0 | 251200250 | 85408085 |\n",
       "| 2024 |  6 | 2024.500 | 0.34 | NA | 0 | 0 | 0 | 0 | 0 | ... | 0 | 0 | 0 | 257533897 | -0.03 | 0.00000000 |  0.0000000000 |       0.0 | 257533897 | 87561525 |\n",
       "| 2024 |  7 | 2024.583 | 0.34 | NA | 0 | 0 | 0 | 0 | 0 | ... | 0 | 0 | 0 | 256281104 | -0.03 | 0.00000000 |  0.0000000000 |       0.0 | 256281104 | 87135575 |\n",
       "| 2024 |  8 | 2024.667 | 0.34 | NA | 0 | 0 | 0 | 0 | 0 | ... | 0 | 0 | 0 | 235306721 | -0.03 | 0.00000000 |  0.0000000000 |       0.0 | 235306721 | 80004285 |\n",
       "| 2024 |  9 | 2024.750 | 0.34 | NA | 0 | 0 | 0 | 0 | 0 | ... | 1 | 0 | 0 | 248848666 | -0.03 | 0.00000000 |  0.0000000000 |       0.0 | 248848666 | 84608547 |\n",
       "| 2024 | 10 | 2024.833 | 0.34 | NA | 0 | 0 | 0 | 0 | 0 | ... | 0 | 1 | 0 | 231784512 | -0.03 | 0.00000000 |  0.0000000000 |       0.0 | 231784512 | 78806734 |\n",
       "| 2024 | 11 | 2024.917 | 0.34 | NA | 0 | 0 | 0 | 0 | 0 | ... | 0 | 0 | 1 | 235313677 | -0.03 | 0.00000000 |  0.0000000000 |       0.0 | 235313677 | 80006650 |\n",
       "| 2025 |  0 | 2025.000 | 0.35 | NA | 1 | 0 | 0 | 0 | 0 | ... | 0 | 0 | 0 | 216187899 | -0.03 | 0.02941176 | -0.0008823529 | -190754.0 | 215997145 | 75599001 |\n",
       "| 2025 |  1 | 2025.083 | 0.35 | NA | 0 | 1 | 0 | 0 | 0 | ... | 0 | 0 | 0 | 205019409 | -0.03 | 0.00000000 |  0.0000000000 |       0.0 | 205019409 | 71756793 |\n",
       "| 2025 |  2 | 2025.167 | 0.35 | NA | 0 | 0 | 1 | 0 | 0 | ... | 0 | 0 | 0 | 239857674 | -0.03 | 0.00000000 |  0.0000000000 |       0.0 | 239857674 | 83950186 |\n",
       "| 2025 |  3 | 2025.250 | 0.35 | NA | 0 | 0 | 0 | 1 | 0 | ... | 0 | 0 | 0 | 237351058 | -0.03 | 0.00000000 |  0.0000000000 |       0.0 | 237351058 | 83072870 |\n",
       "| 2025 |  4 | 2025.333 | 0.35 | NA | 0 | 0 | 0 | 0 | 1 | ... | 0 | 0 | 0 | 250243521 | -0.03 | 0.00000000 |  0.0000000000 |       0.0 | 250243521 | 87585232 |\n",
       "| 2025 |  5 | 2025.417 | 0.35 | NA | 0 | 0 | 0 | 0 | 0 | ... | 0 | 0 | 0 | 251194109 | -0.03 | 0.00000000 |  0.0000000000 |       0.0 | 251194109 | 87917938 |\n",
       "| ... | ... | ... | ... | ... | ... | ... | ... | ... | ... | <!----> | ... | ... | ... | ... | ... | ... | ... | ... | ... | ... |\n",
       "| 2040 |  6 | 2040.500 | 0.50 | NA | 0 | 0 | 0 | 0 | 0 | ... | 0 | 0 | 0 | 257435631 | -0.03 | 0.00000000 |  0.0000000000 |       0.0 | 257435631 | 128717816 |\n",
       "| 2040 |  7 | 2040.583 | 0.50 | NA | 0 | 0 | 0 | 0 | 0 | ... | 0 | 0 | 0 | 256182838 | -0.03 | 0.00000000 |  0.0000000000 |       0.0 | 256182838 | 128091419 |\n",
       "| 2040 |  8 | 2040.667 | 0.50 | NA | 0 | 0 | 0 | 0 | 0 | ... | 0 | 0 | 0 | 235208455 | -0.03 | 0.00000000 |  0.0000000000 |       0.0 | 235208455 | 117604228 |\n",
       "| 2040 |  9 | 2040.750 | 0.50 | NA | 0 | 0 | 0 | 0 | 0 | ... | 1 | 0 | 0 | 248750401 | -0.03 | 0.00000000 |  0.0000000000 |       0.0 | 248750401 | 124375200 |\n",
       "| 2040 | 10 | 2040.833 | 0.50 | NA | 0 | 0 | 0 | 0 | 0 | ... | 0 | 1 | 0 | 231686246 | -0.03 | 0.00000000 |  0.0000000000 |       0.0 | 231686246 | 115843123 |\n",
       "| 2040 | 11 | 2040.917 | 0.50 | NA | 0 | 0 | 0 | 0 | 0 | ... | 0 | 0 | 1 | 235215412 | -0.03 | 0.00000000 |  0.0000000000 |       0.0 | 235215412 | 117607706 |\n",
       "| 2041 |  0 | 2041.000 | 0.51 | NA | 1 | 0 | 0 | 0 | 0 | ... | 0 | 0 | 0 | 216089633 | -0.03 | 0.02000000 | -0.0006000000 | -129653.8 | 215959979 | 110139589 |\n",
       "| 2041 |  1 | 2041.083 | 0.51 | NA | 0 | 1 | 0 | 0 | 0 | ... | 0 | 0 | 0 | 204921144 | -0.03 | 0.00000000 |  0.0000000000 |       0.0 | 204921144 | 104509783 |\n",
       "| 2041 |  2 | 2041.167 | 0.51 | NA | 0 | 0 | 1 | 0 | 0 | ... | 0 | 0 | 0 | 239759408 | -0.03 | 0.00000000 |  0.0000000000 |       0.0 | 239759408 | 122277298 |\n",
       "| 2041 |  3 | 2041.250 | 0.51 | NA | 0 | 0 | 0 | 1 | 0 | ... | 0 | 0 | 0 | 237252793 | -0.03 | 0.00000000 |  0.0000000000 |       0.0 | 237252793 | 120998924 |\n",
       "| 2041 |  4 | 2041.333 | 0.51 | NA | 0 | 0 | 0 | 0 | 1 | ... | 0 | 0 | 0 | 250145255 | -0.03 | 0.00000000 |  0.0000000000 |       0.0 | 250145255 | 127574080 |\n",
       "| 2041 |  5 | 2041.417 | 0.51 | NA | 0 | 0 | 0 | 0 | 0 | ... | 0 | 0 | 0 | 251095843 | -0.03 | 0.00000000 |  0.0000000000 |       0.0 | 251095843 | 128058880 |\n",
       "| 2041 |  6 | 2041.500 | 0.51 | NA | 0 | 0 | 0 | 0 | 0 | ... | 0 | 0 | 0 | 257429490 | -0.03 | 0.00000000 |  0.0000000000 |       0.0 | 257429490 | 131289040 |\n",
       "| 2041 |  7 | 2041.583 | 0.51 | NA | 0 | 0 | 0 | 0 | 0 | ... | 0 | 0 | 0 | 256176696 | -0.03 | 0.00000000 |  0.0000000000 |       0.0 | 256176696 | 130650115 |\n",
       "| 2041 |  8 | 2041.667 | 0.51 | NA | 0 | 0 | 0 | 0 | 0 | ... | 0 | 0 | 0 | 235202314 | -0.03 | 0.00000000 |  0.0000000000 |       0.0 | 235202314 | 119953180 |\n",
       "| 2041 |  9 | 2041.750 | 0.51 | NA | 0 | 0 | 0 | 0 | 0 | ... | 1 | 0 | 0 | 248744259 | -0.03 | 0.00000000 |  0.0000000000 |       0.0 | 248744259 | 126859572 |\n",
       "| 2041 | 10 | 2041.833 | 0.51 | NA | 0 | 0 | 0 | 0 | 0 | ... | 0 | 1 | 0 | 231680105 | -0.03 | 0.00000000 |  0.0000000000 |       0.0 | 231680105 | 118156853 |\n",
       "| 2041 | 11 | 2041.917 | 0.51 | NA | 0 | 0 | 0 | 0 | 0 | ... | 0 | 0 | 1 | 235209270 | -0.03 | 0.00000000 |  0.0000000000 |       0.0 | 235209270 | 119956728 |\n",
       "| 2042 |  0 | 2042.000 | 0.52 | NA | 1 | 0 | 0 | 0 | 0 | ... | 0 | 0 | 0 | 216083491 | -0.03 | 0.01960784 | -0.0005882353 | -127107.9 | 215956383 | 112297319 |\n",
       "| 2042 |  1 | 2042.083 | 0.52 | NA | 0 | 1 | 0 | 0 | 0 | ... | 0 | 0 | 0 | 204915002 | -0.03 | 0.00000000 |  0.0000000000 |       0.0 | 204915002 | 106555801 |\n",
       "| 2042 |  2 | 2042.167 | 0.52 | NA | 0 | 0 | 1 | 0 | 0 | ... | 0 | 0 | 0 | 239753267 | -0.03 | 0.00000000 |  0.0000000000 |       0.0 | 239753267 | 124671699 |\n",
       "| 2042 |  3 | 2042.250 | 0.52 | NA | 0 | 0 | 0 | 1 | 0 | ... | 0 | 0 | 0 | 237246651 | -0.03 | 0.00000000 |  0.0000000000 |       0.0 | 237246651 | 123368259 |\n",
       "| 2042 |  4 | 2042.333 | 0.52 | NA | 0 | 0 | 0 | 0 | 1 | ... | 0 | 0 | 0 | 250139114 | -0.03 | 0.00000000 |  0.0000000000 |       0.0 | 250139114 | 130072339 |\n",
       "| 2042 |  5 | 2042.417 | 0.52 | NA | 0 | 0 | 0 | 0 | 0 | ... | 0 | 0 | 0 | 251089701 | -0.03 | 0.00000000 |  0.0000000000 |       0.0 | 251089701 | 130566645 |\n",
       "| 2042 |  6 | 2042.500 | 0.52 | NA | 0 | 0 | 0 | 0 | 0 | ... | 0 | 0 | 0 | 257423348 | -0.03 | 0.00000000 |  0.0000000000 |       0.0 | 257423348 | 133860141 |\n",
       "| 2042 |  7 | 2042.583 | 0.52 | NA | 0 | 0 | 0 | 0 | 0 | ... | 0 | 0 | 0 | 256170555 | -0.03 | 0.00000000 |  0.0000000000 |       0.0 | 256170555 | 133208689 |\n",
       "| 2042 |  8 | 2042.667 | 0.52 | NA | 0 | 0 | 0 | 0 | 0 | ... | 0 | 0 | 0 | 235196172 | -0.03 | 0.00000000 |  0.0000000000 |       0.0 | 235196172 | 122302010 |\n",
       "| 2042 |  9 | 2042.750 | 0.52 | NA | 0 | 0 | 0 | 0 | 0 | ... | 1 | 0 | 0 | 248738118 | -0.03 | 0.00000000 |  0.0000000000 |       0.0 | 248738118 | 129343821 |\n",
       "| 2042 | 10 | 2042.833 | 0.52 | NA | 0 | 0 | 0 | 0 | 0 | ... | 0 | 1 | 0 | 231673963 | -0.03 | 0.00000000 |  0.0000000000 |       0.0 | 231673963 | 120470461 |\n",
       "| 2042 | 11 | 2042.917 | 0.52 | NA | 0 | 0 | 0 | 0 | 0 | ... | 0 | 0 | 1 | 235203128 | -0.03 | 0.00000000 |  0.0000000000 |       0.0 | 235203128 | 122305627 |\n",
       "\n"
      ],
      "text/plain": [
       "    year mnth time     rate rev mnth_0 mnth_1 mnth_2 mnth_3 mnth_4 ... mnth_9\n",
       "1   2023  0   2023.000 0.33 NA  1      0      0      0      0      ... 0     \n",
       "2   2023  1   2023.083 0.33 NA  0      1      0      0      0      ... 0     \n",
       "3   2023  2   2023.167 0.33 NA  0      0      1      0      0      ... 0     \n",
       "4   2023  3   2023.250 0.33 NA  0      0      0      1      0      ... 0     \n",
       "5   2023  4   2023.333 0.33 NA  0      0      0      0      1      ... 0     \n",
       "6   2023  5   2023.417 0.33 NA  0      0      0      0      0      ... 0     \n",
       "7   2023  6   2023.500 0.33 NA  0      0      0      0      0      ... 0     \n",
       "8   2023  7   2023.583 0.33 NA  0      0      0      0      0      ... 0     \n",
       "9   2023  8   2023.667 0.33 NA  0      0      0      0      0      ... 0     \n",
       "10  2023  9   2023.750 0.33 NA  0      0      0      0      0      ... 1     \n",
       "11  2023 10   2023.833 0.33 NA  0      0      0      0      0      ... 0     \n",
       "12  2023 11   2023.917 0.33 NA  0      0      0      0      0      ... 0     \n",
       "13  2024  0   2024.000 0.34 NA  1      0      0      0      0      ... 0     \n",
       "14  2024  1   2024.083 0.34 NA  0      1      0      0      0      ... 0     \n",
       "15  2024  2   2024.167 0.34 NA  0      0      1      0      0      ... 0     \n",
       "16  2024  3   2024.250 0.34 NA  0      0      0      1      0      ... 0     \n",
       "17  2024  4   2024.333 0.34 NA  0      0      0      0      1      ... 0     \n",
       "18  2024  5   2024.417 0.34 NA  0      0      0      0      0      ... 0     \n",
       "19  2024  6   2024.500 0.34 NA  0      0      0      0      0      ... 0     \n",
       "20  2024  7   2024.583 0.34 NA  0      0      0      0      0      ... 0     \n",
       "21  2024  8   2024.667 0.34 NA  0      0      0      0      0      ... 0     \n",
       "22  2024  9   2024.750 0.34 NA  0      0      0      0      0      ... 1     \n",
       "23  2024 10   2024.833 0.34 NA  0      0      0      0      0      ... 0     \n",
       "24  2024 11   2024.917 0.34 NA  0      0      0      0      0      ... 0     \n",
       "25  2025  0   2025.000 0.35 NA  1      0      0      0      0      ... 0     \n",
       "26  2025  1   2025.083 0.35 NA  0      1      0      0      0      ... 0     \n",
       "27  2025  2   2025.167 0.35 NA  0      0      1      0      0      ... 0     \n",
       "28  2025  3   2025.250 0.35 NA  0      0      0      1      0      ... 0     \n",
       "29  2025  4   2025.333 0.35 NA  0      0      0      0      1      ... 0     \n",
       "30  2025  5   2025.417 0.35 NA  0      0      0      0      0      ... 0     \n",
       "... ...  ...  ...      ...  ... ...    ...    ...    ...    ...        ...   \n",
       "211 2040  6   2040.500 0.50 NA  0      0      0      0      0      ... 0     \n",
       "212 2040  7   2040.583 0.50 NA  0      0      0      0      0      ... 0     \n",
       "213 2040  8   2040.667 0.50 NA  0      0      0      0      0      ... 0     \n",
       "214 2040  9   2040.750 0.50 NA  0      0      0      0      0      ... 1     \n",
       "215 2040 10   2040.833 0.50 NA  0      0      0      0      0      ... 0     \n",
       "216 2040 11   2040.917 0.50 NA  0      0      0      0      0      ... 0     \n",
       "217 2041  0   2041.000 0.51 NA  1      0      0      0      0      ... 0     \n",
       "218 2041  1   2041.083 0.51 NA  0      1      0      0      0      ... 0     \n",
       "219 2041  2   2041.167 0.51 NA  0      0      1      0      0      ... 0     \n",
       "220 2041  3   2041.250 0.51 NA  0      0      0      1      0      ... 0     \n",
       "221 2041  4   2041.333 0.51 NA  0      0      0      0      1      ... 0     \n",
       "222 2041  5   2041.417 0.51 NA  0      0      0      0      0      ... 0     \n",
       "223 2041  6   2041.500 0.51 NA  0      0      0      0      0      ... 0     \n",
       "224 2041  7   2041.583 0.51 NA  0      0      0      0      0      ... 0     \n",
       "225 2041  8   2041.667 0.51 NA  0      0      0      0      0      ... 0     \n",
       "226 2041  9   2041.750 0.51 NA  0      0      0      0      0      ... 1     \n",
       "227 2041 10   2041.833 0.51 NA  0      0      0      0      0      ... 0     \n",
       "228 2041 11   2041.917 0.51 NA  0      0      0      0      0      ... 0     \n",
       "229 2042  0   2042.000 0.52 NA  1      0      0      0      0      ... 0     \n",
       "230 2042  1   2042.083 0.52 NA  0      1      0      0      0      ... 0     \n",
       "231 2042  2   2042.167 0.52 NA  0      0      1      0      0      ... 0     \n",
       "232 2042  3   2042.250 0.52 NA  0      0      0      1      0      ... 0     \n",
       "233 2042  4   2042.333 0.52 NA  0      0      0      0      1      ... 0     \n",
       "234 2042  5   2042.417 0.52 NA  0      0      0      0      0      ... 0     \n",
       "235 2042  6   2042.500 0.52 NA  0      0      0      0      0      ... 0     \n",
       "236 2042  7   2042.583 0.52 NA  0      0      0      0      0      ... 0     \n",
       "237 2042  8   2042.667 0.52 NA  0      0      0      0      0      ... 0     \n",
       "238 2042  9   2042.750 0.52 NA  0      0      0      0      0      ... 1     \n",
       "239 2042 10   2042.833 0.52 NA  0      0      0      0      0      ... 0     \n",
       "240 2042 11   2042.917 0.52 NA  0      0      0      0      0      ... 0     \n",
       "    mnth_10 mnth_11 gas.base  elas  taxperchange baseperchange basechange\n",
       "1   0       0       216200182 -0.03 0.03030303   -0.0009090909 -196545.6 \n",
       "2   0       0       205031693 -0.03 0.00000000    0.0000000000       0.0 \n",
       "3   0       0       239869957 -0.03 0.00000000    0.0000000000       0.0 \n",
       "4   0       0       237363342 -0.03 0.00000000    0.0000000000       0.0 \n",
       "5   0       0       250255804 -0.03 0.00000000    0.0000000000       0.0 \n",
       "6   0       0       251206392 -0.03 0.00000000    0.0000000000       0.0 \n",
       "7   0       0       257540038 -0.03 0.00000000    0.0000000000       0.0 \n",
       "8   0       0       256287245 -0.03 0.00000000    0.0000000000       0.0 \n",
       "9   0       0       235312863 -0.03 0.00000000    0.0000000000       0.0 \n",
       "10  0       0       248854808 -0.03 0.00000000    0.0000000000       0.0 \n",
       "11  1       0       231790654 -0.03 0.00000000    0.0000000000       0.0 \n",
       "12  0       1       235319819 -0.03 0.00000000    0.0000000000       0.0 \n",
       "13  0       0       216194040 -0.03 0.03030303   -0.0009090909 -196540.0 \n",
       "14  0       0       205025551 -0.03 0.00000000    0.0000000000       0.0 \n",
       "15  0       0       239863815 -0.03 0.00000000    0.0000000000       0.0 \n",
       "16  0       0       237357200 -0.03 0.00000000    0.0000000000       0.0 \n",
       "17  0       0       250249662 -0.03 0.00000000    0.0000000000       0.0 \n",
       "18  0       0       251200250 -0.03 0.00000000    0.0000000000       0.0 \n",
       "19  0       0       257533897 -0.03 0.00000000    0.0000000000       0.0 \n",
       "20  0       0       256281104 -0.03 0.00000000    0.0000000000       0.0 \n",
       "21  0       0       235306721 -0.03 0.00000000    0.0000000000       0.0 \n",
       "22  0       0       248848666 -0.03 0.00000000    0.0000000000       0.0 \n",
       "23  1       0       231784512 -0.03 0.00000000    0.0000000000       0.0 \n",
       "24  0       1       235313677 -0.03 0.00000000    0.0000000000       0.0 \n",
       "25  0       0       216187899 -0.03 0.02941176   -0.0008823529 -190754.0 \n",
       "26  0       0       205019409 -0.03 0.00000000    0.0000000000       0.0 \n",
       "27  0       0       239857674 -0.03 0.00000000    0.0000000000       0.0 \n",
       "28  0       0       237351058 -0.03 0.00000000    0.0000000000       0.0 \n",
       "29  0       0       250243521 -0.03 0.00000000    0.0000000000       0.0 \n",
       "30  0       0       251194109 -0.03 0.00000000    0.0000000000       0.0 \n",
       "... ...     ...     ...       ...   ...          ...           ...       \n",
       "211 0       0       257435631 -0.03 0.00000000    0.0000000000       0.0 \n",
       "212 0       0       256182838 -0.03 0.00000000    0.0000000000       0.0 \n",
       "213 0       0       235208455 -0.03 0.00000000    0.0000000000       0.0 \n",
       "214 0       0       248750401 -0.03 0.00000000    0.0000000000       0.0 \n",
       "215 1       0       231686246 -0.03 0.00000000    0.0000000000       0.0 \n",
       "216 0       1       235215412 -0.03 0.00000000    0.0000000000       0.0 \n",
       "217 0       0       216089633 -0.03 0.02000000   -0.0006000000 -129653.8 \n",
       "218 0       0       204921144 -0.03 0.00000000    0.0000000000       0.0 \n",
       "219 0       0       239759408 -0.03 0.00000000    0.0000000000       0.0 \n",
       "220 0       0       237252793 -0.03 0.00000000    0.0000000000       0.0 \n",
       "221 0       0       250145255 -0.03 0.00000000    0.0000000000       0.0 \n",
       "222 0       0       251095843 -0.03 0.00000000    0.0000000000       0.0 \n",
       "223 0       0       257429490 -0.03 0.00000000    0.0000000000       0.0 \n",
       "224 0       0       256176696 -0.03 0.00000000    0.0000000000       0.0 \n",
       "225 0       0       235202314 -0.03 0.00000000    0.0000000000       0.0 \n",
       "226 0       0       248744259 -0.03 0.00000000    0.0000000000       0.0 \n",
       "227 1       0       231680105 -0.03 0.00000000    0.0000000000       0.0 \n",
       "228 0       1       235209270 -0.03 0.00000000    0.0000000000       0.0 \n",
       "229 0       0       216083491 -0.03 0.01960784   -0.0005882353 -127107.9 \n",
       "230 0       0       204915002 -0.03 0.00000000    0.0000000000       0.0 \n",
       "231 0       0       239753267 -0.03 0.00000000    0.0000000000       0.0 \n",
       "232 0       0       237246651 -0.03 0.00000000    0.0000000000       0.0 \n",
       "233 0       0       250139114 -0.03 0.00000000    0.0000000000       0.0 \n",
       "234 0       0       251089701 -0.03 0.00000000    0.0000000000       0.0 \n",
       "235 0       0       257423348 -0.03 0.00000000    0.0000000000       0.0 \n",
       "236 0       0       256170555 -0.03 0.00000000    0.0000000000       0.0 \n",
       "237 0       0       235196172 -0.03 0.00000000    0.0000000000       0.0 \n",
       "238 0       0       248738118 -0.03 0.00000000    0.0000000000       0.0 \n",
       "239 1       0       231673963 -0.03 0.00000000    0.0000000000       0.0 \n",
       "240 0       1       235203128 -0.03 0.00000000    0.0000000000       0.0 \n",
       "    base.micro rev.micro\n",
       "1   216003636  71281200 \n",
       "2   205031693  67660459 \n",
       "3   239869957  79157086 \n",
       "4   237363342  78329903 \n",
       "5   250255804  82584415 \n",
       "6   251206392  82898109 \n",
       "7   257540038  84988213 \n",
       "8   256287245  84574791 \n",
       "9   235312863  77653245 \n",
       "10  248854808  82122087 \n",
       "11  231790654  76490916 \n",
       "12  235319819  77655540 \n",
       "13  215997500  73439150 \n",
       "14  205025551  69708687 \n",
       "15  239863815  81553697 \n",
       "16  237357200  80701448 \n",
       "17  250249662  85084885 \n",
       "18  251200250  85408085 \n",
       "19  257533897  87561525 \n",
       "20  256281104  87135575 \n",
       "21  235306721  80004285 \n",
       "22  248848666  84608547 \n",
       "23  231784512  78806734 \n",
       "24  235313677  80006650 \n",
       "25  215997145  75599001 \n",
       "26  205019409  71756793 \n",
       "27  239857674  83950186 \n",
       "28  237351058  83072870 \n",
       "29  250243521  87585232 \n",
       "30  251194109  87917938 \n",
       "... ...        ...      \n",
       "211 257435631  128717816\n",
       "212 256182838  128091419\n",
       "213 235208455  117604228\n",
       "214 248750401  124375200\n",
       "215 231686246  115843123\n",
       "216 235215412  117607706\n",
       "217 215959979  110139589\n",
       "218 204921144  104509783\n",
       "219 239759408  122277298\n",
       "220 237252793  120998924\n",
       "221 250145255  127574080\n",
       "222 251095843  128058880\n",
       "223 257429490  131289040\n",
       "224 256176696  130650115\n",
       "225 235202314  119953180\n",
       "226 248744259  126859572\n",
       "227 231680105  118156853\n",
       "228 235209270  119956728\n",
       "229 215956383  112297319\n",
       "230 204915002  106555801\n",
       "231 239753267  124671699\n",
       "232 237246651  123368259\n",
       "233 250139114  130072339\n",
       "234 251089701  130566645\n",
       "235 257423348  133860141\n",
       "236 256170555  133208689\n",
       "237 235196172  122302010\n",
       "238 248738118  129343821\n",
       "239 231673963  120470461\n",
       "240 235203128  122305627"
      ]
     },
     "metadata": {},
     "output_type": "display_data"
    }
   ],
   "source": [
    "microg.fc = base.fc\n",
    "microg.fc$rate = 0.33\n",
    "microg.fc$elas = -0.03\n",
    "for (r in 2:length(microg.fc$gas.base))\n",
    "    if (microg.fc$year[r] == microg.fc$year[r-1]) {\n",
    "        microg.fc$rate[r] = microg.fc$rate[r-1]\n",
    "    } else {\n",
    "        microg.fc$rate[r] = microg.fc$rate[r-1]+0.01\n",
    "    }\n",
    "microg.fc$taxperchange = (0.34-0.33)/0.33\n",
    "for (r in 2:length(microg.fc$gas.base))\n",
    "    microg.fc$taxperchange[r] = (microg.fc$rate[r]-microg.fc$rate[r-1])/microg.fc$rate[r-1]\n",
    "microg.fc$baseperchange = microg.fc$elas*microg.fc$taxperchange\n",
    "microg.fc$basechange = microg.fc$baseperchange*microg.fc$gas.base\n",
    "microg.fc$base.micro = microg.fc$gas.base+microg.fc$basechange\n",
    "microg.fc$rev.micro = microg.fc$base.micro*microg.fc$rate\n",
    "microg.fc"
   ]
  },
  {
   "attachments": {},
   "cell_type": "markdown",
   "metadata": {},
   "source": [
    "##### Comparison"
   ]
  },
  {
   "cell_type": "code",
   "execution_count": 27,
   "metadata": {
    "vscode": {
     "languageId": "r"
    }
   },
   "outputs": [],
   "source": [
    "microg.fc.ann = aggregate(rev.micro ~ year, microg.fc, sum)\n",
    "staticg.fc.ann = aggregate(rev.static ~ year, staticg.fc, sum)"
   ]
  },
  {
   "cell_type": "code",
   "execution_count": 28,
   "metadata": {
    "vscode": {
     "languageId": "r"
    }
   },
   "outputs": [
    {
     "data": {
      "text/html": [
       "<table class=\"dataframe\">\n",
       "<caption>A data.frame: 20 x 4</caption>\n",
       "<thead>\n",
       "\t<tr><th scope=col>year</th><th scope=col>rev.static</th><th scope=col>rev.micro</th><th scope=col>difference</th></tr>\n",
       "\t<tr><th scope=col>&lt;int&gt;</th><th scope=col>&lt;dbl&gt;</th><th scope=col>&lt;dbl&gt;</th><th scope=col>&lt;dbl&gt;</th></tr>\n",
       "</thead>\n",
       "<tbody>\n",
       "\t<tr><td>2023</td><td>1105678707</td><td> 945395962</td><td> 160282745</td></tr>\n",
       "\t<tr><td>2024</td><td>1449445425</td><td> 974019269</td><td> 475426155</td></tr>\n",
       "\t<tr><td>2025</td><td>1793194454</td><td>1002643125</td><td> 790551329</td></tr>\n",
       "\t<tr><td>2026</td><td>2136925796</td><td>1031265504</td><td>1105660292</td></tr>\n",
       "\t<tr><td>2027</td><td>2480639450</td><td>1059886405</td><td>1420753044</td></tr>\n",
       "\t<tr><td>2028</td><td>2824335416</td><td>1088505830</td><td>1735829586</td></tr>\n",
       "\t<tr><td>2029</td><td>3168013694</td><td>1117123779</td><td>2050889916</td></tr>\n",
       "\t<tr><td>2030</td><td>3511674285</td><td>1145740251</td><td>2365934034</td></tr>\n",
       "\t<tr><td>2031</td><td>3855317188</td><td>1174355246</td><td>2680961941</td></tr>\n",
       "\t<tr><td>2032</td><td>4198942402</td><td>1202968766</td><td>2995973636</td></tr>\n",
       "\t<tr><td>2033</td><td>4542549930</td><td>1231580810</td><td>3310969120</td></tr>\n",
       "\t<tr><td>2034</td><td>4886139769</td><td>1260191378</td><td>3625948391</td></tr>\n",
       "\t<tr><td>2035</td><td>5229711920</td><td>1288800471</td><td>3940911450</td></tr>\n",
       "\t<tr><td>2036</td><td>5573266384</td><td>1317408088</td><td>4255858296</td></tr>\n",
       "\t<tr><td>2037</td><td>5916803160</td><td>1346014230</td><td>4570788931</td></tr>\n",
       "\t<tr><td>2038</td><td>6260322248</td><td>1374618896</td><td>4885703352</td></tr>\n",
       "\t<tr><td>2039</td><td>6603823648</td><td>1403222087</td><td>5200601562</td></tr>\n",
       "\t<tr><td>2040</td><td>6947307361</td><td>1431823803</td><td>5515483558</td></tr>\n",
       "\t<tr><td>2041</td><td>7290773386</td><td>1460424044</td><td>5830349342</td></tr>\n",
       "\t<tr><td>2042</td><td>7634221723</td><td>1489022810</td><td>6145198913</td></tr>\n",
       "</tbody>\n",
       "</table>\n"
      ],
      "text/latex": [
       "A data.frame: 20 x 4\n",
       "\\begin{tabular}{llll}\n",
       " year & rev.static & rev.micro & difference\\\\\n",
       " <int> & <dbl> & <dbl> & <dbl>\\\\\n",
       "\\hline\n",
       "\t 2023 & 1105678707 &  945395962 &  160282745\\\\\n",
       "\t 2024 & 1449445425 &  974019269 &  475426155\\\\\n",
       "\t 2025 & 1793194454 & 1002643125 &  790551329\\\\\n",
       "\t 2026 & 2136925796 & 1031265504 & 1105660292\\\\\n",
       "\t 2027 & 2480639450 & 1059886405 & 1420753044\\\\\n",
       "\t 2028 & 2824335416 & 1088505830 & 1735829586\\\\\n",
       "\t 2029 & 3168013694 & 1117123779 & 2050889916\\\\\n",
       "\t 2030 & 3511674285 & 1145740251 & 2365934034\\\\\n",
       "\t 2031 & 3855317188 & 1174355246 & 2680961941\\\\\n",
       "\t 2032 & 4198942402 & 1202968766 & 2995973636\\\\\n",
       "\t 2033 & 4542549930 & 1231580810 & 3310969120\\\\\n",
       "\t 2034 & 4886139769 & 1260191378 & 3625948391\\\\\n",
       "\t 2035 & 5229711920 & 1288800471 & 3940911450\\\\\n",
       "\t 2036 & 5573266384 & 1317408088 & 4255858296\\\\\n",
       "\t 2037 & 5916803160 & 1346014230 & 4570788931\\\\\n",
       "\t 2038 & 6260322248 & 1374618896 & 4885703352\\\\\n",
       "\t 2039 & 6603823648 & 1403222087 & 5200601562\\\\\n",
       "\t 2040 & 6947307361 & 1431823803 & 5515483558\\\\\n",
       "\t 2041 & 7290773386 & 1460424044 & 5830349342\\\\\n",
       "\t 2042 & 7634221723 & 1489022810 & 6145198913\\\\\n",
       "\\end{tabular}\n"
      ],
      "text/markdown": [
       "\n",
       "A data.frame: 20 x 4\n",
       "\n",
       "| year &lt;int&gt; | rev.static &lt;dbl&gt; | rev.micro &lt;dbl&gt; | difference &lt;dbl&gt; |\n",
       "|---|---|---|---|\n",
       "| 2023 | 1105678707 |  945395962 |  160282745 |\n",
       "| 2024 | 1449445425 |  974019269 |  475426155 |\n",
       "| 2025 | 1793194454 | 1002643125 |  790551329 |\n",
       "| 2026 | 2136925796 | 1031265504 | 1105660292 |\n",
       "| 2027 | 2480639450 | 1059886405 | 1420753044 |\n",
       "| 2028 | 2824335416 | 1088505830 | 1735829586 |\n",
       "| 2029 | 3168013694 | 1117123779 | 2050889916 |\n",
       "| 2030 | 3511674285 | 1145740251 | 2365934034 |\n",
       "| 2031 | 3855317188 | 1174355246 | 2680961941 |\n",
       "| 2032 | 4198942402 | 1202968766 | 2995973636 |\n",
       "| 2033 | 4542549930 | 1231580810 | 3310969120 |\n",
       "| 2034 | 4886139769 | 1260191378 | 3625948391 |\n",
       "| 2035 | 5229711920 | 1288800471 | 3940911450 |\n",
       "| 2036 | 5573266384 | 1317408088 | 4255858296 |\n",
       "| 2037 | 5916803160 | 1346014230 | 4570788931 |\n",
       "| 2038 | 6260322248 | 1374618896 | 4885703352 |\n",
       "| 2039 | 6603823648 | 1403222087 | 5200601562 |\n",
       "| 2040 | 6947307361 | 1431823803 | 5515483558 |\n",
       "| 2041 | 7290773386 | 1460424044 | 5830349342 |\n",
       "| 2042 | 7634221723 | 1489022810 | 6145198913 |\n",
       "\n"
      ],
      "text/plain": [
       "   year rev.static rev.micro  difference\n",
       "1  2023 1105678707  945395962  160282745\n",
       "2  2024 1449445425  974019269  475426155\n",
       "3  2025 1793194454 1002643125  790551329\n",
       "4  2026 2136925796 1031265504 1105660292\n",
       "5  2027 2480639450 1059886405 1420753044\n",
       "6  2028 2824335416 1088505830 1735829586\n",
       "7  2029 3168013694 1117123779 2050889916\n",
       "8  2030 3511674285 1145740251 2365934034\n",
       "9  2031 3855317188 1174355246 2680961941\n",
       "10 2032 4198942402 1202968766 2995973636\n",
       "11 2033 4542549930 1231580810 3310969120\n",
       "12 2034 4886139769 1260191378 3625948391\n",
       "13 2035 5229711920 1288800471 3940911450\n",
       "14 2036 5573266384 1317408088 4255858296\n",
       "15 2037 5916803160 1346014230 4570788931\n",
       "16 2038 6260322248 1374618896 4885703352\n",
       "17 2039 6603823648 1403222087 5200601562\n",
       "18 2040 6947307361 1431823803 5515483558\n",
       "19 2041 7290773386 1460424044 5830349342\n",
       "20 2042 7634221723 1489022810 6145198913"
      ]
     },
     "metadata": {},
     "output_type": "display_data"
    }
   ],
   "source": [
    "scoreg.fc = data.frame(year = c(rep(2023:2042,12)))\n",
    "scoreg.fc = data.frame(year = c(scoreg.fc[order(scoreg.fc$year),]))\n",
    "scoreg.fc$base.static = 1\n",
    "scoreg.fc = aggregate(base.static ~ year, scoreg.fc,sum)\n",
    "scoreg.fc$base.static = staticg.fc.ann$gas.base\n",
    "scoreg.fc$rev.static = staticg.fc.ann$rev.static\n",
    "scoreg.fc$base.micro = microg.fc.ann$base.micro\n",
    "scoreg.fc$rev.micro = microg.fc.ann$rev.micro\n",
    "scoreg.fc$difference = scoreg.fc$rev.static-scoreg.fc$rev.micro\n",
    "scoreg.fc"
   ]
  },
  {
   "attachments": {},
   "cell_type": "markdown",
   "metadata": {},
   "source": [
    "## Relationship Analysis"
   ]
  },
  {
   "cell_type": "code",
   "execution_count": 29,
   "metadata": {
    "vscode": {
     "languageId": "r"
    }
   },
   "outputs": [
    {
     "data": {
      "text/html": [
       "<style>\n",
       ".list-inline {list-style: none; margin:0; padding: 0}\n",
       ".list-inline>li {display: inline-block}\n",
       ".list-inline>li:not(:last-child)::after {content: \"\\00b7\"; padding: 0 .5ex}\n",
       "</style>\n",
       "<ol class=list-inline><li>'year'</li><li>'month'</li><li>'mnth'</li><li>'key'</li><li>'avg.vmt.share'</li><li>'gas.rev.ann'</li><li>'gas.base.ann'</li><li>'gas.tax'</li><li>'gas.base.mnth'</li><li>'gas.rev.mnth'</li><li>'vmt.ann (mill)'</li><li>'vmt.mnth'</li><li>'avg.mpg'</li><li>'ev.count'</li><li>'month_April'</li><li>'month_August'</li><li>'month_December'</li><li>'month_February'</li><li>'month_January'</li><li>'month_July'</li><li>'month_June'</li><li>'month_March'</li><li>'month_May'</li><li>'month_November'</li><li>'month_October'</li><li>'month_September'</li><li>'year_1999'</li><li>'year_2000'</li><li>'year_2001'</li><li>'year_2002'</li><li>'year_2003'</li><li>'year_2004'</li><li>'year_2005'</li><li>'year_2006'</li><li>'year_2007'</li><li>'year_2008'</li><li>'year_2009'</li><li>'year_2010'</li><li>'year_2011'</li><li>'year_2012'</li><li>'year_2013'</li><li>'year_2014'</li><li>'year_2015'</li><li>'year_2016'</li><li>'year_2017'</li><li>'year_2018'</li><li>'year_2019'</li><li>'year_2020'</li><li>'year_2021'</li><li>'year_2022'</li><li>'time'</li></ol>\n"
      ],
      "text/latex": [
       "\\begin{enumerate*}\n",
       "\\item 'year'\n",
       "\\item 'month'\n",
       "\\item 'mnth'\n",
       "\\item 'key'\n",
       "\\item 'avg.vmt.share'\n",
       "\\item 'gas.rev.ann'\n",
       "\\item 'gas.base.ann'\n",
       "\\item 'gas.tax'\n",
       "\\item 'gas.base.mnth'\n",
       "\\item 'gas.rev.mnth'\n",
       "\\item 'vmt.ann (mill)'\n",
       "\\item 'vmt.mnth'\n",
       "\\item 'avg.mpg'\n",
       "\\item 'ev.count'\n",
       "\\item 'month\\_April'\n",
       "\\item 'month\\_August'\n",
       "\\item 'month\\_December'\n",
       "\\item 'month\\_February'\n",
       "\\item 'month\\_January'\n",
       "\\item 'month\\_July'\n",
       "\\item 'month\\_June'\n",
       "\\item 'month\\_March'\n",
       "\\item 'month\\_May'\n",
       "\\item 'month\\_November'\n",
       "\\item 'month\\_October'\n",
       "\\item 'month\\_September'\n",
       "\\item 'year\\_1999'\n",
       "\\item 'year\\_2000'\n",
       "\\item 'year\\_2001'\n",
       "\\item 'year\\_2002'\n",
       "\\item 'year\\_2003'\n",
       "\\item 'year\\_2004'\n",
       "\\item 'year\\_2005'\n",
       "\\item 'year\\_2006'\n",
       "\\item 'year\\_2007'\n",
       "\\item 'year\\_2008'\n",
       "\\item 'year\\_2009'\n",
       "\\item 'year\\_2010'\n",
       "\\item 'year\\_2011'\n",
       "\\item 'year\\_2012'\n",
       "\\item 'year\\_2013'\n",
       "\\item 'year\\_2014'\n",
       "\\item 'year\\_2015'\n",
       "\\item 'year\\_2016'\n",
       "\\item 'year\\_2017'\n",
       "\\item 'year\\_2018'\n",
       "\\item 'year\\_2019'\n",
       "\\item 'year\\_2020'\n",
       "\\item 'year\\_2021'\n",
       "\\item 'year\\_2022'\n",
       "\\item 'time'\n",
       "\\end{enumerate*}\n"
      ],
      "text/markdown": [
       "1. 'year'\n",
       "2. 'month'\n",
       "3. 'mnth'\n",
       "4. 'key'\n",
       "5. 'avg.vmt.share'\n",
       "6. 'gas.rev.ann'\n",
       "7. 'gas.base.ann'\n",
       "8. 'gas.tax'\n",
       "9. 'gas.base.mnth'\n",
       "10. 'gas.rev.mnth'\n",
       "11. 'vmt.ann (mill)'\n",
       "12. 'vmt.mnth'\n",
       "13. 'avg.mpg'\n",
       "14. 'ev.count'\n",
       "15. 'month_April'\n",
       "16. 'month_August'\n",
       "17. 'month_December'\n",
       "18. 'month_February'\n",
       "19. 'month_January'\n",
       "20. 'month_July'\n",
       "21. 'month_June'\n",
       "22. 'month_March'\n",
       "23. 'month_May'\n",
       "24. 'month_November'\n",
       "25. 'month_October'\n",
       "26. 'month_September'\n",
       "27. 'year_1999'\n",
       "28. 'year_2000'\n",
       "29. 'year_2001'\n",
       "30. 'year_2002'\n",
       "31. 'year_2003'\n",
       "32. 'year_2004'\n",
       "33. 'year_2005'\n",
       "34. 'year_2006'\n",
       "35. 'year_2007'\n",
       "36. 'year_2008'\n",
       "37. 'year_2009'\n",
       "38. 'year_2010'\n",
       "39. 'year_2011'\n",
       "40. 'year_2012'\n",
       "41. 'year_2013'\n",
       "42. 'year_2014'\n",
       "43. 'year_2015'\n",
       "44. 'year_2016'\n",
       "45. 'year_2017'\n",
       "46. 'year_2018'\n",
       "47. 'year_2019'\n",
       "48. 'year_2020'\n",
       "49. 'year_2021'\n",
       "50. 'year_2022'\n",
       "51. 'time'\n",
       "\n",
       "\n"
      ],
      "text/plain": [
       " [1] \"year\"            \"month\"           \"mnth\"            \"key\"            \n",
       " [5] \"avg.vmt.share\"   \"gas.rev.ann\"     \"gas.base.ann\"    \"gas.tax\"        \n",
       " [9] \"gas.base.mnth\"   \"gas.rev.mnth\"    \"vmt.ann (mill)\"  \"vmt.mnth\"       \n",
       "[13] \"avg.mpg\"         \"ev.count\"        \"month_April\"     \"month_August\"   \n",
       "[17] \"month_December\"  \"month_February\"  \"month_January\"   \"month_July\"     \n",
       "[21] \"month_June\"      \"month_March\"     \"month_May\"       \"month_November\" \n",
       "[25] \"month_October\"   \"month_September\" \"year_1999\"       \"year_2000\"      \n",
       "[29] \"year_2001\"       \"year_2002\"       \"year_2003\"       \"year_2004\"      \n",
       "[33] \"year_2005\"       \"year_2006\"       \"year_2007\"       \"year_2008\"      \n",
       "[37] \"year_2009\"       \"year_2010\"       \"year_2011\"       \"year_2012\"      \n",
       "[41] \"year_2013\"       \"year_2014\"       \"year_2015\"       \"year_2016\"      \n",
       "[45] \"year_2017\"       \"year_2018\"       \"year_2019\"       \"year_2020\"      \n",
       "[49] \"year_2021\"       \"year_2022\"       \"time\"           "
      ]
     },
     "metadata": {},
     "output_type": "display_data"
    }
   ],
   "source": [
    "names(gas)"
   ]
  },
  {
   "cell_type": "code",
   "execution_count": 30,
   "metadata": {
    "vscode": {
     "languageId": "r"
    }
   },
   "outputs": [
    {
     "data": {
      "text/plain": [
       "\n",
       "Call:\n",
       "lm(formula = gas.rev.mnth ~ gas.base.mnth + log(gas.tax) + ev.count + \n",
       "    mnth + time + year, data = gas)\n",
       "\n",
       "Residuals:\n",
       "     Min       1Q   Median       3Q      Max \n",
       "-3866706  -282574    -1106   279441  2689350 \n",
       "\n",
       "Coefficients: (3 not defined because of singularities)\n",
       "                        Estimate         Std. Error t value\n",
       "(Intercept)   -34583991599.74192  14457939963.07252  -2.392\n",
       "gas.base.mnth            0.22398            0.01357  16.506\n",
       "log(gas.tax)    -434370201.93069    201061033.55980  -2.160\n",
       "ev.count               -92.35053          288.55826  -0.320\n",
       "mnth1             -1296294.21873       690159.85802  -1.878\n",
       "mnth2             -3626300.27884      1186171.63711  -3.057\n",
       "mnth3             -5258190.97196      1748656.44277  -3.007\n",
       "mnth4             -6741127.80491      2317862.68122  -2.908\n",
       "mnth5             -8025036.27868      2891859.46422  -2.775\n",
       "mnth6             -9532221.41887      3465856.06279  -2.750\n",
       "mnth7            -11010333.13785      4045818.86582  -2.721\n",
       "mnth8            -11746800.93230      4658800.54158  -2.521\n",
       "mnth9            -13471817.52070      5219945.57403  -2.581\n",
       "mnth10           -14596950.69663      5836973.37595  -2.501\n",
       "mnth11           -15973630.94492      6415212.60306  -2.490\n",
       "time              16879587.31229      7042078.49001   2.397\n",
       "year2000         -17608049.45926      7030900.18048  -2.504\n",
       "year2001         -35701344.77538     14027209.65673  -2.545\n",
       "year2002         -52051771.54484     21083716.99739  -2.469\n",
       "year2003          19471799.99051      8473140.21475   2.298\n",
       "year2004           1282755.52801      1605301.33218   0.799\n",
       "year2005         -15537060.46957      5572531.60923  -2.788\n",
       "year2006         -32229650.59047     12608729.87170  -2.556\n",
       "year2007         -49112051.48970     19646835.60216  -2.500\n",
       "year2008         -65642020.16601     26707130.33851  -2.458\n",
       "year2009         -82163974.39921     33769457.57486  -2.433\n",
       "year2010         -99139712.04410     40800373.34385  -2.430\n",
       "year2011        -116062650.33230     47826480.84101  -2.427\n",
       "year2012        -132766474.59634     54860465.67628  -2.420\n",
       "year2013        -149522405.32460     61849203.48149  -2.418\n",
       "year2014        -166326947.82334     68812585.40339  -2.417\n",
       "year2015        -183433742.24984     75740867.91065  -2.422\n",
       "year2016        -200627221.20551     82682932.93808  -2.426\n",
       "year2017        -217505571.96171     89558338.15456  -2.429\n",
       "year2018            476265.22602       693260.37127   0.687\n",
       "year2019           1443685.16962       557669.16529   2.589\n",
       "year2020                      NA                 NA      NA\n",
       "year2021                      NA                 NA      NA\n",
       "year2022                      NA                 NA      NA\n",
       "                          Pr(>|t|)    \n",
       "(Intercept)                0.01749 *  \n",
       "gas.base.mnth < 0.0000000000000002 ***\n",
       "log(gas.tax)               0.03169 *  \n",
       "ev.count                   0.74920    \n",
       "mnth1                      0.06150 .  \n",
       "mnth2                      0.00248 ** \n",
       "mnth3                      0.00291 ** \n",
       "mnth4                      0.00396 ** \n",
       "mnth5                      0.00593 ** \n",
       "mnth6                      0.00639 ** \n",
       "mnth7                      0.00695 ** \n",
       "mnth8                      0.01231 *  \n",
       "mnth9                      0.01042 *  \n",
       "mnth10                     0.01303 *  \n",
       "mnth11                     0.01342 *  \n",
       "time                       0.01726 *  \n",
       "year2000                   0.01290 *  \n",
       "year2001                   0.01152 *  \n",
       "year2002                   0.01422 *  \n",
       "year2003                   0.02238 *  \n",
       "year2004                   0.42500    \n",
       "year2005                   0.00571 ** \n",
       "year2006                   0.01117 *  \n",
       "year2007                   0.01306 *  \n",
       "year2008                   0.01465 *  \n",
       "year2009                   0.01567 *  \n",
       "year2010                   0.01580 *  \n",
       "year2011                   0.01594 *  \n",
       "year2012                   0.01623 *  \n",
       "year2013                   0.01634 *  \n",
       "year2014                   0.01636 *  \n",
       "year2015                   0.01615 *  \n",
       "year2016                   0.01595 *  \n",
       "year2017                   0.01586 *  \n",
       "year2018                   0.49272    \n",
       "year2019                   0.01019 *  \n",
       "year2020                        NA    \n",
       "year2021                        NA    \n",
       "year2022                        NA    \n",
       "---\n",
       "Signif. codes:  0 '***' 0.001 '**' 0.01 '*' 0.05 '.' 0.1 ' ' 1\n",
       "\n",
       "Residual standard error: 943000 on 252 degrees of freedom\n",
       "Multiple R-squared:  0.9957,\tAdjusted R-squared:  0.9951 \n",
       "F-statistic:  1660 on 35 and 252 DF,  p-value: < 0.00000000000000022\n"
      ]
     },
     "metadata": {},
     "output_type": "display_data"
    }
   ],
   "source": [
    "rel.m = lm(gas.rev.mnth ~  gas.base.mnth + log(gas.tax) + ev.count + mnth + time + year, gas)\n",
    "summary(rel.m)"
   ]
  },
  {
   "attachments": {},
   "cell_type": "markdown",
   "metadata": {},
   "source": [
    "## Adequacy Assessment "
   ]
  },
  {
   "attachments": {},
   "cell_type": "markdown",
   "metadata": {},
   "source": [
    "### Historical Data (2022 USD)"
   ]
  },
  {
   "cell_type": "code",
   "execution_count": 31,
   "metadata": {
    "vscode": {
     "languageId": "r"
    }
   },
   "outputs": [],
   "source": [
    "adeq <- read_excel('data/WorkingData.xlsx', sheet = \"GasRev\")"
   ]
  },
  {
   "attachments": {},
   "cell_type": "markdown",
   "metadata": {},
   "source": [
    "#### Buoyancy"
   ]
  },
  {
   "cell_type": "code",
   "execution_count": 32,
   "metadata": {
    "vscode": {
     "languageId": "r"
    }
   },
   "outputs": [
    {
     "data": {
      "text/plain": [
       "\n",
       "Call:\n",
       "lm(formula = log(gas.rev.real) ~ log(tpi.real), data = adeq)\n",
       "\n",
       "Residuals:\n",
       "     Min       1Q   Median       3Q      Max \n",
       "-0.21902 -0.12223  0.04285  0.11055  0.19839 \n",
       "\n",
       "Coefficients:\n",
       "              Estimate Std. Error t value Pr(>|t|)  \n",
       "(Intercept)     8.2313     6.7323   1.223   0.2344  \n",
       "log(tpi.real)   0.4631     0.2536   1.826   0.0815 .\n",
       "---\n",
       "Signif. codes:  0 '***' 0.001 '**' 0.01 '*' 0.05 '.' 0.1 ' ' 1\n",
       "\n",
       "Residual standard error: 0.1406 on 22 degrees of freedom\n",
       "Multiple R-squared:  0.1316,\tAdjusted R-squared:  0.09212 \n",
       "F-statistic: 3.334 on 1 and 22 DF,  p-value: 0.08148\n"
      ]
     },
     "metadata": {},
     "output_type": "display_data"
    }
   ],
   "source": [
    "buoy.gas <- lm(log(gas.rev.real) ~ log(tpi.real), adeq)\n",
    "summary(buoy.gas)\n",
    "\n",
    "# Buoyancy = 0.4631"
   ]
  },
  {
   "attachments": {},
   "cell_type": "markdown",
   "metadata": {},
   "source": [
    "#### Elasticity"
   ]
  },
  {
   "cell_type": "code",
   "execution_count": 33,
   "metadata": {
    "vscode": {
     "languageId": "r"
    }
   },
   "outputs": [
    {
     "data": {
      "text/plain": [
       "\n",
       "Call:\n",
       "lm(formula = log(base) ~ log(tpi.real) + c1 + c2 + c2 + c3 + \n",
       "    c4 + c5 + c6, data = adeq)\n",
       "\n",
       "Residuals:\n",
       "     Min       1Q   Median       3Q      Max \n",
       "-0.06513 -0.01927  0.00000  0.02351  0.05355 \n",
       "\n",
       "Coefficients:\n",
       "              Estimate Std. Error t value  Pr(>|t|)    \n",
       "(Intercept)   23.93921    3.95273   6.056 0.0000167 ***\n",
       "log(tpi.real) -0.07843    0.14964  -0.524     0.607    \n",
       "c1            -0.02068    0.02635  -0.785     0.444    \n",
       "c2            -0.02621    0.04499  -0.583     0.568    \n",
       "c3             0.02925    0.05436   0.538     0.598    \n",
       "c4            -0.06706    0.05497  -1.220     0.240    \n",
       "c5             0.02185    0.05449   0.401     0.694    \n",
       "c6             0.03368    0.05470   0.616     0.547    \n",
       "---\n",
       "Signif. codes:  0 '***' 0.001 '**' 0.01 '*' 0.05 '.' 0.1 ' ' 1\n",
       "\n",
       "Residual standard error: 0.03835 on 16 degrees of freedom\n",
       "Multiple R-squared:  0.4053,\tAdjusted R-squared:  0.1451 \n",
       "F-statistic: 1.558 on 7 and 16 DF,  p-value: 0.2184\n"
      ]
     },
     "metadata": {},
     "output_type": "display_data"
    }
   ],
   "source": [
    "elas.gas <- lm(log(base) ~ log(tpi.real) + c1 + c2 + c2 + c3 + c4 + c5 + c6,adeq)\n",
    "summary(elas.gas)\n",
    "\n",
    "# Elasticity = -0.07843"
   ]
  },
  {
   "attachments": {},
   "cell_type": "markdown",
   "metadata": {},
   "source": [
    "#### Stability"
   ]
  },
  {
   "cell_type": "code",
   "execution_count": 34,
   "metadata": {
    "vscode": {
     "languageId": "r"
    }
   },
   "outputs": [
    {
     "data": {
      "text/html": [
       "<table class=\"dataframe\">\n",
       "<caption>A data.frame: 3 x 3</caption>\n",
       "<thead>\n",
       "\t<tr><th></th><th scope=col>SD</th><th scope=col>Max</th><th scope=col>Min</th></tr>\n",
       "\t<tr><th></th><th scope=col>&lt;dbl&gt;</th><th scope=col>&lt;dbl&gt;</th><th scope=col>&lt;dbl&gt;</th></tr>\n",
       "</thead>\n",
       "<tbody>\n",
       "\t<tr><th scope=row>Change in Revenue</th><td>10.744618</td><td>48.708014</td><td> -6.595596</td></tr>\n",
       "\t<tr><th scope=row>Change in Economic Activity</th><td> 2.205255</td><td> 6.187193</td><td> -4.684276</td></tr>\n",
       "\t<tr><th scope=row>Change in Base</th><td> 4.500163</td><td>12.408989</td><td>-10.169525</td></tr>\n",
       "</tbody>\n",
       "</table>\n"
      ],
      "text/latex": [
       "A data.frame: 3 x 3\n",
       "\\begin{tabular}{r|lll}\n",
       "  & SD & Max & Min\\\\\n",
       "  & <dbl> & <dbl> & <dbl>\\\\\n",
       "\\hline\n",
       "\tChange in Revenue & 10.744618 & 48.708014 &  -6.595596\\\\\n",
       "\tChange in Economic Activity &  2.205255 &  6.187193 &  -4.684276\\\\\n",
       "\tChange in Base &  4.500163 & 12.408989 & -10.169525\\\\\n",
       "\\end{tabular}\n"
      ],
      "text/markdown": [
       "\n",
       "A data.frame: 3 x 3\n",
       "\n",
       "| <!--/--> | SD &lt;dbl&gt; | Max &lt;dbl&gt; | Min &lt;dbl&gt; |\n",
       "|---|---|---|---|\n",
       "| Change in Revenue | 10.744618 | 48.708014 |  -6.595596 |\n",
       "| Change in Economic Activity |  2.205255 |  6.187193 |  -4.684276 |\n",
       "| Change in Base |  4.500163 | 12.408989 | -10.169525 |\n",
       "\n"
      ],
      "text/plain": [
       "                            SD        Max       Min       \n",
       "Change in Revenue           10.744618 48.708014  -6.595596\n",
       "Change in Economic Activity  2.205255  6.187193  -4.684276\n",
       "Change in Base               4.500163 12.408989 -10.169525"
      ]
     },
     "metadata": {},
     "output_type": "display_data"
    }
   ],
   "source": [
    "stabg <- data.frame(SD = c(sd(adeq$d.gas.real),sd(adeq$d.tpi.real),sd(adeq$d.base)),\n",
    "                   Max = c(max(adeq$d.gas.real),max(adeq$d.tpi.real),max(adeq$d.base)),\n",
    "                   Min = c(min(adeq$d.gas.real),min(adeq$d.tpi.real),min(adeq$d.base)),\n",
    "                   row.names = c('Change in Revenue','Change in Economic Activity',\n",
    "                                 'Change in Base'))\n",
    "stabg*100"
   ]
  },
  {
   "attachments": {},
   "cell_type": "markdown",
   "metadata": {},
   "source": [
    "### Forecasted Data"
   ]
  },
  {
   "attachments": {},
   "cell_type": "markdown",
   "metadata": {},
   "source": [
    "#### Setup"
   ]
  },
  {
   "cell_type": "code",
   "execution_count": 35,
   "metadata": {
    "vscode": {
     "languageId": "r"
    }
   },
   "outputs": [],
   "source": [
    "adeq.fc = read_excel('data/WorkingData.xlsx',sheet = 'adeq')"
   ]
  },
  {
   "cell_type": "markdown",
   "metadata": {},
   "source": [
    "#### Buoyancy"
   ]
  },
  {
   "cell_type": "code",
   "execution_count": 36,
   "metadata": {
    "vscode": {
     "languageId": "r"
    }
   },
   "outputs": [
    {
     "data": {
      "text/plain": [
       "\n",
       "Call:\n",
       "lm(formula = log(gas.rev) ~ log(tpi), data = adeq.fc)\n",
       "\n",
       "Residuals:\n",
       "      Min        1Q    Median        3Q       Max \n",
       "-0.009002 -0.003103  0.001173  0.003745  0.004768 \n",
       "\n",
       "Coefficients:\n",
       "             Estimate Std. Error t value            Pr(>|t|)    \n",
       "(Intercept) -33.01030    0.39449  -83.68 <0.0000000000000002 ***\n",
       "log(tpi)      2.01027    0.01471  136.68 <0.0000000000000002 ***\n",
       "---\n",
       "Signif. codes:  0 '***' 0.001 '**' 0.01 '*' 0.05 '.' 0.1 ' ' 1\n",
       "\n",
       "Residual standard error: 0.004494 on 18 degrees of freedom\n",
       "Multiple R-squared:  0.999,\tAdjusted R-squared:  0.999 \n",
       "F-statistic: 1.868e+04 on 1 and 18 DF,  p-value: < 0.00000000000000022\n"
      ]
     },
     "metadata": {},
     "output_type": "display_data"
    }
   ],
   "source": [
    "buoy.gas.fc <- lm(log(gas.rev) ~ log(tpi), adeq.fc)\n",
    "summary(buoy.gas.fc)\n",
    "\n",
    "# Buoyancy = 2.01027"
   ]
  },
  {
   "attachments": {},
   "cell_type": "markdown",
   "metadata": {},
   "source": [
    "#### Elasticity"
   ]
  },
  {
   "cell_type": "code",
   "execution_count": 37,
   "metadata": {
    "vscode": {
     "languageId": "r"
    }
   },
   "outputs": [
    {
     "data": {
      "text/plain": [
       "\n",
       "Call:\n",
       "lm(formula = log(base) ~ log(tpi) + c0 + c1 + c2 + c3 + c4 + \n",
       "    c5 + c6 + c7 + c8 + c9 + c10 + c11 + c12 + c13 + c14 + c15 + \n",
       "    c16 + c17 + c18 + c19, data = adeq.fc)\n",
       "\n",
       "Residuals:\n",
       "ALL 20 residuals are 0: no residual degrees of freedom!\n",
       "\n",
       "Coefficients: (2 not defined because of singularities)\n",
       "                Estimate Std. Error t value Pr(>|t|)\n",
       "(Intercept) 21.809867017        NaN     NaN      NaN\n",
       "log(tpi)    -0.001307996        NaN     NaN      NaN\n",
       "c0                    NA         NA      NA       NA\n",
       "c1          -0.000008438        NaN     NaN      NaN\n",
       "c2           0.000018098        NaN     NaN      NaN\n",
       "c3           0.000016348        NaN     NaN      NaN\n",
       "c4           0.000014731        NaN     NaN      NaN\n",
       "c5           0.000013233        NaN     NaN      NaN\n",
       "c6           0.000011842        NaN     NaN      NaN\n",
       "c7           0.000010547        NaN     NaN      NaN\n",
       "c8           0.000009339        NaN     NaN      NaN\n",
       "c9           0.000008210        NaN     NaN      NaN\n",
       "c10          0.000007153        NaN     NaN      NaN\n",
       "c11          0.000006161        NaN     NaN      NaN\n",
       "c12          0.000005228        NaN     NaN      NaN\n",
       "c13          0.000004350        NaN     NaN      NaN\n",
       "c14          0.000003521        NaN     NaN      NaN\n",
       "c15          0.000002739        NaN     NaN      NaN\n",
       "c16          0.000001999        NaN     NaN      NaN\n",
       "c17          0.000001297        NaN     NaN      NaN\n",
       "c18          0.000000632        NaN     NaN      NaN\n",
       "c19                   NA         NA      NA       NA\n",
       "\n",
       "Residual standard error: NaN on 0 degrees of freedom\n",
       "Multiple R-squared:      1,\tAdjusted R-squared:    NaN \n",
       "F-statistic:   NaN on 19 and 0 DF,  p-value: NA\n"
      ]
     },
     "metadata": {},
     "output_type": "display_data"
    }
   ],
   "source": [
    "elas.gas.fc <- lm(log(base) ~ log(tpi) + c0 + c1 + c2 + c3 + c4 + c5 + c6 + c7 + c8 + c9 + c10 + c11 + c12 + c13 + c14 + c15 + c16 + c17 + c18 + c19, adeq.fc)\n",
    "summary(elas.gas.fc)\n",
    "\n",
    "# elas = -0.001308"
   ]
  },
  {
   "cell_type": "markdown",
   "metadata": {},
   "source": [
    "#### Stability"
   ]
  },
  {
   "cell_type": "code",
   "execution_count": 38,
   "metadata": {
    "vscode": {
     "languageId": "r"
    }
   },
   "outputs": [
    {
     "data": {
      "text/html": [
       "<table class=\"dataframe\">\n",
       "<caption>A data.frame: 3 x 3</caption>\n",
       "<thead>\n",
       "\t<tr><th></th><th scope=col>SD</th><th scope=col>Max</th><th scope=col>Min</th></tr>\n",
       "\t<tr><th></th><th scope=col>&lt;dbl&gt;</th><th scope=col>&lt;dbl&gt;</th><th scope=col>&lt;dbl&gt;</th></tr>\n",
       "</thead>\n",
       "<tbody>\n",
       "\t<tr><th scope=row>Change in Revenue</th><td>1.4211122</td><td>3.0276527120</td><td>-3.7674740</td></tr>\n",
       "\t<tr><th scope=row>Change in Economic Activity</th><td>0.2485150</td><td>1.3303440541</td><td> 0.1379885</td></tr>\n",
       "\t<tr><th scope=row>Change in Base</th><td>0.8422356</td><td>0.0001037268</td><td>-3.7674740</td></tr>\n",
       "</tbody>\n",
       "</table>\n"
      ],
      "text/latex": [
       "A data.frame: 3 x 3\n",
       "\\begin{tabular}{r|lll}\n",
       "  & SD & Max & Min\\\\\n",
       "  & <dbl> & <dbl> & <dbl>\\\\\n",
       "\\hline\n",
       "\tChange in Revenue & 1.4211122 & 3.0276527120 & -3.7674740\\\\\n",
       "\tChange in Economic Activity & 0.2485150 & 1.3303440541 &  0.1379885\\\\\n",
       "\tChange in Base & 0.8422356 & 0.0001037268 & -3.7674740\\\\\n",
       "\\end{tabular}\n"
      ],
      "text/markdown": [
       "\n",
       "A data.frame: 3 x 3\n",
       "\n",
       "| <!--/--> | SD &lt;dbl&gt; | Max &lt;dbl&gt; | Min &lt;dbl&gt; |\n",
       "|---|---|---|---|\n",
       "| Change in Revenue | 1.4211122 | 3.0276527120 | -3.7674740 |\n",
       "| Change in Economic Activity | 0.2485150 | 1.3303440541 |  0.1379885 |\n",
       "| Change in Base | 0.8422356 | 0.0001037268 | -3.7674740 |\n",
       "\n"
      ],
      "text/plain": [
       "                            SD        Max          Min       \n",
       "Change in Revenue           1.4211122 3.0276527120 -3.7674740\n",
       "Change in Economic Activity 0.2485150 1.3303440541  0.1379885\n",
       "Change in Base              0.8422356 0.0001037268 -3.7674740"
      ]
     },
     "metadata": {},
     "output_type": "display_data"
    }
   ],
   "source": [
    "stabg.fc <- data.frame(SD = c(sd(adeq.fc$d.rev),sd(adeq.fc$d.tpi),sd(adeq.fc$d.base)),\n",
    "                   Max = c(max(adeq.fc$d.rev),max(adeq.fc$d.tpi),max(adeq.fc$d.base)),\n",
    "                   Min = c(min(adeq.fc$d.rev),min(adeq.fc$d.tpi),min(adeq.fc$d.base)),\n",
    "                   row.names = c('Change in Revenue','Change in Economic Activity',\n",
    "                                 'Change in Base'))\n",
    "stabg.fc*100"
   ]
  },
  {
   "attachments": {},
   "cell_type": "markdown",
   "metadata": {},
   "source": [
    "## Suits Index"
   ]
  },
  {
   "cell_type": "code",
   "execution_count": 39,
   "metadata": {
    "vscode": {
     "languageId": "r"
    }
   },
   "outputs": [],
   "source": [
    "nhts$HHFAMINC = as.numeric(nhts$HHFAMINC)\n",
    "nhts.in2 = nhts[c('HHFAMINC','HHSTATE', 'GSYRGAL')][nhts$HHSTATE == 'IN',]\n",
    "nhts.in2 = nhts.in2[nhts.in2$HHFAMINC > 0,]\n",
    "g.suits = aggregate(GSYRGAL ~ HHFAMINC,nhts.in2,sum)\n",
    "g.suits$Bracket = c('Less than $10,000','$10,000-$14,999','$15,000-$24,999','$25,000-$34,999','$35,000-$49,999',\n",
    "    '$50,000-$74,999','$75,000-$99,999','$100,000-$124,999','$125,000-$149,999','$150,000-$199,999','$200,000 or more')\n",
    "g.suits = merge(g.suits,count(nhts.in2,HHFAMINC),by='HHFAMINC')"
   ]
  },
  {
   "cell_type": "code",
   "execution_count": 40,
   "metadata": {
    "vscode": {
     "languageId": "r"
    }
   },
   "outputs": [],
   "source": [
    "g.suits$rate = 0.33\n",
    "g.suits$rawinc = c(mean(c(0,10000)),mean(c(10000,14999)),mean(c(15000,24999)),mean(c(25000,35000)),mean(c(35000,49999)),\n",
    "    mean(c(50000,74999)),mean(c(75000,99999)),mean(c(100000,124999)),mean(c(125000,149999)),mean(c(150000,199999)),\n",
    "    mean(c(200000,1000000)))\n",
    "g.suits$rawinc = g.suits$rawinc*g.suits$n\n",
    "g.suits$burden = g.suits$GSYRGAL * g.suits$rate\n",
    "g.suits$burden = g.suits$burden*g.suits$n\n",
    "\n",
    "g.suits$shareinc = g.suits$rawinc/sum(g.suits$rawinc)\n",
    "g.suits$cuminc = g.suits$rawinc[1]/sum(g.suits$rawinc)\n",
    "g.suits$sharebur = g.suits$burden/sum(g.suits$burden)\n",
    "g.suits$cumbur = g.suits$burden[1]/sum(g.suits$burden)\n",
    "for (row in 2:length(g.suits$HHFAMINC)) {\n",
    "    g.suits$cuminc[row] = g.suits$shareinc[row] + g.suits$cuminc[row-1]\n",
    "    g.suits$cumbur[row] = g.suits$sharebur[row] + g.suits$cumbur[row-1]\n",
    "}"
   ]
  },
  {
   "cell_type": "code",
   "execution_count": null,
   "metadata": {
    "vscode": {
     "languageId": "r"
    }
   },
   "outputs": [],
   "source": []
  },
  {
   "cell_type": "code",
   "execution_count": 41,
   "metadata": {
    "vscode": {
     "languageId": "r"
    }
   },
   "outputs": [
    {
     "data": {
      "image/png": "[encoded data removed]",
      "text/plain": [
       "plot without title"
      ]
     },
     "metadata": {
      "image/png": {
       "height": 600,
       "width": 600
      }
     },
     "output_type": "display_data"
    }
   ],
   "source": [
    "# x = cumulative income share, y = cumulative tax burden\n",
    "ggplot(g.suits) + \n",
    "    geom_line(aes(cuminc,cumbur, color='Gasoline Tax')) + \n",
    "    geom_line(aes(cuminc,cuminc, color='Proportional Tax')) + theme\n",
    "    "
   ]
  },
  {
   "cell_type": "code",
   "execution_count": 42,
   "metadata": {
    "vscode": {
     "languageId": "r"
    }
   },
   "outputs": [],
   "source": [
    "g.suits$k = (5000/length(g.suits$cumbur))/5000\n",
    "g.suits$l = (1/2)*(g.suits$cumbur[1])*\n",
    "    (g.suits$cuminc[1])\n",
    "for (row in 2:length(g.suits$cumbur)){\n",
    "    g.suits$l[row] = (1/2)*(g.suits$cumbur[row]+g.suits$cumbur[row-1])*\n",
    "    (g.suits$cuminc[row]+g.suits$cuminc[row-1])\n",
    "}"
   ]
  },
  {
   "cell_type": "code",
   "execution_count": 43,
   "metadata": {
    "vscode": {
     "languageId": "r"
    }
   },
   "outputs": [
    {
     "data": {
      "text/html": [
       "'Gas Tax Suits Index = -5.37830623847855'"
      ],
      "text/latex": [
       "'Gas Tax Suits Index = -5.37830623847855'"
      ],
      "text/markdown": [
       "'Gas Tax Suits Index = -5.37830623847855'"
      ],
      "text/plain": [
       "[1] \"Gas Tax Suits Index = -5.37830623847855\""
      ]
     },
     "metadata": {},
     "output_type": "display_data"
    },
    {
     "data": {
      "text/html": [
       "<table class=\"dataframe\">\n",
       "<caption>A data.frame: 11 x 13</caption>\n",
       "<thead>\n",
       "\t<tr><th scope=col>HHFAMINC</th><th scope=col>GSYRGAL</th><th scope=col>Bracket</th><th scope=col>n</th><th scope=col>rate</th><th scope=col>rawinc</th><th scope=col>burden</th><th scope=col>shareinc</th><th scope=col>cuminc</th><th scope=col>sharebur</th><th scope=col>cumbur</th><th scope=col>k</th><th scope=col>l</th></tr>\n",
       "\t<tr><th scope=col>&lt;dbl&gt;</th><th scope=col>&lt;dbl&gt;</th><th scope=col>&lt;chr&gt;</th><th scope=col>&lt;int&gt;</th><th scope=col>&lt;dbl&gt;</th><th scope=col>&lt;dbl&gt;</th><th scope=col>&lt;dbl&gt;</th><th scope=col>&lt;dbl&gt;</th><th scope=col>&lt;dbl&gt;</th><th scope=col>&lt;dbl&gt;</th><th scope=col>&lt;dbl&gt;</th><th scope=col>&lt;dbl&gt;</th><th scope=col>&lt;dbl&gt;</th></tr>\n",
       "</thead>\n",
       "<tbody>\n",
       "\t<tr><td> 1</td><td>  7786.481</td><td>Less than $10,000</td><td> 23</td><td>0.33</td><td>  115000.0</td><td>  59099.39</td><td>0.001345469</td><td>0.001345469</td><td>0.002556716</td><td>0.002556716</td><td>0.09090909</td><td>0.000001719991</td></tr>\n",
       "\t<tr><td> 2</td><td> 12013.351</td><td>$10,000-$14,999  </td><td> 31</td><td>0.33</td><td>  387484.5</td><td> 122896.58</td><td>0.004533464</td><td>0.005878932</td><td>0.005316665</td><td>0.007873381</td><td>0.09090909</td><td>0.000037675602</td></tr>\n",
       "\t<tr><td> 3</td><td> 31537.286</td><td>$15,000-$24,999  </td><td> 67</td><td>0.33</td><td> 1339966.5</td><td> 697289.40</td><td>0.015677245</td><td>0.021556177</td><td>0.030165641</td><td>0.038039022</td><td>0.09090909</td><td>0.000629805899</td></tr>\n",
       "\t<tr><td> 4</td><td> 44135.044</td><td>$25,000-$34,999  </td><td> 97</td><td>0.33</td><td> 2910000.0</td><td>1412762.75</td><td>0.034046211</td><td>0.055602388</td><td>0.061117943</td><td>0.099156965</td><td>0.09090909</td><td>0.005292922768</td></tr>\n",
       "\t<tr><td> 5</td><td> 66601.136</td><td>$35,000-$49,999  </td><td>159</td><td>0.33</td><td> 6757420.5</td><td>3494561.58</td><td>0.079059988</td><td>0.134662376</td><td>0.151179252</td><td>0.250336217</td><td>0.09090909</td><td>0.033248119015</td></tr>\n",
       "\t<tr><td> 6</td><td>121873.275</td><td>$50,000-$74,999  </td><td>238</td><td>0.33</td><td>14874881.0</td><td>9571927.03</td><td>0.174032075</td><td>0.308694451</td><td>0.414093939</td><td>0.664430156</td><td>0.09090909</td><td>0.202783958592</td></tr>\n",
       "\t<tr><td> 7</td><td> 74746.397</td><td>$75,000-$99,999  </td><td>146</td><td>0.33</td><td>12774927.0</td><td>3601281.40</td><td>0.149463183</td><td>0.458157634</td><td>0.155796089</td><td>0.820226246</td><td>0.09090909</td><td>0.569255928642</td></tr>\n",
       "\t<tr><td> 8</td><td> 73051.937</td><td>$100,000-$124,999</td><td>125</td><td>0.33</td><td>14062437.5</td><td>3013392.41</td><td>0.164526706</td><td>0.622684340</td><td>0.130363252</td><td>0.950589497</td><td>0.09090909</td><td>0.956985991463</td></tr>\n",
       "\t<tr><td> 9</td><td> 34489.859</td><td>$125,000-$149,999</td><td> 64</td><td>0.33</td><td> 8799968.0</td><td> 728425.81</td><td>0.102957240</td><td>0.725641580</td><td>0.031512642</td><td>0.982102140</td><td>0.09090909</td><td>1.302949114800</td></tr>\n",
       "\t<tr><td>10</td><td> 20019.598</td><td>$150,000-$199,999</td><td> 38</td><td>0.33</td><td> 6649981.0</td><td> 251045.76</td><td>0.077802975</td><td>0.803444555</td><td>0.010860564</td><td>0.992962704</td><td>0.09090909</td><td>1.510022133697</td></tr>\n",
       "\t<tr><td>11</td><td> 17604.932</td><td>$200,000 or more </td><td> 28</td><td>0.33</td><td>16800000.0</td><td> 162669.57</td><td>0.196555445</td><td>1.000000000</td><td>0.007037296</td><td>1.000000000</td><td>0.09090909</td><td>1.797098868009</td></tr>\n",
       "</tbody>\n",
       "</table>\n"
      ],
      "text/latex": [
       "A data.frame: 11 x 13\n",
       "\\begin{tabular}{lllllllllllll}\n",
       " HHFAMINC & GSYRGAL & Bracket & n & rate & rawinc & burden & shareinc & cuminc & sharebur & cumbur & k & l\\\\\n",
       " <dbl> & <dbl> & <chr> & <int> & <dbl> & <dbl> & <dbl> & <dbl> & <dbl> & <dbl> & <dbl> & <dbl> & <dbl>\\\\\n",
       "\\hline\n",
       "\t  1 &   7786.481 & Less than \\$10,000 &  23 & 0.33 &   115000.0 &   59099.39 & 0.001345469 & 0.001345469 & 0.002556716 & 0.002556716 & 0.09090909 & 0.000001719991\\\\\n",
       "\t  2 &  12013.351 & \\$10,000-\\$14,999   &  31 & 0.33 &   387484.5 &  122896.58 & 0.004533464 & 0.005878932 & 0.005316665 & 0.007873381 & 0.09090909 & 0.000037675602\\\\\n",
       "\t  3 &  31537.286 & \\$15,000-\\$24,999   &  67 & 0.33 &  1339966.5 &  697289.40 & 0.015677245 & 0.021556177 & 0.030165641 & 0.038039022 & 0.09090909 & 0.000629805899\\\\\n",
       "\t  4 &  44135.044 & \\$25,000-\\$34,999   &  97 & 0.33 &  2910000.0 & 1412762.75 & 0.034046211 & 0.055602388 & 0.061117943 & 0.099156965 & 0.09090909 & 0.005292922768\\\\\n",
       "\t  5 &  66601.136 & \\$35,000-\\$49,999   & 159 & 0.33 &  6757420.5 & 3494561.58 & 0.079059988 & 0.134662376 & 0.151179252 & 0.250336217 & 0.09090909 & 0.033248119015\\\\\n",
       "\t  6 & 121873.275 & \\$50,000-\\$74,999   & 238 & 0.33 & 14874881.0 & 9571927.03 & 0.174032075 & 0.308694451 & 0.414093939 & 0.664430156 & 0.09090909 & 0.202783958592\\\\\n",
       "\t  7 &  74746.397 & \\$75,000-\\$99,999   & 146 & 0.33 & 12774927.0 & 3601281.40 & 0.149463183 & 0.458157634 & 0.155796089 & 0.820226246 & 0.09090909 & 0.569255928642\\\\\n",
       "\t  8 &  73051.937 & \\$100,000-\\$124,999 & 125 & 0.33 & 14062437.5 & 3013392.41 & 0.164526706 & 0.622684340 & 0.130363252 & 0.950589497 & 0.09090909 & 0.956985991463\\\\\n",
       "\t  9 &  34489.859 & \\$125,000-\\$149,999 &  64 & 0.33 &  8799968.0 &  728425.81 & 0.102957240 & 0.725641580 & 0.031512642 & 0.982102140 & 0.09090909 & 1.302949114800\\\\\n",
       "\t 10 &  20019.598 & \\$150,000-\\$199,999 &  38 & 0.33 &  6649981.0 &  251045.76 & 0.077802975 & 0.803444555 & 0.010860564 & 0.992962704 & 0.09090909 & 1.510022133697\\\\\n",
       "\t 11 &  17604.932 & \\$200,000 or more  &  28 & 0.33 & 16800000.0 &  162669.57 & 0.196555445 & 1.000000000 & 0.007037296 & 1.000000000 & 0.09090909 & 1.797098868009\\\\\n",
       "\\end{tabular}\n"
      ],
      "text/markdown": [
       "\n",
       "A data.frame: 11 x 13\n",
       "\n",
       "| HHFAMINC &lt;dbl&gt; | GSYRGAL &lt;dbl&gt; | Bracket &lt;chr&gt; | n &lt;int&gt; | rate &lt;dbl&gt; | rawinc &lt;dbl&gt; | burden &lt;dbl&gt; | shareinc &lt;dbl&gt; | cuminc &lt;dbl&gt; | sharebur &lt;dbl&gt; | cumbur &lt;dbl&gt; | k &lt;dbl&gt; | l &lt;dbl&gt; |\n",
       "|---|---|---|---|---|---|---|---|---|---|---|---|---|\n",
       "|  1 |   7786.481 | Less than $10,000 |  23 | 0.33 |   115000.0 |   59099.39 | 0.001345469 | 0.001345469 | 0.002556716 | 0.002556716 | 0.09090909 | 0.000001719991 |\n",
       "|  2 |  12013.351 | $10,000-$14,999   |  31 | 0.33 |   387484.5 |  122896.58 | 0.004533464 | 0.005878932 | 0.005316665 | 0.007873381 | 0.09090909 | 0.000037675602 |\n",
       "|  3 |  31537.286 | $15,000-$24,999   |  67 | 0.33 |  1339966.5 |  697289.40 | 0.015677245 | 0.021556177 | 0.030165641 | 0.038039022 | 0.09090909 | 0.000629805899 |\n",
       "|  4 |  44135.044 | $25,000-$34,999   |  97 | 0.33 |  2910000.0 | 1412762.75 | 0.034046211 | 0.055602388 | 0.061117943 | 0.099156965 | 0.09090909 | 0.005292922768 |\n",
       "|  5 |  66601.136 | $35,000-$49,999   | 159 | 0.33 |  6757420.5 | 3494561.58 | 0.079059988 | 0.134662376 | 0.151179252 | 0.250336217 | 0.09090909 | 0.033248119015 |\n",
       "|  6 | 121873.275 | $50,000-$74,999   | 238 | 0.33 | 14874881.0 | 9571927.03 | 0.174032075 | 0.308694451 | 0.414093939 | 0.664430156 | 0.09090909 | 0.202783958592 |\n",
       "|  7 |  74746.397 | $75,000-$99,999   | 146 | 0.33 | 12774927.0 | 3601281.40 | 0.149463183 | 0.458157634 | 0.155796089 | 0.820226246 | 0.09090909 | 0.569255928642 |\n",
       "|  8 |  73051.937 | $100,000-$124,999 | 125 | 0.33 | 14062437.5 | 3013392.41 | 0.164526706 | 0.622684340 | 0.130363252 | 0.950589497 | 0.09090909 | 0.956985991463 |\n",
       "|  9 |  34489.859 | $125,000-$149,999 |  64 | 0.33 |  8799968.0 |  728425.81 | 0.102957240 | 0.725641580 | 0.031512642 | 0.982102140 | 0.09090909 | 1.302949114800 |\n",
       "| 10 |  20019.598 | $150,000-$199,999 |  38 | 0.33 |  6649981.0 |  251045.76 | 0.077802975 | 0.803444555 | 0.010860564 | 0.992962704 | 0.09090909 | 1.510022133697 |\n",
       "| 11 |  17604.932 | $200,000 or more  |  28 | 0.33 | 16800000.0 |  162669.57 | 0.196555445 | 1.000000000 | 0.007037296 | 1.000000000 | 0.09090909 | 1.797098868009 |\n",
       "\n"
      ],
      "text/plain": [
       "   HHFAMINC GSYRGAL    Bracket           n   rate rawinc     burden    \n",
       "1   1         7786.481 Less than $10,000  23 0.33   115000.0   59099.39\n",
       "2   2        12013.351 $10,000-$14,999    31 0.33   387484.5  122896.58\n",
       "3   3        31537.286 $15,000-$24,999    67 0.33  1339966.5  697289.40\n",
       "4   4        44135.044 $25,000-$34,999    97 0.33  2910000.0 1412762.75\n",
       "5   5        66601.136 $35,000-$49,999   159 0.33  6757420.5 3494561.58\n",
       "6   6       121873.275 $50,000-$74,999   238 0.33 14874881.0 9571927.03\n",
       "7   7        74746.397 $75,000-$99,999   146 0.33 12774927.0 3601281.40\n",
       "8   8        73051.937 $100,000-$124,999 125 0.33 14062437.5 3013392.41\n",
       "9   9        34489.859 $125,000-$149,999  64 0.33  8799968.0  728425.81\n",
       "10 10        20019.598 $150,000-$199,999  38 0.33  6649981.0  251045.76\n",
       "11 11        17604.932 $200,000 or more   28 0.33 16800000.0  162669.57\n",
       "   shareinc    cuminc      sharebur    cumbur      k          l             \n",
       "1  0.001345469 0.001345469 0.002556716 0.002556716 0.09090909 0.000001719991\n",
       "2  0.004533464 0.005878932 0.005316665 0.007873381 0.09090909 0.000037675602\n",
       "3  0.015677245 0.021556177 0.030165641 0.038039022 0.09090909 0.000629805899\n",
       "4  0.034046211 0.055602388 0.061117943 0.099156965 0.09090909 0.005292922768\n",
       "5  0.079059988 0.134662376 0.151179252 0.250336217 0.09090909 0.033248119015\n",
       "6  0.174032075 0.308694451 0.414093939 0.664430156 0.09090909 0.202783958592\n",
       "7  0.149463183 0.458157634 0.155796089 0.820226246 0.09090909 0.569255928642\n",
       "8  0.164526706 0.622684340 0.130363252 0.950589497 0.09090909 0.956985991463\n",
       "9  0.102957240 0.725641580 0.031512642 0.982102140 0.09090909 1.302949114800\n",
       "10 0.077802975 0.803444555 0.010860564 0.992962704 0.09090909 1.510022133697\n",
       "11 0.196555445 1.000000000 0.007037296 1.000000000 0.09090909 1.797098868009"
      ]
     },
     "metadata": {},
     "output_type": "display_data"
    }
   ],
   "source": [
    "paste('Gas Tax Suits Index =', (sum(g.suits$k)-sum(g.suits$l))/sum(g.suits$k))\n",
    "\n",
    "g.suits"
   ]
  },
  {
   "cell_type": "markdown",
   "metadata": {},
   "source": []
  },
  {
   "attachments": {},
   "cell_type": "markdown",
   "metadata": {},
   "source": [
    "# VMT Tax Analysis"
   ]
  },
  {
   "attachments": {},
   "cell_type": "markdown",
   "metadata": {},
   "source": [
    "## VMT Forecast (20 Year)"
   ]
  },
  {
   "attachments": {},
   "cell_type": "markdown",
   "metadata": {},
   "source": [
    "### Setup"
   ]
  },
  {
   "cell_type": "code",
   "execution_count": 44,
   "metadata": {
    "vscode": {
     "languageId": "r"
    }
   },
   "outputs": [],
   "source": [
    "vmt = read_excel('data/WorkingData.xlsx', sheet= 'VmtMonthly')\n",
    "vmt = dummy_cols(vmt, select_columns = c('mnth','year'))\n",
    "vmt$time = vmt$year+(vmt$mnth/12)\n",
    "vmt$year = factor(vmt$year)\n",
    "vmt$mnth = factor(vmt$mnth)\n",
    "\n",
    "\n",
    "vmt.fc = data.frame(year = c(rep(2023:2042,12)))\n",
    "vmt.fc = data.frame(year = c(vmt.fc[order(vmt.fc$year),]))\n",
    "vmt.fc$mnth = c(1:12)\n",
    "vmt.fc$time = vmt.fc$year+(vmt.fc$mnth/12)\n",
    "vmt.fc$vmt = NA\n",
    "vmt.fc$rate = NA\n",
    "vmt.fc$rev = NA\n",
    "vmt.fc$gas.rev = NA\n",
    "vmt.fc = dummy_cols(vmt.fc, select_columns = c('mnth'))"
   ]
  },
  {
   "attachments": {},
   "cell_type": "markdown",
   "metadata": {},
   "source": [
    "### Forecast"
   ]
  },
  {
   "cell_type": "code",
   "execution_count": 45,
   "metadata": {
    "vscode": {
     "languageId": "r"
    }
   },
   "outputs": [
    {
     "data": {
      "text/html": [
       "<style>\n",
       ".list-inline {list-style: none; margin:0; padding: 0}\n",
       ".list-inline>li {display: inline-block}\n",
       ".list-inline>li:not(:last-child)::after {content: \"\\00b7\"; padding: 0 .5ex}\n",
       "</style>\n",
       "<ol class=list-inline><li>'year'</li><li>'month'</li><li>'mnth'</li><li>'key'</li><li>'vmt.mnth'</li><li>'mnth_0'</li><li>'mnth_1'</li><li>'mnth_2'</li><li>'mnth_3'</li><li>'mnth_4'</li><li>'mnth_5'</li><li>'mnth_6'</li><li>'mnth_7'</li><li>'mnth_8'</li><li>'mnth_9'</li><li>'mnth_10'</li><li>'mnth_11'</li><li>'year_1999'</li><li>'year_2000'</li><li>'year_2001'</li><li>'year_2002'</li><li>'year_2003'</li><li>'year_2004'</li><li>'year_2005'</li><li>'year_2006'</li><li>'year_2007'</li><li>'year_2008'</li><li>'year_2009'</li><li>'year_2010'</li><li>'year_2011'</li><li>'year_2012'</li><li>'year_2013'</li><li>'year_2014'</li><li>'year_2015'</li><li>'year_2016'</li><li>'year_2017'</li><li>'year_2018'</li><li>'year_2019'</li><li>'year_2020'</li><li>'year_2021'</li><li>'year_2022'</li><li>'time'</li></ol>\n"
      ],
      "text/latex": [
       "\\begin{enumerate*}\n",
       "\\item 'year'\n",
       "\\item 'month'\n",
       "\\item 'mnth'\n",
       "\\item 'key'\n",
       "\\item 'vmt.mnth'\n",
       "\\item 'mnth\\_0'\n",
       "\\item 'mnth\\_1'\n",
       "\\item 'mnth\\_2'\n",
       "\\item 'mnth\\_3'\n",
       "\\item 'mnth\\_4'\n",
       "\\item 'mnth\\_5'\n",
       "\\item 'mnth\\_6'\n",
       "\\item 'mnth\\_7'\n",
       "\\item 'mnth\\_8'\n",
       "\\item 'mnth\\_9'\n",
       "\\item 'mnth\\_10'\n",
       "\\item 'mnth\\_11'\n",
       "\\item 'year\\_1999'\n",
       "\\item 'year\\_2000'\n",
       "\\item 'year\\_2001'\n",
       "\\item 'year\\_2002'\n",
       "\\item 'year\\_2003'\n",
       "\\item 'year\\_2004'\n",
       "\\item 'year\\_2005'\n",
       "\\item 'year\\_2006'\n",
       "\\item 'year\\_2007'\n",
       "\\item 'year\\_2008'\n",
       "\\item 'year\\_2009'\n",
       "\\item 'year\\_2010'\n",
       "\\item 'year\\_2011'\n",
       "\\item 'year\\_2012'\n",
       "\\item 'year\\_2013'\n",
       "\\item 'year\\_2014'\n",
       "\\item 'year\\_2015'\n",
       "\\item 'year\\_2016'\n",
       "\\item 'year\\_2017'\n",
       "\\item 'year\\_2018'\n",
       "\\item 'year\\_2019'\n",
       "\\item 'year\\_2020'\n",
       "\\item 'year\\_2021'\n",
       "\\item 'year\\_2022'\n",
       "\\item 'time'\n",
       "\\end{enumerate*}\n"
      ],
      "text/markdown": [
       "1. 'year'\n",
       "2. 'month'\n",
       "3. 'mnth'\n",
       "4. 'key'\n",
       "5. 'vmt.mnth'\n",
       "6. 'mnth_0'\n",
       "7. 'mnth_1'\n",
       "8. 'mnth_2'\n",
       "9. 'mnth_3'\n",
       "10. 'mnth_4'\n",
       "11. 'mnth_5'\n",
       "12. 'mnth_6'\n",
       "13. 'mnth_7'\n",
       "14. 'mnth_8'\n",
       "15. 'mnth_9'\n",
       "16. 'mnth_10'\n",
       "17. 'mnth_11'\n",
       "18. 'year_1999'\n",
       "19. 'year_2000'\n",
       "20. 'year_2001'\n",
       "21. 'year_2002'\n",
       "22. 'year_2003'\n",
       "23. 'year_2004'\n",
       "24. 'year_2005'\n",
       "25. 'year_2006'\n",
       "26. 'year_2007'\n",
       "27. 'year_2008'\n",
       "28. 'year_2009'\n",
       "29. 'year_2010'\n",
       "30. 'year_2011'\n",
       "31. 'year_2012'\n",
       "32. 'year_2013'\n",
       "33. 'year_2014'\n",
       "34. 'year_2015'\n",
       "35. 'year_2016'\n",
       "36. 'year_2017'\n",
       "37. 'year_2018'\n",
       "38. 'year_2019'\n",
       "39. 'year_2020'\n",
       "40. 'year_2021'\n",
       "41. 'year_2022'\n",
       "42. 'time'\n",
       "\n",
       "\n"
      ],
      "text/plain": [
       " [1] \"year\"      \"month\"     \"mnth\"      \"key\"       \"vmt.mnth\"  \"mnth_0\"   \n",
       " [7] \"mnth_1\"    \"mnth_2\"    \"mnth_3\"    \"mnth_4\"    \"mnth_5\"    \"mnth_6\"   \n",
       "[13] \"mnth_7\"    \"mnth_8\"    \"mnth_9\"    \"mnth_10\"   \"mnth_11\"   \"year_1999\"\n",
       "[19] \"year_2000\" \"year_2001\" \"year_2002\" \"year_2003\" \"year_2004\" \"year_2005\"\n",
       "[25] \"year_2006\" \"year_2007\" \"year_2008\" \"year_2009\" \"year_2010\" \"year_2011\"\n",
       "[31] \"year_2012\" \"year_2013\" \"year_2014\" \"year_2015\" \"year_2016\" \"year_2017\"\n",
       "[37] \"year_2018\" \"year_2019\" \"year_2020\" \"year_2021\" \"year_2022\" \"time\"     "
      ]
     },
     "metadata": {},
     "output_type": "display_data"
    }
   ],
   "source": [
    "names(vmt)"
   ]
  },
  {
   "cell_type": "code",
   "execution_count": 46,
   "metadata": {
    "vscode": {
     "languageId": "r"
    }
   },
   "outputs": [
    {
     "data": {
      "text/html": [
       "<table class=\"dataframe\">\n",
       "<caption>A data.frame: 36 x 1</caption>\n",
       "<thead>\n",
       "\t<tr><th></th><th scope=col>vmt.m.coefficients</th></tr>\n",
       "\t<tr><th></th><th scope=col>&lt;dbl&gt;</th></tr>\n",
       "</thead>\n",
       "<tbody>\n",
       "\t<tr><th scope=row>(Intercept)</th><td>-88279793315</td></tr>\n",
       "\t<tr><th scope=row>time</th><td>    46857634</td></tr>\n",
       "\t<tr><th scope=row>mnth1</th><td>  -291483160</td></tr>\n",
       "\t<tr><th scope=row>mnth2</th><td>   584799596</td></tr>\n",
       "\t<tr><th scope=row>mnth3</th><td>   511289998</td></tr>\n",
       "\t<tr><th scope=row>mnth4</th><td>   838745083</td></tr>\n",
       "\t<tr><th scope=row>mnth5</th><td>   862063603</td></tr>\n",
       "\t<tr><th scope=row>mnth6</th><td>  1019405029</td></tr>\n",
       "\t<tr><th scope=row>mnth7</th><td>   981631564</td></tr>\n",
       "\t<tr><th scope=row>mnth8</th><td>   451019861</td></tr>\n",
       "\t<tr><th scope=row>mnth9</th><td>   790786128</td></tr>\n",
       "\t<tr><th scope=row>mnth10</th><td>   349964396</td></tr>\n",
       "\t<tr><th scope=row>mnth11</th><td>   439160131</td></tr>\n",
       "\t<tr><th scope=row>year2000</th><td>    24589153</td></tr>\n",
       "\t<tr><th scope=row>year2001</th><td>   124897807</td></tr>\n",
       "\t<tr><th scope=row>year2002</th><td>   125063728</td></tr>\n",
       "\t<tr><th scope=row>year2003</th><td>    55426357</td></tr>\n",
       "\t<tr><th scope=row>year2004</th><td>    22406572</td></tr>\n",
       "\t<tr><th scope=row>year2005</th><td>   -46563978</td></tr>\n",
       "\t<tr><th scope=row>year2006</th><td>  -100447862</td></tr>\n",
       "\t<tr><th scope=row>year2007</th><td>  -142667259</td></tr>\n",
       "\t<tr><th scope=row>year2008</th><td>  -283465247</td></tr>\n",
       "\t<tr><th scope=row>year2009</th><td>    36314448</td></tr>\n",
       "\t<tr><th scope=row>year2010</th><td>  -440600482</td></tr>\n",
       "\t<tr><th scope=row>year2011</th><td>   -62476449</td></tr>\n",
       "\t<tr><th scope=row>year2012</th><td>   -10179821</td></tr>\n",
       "\t<tr><th scope=row>year2013</th><td>     2674533</td></tr>\n",
       "\t<tr><th scope=row>year2014</th><td>    82151003</td></tr>\n",
       "\t<tr><th scope=row>year2015</th><td>    45402349</td></tr>\n",
       "\t<tr><th scope=row>year2016</th><td>  -297479486</td></tr>\n",
       "\t<tr><th scope=row>year2017</th><td>  -640361321</td></tr>\n",
       "\t<tr><th scope=row>year2018</th><td>   100323447</td></tr>\n",
       "\t<tr><th scope=row>year2019</th><td>   135652063</td></tr>\n",
       "\t<tr><th scope=row>year2020</th><td>  -529150988</td></tr>\n",
       "\t<tr><th scope=row>year2021</th><td>    19945128</td></tr>\n",
       "\t<tr><th scope=row>year2022</th><td>          NA</td></tr>\n",
       "</tbody>\n",
       "</table>\n"
      ],
      "text/latex": [
       "A data.frame: 36 x 1\n",
       "\\begin{tabular}{r|l}\n",
       "  & vmt.m.coefficients\\\\\n",
       "  & <dbl>\\\\\n",
       "\\hline\n",
       "\t(Intercept) & -88279793315\\\\\n",
       "\ttime &     46857634\\\\\n",
       "\tmnth1 &   -291483160\\\\\n",
       "\tmnth2 &    584799596\\\\\n",
       "\tmnth3 &    511289998\\\\\n",
       "\tmnth4 &    838745083\\\\\n",
       "\tmnth5 &    862063603\\\\\n",
       "\tmnth6 &   1019405029\\\\\n",
       "\tmnth7 &    981631564\\\\\n",
       "\tmnth8 &    451019861\\\\\n",
       "\tmnth9 &    790786128\\\\\n",
       "\tmnth10 &    349964396\\\\\n",
       "\tmnth11 &    439160131\\\\\n",
       "\tyear2000 &     24589153\\\\\n",
       "\tyear2001 &    124897807\\\\\n",
       "\tyear2002 &    125063728\\\\\n",
       "\tyear2003 &     55426357\\\\\n",
       "\tyear2004 &     22406572\\\\\n",
       "\tyear2005 &    -46563978\\\\\n",
       "\tyear2006 &   -100447862\\\\\n",
       "\tyear2007 &   -142667259\\\\\n",
       "\tyear2008 &   -283465247\\\\\n",
       "\tyear2009 &     36314448\\\\\n",
       "\tyear2010 &   -440600482\\\\\n",
       "\tyear2011 &    -62476449\\\\\n",
       "\tyear2012 &    -10179821\\\\\n",
       "\tyear2013 &      2674533\\\\\n",
       "\tyear2014 &     82151003\\\\\n",
       "\tyear2015 &     45402349\\\\\n",
       "\tyear2016 &   -297479486\\\\\n",
       "\tyear2017 &   -640361321\\\\\n",
       "\tyear2018 &    100323447\\\\\n",
       "\tyear2019 &    135652063\\\\\n",
       "\tyear2020 &   -529150988\\\\\n",
       "\tyear2021 &     19945128\\\\\n",
       "\tyear2022 &           NA\\\\\n",
       "\\end{tabular}\n"
      ],
      "text/markdown": [
       "\n",
       "A data.frame: 36 x 1\n",
       "\n",
       "| <!--/--> | vmt.m.coefficients &lt;dbl&gt; |\n",
       "|---|---|\n",
       "| (Intercept) | -88279793315 |\n",
       "| time |     46857634 |\n",
       "| mnth1 |   -291483160 |\n",
       "| mnth2 |    584799596 |\n",
       "| mnth3 |    511289998 |\n",
       "| mnth4 |    838745083 |\n",
       "| mnth5 |    862063603 |\n",
       "| mnth6 |   1019405029 |\n",
       "| mnth7 |    981631564 |\n",
       "| mnth8 |    451019861 |\n",
       "| mnth9 |    790786128 |\n",
       "| mnth10 |    349964396 |\n",
       "| mnth11 |    439160131 |\n",
       "| year2000 |     24589153 |\n",
       "| year2001 |    124897807 |\n",
       "| year2002 |    125063728 |\n",
       "| year2003 |     55426357 |\n",
       "| year2004 |     22406572 |\n",
       "| year2005 |    -46563978 |\n",
       "| year2006 |   -100447862 |\n",
       "| year2007 |   -142667259 |\n",
       "| year2008 |   -283465247 |\n",
       "| year2009 |     36314448 |\n",
       "| year2010 |   -440600482 |\n",
       "| year2011 |    -62476449 |\n",
       "| year2012 |    -10179821 |\n",
       "| year2013 |      2674533 |\n",
       "| year2014 |     82151003 |\n",
       "| year2015 |     45402349 |\n",
       "| year2016 |   -297479486 |\n",
       "| year2017 |   -640361321 |\n",
       "| year2018 |    100323447 |\n",
       "| year2019 |    135652063 |\n",
       "| year2020 |   -529150988 |\n",
       "| year2021 |     19945128 |\n",
       "| year2022 |           NA |\n",
       "\n"
      ],
      "text/plain": [
       "            vmt.m.coefficients\n",
       "(Intercept) -88279793315      \n",
       "time            46857634      \n",
       "mnth1         -291483160      \n",
       "mnth2          584799596      \n",
       "mnth3          511289998      \n",
       "mnth4          838745083      \n",
       "mnth5          862063603      \n",
       "mnth6         1019405029      \n",
       "mnth7          981631564      \n",
       "mnth8          451019861      \n",
       "mnth9          790786128      \n",
       "mnth10         349964396      \n",
       "mnth11         439160131      \n",
       "year2000        24589153      \n",
       "year2001       124897807      \n",
       "year2002       125063728      \n",
       "year2003        55426357      \n",
       "year2004        22406572      \n",
       "year2005       -46563978      \n",
       "year2006      -100447862      \n",
       "year2007      -142667259      \n",
       "year2008      -283465247      \n",
       "year2009        36314448      \n",
       "year2010      -440600482      \n",
       "year2011       -62476449      \n",
       "year2012       -10179821      \n",
       "year2013         2674533      \n",
       "year2014        82151003      \n",
       "year2015        45402349      \n",
       "year2016      -297479486      \n",
       "year2017      -640361321      \n",
       "year2018       100323447      \n",
       "year2019       135652063      \n",
       "year2020      -529150988      \n",
       "year2021        19945128      \n",
       "year2022              NA      "
      ]
     },
     "metadata": {},
     "output_type": "display_data"
    }
   ],
   "source": [
    "vmt.m = lm(vmt.mnth ~ time + mnth + year, vmt)\n",
    "data.frame(vmt.m$coefficients)"
   ]
  },
  {
   "cell_type": "code",
   "execution_count": 47,
   "metadata": {
    "vscode": {
     "languageId": "r"
    }
   },
   "outputs": [],
   "source": [
    "vmt.fc$vmt = vmt.m$coefficients[[1]] + vmt.m$coefficients[[2]]*vmt.fc$time + vmt.m$coefficients[[3]]*vmt.fc$mnth_1 +\n",
    "    vmt.m$coefficients[[4]]*vmt.fc$mnth_2 + vmt.m$coefficients[[5]]*vmt.fc$mnth_3 + vmt.m$coefficients[[6]]*vmt.fc$mnth_4 + \n",
    "    vmt.m$coefficients[[7]]*vmt.fc$mnth_5 + vmt.m$coefficients[[8]]*vmt.fc$mnth_6 + vmt.m$coefficients[[9]]*vmt.fc$mnth_7 + \n",
    "    vmt.m$coefficients[[10]]*vmt.fc$mnth_8 + vmt.m$coefficients[[11]]*vmt.fc$mnth_9 + vmt.m$coefficients[[12]]*vmt.fc$mnth_10 + \n",
    "    vmt.m$coefficients[[13]]*vmt.fc$mnth_11 + vmt.m$coefficients[[35]]\n",
    "\n",
    "vmt.fc.ann = aggregate(vmt~year, vmt.fc, sum)"
   ]
  },
  {
   "attachments": {},
   "cell_type": "markdown",
   "metadata": {},
   "source": [
    "## VMT Tax Revenue Forecast - $0.015 per mile, +$0.005 for top 2.5% of miles driven"
   ]
  },
  {
   "cell_type": "code",
   "execution_count": 48,
   "metadata": {
    "vscode": {
     "languageId": "r"
    }
   },
   "outputs": [],
   "source": [
    "# Proposed Rate\n",
    "vmt.fc$rate = 0.015"
   ]
  },
  {
   "attachments": {},
   "cell_type": "markdown",
   "metadata": {},
   "source": [
    "### Assumes all drivers switch to vmt tax on Jan 1, 2023 (no OOS)"
   ]
  },
  {
   "cell_type": "code",
   "execution_count": 49,
   "metadata": {
    "vscode": {
     "languageId": "r"
    }
   },
   "outputs": [
    {
     "data": {
      "text/html": [
       "<table class=\"dataframe\">\n",
       "<caption>A data.frame: 240 x 19</caption>\n",
       "<thead>\n",
       "\t<tr><th scope=col>year</th><th scope=col>mnth</th><th scope=col>time</th><th scope=col>vmt</th><th scope=col>rate</th><th scope=col>rev</th><th scope=col>gas.rev</th><th scope=col>mnth_1</th><th scope=col>mnth_2</th><th scope=col>mnth_3</th><th scope=col>mnth_4</th><th scope=col>mnth_5</th><th scope=col>mnth_6</th><th scope=col>mnth_7</th><th scope=col>mnth_8</th><th scope=col>mnth_9</th><th scope=col>mnth_10</th><th scope=col>mnth_11</th><th scope=col>mnth_12</th></tr>\n",
       "\t<tr><th scope=col>&lt;int&gt;</th><th scope=col>&lt;int&gt;</th><th scope=col>&lt;dbl&gt;</th><th scope=col>&lt;dbl&gt;</th><th scope=col>&lt;dbl&gt;</th><th scope=col>&lt;lgl&gt;</th><th scope=col>&lt;lgl&gt;</th><th scope=col>&lt;int&gt;</th><th scope=col>&lt;int&gt;</th><th scope=col>&lt;int&gt;</th><th scope=col>&lt;int&gt;</th><th scope=col>&lt;int&gt;</th><th scope=col>&lt;int&gt;</th><th scope=col>&lt;int&gt;</th><th scope=col>&lt;int&gt;</th><th scope=col>&lt;int&gt;</th><th scope=col>&lt;int&gt;</th><th scope=col>&lt;int&gt;</th><th scope=col>&lt;int&gt;</th></tr>\n",
       "</thead>\n",
       "<tbody>\n",
       "\t<tr><td>2023</td><td> 1</td><td>2023.083</td><td>6245566976</td><td>0.015</td><td>NA</td><td>NA</td><td>1</td><td>0</td><td>0</td><td>0</td><td>0</td><td>0</td><td>0</td><td>0</td><td>0</td><td>0</td><td>0</td><td>0</td></tr>\n",
       "\t<tr><td>2023</td><td> 2</td><td>2023.167</td><td>7125754535</td><td>0.015</td><td>NA</td><td>NA</td><td>0</td><td>1</td><td>0</td><td>0</td><td>0</td><td>0</td><td>0</td><td>0</td><td>0</td><td>0</td><td>0</td><td>0</td></tr>\n",
       "\t<tr><td>2023</td><td> 3</td><td>2023.250</td><td>7056149740</td><td>0.015</td><td>NA</td><td>NA</td><td>0</td><td>0</td><td>1</td><td>0</td><td>0</td><td>0</td><td>0</td><td>0</td><td>0</td><td>0</td><td>0</td><td>0</td></tr>\n",
       "\t<tr><td>2023</td><td> 4</td><td>2023.333</td><td>7387509628</td><td>0.015</td><td>NA</td><td>NA</td><td>0</td><td>0</td><td>0</td><td>1</td><td>0</td><td>0</td><td>0</td><td>0</td><td>0</td><td>0</td><td>0</td><td>0</td></tr>\n",
       "\t<tr><td>2023</td><td> 5</td><td>2023.417</td><td>7414732951</td><td>0.015</td><td>NA</td><td>NA</td><td>0</td><td>0</td><td>0</td><td>0</td><td>1</td><td>0</td><td>0</td><td>0</td><td>0</td><td>0</td><td>0</td><td>0</td></tr>\n",
       "\t<tr><td>2023</td><td> 6</td><td>2023.500</td><td>7575979179</td><td>0.015</td><td>NA</td><td>NA</td><td>0</td><td>0</td><td>0</td><td>0</td><td>0</td><td>1</td><td>0</td><td>0</td><td>0</td><td>0</td><td>0</td><td>0</td></tr>\n",
       "\t<tr><td>2023</td><td> 7</td><td>2023.583</td><td>7542110517</td><td>0.015</td><td>NA</td><td>NA</td><td>0</td><td>0</td><td>0</td><td>0</td><td>0</td><td>0</td><td>1</td><td>0</td><td>0</td><td>0</td><td>0</td><td>0</td></tr>\n",
       "\t<tr><td>2023</td><td> 8</td><td>2023.667</td><td>7015403617</td><td>0.015</td><td>NA</td><td>NA</td><td>0</td><td>0</td><td>0</td><td>0</td><td>0</td><td>0</td><td>0</td><td>1</td><td>0</td><td>0</td><td>0</td><td>0</td></tr>\n",
       "\t<tr><td>2023</td><td> 9</td><td>2023.750</td><td>7359074686</td><td>0.015</td><td>NA</td><td>NA</td><td>0</td><td>0</td><td>0</td><td>0</td><td>0</td><td>0</td><td>0</td><td>0</td><td>1</td><td>0</td><td>0</td><td>0</td></tr>\n",
       "\t<tr><td>2023</td><td>10</td><td>2023.833</td><td>6922157758</td><td>0.015</td><td>NA</td><td>NA</td><td>0</td><td>0</td><td>0</td><td>0</td><td>0</td><td>0</td><td>0</td><td>0</td><td>0</td><td>1</td><td>0</td><td>0</td></tr>\n",
       "\t<tr><td>2023</td><td>11</td><td>2023.917</td><td>7015258295</td><td>0.015</td><td>NA</td><td>NA</td><td>0</td><td>0</td><td>0</td><td>0</td><td>0</td><td>0</td><td>0</td><td>0</td><td>0</td><td>0</td><td>1</td><td>0</td></tr>\n",
       "\t<tr><td>2023</td><td>12</td><td>2024.000</td><td>6580002967</td><td>0.015</td><td>NA</td><td>NA</td><td>0</td><td>0</td><td>0</td><td>0</td><td>0</td><td>0</td><td>0</td><td>0</td><td>0</td><td>0</td><td>0</td><td>1</td></tr>\n",
       "\t<tr><td>2024</td><td> 1</td><td>2024.083</td><td>6292424610</td><td>0.015</td><td>NA</td><td>NA</td><td>1</td><td>0</td><td>0</td><td>0</td><td>0</td><td>0</td><td>0</td><td>0</td><td>0</td><td>0</td><td>0</td><td>0</td></tr>\n",
       "\t<tr><td>2024</td><td> 2</td><td>2024.167</td><td>7172612169</td><td>0.015</td><td>NA</td><td>NA</td><td>0</td><td>1</td><td>0</td><td>0</td><td>0</td><td>0</td><td>0</td><td>0</td><td>0</td><td>0</td><td>0</td><td>0</td></tr>\n",
       "\t<tr><td>2024</td><td> 3</td><td>2024.250</td><td>7103007373</td><td>0.015</td><td>NA</td><td>NA</td><td>0</td><td>0</td><td>1</td><td>0</td><td>0</td><td>0</td><td>0</td><td>0</td><td>0</td><td>0</td><td>0</td><td>0</td></tr>\n",
       "\t<tr><td>2024</td><td> 4</td><td>2024.333</td><td>7434367262</td><td>0.015</td><td>NA</td><td>NA</td><td>0</td><td>0</td><td>0</td><td>1</td><td>0</td><td>0</td><td>0</td><td>0</td><td>0</td><td>0</td><td>0</td><td>0</td></tr>\n",
       "\t<tr><td>2024</td><td> 5</td><td>2024.417</td><td>7461590584</td><td>0.015</td><td>NA</td><td>NA</td><td>0</td><td>0</td><td>0</td><td>0</td><td>1</td><td>0</td><td>0</td><td>0</td><td>0</td><td>0</td><td>0</td><td>0</td></tr>\n",
       "\t<tr><td>2024</td><td> 6</td><td>2024.500</td><td>7622836813</td><td>0.015</td><td>NA</td><td>NA</td><td>0</td><td>0</td><td>0</td><td>0</td><td>0</td><td>1</td><td>0</td><td>0</td><td>0</td><td>0</td><td>0</td><td>0</td></tr>\n",
       "\t<tr><td>2024</td><td> 7</td><td>2024.583</td><td>7588968151</td><td>0.015</td><td>NA</td><td>NA</td><td>0</td><td>0</td><td>0</td><td>0</td><td>0</td><td>0</td><td>1</td><td>0</td><td>0</td><td>0</td><td>0</td><td>0</td></tr>\n",
       "\t<tr><td>2024</td><td> 8</td><td>2024.667</td><td>7062261251</td><td>0.015</td><td>NA</td><td>NA</td><td>0</td><td>0</td><td>0</td><td>0</td><td>0</td><td>0</td><td>0</td><td>1</td><td>0</td><td>0</td><td>0</td><td>0</td></tr>\n",
       "\t<tr><td>2024</td><td> 9</td><td>2024.750</td><td>7405932320</td><td>0.015</td><td>NA</td><td>NA</td><td>0</td><td>0</td><td>0</td><td>0</td><td>0</td><td>0</td><td>0</td><td>0</td><td>1</td><td>0</td><td>0</td><td>0</td></tr>\n",
       "\t<tr><td>2024</td><td>10</td><td>2024.833</td><td>6969015392</td><td>0.015</td><td>NA</td><td>NA</td><td>0</td><td>0</td><td>0</td><td>0</td><td>0</td><td>0</td><td>0</td><td>0</td><td>0</td><td>1</td><td>0</td><td>0</td></tr>\n",
       "\t<tr><td>2024</td><td>11</td><td>2024.917</td><td>7062115929</td><td>0.015</td><td>NA</td><td>NA</td><td>0</td><td>0</td><td>0</td><td>0</td><td>0</td><td>0</td><td>0</td><td>0</td><td>0</td><td>0</td><td>1</td><td>0</td></tr>\n",
       "\t<tr><td>2024</td><td>12</td><td>2025.000</td><td>6626860601</td><td>0.015</td><td>NA</td><td>NA</td><td>0</td><td>0</td><td>0</td><td>0</td><td>0</td><td>0</td><td>0</td><td>0</td><td>0</td><td>0</td><td>0</td><td>1</td></tr>\n",
       "\t<tr><td>2025</td><td> 1</td><td>2025.083</td><td>6339282244</td><td>0.015</td><td>NA</td><td>NA</td><td>1</td><td>0</td><td>0</td><td>0</td><td>0</td><td>0</td><td>0</td><td>0</td><td>0</td><td>0</td><td>0</td><td>0</td></tr>\n",
       "\t<tr><td>2025</td><td> 2</td><td>2025.167</td><td>7219469803</td><td>0.015</td><td>NA</td><td>NA</td><td>0</td><td>1</td><td>0</td><td>0</td><td>0</td><td>0</td><td>0</td><td>0</td><td>0</td><td>0</td><td>0</td><td>0</td></tr>\n",
       "\t<tr><td>2025</td><td> 3</td><td>2025.250</td><td>7149865007</td><td>0.015</td><td>NA</td><td>NA</td><td>0</td><td>0</td><td>1</td><td>0</td><td>0</td><td>0</td><td>0</td><td>0</td><td>0</td><td>0</td><td>0</td><td>0</td></tr>\n",
       "\t<tr><td>2025</td><td> 4</td><td>2025.333</td><td>7481224896</td><td>0.015</td><td>NA</td><td>NA</td><td>0</td><td>0</td><td>0</td><td>1</td><td>0</td><td>0</td><td>0</td><td>0</td><td>0</td><td>0</td><td>0</td><td>0</td></tr>\n",
       "\t<tr><td>2025</td><td> 5</td><td>2025.417</td><td>7508448218</td><td>0.015</td><td>NA</td><td>NA</td><td>0</td><td>0</td><td>0</td><td>0</td><td>1</td><td>0</td><td>0</td><td>0</td><td>0</td><td>0</td><td>0</td><td>0</td></tr>\n",
       "\t<tr><td>2025</td><td> 6</td><td>2025.500</td><td>7669694447</td><td>0.015</td><td>NA</td><td>NA</td><td>0</td><td>0</td><td>0</td><td>0</td><td>0</td><td>1</td><td>0</td><td>0</td><td>0</td><td>0</td><td>0</td><td>0</td></tr>\n",
       "\t<tr><td>...</td><td>...</td><td>...</td><td>...</td><td>...</td><td>...</td><td>...</td><td>...</td><td>...</td><td>...</td><td>...</td><td>...</td><td>...</td><td>...</td><td>...</td><td>...</td><td>...</td><td>...</td><td>...</td></tr>\n",
       "\t<tr><td>2040</td><td> 7</td><td>2040.583</td><td>8338690295</td><td>0.015</td><td>NA</td><td>NA</td><td>0</td><td>0</td><td>0</td><td>0</td><td>0</td><td>0</td><td>1</td><td>0</td><td>0</td><td>0</td><td>0</td><td>0</td></tr>\n",
       "\t<tr><td>2040</td><td> 8</td><td>2040.667</td><td>7811983395</td><td>0.015</td><td>NA</td><td>NA</td><td>0</td><td>0</td><td>0</td><td>0</td><td>0</td><td>0</td><td>0</td><td>1</td><td>0</td><td>0</td><td>0</td><td>0</td></tr>\n",
       "\t<tr><td>2040</td><td> 9</td><td>2040.750</td><td>8155654464</td><td>0.015</td><td>NA</td><td>NA</td><td>0</td><td>0</td><td>0</td><td>0</td><td>0</td><td>0</td><td>0</td><td>0</td><td>1</td><td>0</td><td>0</td><td>0</td></tr>\n",
       "\t<tr><td>2040</td><td>10</td><td>2040.833</td><td>7718737535</td><td>0.015</td><td>NA</td><td>NA</td><td>0</td><td>0</td><td>0</td><td>0</td><td>0</td><td>0</td><td>0</td><td>0</td><td>0</td><td>1</td><td>0</td><td>0</td></tr>\n",
       "\t<tr><td>2040</td><td>11</td><td>2040.917</td><td>7811838072</td><td>0.015</td><td>NA</td><td>NA</td><td>0</td><td>0</td><td>0</td><td>0</td><td>0</td><td>0</td><td>0</td><td>0</td><td>0</td><td>0</td><td>1</td><td>0</td></tr>\n",
       "\t<tr><td>2040</td><td>12</td><td>2041.000</td><td>7376582745</td><td>0.015</td><td>NA</td><td>NA</td><td>0</td><td>0</td><td>0</td><td>0</td><td>0</td><td>0</td><td>0</td><td>0</td><td>0</td><td>0</td><td>0</td><td>1</td></tr>\n",
       "\t<tr><td>2041</td><td> 1</td><td>2041.083</td><td>7089004388</td><td>0.015</td><td>NA</td><td>NA</td><td>1</td><td>0</td><td>0</td><td>0</td><td>0</td><td>0</td><td>0</td><td>0</td><td>0</td><td>0</td><td>0</td><td>0</td></tr>\n",
       "\t<tr><td>2041</td><td> 2</td><td>2041.167</td><td>7969191947</td><td>0.015</td><td>NA</td><td>NA</td><td>0</td><td>1</td><td>0</td><td>0</td><td>0</td><td>0</td><td>0</td><td>0</td><td>0</td><td>0</td><td>0</td><td>0</td></tr>\n",
       "\t<tr><td>2041</td><td> 3</td><td>2041.250</td><td>7899587151</td><td>0.015</td><td>NA</td><td>NA</td><td>0</td><td>0</td><td>1</td><td>0</td><td>0</td><td>0</td><td>0</td><td>0</td><td>0</td><td>0</td><td>0</td><td>0</td></tr>\n",
       "\t<tr><td>2041</td><td> 4</td><td>2041.333</td><td>8230947039</td><td>0.015</td><td>NA</td><td>NA</td><td>0</td><td>0</td><td>0</td><td>1</td><td>0</td><td>0</td><td>0</td><td>0</td><td>0</td><td>0</td><td>0</td><td>0</td></tr>\n",
       "\t<tr><td>2041</td><td> 5</td><td>2041.417</td><td>8258170362</td><td>0.015</td><td>NA</td><td>NA</td><td>0</td><td>0</td><td>0</td><td>0</td><td>1</td><td>0</td><td>0</td><td>0</td><td>0</td><td>0</td><td>0</td><td>0</td></tr>\n",
       "\t<tr><td>2041</td><td> 6</td><td>2041.500</td><td>8419416590</td><td>0.015</td><td>NA</td><td>NA</td><td>0</td><td>0</td><td>0</td><td>0</td><td>0</td><td>1</td><td>0</td><td>0</td><td>0</td><td>0</td><td>0</td><td>0</td></tr>\n",
       "\t<tr><td>2041</td><td> 7</td><td>2041.583</td><td>8385547929</td><td>0.015</td><td>NA</td><td>NA</td><td>0</td><td>0</td><td>0</td><td>0</td><td>0</td><td>0</td><td>1</td><td>0</td><td>0</td><td>0</td><td>0</td><td>0</td></tr>\n",
       "\t<tr><td>2041</td><td> 8</td><td>2041.667</td><td>7858841029</td><td>0.015</td><td>NA</td><td>NA</td><td>0</td><td>0</td><td>0</td><td>0</td><td>0</td><td>0</td><td>0</td><td>1</td><td>0</td><td>0</td><td>0</td><td>0</td></tr>\n",
       "\t<tr><td>2041</td><td> 9</td><td>2041.750</td><td>8202512098</td><td>0.015</td><td>NA</td><td>NA</td><td>0</td><td>0</td><td>0</td><td>0</td><td>0</td><td>0</td><td>0</td><td>0</td><td>1</td><td>0</td><td>0</td><td>0</td></tr>\n",
       "\t<tr><td>2041</td><td>10</td><td>2041.833</td><td>7765595169</td><td>0.015</td><td>NA</td><td>NA</td><td>0</td><td>0</td><td>0</td><td>0</td><td>0</td><td>0</td><td>0</td><td>0</td><td>0</td><td>1</td><td>0</td><td>0</td></tr>\n",
       "\t<tr><td>2041</td><td>11</td><td>2041.917</td><td>7858695706</td><td>0.015</td><td>NA</td><td>NA</td><td>0</td><td>0</td><td>0</td><td>0</td><td>0</td><td>0</td><td>0</td><td>0</td><td>0</td><td>0</td><td>1</td><td>0</td></tr>\n",
       "\t<tr><td>2041</td><td>12</td><td>2042.000</td><td>7423440379</td><td>0.015</td><td>NA</td><td>NA</td><td>0</td><td>0</td><td>0</td><td>0</td><td>0</td><td>0</td><td>0</td><td>0</td><td>0</td><td>0</td><td>0</td><td>1</td></tr>\n",
       "\t<tr><td>2042</td><td> 1</td><td>2042.083</td><td>7135862022</td><td>0.015</td><td>NA</td><td>NA</td><td>1</td><td>0</td><td>0</td><td>0</td><td>0</td><td>0</td><td>0</td><td>0</td><td>0</td><td>0</td><td>0</td><td>0</td></tr>\n",
       "\t<tr><td>2042</td><td> 2</td><td>2042.167</td><td>8016049581</td><td>0.015</td><td>NA</td><td>NA</td><td>0</td><td>1</td><td>0</td><td>0</td><td>0</td><td>0</td><td>0</td><td>0</td><td>0</td><td>0</td><td>0</td><td>0</td></tr>\n",
       "\t<tr><td>2042</td><td> 3</td><td>2042.250</td><td>7946444785</td><td>0.015</td><td>NA</td><td>NA</td><td>0</td><td>0</td><td>1</td><td>0</td><td>0</td><td>0</td><td>0</td><td>0</td><td>0</td><td>0</td><td>0</td><td>0</td></tr>\n",
       "\t<tr><td>2042</td><td> 4</td><td>2042.333</td><td>8277804673</td><td>0.015</td><td>NA</td><td>NA</td><td>0</td><td>0</td><td>0</td><td>1</td><td>0</td><td>0</td><td>0</td><td>0</td><td>0</td><td>0</td><td>0</td><td>0</td></tr>\n",
       "\t<tr><td>2042</td><td> 5</td><td>2042.417</td><td>8305027996</td><td>0.015</td><td>NA</td><td>NA</td><td>0</td><td>0</td><td>0</td><td>0</td><td>1</td><td>0</td><td>0</td><td>0</td><td>0</td><td>0</td><td>0</td><td>0</td></tr>\n",
       "\t<tr><td>2042</td><td> 6</td><td>2042.500</td><td>8466274224</td><td>0.015</td><td>NA</td><td>NA</td><td>0</td><td>0</td><td>0</td><td>0</td><td>0</td><td>1</td><td>0</td><td>0</td><td>0</td><td>0</td><td>0</td><td>0</td></tr>\n",
       "\t<tr><td>2042</td><td> 7</td><td>2042.583</td><td>8432405563</td><td>0.015</td><td>NA</td><td>NA</td><td>0</td><td>0</td><td>0</td><td>0</td><td>0</td><td>0</td><td>1</td><td>0</td><td>0</td><td>0</td><td>0</td><td>0</td></tr>\n",
       "\t<tr><td>2042</td><td> 8</td><td>2042.667</td><td>7905698663</td><td>0.015</td><td>NA</td><td>NA</td><td>0</td><td>0</td><td>0</td><td>0</td><td>0</td><td>0</td><td>0</td><td>1</td><td>0</td><td>0</td><td>0</td><td>0</td></tr>\n",
       "\t<tr><td>2042</td><td> 9</td><td>2042.750</td><td>8249369732</td><td>0.015</td><td>NA</td><td>NA</td><td>0</td><td>0</td><td>0</td><td>0</td><td>0</td><td>0</td><td>0</td><td>0</td><td>1</td><td>0</td><td>0</td><td>0</td></tr>\n",
       "\t<tr><td>2042</td><td>10</td><td>2042.833</td><td>7812452803</td><td>0.015</td><td>NA</td><td>NA</td><td>0</td><td>0</td><td>0</td><td>0</td><td>0</td><td>0</td><td>0</td><td>0</td><td>0</td><td>1</td><td>0</td><td>0</td></tr>\n",
       "\t<tr><td>2042</td><td>11</td><td>2042.917</td><td>7905553340</td><td>0.015</td><td>NA</td><td>NA</td><td>0</td><td>0</td><td>0</td><td>0</td><td>0</td><td>0</td><td>0</td><td>0</td><td>0</td><td>0</td><td>1</td><td>0</td></tr>\n",
       "\t<tr><td>2042</td><td>12</td><td>2043.000</td><td>7470298013</td><td>0.015</td><td>NA</td><td>NA</td><td>0</td><td>0</td><td>0</td><td>0</td><td>0</td><td>0</td><td>0</td><td>0</td><td>0</td><td>0</td><td>0</td><td>1</td></tr>\n",
       "</tbody>\n",
       "</table>\n"
      ],
      "text/latex": [
       "A data.frame: 240 x 19\n",
       "\\begin{tabular}{lllllllllllllllllll}\n",
       " year & mnth & time & vmt & rate & rev & gas.rev & mnth\\_1 & mnth\\_2 & mnth\\_3 & mnth\\_4 & mnth\\_5 & mnth\\_6 & mnth\\_7 & mnth\\_8 & mnth\\_9 & mnth\\_10 & mnth\\_11 & mnth\\_12\\\\\n",
       " <int> & <int> & <dbl> & <dbl> & <dbl> & <lgl> & <lgl> & <int> & <int> & <int> & <int> & <int> & <int> & <int> & <int> & <int> & <int> & <int> & <int>\\\\\n",
       "\\hline\n",
       "\t 2023 &  1 & 2023.083 & 6245566976 & 0.015 & NA & NA & 1 & 0 & 0 & 0 & 0 & 0 & 0 & 0 & 0 & 0 & 0 & 0\\\\\n",
       "\t 2023 &  2 & 2023.167 & 7125754535 & 0.015 & NA & NA & 0 & 1 & 0 & 0 & 0 & 0 & 0 & 0 & 0 & 0 & 0 & 0\\\\\n",
       "\t 2023 &  3 & 2023.250 & 7056149740 & 0.015 & NA & NA & 0 & 0 & 1 & 0 & 0 & 0 & 0 & 0 & 0 & 0 & 0 & 0\\\\\n",
       "\t 2023 &  4 & 2023.333 & 7387509628 & 0.015 & NA & NA & 0 & 0 & 0 & 1 & 0 & 0 & 0 & 0 & 0 & 0 & 0 & 0\\\\\n",
       "\t 2023 &  5 & 2023.417 & 7414732951 & 0.015 & NA & NA & 0 & 0 & 0 & 0 & 1 & 0 & 0 & 0 & 0 & 0 & 0 & 0\\\\\n",
       "\t 2023 &  6 & 2023.500 & 7575979179 & 0.015 & NA & NA & 0 & 0 & 0 & 0 & 0 & 1 & 0 & 0 & 0 & 0 & 0 & 0\\\\\n",
       "\t 2023 &  7 & 2023.583 & 7542110517 & 0.015 & NA & NA & 0 & 0 & 0 & 0 & 0 & 0 & 1 & 0 & 0 & 0 & 0 & 0\\\\\n",
       "\t 2023 &  8 & 2023.667 & 7015403617 & 0.015 & NA & NA & 0 & 0 & 0 & 0 & 0 & 0 & 0 & 1 & 0 & 0 & 0 & 0\\\\\n",
       "\t 2023 &  9 & 2023.750 & 7359074686 & 0.015 & NA & NA & 0 & 0 & 0 & 0 & 0 & 0 & 0 & 0 & 1 & 0 & 0 & 0\\\\\n",
       "\t 2023 & 10 & 2023.833 & 6922157758 & 0.015 & NA & NA & 0 & 0 & 0 & 0 & 0 & 0 & 0 & 0 & 0 & 1 & 0 & 0\\\\\n",
       "\t 2023 & 11 & 2023.917 & 7015258295 & 0.015 & NA & NA & 0 & 0 & 0 & 0 & 0 & 0 & 0 & 0 & 0 & 0 & 1 & 0\\\\\n",
       "\t 2023 & 12 & 2024.000 & 6580002967 & 0.015 & NA & NA & 0 & 0 & 0 & 0 & 0 & 0 & 0 & 0 & 0 & 0 & 0 & 1\\\\\n",
       "\t 2024 &  1 & 2024.083 & 6292424610 & 0.015 & NA & NA & 1 & 0 & 0 & 0 & 0 & 0 & 0 & 0 & 0 & 0 & 0 & 0\\\\\n",
       "\t 2024 &  2 & 2024.167 & 7172612169 & 0.015 & NA & NA & 0 & 1 & 0 & 0 & 0 & 0 & 0 & 0 & 0 & 0 & 0 & 0\\\\\n",
       "\t 2024 &  3 & 2024.250 & 7103007373 & 0.015 & NA & NA & 0 & 0 & 1 & 0 & 0 & 0 & 0 & 0 & 0 & 0 & 0 & 0\\\\\n",
       "\t 2024 &  4 & 2024.333 & 7434367262 & 0.015 & NA & NA & 0 & 0 & 0 & 1 & 0 & 0 & 0 & 0 & 0 & 0 & 0 & 0\\\\\n",
       "\t 2024 &  5 & 2024.417 & 7461590584 & 0.015 & NA & NA & 0 & 0 & 0 & 0 & 1 & 0 & 0 & 0 & 0 & 0 & 0 & 0\\\\\n",
       "\t 2024 &  6 & 2024.500 & 7622836813 & 0.015 & NA & NA & 0 & 0 & 0 & 0 & 0 & 1 & 0 & 0 & 0 & 0 & 0 & 0\\\\\n",
       "\t 2024 &  7 & 2024.583 & 7588968151 & 0.015 & NA & NA & 0 & 0 & 0 & 0 & 0 & 0 & 1 & 0 & 0 & 0 & 0 & 0\\\\\n",
       "\t 2024 &  8 & 2024.667 & 7062261251 & 0.015 & NA & NA & 0 & 0 & 0 & 0 & 0 & 0 & 0 & 1 & 0 & 0 & 0 & 0\\\\\n",
       "\t 2024 &  9 & 2024.750 & 7405932320 & 0.015 & NA & NA & 0 & 0 & 0 & 0 & 0 & 0 & 0 & 0 & 1 & 0 & 0 & 0\\\\\n",
       "\t 2024 & 10 & 2024.833 & 6969015392 & 0.015 & NA & NA & 0 & 0 & 0 & 0 & 0 & 0 & 0 & 0 & 0 & 1 & 0 & 0\\\\\n",
       "\t 2024 & 11 & 2024.917 & 7062115929 & 0.015 & NA & NA & 0 & 0 & 0 & 0 & 0 & 0 & 0 & 0 & 0 & 0 & 1 & 0\\\\\n",
       "\t 2024 & 12 & 2025.000 & 6626860601 & 0.015 & NA & NA & 0 & 0 & 0 & 0 & 0 & 0 & 0 & 0 & 0 & 0 & 0 & 1\\\\\n",
       "\t 2025 &  1 & 2025.083 & 6339282244 & 0.015 & NA & NA & 1 & 0 & 0 & 0 & 0 & 0 & 0 & 0 & 0 & 0 & 0 & 0\\\\\n",
       "\t 2025 &  2 & 2025.167 & 7219469803 & 0.015 & NA & NA & 0 & 1 & 0 & 0 & 0 & 0 & 0 & 0 & 0 & 0 & 0 & 0\\\\\n",
       "\t 2025 &  3 & 2025.250 & 7149865007 & 0.015 & NA & NA & 0 & 0 & 1 & 0 & 0 & 0 & 0 & 0 & 0 & 0 & 0 & 0\\\\\n",
       "\t 2025 &  4 & 2025.333 & 7481224896 & 0.015 & NA & NA & 0 & 0 & 0 & 1 & 0 & 0 & 0 & 0 & 0 & 0 & 0 & 0\\\\\n",
       "\t 2025 &  5 & 2025.417 & 7508448218 & 0.015 & NA & NA & 0 & 0 & 0 & 0 & 1 & 0 & 0 & 0 & 0 & 0 & 0 & 0\\\\\n",
       "\t 2025 &  6 & 2025.500 & 7669694447 & 0.015 & NA & NA & 0 & 0 & 0 & 0 & 0 & 1 & 0 & 0 & 0 & 0 & 0 & 0\\\\\n",
       "\t ... & ... & ... & ... & ... & ... & ... & ... & ... & ... & ... & ... & ... & ... & ... & ... & ... & ... & ...\\\\\n",
       "\t 2040 &  7 & 2040.583 & 8338690295 & 0.015 & NA & NA & 0 & 0 & 0 & 0 & 0 & 0 & 1 & 0 & 0 & 0 & 0 & 0\\\\\n",
       "\t 2040 &  8 & 2040.667 & 7811983395 & 0.015 & NA & NA & 0 & 0 & 0 & 0 & 0 & 0 & 0 & 1 & 0 & 0 & 0 & 0\\\\\n",
       "\t 2040 &  9 & 2040.750 & 8155654464 & 0.015 & NA & NA & 0 & 0 & 0 & 0 & 0 & 0 & 0 & 0 & 1 & 0 & 0 & 0\\\\\n",
       "\t 2040 & 10 & 2040.833 & 7718737535 & 0.015 & NA & NA & 0 & 0 & 0 & 0 & 0 & 0 & 0 & 0 & 0 & 1 & 0 & 0\\\\\n",
       "\t 2040 & 11 & 2040.917 & 7811838072 & 0.015 & NA & NA & 0 & 0 & 0 & 0 & 0 & 0 & 0 & 0 & 0 & 0 & 1 & 0\\\\\n",
       "\t 2040 & 12 & 2041.000 & 7376582745 & 0.015 & NA & NA & 0 & 0 & 0 & 0 & 0 & 0 & 0 & 0 & 0 & 0 & 0 & 1\\\\\n",
       "\t 2041 &  1 & 2041.083 & 7089004388 & 0.015 & NA & NA & 1 & 0 & 0 & 0 & 0 & 0 & 0 & 0 & 0 & 0 & 0 & 0\\\\\n",
       "\t 2041 &  2 & 2041.167 & 7969191947 & 0.015 & NA & NA & 0 & 1 & 0 & 0 & 0 & 0 & 0 & 0 & 0 & 0 & 0 & 0\\\\\n",
       "\t 2041 &  3 & 2041.250 & 7899587151 & 0.015 & NA & NA & 0 & 0 & 1 & 0 & 0 & 0 & 0 & 0 & 0 & 0 & 0 & 0\\\\\n",
       "\t 2041 &  4 & 2041.333 & 8230947039 & 0.015 & NA & NA & 0 & 0 & 0 & 1 & 0 & 0 & 0 & 0 & 0 & 0 & 0 & 0\\\\\n",
       "\t 2041 &  5 & 2041.417 & 8258170362 & 0.015 & NA & NA & 0 & 0 & 0 & 0 & 1 & 0 & 0 & 0 & 0 & 0 & 0 & 0\\\\\n",
       "\t 2041 &  6 & 2041.500 & 8419416590 & 0.015 & NA & NA & 0 & 0 & 0 & 0 & 0 & 1 & 0 & 0 & 0 & 0 & 0 & 0\\\\\n",
       "\t 2041 &  7 & 2041.583 & 8385547929 & 0.015 & NA & NA & 0 & 0 & 0 & 0 & 0 & 0 & 1 & 0 & 0 & 0 & 0 & 0\\\\\n",
       "\t 2041 &  8 & 2041.667 & 7858841029 & 0.015 & NA & NA & 0 & 0 & 0 & 0 & 0 & 0 & 0 & 1 & 0 & 0 & 0 & 0\\\\\n",
       "\t 2041 &  9 & 2041.750 & 8202512098 & 0.015 & NA & NA & 0 & 0 & 0 & 0 & 0 & 0 & 0 & 0 & 1 & 0 & 0 & 0\\\\\n",
       "\t 2041 & 10 & 2041.833 & 7765595169 & 0.015 & NA & NA & 0 & 0 & 0 & 0 & 0 & 0 & 0 & 0 & 0 & 1 & 0 & 0\\\\\n",
       "\t 2041 & 11 & 2041.917 & 7858695706 & 0.015 & NA & NA & 0 & 0 & 0 & 0 & 0 & 0 & 0 & 0 & 0 & 0 & 1 & 0\\\\\n",
       "\t 2041 & 12 & 2042.000 & 7423440379 & 0.015 & NA & NA & 0 & 0 & 0 & 0 & 0 & 0 & 0 & 0 & 0 & 0 & 0 & 1\\\\\n",
       "\t 2042 &  1 & 2042.083 & 7135862022 & 0.015 & NA & NA & 1 & 0 & 0 & 0 & 0 & 0 & 0 & 0 & 0 & 0 & 0 & 0\\\\\n",
       "\t 2042 &  2 & 2042.167 & 8016049581 & 0.015 & NA & NA & 0 & 1 & 0 & 0 & 0 & 0 & 0 & 0 & 0 & 0 & 0 & 0\\\\\n",
       "\t 2042 &  3 & 2042.250 & 7946444785 & 0.015 & NA & NA & 0 & 0 & 1 & 0 & 0 & 0 & 0 & 0 & 0 & 0 & 0 & 0\\\\\n",
       "\t 2042 &  4 & 2042.333 & 8277804673 & 0.015 & NA & NA & 0 & 0 & 0 & 1 & 0 & 0 & 0 & 0 & 0 & 0 & 0 & 0\\\\\n",
       "\t 2042 &  5 & 2042.417 & 8305027996 & 0.015 & NA & NA & 0 & 0 & 0 & 0 & 1 & 0 & 0 & 0 & 0 & 0 & 0 & 0\\\\\n",
       "\t 2042 &  6 & 2042.500 & 8466274224 & 0.015 & NA & NA & 0 & 0 & 0 & 0 & 0 & 1 & 0 & 0 & 0 & 0 & 0 & 0\\\\\n",
       "\t 2042 &  7 & 2042.583 & 8432405563 & 0.015 & NA & NA & 0 & 0 & 0 & 0 & 0 & 0 & 1 & 0 & 0 & 0 & 0 & 0\\\\\n",
       "\t 2042 &  8 & 2042.667 & 7905698663 & 0.015 & NA & NA & 0 & 0 & 0 & 0 & 0 & 0 & 0 & 1 & 0 & 0 & 0 & 0\\\\\n",
       "\t 2042 &  9 & 2042.750 & 8249369732 & 0.015 & NA & NA & 0 & 0 & 0 & 0 & 0 & 0 & 0 & 0 & 1 & 0 & 0 & 0\\\\\n",
       "\t 2042 & 10 & 2042.833 & 7812452803 & 0.015 & NA & NA & 0 & 0 & 0 & 0 & 0 & 0 & 0 & 0 & 0 & 1 & 0 & 0\\\\\n",
       "\t 2042 & 11 & 2042.917 & 7905553340 & 0.015 & NA & NA & 0 & 0 & 0 & 0 & 0 & 0 & 0 & 0 & 0 & 0 & 1 & 0\\\\\n",
       "\t 2042 & 12 & 2043.000 & 7470298013 & 0.015 & NA & NA & 0 & 0 & 0 & 0 & 0 & 0 & 0 & 0 & 0 & 0 & 0 & 1\\\\\n",
       "\\end{tabular}\n"
      ],
      "text/markdown": [
       "\n",
       "A data.frame: 240 x 19\n",
       "\n",
       "| year &lt;int&gt; | mnth &lt;int&gt; | time &lt;dbl&gt; | vmt &lt;dbl&gt; | rate &lt;dbl&gt; | rev &lt;lgl&gt; | gas.rev &lt;lgl&gt; | mnth_1 &lt;int&gt; | mnth_2 &lt;int&gt; | mnth_3 &lt;int&gt; | mnth_4 &lt;int&gt; | mnth_5 &lt;int&gt; | mnth_6 &lt;int&gt; | mnth_7 &lt;int&gt; | mnth_8 &lt;int&gt; | mnth_9 &lt;int&gt; | mnth_10 &lt;int&gt; | mnth_11 &lt;int&gt; | mnth_12 &lt;int&gt; |\n",
       "|---|---|---|---|---|---|---|---|---|---|---|---|---|---|---|---|---|---|---|\n",
       "| 2023 |  1 | 2023.083 | 6245566976 | 0.015 | NA | NA | 1 | 0 | 0 | 0 | 0 | 0 | 0 | 0 | 0 | 0 | 0 | 0 |\n",
       "| 2023 |  2 | 2023.167 | 7125754535 | 0.015 | NA | NA | 0 | 1 | 0 | 0 | 0 | 0 | 0 | 0 | 0 | 0 | 0 | 0 |\n",
       "| 2023 |  3 | 2023.250 | 7056149740 | 0.015 | NA | NA | 0 | 0 | 1 | 0 | 0 | 0 | 0 | 0 | 0 | 0 | 0 | 0 |\n",
       "| 2023 |  4 | 2023.333 | 7387509628 | 0.015 | NA | NA | 0 | 0 | 0 | 1 | 0 | 0 | 0 | 0 | 0 | 0 | 0 | 0 |\n",
       "| 2023 |  5 | 2023.417 | 7414732951 | 0.015 | NA | NA | 0 | 0 | 0 | 0 | 1 | 0 | 0 | 0 | 0 | 0 | 0 | 0 |\n",
       "| 2023 |  6 | 2023.500 | 7575979179 | 0.015 | NA | NA | 0 | 0 | 0 | 0 | 0 | 1 | 0 | 0 | 0 | 0 | 0 | 0 |\n",
       "| 2023 |  7 | 2023.583 | 7542110517 | 0.015 | NA | NA | 0 | 0 | 0 | 0 | 0 | 0 | 1 | 0 | 0 | 0 | 0 | 0 |\n",
       "| 2023 |  8 | 2023.667 | 7015403617 | 0.015 | NA | NA | 0 | 0 | 0 | 0 | 0 | 0 | 0 | 1 | 0 | 0 | 0 | 0 |\n",
       "| 2023 |  9 | 2023.750 | 7359074686 | 0.015 | NA | NA | 0 | 0 | 0 | 0 | 0 | 0 | 0 | 0 | 1 | 0 | 0 | 0 |\n",
       "| 2023 | 10 | 2023.833 | 6922157758 | 0.015 | NA | NA | 0 | 0 | 0 | 0 | 0 | 0 | 0 | 0 | 0 | 1 | 0 | 0 |\n",
       "| 2023 | 11 | 2023.917 | 7015258295 | 0.015 | NA | NA | 0 | 0 | 0 | 0 | 0 | 0 | 0 | 0 | 0 | 0 | 1 | 0 |\n",
       "| 2023 | 12 | 2024.000 | 6580002967 | 0.015 | NA | NA | 0 | 0 | 0 | 0 | 0 | 0 | 0 | 0 | 0 | 0 | 0 | 1 |\n",
       "| 2024 |  1 | 2024.083 | 6292424610 | 0.015 | NA | NA | 1 | 0 | 0 | 0 | 0 | 0 | 0 | 0 | 0 | 0 | 0 | 0 |\n",
       "| 2024 |  2 | 2024.167 | 7172612169 | 0.015 | NA | NA | 0 | 1 | 0 | 0 | 0 | 0 | 0 | 0 | 0 | 0 | 0 | 0 |\n",
       "| 2024 |  3 | 2024.250 | 7103007373 | 0.015 | NA | NA | 0 | 0 | 1 | 0 | 0 | 0 | 0 | 0 | 0 | 0 | 0 | 0 |\n",
       "| 2024 |  4 | 2024.333 | 7434367262 | 0.015 | NA | NA | 0 | 0 | 0 | 1 | 0 | 0 | 0 | 0 | 0 | 0 | 0 | 0 |\n",
       "| 2024 |  5 | 2024.417 | 7461590584 | 0.015 | NA | NA | 0 | 0 | 0 | 0 | 1 | 0 | 0 | 0 | 0 | 0 | 0 | 0 |\n",
       "| 2024 |  6 | 2024.500 | 7622836813 | 0.015 | NA | NA | 0 | 0 | 0 | 0 | 0 | 1 | 0 | 0 | 0 | 0 | 0 | 0 |\n",
       "| 2024 |  7 | 2024.583 | 7588968151 | 0.015 | NA | NA | 0 | 0 | 0 | 0 | 0 | 0 | 1 | 0 | 0 | 0 | 0 | 0 |\n",
       "| 2024 |  8 | 2024.667 | 7062261251 | 0.015 | NA | NA | 0 | 0 | 0 | 0 | 0 | 0 | 0 | 1 | 0 | 0 | 0 | 0 |\n",
       "| 2024 |  9 | 2024.750 | 7405932320 | 0.015 | NA | NA | 0 | 0 | 0 | 0 | 0 | 0 | 0 | 0 | 1 | 0 | 0 | 0 |\n",
       "| 2024 | 10 | 2024.833 | 6969015392 | 0.015 | NA | NA | 0 | 0 | 0 | 0 | 0 | 0 | 0 | 0 | 0 | 1 | 0 | 0 |\n",
       "| 2024 | 11 | 2024.917 | 7062115929 | 0.015 | NA | NA | 0 | 0 | 0 | 0 | 0 | 0 | 0 | 0 | 0 | 0 | 1 | 0 |\n",
       "| 2024 | 12 | 2025.000 | 6626860601 | 0.015 | NA | NA | 0 | 0 | 0 | 0 | 0 | 0 | 0 | 0 | 0 | 0 | 0 | 1 |\n",
       "| 2025 |  1 | 2025.083 | 6339282244 | 0.015 | NA | NA | 1 | 0 | 0 | 0 | 0 | 0 | 0 | 0 | 0 | 0 | 0 | 0 |\n",
       "| 2025 |  2 | 2025.167 | 7219469803 | 0.015 | NA | NA | 0 | 1 | 0 | 0 | 0 | 0 | 0 | 0 | 0 | 0 | 0 | 0 |\n",
       "| 2025 |  3 | 2025.250 | 7149865007 | 0.015 | NA | NA | 0 | 0 | 1 | 0 | 0 | 0 | 0 | 0 | 0 | 0 | 0 | 0 |\n",
       "| 2025 |  4 | 2025.333 | 7481224896 | 0.015 | NA | NA | 0 | 0 | 0 | 1 | 0 | 0 | 0 | 0 | 0 | 0 | 0 | 0 |\n",
       "| 2025 |  5 | 2025.417 | 7508448218 | 0.015 | NA | NA | 0 | 0 | 0 | 0 | 1 | 0 | 0 | 0 | 0 | 0 | 0 | 0 |\n",
       "| 2025 |  6 | 2025.500 | 7669694447 | 0.015 | NA | NA | 0 | 0 | 0 | 0 | 0 | 1 | 0 | 0 | 0 | 0 | 0 | 0 |\n",
       "| ... | ... | ... | ... | ... | ... | ... | ... | ... | ... | ... | ... | ... | ... | ... | ... | ... | ... | ... |\n",
       "| 2040 |  7 | 2040.583 | 8338690295 | 0.015 | NA | NA | 0 | 0 | 0 | 0 | 0 | 0 | 1 | 0 | 0 | 0 | 0 | 0 |\n",
       "| 2040 |  8 | 2040.667 | 7811983395 | 0.015 | NA | NA | 0 | 0 | 0 | 0 | 0 | 0 | 0 | 1 | 0 | 0 | 0 | 0 |\n",
       "| 2040 |  9 | 2040.750 | 8155654464 | 0.015 | NA | NA | 0 | 0 | 0 | 0 | 0 | 0 | 0 | 0 | 1 | 0 | 0 | 0 |\n",
       "| 2040 | 10 | 2040.833 | 7718737535 | 0.015 | NA | NA | 0 | 0 | 0 | 0 | 0 | 0 | 0 | 0 | 0 | 1 | 0 | 0 |\n",
       "| 2040 | 11 | 2040.917 | 7811838072 | 0.015 | NA | NA | 0 | 0 | 0 | 0 | 0 | 0 | 0 | 0 | 0 | 0 | 1 | 0 |\n",
       "| 2040 | 12 | 2041.000 | 7376582745 | 0.015 | NA | NA | 0 | 0 | 0 | 0 | 0 | 0 | 0 | 0 | 0 | 0 | 0 | 1 |\n",
       "| 2041 |  1 | 2041.083 | 7089004388 | 0.015 | NA | NA | 1 | 0 | 0 | 0 | 0 | 0 | 0 | 0 | 0 | 0 | 0 | 0 |\n",
       "| 2041 |  2 | 2041.167 | 7969191947 | 0.015 | NA | NA | 0 | 1 | 0 | 0 | 0 | 0 | 0 | 0 | 0 | 0 | 0 | 0 |\n",
       "| 2041 |  3 | 2041.250 | 7899587151 | 0.015 | NA | NA | 0 | 0 | 1 | 0 | 0 | 0 | 0 | 0 | 0 | 0 | 0 | 0 |\n",
       "| 2041 |  4 | 2041.333 | 8230947039 | 0.015 | NA | NA | 0 | 0 | 0 | 1 | 0 | 0 | 0 | 0 | 0 | 0 | 0 | 0 |\n",
       "| 2041 |  5 | 2041.417 | 8258170362 | 0.015 | NA | NA | 0 | 0 | 0 | 0 | 1 | 0 | 0 | 0 | 0 | 0 | 0 | 0 |\n",
       "| 2041 |  6 | 2041.500 | 8419416590 | 0.015 | NA | NA | 0 | 0 | 0 | 0 | 0 | 1 | 0 | 0 | 0 | 0 | 0 | 0 |\n",
       "| 2041 |  7 | 2041.583 | 8385547929 | 0.015 | NA | NA | 0 | 0 | 0 | 0 | 0 | 0 | 1 | 0 | 0 | 0 | 0 | 0 |\n",
       "| 2041 |  8 | 2041.667 | 7858841029 | 0.015 | NA | NA | 0 | 0 | 0 | 0 | 0 | 0 | 0 | 1 | 0 | 0 | 0 | 0 |\n",
       "| 2041 |  9 | 2041.750 | 8202512098 | 0.015 | NA | NA | 0 | 0 | 0 | 0 | 0 | 0 | 0 | 0 | 1 | 0 | 0 | 0 |\n",
       "| 2041 | 10 | 2041.833 | 7765595169 | 0.015 | NA | NA | 0 | 0 | 0 | 0 | 0 | 0 | 0 | 0 | 0 | 1 | 0 | 0 |\n",
       "| 2041 | 11 | 2041.917 | 7858695706 | 0.015 | NA | NA | 0 | 0 | 0 | 0 | 0 | 0 | 0 | 0 | 0 | 0 | 1 | 0 |\n",
       "| 2041 | 12 | 2042.000 | 7423440379 | 0.015 | NA | NA | 0 | 0 | 0 | 0 | 0 | 0 | 0 | 0 | 0 | 0 | 0 | 1 |\n",
       "| 2042 |  1 | 2042.083 | 7135862022 | 0.015 | NA | NA | 1 | 0 | 0 | 0 | 0 | 0 | 0 | 0 | 0 | 0 | 0 | 0 |\n",
       "| 2042 |  2 | 2042.167 | 8016049581 | 0.015 | NA | NA | 0 | 1 | 0 | 0 | 0 | 0 | 0 | 0 | 0 | 0 | 0 | 0 |\n",
       "| 2042 |  3 | 2042.250 | 7946444785 | 0.015 | NA | NA | 0 | 0 | 1 | 0 | 0 | 0 | 0 | 0 | 0 | 0 | 0 | 0 |\n",
       "| 2042 |  4 | 2042.333 | 8277804673 | 0.015 | NA | NA | 0 | 0 | 0 | 1 | 0 | 0 | 0 | 0 | 0 | 0 | 0 | 0 |\n",
       "| 2042 |  5 | 2042.417 | 8305027996 | 0.015 | NA | NA | 0 | 0 | 0 | 0 | 1 | 0 | 0 | 0 | 0 | 0 | 0 | 0 |\n",
       "| 2042 |  6 | 2042.500 | 8466274224 | 0.015 | NA | NA | 0 | 0 | 0 | 0 | 0 | 1 | 0 | 0 | 0 | 0 | 0 | 0 |\n",
       "| 2042 |  7 | 2042.583 | 8432405563 | 0.015 | NA | NA | 0 | 0 | 0 | 0 | 0 | 0 | 1 | 0 | 0 | 0 | 0 | 0 |\n",
       "| 2042 |  8 | 2042.667 | 7905698663 | 0.015 | NA | NA | 0 | 0 | 0 | 0 | 0 | 0 | 0 | 1 | 0 | 0 | 0 | 0 |\n",
       "| 2042 |  9 | 2042.750 | 8249369732 | 0.015 | NA | NA | 0 | 0 | 0 | 0 | 0 | 0 | 0 | 0 | 1 | 0 | 0 | 0 |\n",
       "| 2042 | 10 | 2042.833 | 7812452803 | 0.015 | NA | NA | 0 | 0 | 0 | 0 | 0 | 0 | 0 | 0 | 0 | 1 | 0 | 0 |\n",
       "| 2042 | 11 | 2042.917 | 7905553340 | 0.015 | NA | NA | 0 | 0 | 0 | 0 | 0 | 0 | 0 | 0 | 0 | 0 | 1 | 0 |\n",
       "| 2042 | 12 | 2043.000 | 7470298013 | 0.015 | NA | NA | 0 | 0 | 0 | 0 | 0 | 0 | 0 | 0 | 0 | 0 | 0 | 1 |\n",
       "\n"
      ],
      "text/plain": [
       "    year mnth time     vmt        rate  rev gas.rev mnth_1 mnth_2 mnth_3 mnth_4\n",
       "1   2023  1   2023.083 6245566976 0.015 NA  NA      1      0      0      0     \n",
       "2   2023  2   2023.167 7125754535 0.015 NA  NA      0      1      0      0     \n",
       "3   2023  3   2023.250 7056149740 0.015 NA  NA      0      0      1      0     \n",
       "4   2023  4   2023.333 7387509628 0.015 NA  NA      0      0      0      1     \n",
       "5   2023  5   2023.417 7414732951 0.015 NA  NA      0      0      0      0     \n",
       "6   2023  6   2023.500 7575979179 0.015 NA  NA      0      0      0      0     \n",
       "7   2023  7   2023.583 7542110517 0.015 NA  NA      0      0      0      0     \n",
       "8   2023  8   2023.667 7015403617 0.015 NA  NA      0      0      0      0     \n",
       "9   2023  9   2023.750 7359074686 0.015 NA  NA      0      0      0      0     \n",
       "10  2023 10   2023.833 6922157758 0.015 NA  NA      0      0      0      0     \n",
       "11  2023 11   2023.917 7015258295 0.015 NA  NA      0      0      0      0     \n",
       "12  2023 12   2024.000 6580002967 0.015 NA  NA      0      0      0      0     \n",
       "13  2024  1   2024.083 6292424610 0.015 NA  NA      1      0      0      0     \n",
       "14  2024  2   2024.167 7172612169 0.015 NA  NA      0      1      0      0     \n",
       "15  2024  3   2024.250 7103007373 0.015 NA  NA      0      0      1      0     \n",
       "16  2024  4   2024.333 7434367262 0.015 NA  NA      0      0      0      1     \n",
       "17  2024  5   2024.417 7461590584 0.015 NA  NA      0      0      0      0     \n",
       "18  2024  6   2024.500 7622836813 0.015 NA  NA      0      0      0      0     \n",
       "19  2024  7   2024.583 7588968151 0.015 NA  NA      0      0      0      0     \n",
       "20  2024  8   2024.667 7062261251 0.015 NA  NA      0      0      0      0     \n",
       "21  2024  9   2024.750 7405932320 0.015 NA  NA      0      0      0      0     \n",
       "22  2024 10   2024.833 6969015392 0.015 NA  NA      0      0      0      0     \n",
       "23  2024 11   2024.917 7062115929 0.015 NA  NA      0      0      0      0     \n",
       "24  2024 12   2025.000 6626860601 0.015 NA  NA      0      0      0      0     \n",
       "25  2025  1   2025.083 6339282244 0.015 NA  NA      1      0      0      0     \n",
       "26  2025  2   2025.167 7219469803 0.015 NA  NA      0      1      0      0     \n",
       "27  2025  3   2025.250 7149865007 0.015 NA  NA      0      0      1      0     \n",
       "28  2025  4   2025.333 7481224896 0.015 NA  NA      0      0      0      1     \n",
       "29  2025  5   2025.417 7508448218 0.015 NA  NA      0      0      0      0     \n",
       "30  2025  6   2025.500 7669694447 0.015 NA  NA      0      0      0      0     \n",
       "... ...  ...  ...      ...        ...   ... ...     ...    ...    ...    ...   \n",
       "211 2040  7   2040.583 8338690295 0.015 NA  NA      0      0      0      0     \n",
       "212 2040  8   2040.667 7811983395 0.015 NA  NA      0      0      0      0     \n",
       "213 2040  9   2040.750 8155654464 0.015 NA  NA      0      0      0      0     \n",
       "214 2040 10   2040.833 7718737535 0.015 NA  NA      0      0      0      0     \n",
       "215 2040 11   2040.917 7811838072 0.015 NA  NA      0      0      0      0     \n",
       "216 2040 12   2041.000 7376582745 0.015 NA  NA      0      0      0      0     \n",
       "217 2041  1   2041.083 7089004388 0.015 NA  NA      1      0      0      0     \n",
       "218 2041  2   2041.167 7969191947 0.015 NA  NA      0      1      0      0     \n",
       "219 2041  3   2041.250 7899587151 0.015 NA  NA      0      0      1      0     \n",
       "220 2041  4   2041.333 8230947039 0.015 NA  NA      0      0      0      1     \n",
       "221 2041  5   2041.417 8258170362 0.015 NA  NA      0      0      0      0     \n",
       "222 2041  6   2041.500 8419416590 0.015 NA  NA      0      0      0      0     \n",
       "223 2041  7   2041.583 8385547929 0.015 NA  NA      0      0      0      0     \n",
       "224 2041  8   2041.667 7858841029 0.015 NA  NA      0      0      0      0     \n",
       "225 2041  9   2041.750 8202512098 0.015 NA  NA      0      0      0      0     \n",
       "226 2041 10   2041.833 7765595169 0.015 NA  NA      0      0      0      0     \n",
       "227 2041 11   2041.917 7858695706 0.015 NA  NA      0      0      0      0     \n",
       "228 2041 12   2042.000 7423440379 0.015 NA  NA      0      0      0      0     \n",
       "229 2042  1   2042.083 7135862022 0.015 NA  NA      1      0      0      0     \n",
       "230 2042  2   2042.167 8016049581 0.015 NA  NA      0      1      0      0     \n",
       "231 2042  3   2042.250 7946444785 0.015 NA  NA      0      0      1      0     \n",
       "232 2042  4   2042.333 8277804673 0.015 NA  NA      0      0      0      1     \n",
       "233 2042  5   2042.417 8305027996 0.015 NA  NA      0      0      0      0     \n",
       "234 2042  6   2042.500 8466274224 0.015 NA  NA      0      0      0      0     \n",
       "235 2042  7   2042.583 8432405563 0.015 NA  NA      0      0      0      0     \n",
       "236 2042  8   2042.667 7905698663 0.015 NA  NA      0      0      0      0     \n",
       "237 2042  9   2042.750 8249369732 0.015 NA  NA      0      0      0      0     \n",
       "238 2042 10   2042.833 7812452803 0.015 NA  NA      0      0      0      0     \n",
       "239 2042 11   2042.917 7905553340 0.015 NA  NA      0      0      0      0     \n",
       "240 2042 12   2043.000 7470298013 0.015 NA  NA      0      0      0      0     \n",
       "    mnth_5 mnth_6 mnth_7 mnth_8 mnth_9 mnth_10 mnth_11 mnth_12\n",
       "1   0      0      0      0      0      0       0       0      \n",
       "2   0      0      0      0      0      0       0       0      \n",
       "3   0      0      0      0      0      0       0       0      \n",
       "4   0      0      0      0      0      0       0       0      \n",
       "5   1      0      0      0      0      0       0       0      \n",
       "6   0      1      0      0      0      0       0       0      \n",
       "7   0      0      1      0      0      0       0       0      \n",
       "8   0      0      0      1      0      0       0       0      \n",
       "9   0      0      0      0      1      0       0       0      \n",
       "10  0      0      0      0      0      1       0       0      \n",
       "11  0      0      0      0      0      0       1       0      \n",
       "12  0      0      0      0      0      0       0       1      \n",
       "13  0      0      0      0      0      0       0       0      \n",
       "14  0      0      0      0      0      0       0       0      \n",
       "15  0      0      0      0      0      0       0       0      \n",
       "16  0      0      0      0      0      0       0       0      \n",
       "17  1      0      0      0      0      0       0       0      \n",
       "18  0      1      0      0      0      0       0       0      \n",
       "19  0      0      1      0      0      0       0       0      \n",
       "20  0      0      0      1      0      0       0       0      \n",
       "21  0      0      0      0      1      0       0       0      \n",
       "22  0      0      0      0      0      1       0       0      \n",
       "23  0      0      0      0      0      0       1       0      \n",
       "24  0      0      0      0      0      0       0       1      \n",
       "25  0      0      0      0      0      0       0       0      \n",
       "26  0      0      0      0      0      0       0       0      \n",
       "27  0      0      0      0      0      0       0       0      \n",
       "28  0      0      0      0      0      0       0       0      \n",
       "29  1      0      0      0      0      0       0       0      \n",
       "30  0      1      0      0      0      0       0       0      \n",
       "... ...    ...    ...    ...    ...    ...     ...     ...    \n",
       "211 0      0      1      0      0      0       0       0      \n",
       "212 0      0      0      1      0      0       0       0      \n",
       "213 0      0      0      0      1      0       0       0      \n",
       "214 0      0      0      0      0      1       0       0      \n",
       "215 0      0      0      0      0      0       1       0      \n",
       "216 0      0      0      0      0      0       0       1      \n",
       "217 0      0      0      0      0      0       0       0      \n",
       "218 0      0      0      0      0      0       0       0      \n",
       "219 0      0      0      0      0      0       0       0      \n",
       "220 0      0      0      0      0      0       0       0      \n",
       "221 1      0      0      0      0      0       0       0      \n",
       "222 0      1      0      0      0      0       0       0      \n",
       "223 0      0      1      0      0      0       0       0      \n",
       "224 0      0      0      1      0      0       0       0      \n",
       "225 0      0      0      0      1      0       0       0      \n",
       "226 0      0      0      0      0      1       0       0      \n",
       "227 0      0      0      0      0      0       1       0      \n",
       "228 0      0      0      0      0      0       0       1      \n",
       "229 0      0      0      0      0      0       0       0      \n",
       "230 0      0      0      0      0      0       0       0      \n",
       "231 0      0      0      0      0      0       0       0      \n",
       "232 0      0      0      0      0      0       0       0      \n",
       "233 1      0      0      0      0      0       0       0      \n",
       "234 0      1      0      0      0      0       0       0      \n",
       "235 0      0      1      0      0      0       0       0      \n",
       "236 0      0      0      1      0      0       0       0      \n",
       "237 0      0      0      0      1      0       0       0      \n",
       "238 0      0      0      0      0      1       0       0      \n",
       "239 0      0      0      0      0      0       1       0      \n",
       "240 0      0      0      0      0      0       0       1      "
      ]
     },
     "metadata": {},
     "output_type": "display_data"
    }
   ],
   "source": [
    "vmt.fc"
   ]
  },
  {
   "cell_type": "code",
   "execution_count": null,
   "metadata": {
    "vscode": {
     "languageId": "r"
    }
   },
   "outputs": [],
   "source": []
  },
  {
   "cell_type": "code",
   "execution_count": 50,
   "metadata": {
    "vscode": {
     "languageId": "r"
    }
   },
   "outputs": [
    {
     "data": {
      "text/html": [
       "<table class=\"dataframe\">\n",
       "<caption>A data.frame: 20 x 2</caption>\n",
       "<thead>\n",
       "\t<tr><th scope=col>year</th><th scope=col>rev</th></tr>\n",
       "\t<tr><th scope=col>&lt;int&gt;</th><th scope=col>&lt;dbl&gt;</th></tr>\n",
       "</thead>\n",
       "<tbody>\n",
       "\t<tr><td>2023</td><td>1321215363</td></tr>\n",
       "\t<tr><td>2024</td><td>1329930883</td></tr>\n",
       "\t<tr><td>2025</td><td>1338646403</td></tr>\n",
       "\t<tr><td>2026</td><td>1347361923</td></tr>\n",
       "\t<tr><td>2027</td><td>1356077443</td></tr>\n",
       "\t<tr><td>2028</td><td>1364792963</td></tr>\n",
       "\t<tr><td>2029</td><td>1373508483</td></tr>\n",
       "\t<tr><td>2030</td><td>1382224003</td></tr>\n",
       "\t<tr><td>2031</td><td>1390939523</td></tr>\n",
       "\t<tr><td>2032</td><td>1399655042</td></tr>\n",
       "\t<tr><td>2033</td><td>1408370562</td></tr>\n",
       "\t<tr><td>2034</td><td>1417086082</td></tr>\n",
       "\t<tr><td>2035</td><td>1425801602</td></tr>\n",
       "\t<tr><td>2036</td><td>1434517122</td></tr>\n",
       "\t<tr><td>2037</td><td>1443232642</td></tr>\n",
       "\t<tr><td>2038</td><td>1451948162</td></tr>\n",
       "\t<tr><td>2039</td><td>1460663682</td></tr>\n",
       "\t<tr><td>2040</td><td>1469379202</td></tr>\n",
       "\t<tr><td>2041</td><td>1478094722</td></tr>\n",
       "\t<tr><td>2042</td><td>1486810242</td></tr>\n",
       "</tbody>\n",
       "</table>\n"
      ],
      "text/latex": [
       "A data.frame: 20 x 2\n",
       "\\begin{tabular}{ll}\n",
       " year & rev\\\\\n",
       " <int> & <dbl>\\\\\n",
       "\\hline\n",
       "\t 2023 & 1321215363\\\\\n",
       "\t 2024 & 1329930883\\\\\n",
       "\t 2025 & 1338646403\\\\\n",
       "\t 2026 & 1347361923\\\\\n",
       "\t 2027 & 1356077443\\\\\n",
       "\t 2028 & 1364792963\\\\\n",
       "\t 2029 & 1373508483\\\\\n",
       "\t 2030 & 1382224003\\\\\n",
       "\t 2031 & 1390939523\\\\\n",
       "\t 2032 & 1399655042\\\\\n",
       "\t 2033 & 1408370562\\\\\n",
       "\t 2034 & 1417086082\\\\\n",
       "\t 2035 & 1425801602\\\\\n",
       "\t 2036 & 1434517122\\\\\n",
       "\t 2037 & 1443232642\\\\\n",
       "\t 2038 & 1451948162\\\\\n",
       "\t 2039 & 1460663682\\\\\n",
       "\t 2040 & 1469379202\\\\\n",
       "\t 2041 & 1478094722\\\\\n",
       "\t 2042 & 1486810242\\\\\n",
       "\\end{tabular}\n"
      ],
      "text/markdown": [
       "\n",
       "A data.frame: 20 x 2\n",
       "\n",
       "| year &lt;int&gt; | rev &lt;dbl&gt; |\n",
       "|---|---|\n",
       "| 2023 | 1321215363 |\n",
       "| 2024 | 1329930883 |\n",
       "| 2025 | 1338646403 |\n",
       "| 2026 | 1347361923 |\n",
       "| 2027 | 1356077443 |\n",
       "| 2028 | 1364792963 |\n",
       "| 2029 | 1373508483 |\n",
       "| 2030 | 1382224003 |\n",
       "| 2031 | 1390939523 |\n",
       "| 2032 | 1399655042 |\n",
       "| 2033 | 1408370562 |\n",
       "| 2034 | 1417086082 |\n",
       "| 2035 | 1425801602 |\n",
       "| 2036 | 1434517122 |\n",
       "| 2037 | 1443232642 |\n",
       "| 2038 | 1451948162 |\n",
       "| 2039 | 1460663682 |\n",
       "| 2040 | 1469379202 |\n",
       "| 2041 | 1478094722 |\n",
       "| 2042 | 1486810242 |\n",
       "\n"
      ],
      "text/plain": [
       "   year rev       \n",
       "1  2023 1321215363\n",
       "2  2024 1329930883\n",
       "3  2025 1338646403\n",
       "4  2026 1347361923\n",
       "5  2027 1356077443\n",
       "6  2028 1364792963\n",
       "7  2029 1373508483\n",
       "8  2030 1382224003\n",
       "9  2031 1390939523\n",
       "10 2032 1399655042\n",
       "11 2033 1408370562\n",
       "12 2034 1417086082\n",
       "13 2035 1425801602\n",
       "14 2036 1434517122\n",
       "15 2037 1443232642\n",
       "16 2038 1451948162\n",
       "17 2039 1460663682\n",
       "18 2040 1469379202\n",
       "19 2041 1478094722\n",
       "20 2042 1486810242"
      ]
     },
     "metadata": {},
     "output_type": "display_data"
    }
   ],
   "source": [
    "vmt.fc1 = vmt.fc\n",
    "vmt.fc1$rev = (vmt.fc1$vmt*vmt.fc1$rate) + ((vmt.fc1$vmt*0.025)*(vmt.fc1$rate+0.005))\n",
    "vmt.fc1.year = aggregate(rev ~ year, vmt.fc1, sum)\n",
    "vmt.fc1.year"
   ]
  },
  {
   "attachments": {},
   "cell_type": "markdown",
   "metadata": {},
   "source": [
    "### Assumes 5% of revenue switches source per year, 10% of forecasted base is OOS\n",
    "#### Assumes $0.01 per year tax increase continues"
   ]
  },
  {
   "cell_type": "code",
   "execution_count": 51,
   "metadata": {
    "vscode": {
     "languageId": "r"
    }
   },
   "outputs": [],
   "source": [
    "vmt.fc2 = vmt.fc\n",
    "vmt.fc2$gas.base = microg.fc$gas.base\n",
    "vmt.fc2$gas.rate = microg.fc$rate\n",
    "vmt.fc2$gas.rev = microg.fc$rev.micro\n",
    "vmt.fc2$rev = vmt.fc2$rate*vmt.fc2$vmt\n",
    "\n",
    "vmt.fc2 = vmt.fc2[c('year','mnth','rate','rev','gas.rate','gas.rev')]\n",
    "vmt.fc2$factor = (.9/20)\n",
    "for (r in 2:length(vmt.fc2$year)) {\n",
    "    if (vmt.fc2$year[r] == vmt.fc2$year[r-1]){\n",
    "        vmt.fc2$factor[r] = vmt.fc2$factor[r-1]\n",
    "    } else {\n",
    "        vmt.fc2$factor[r] = vmt.fc2$factor[r-1]+(.9/20)\n",
    "    }\n",
    "}\n",
    "vmt.fc2$adj.rev = vmt.fc2$rev*vmt.fc2$factor\n",
    "vmt.fc2$adj.gasrev = round(vmt.fc2$gas.rev*(1.00-vmt.fc2$factor),2)"
   ]
  },
  {
   "cell_type": "code",
   "execution_count": 52,
   "metadata": {
    "vscode": {
     "languageId": "r"
    }
   },
   "outputs": [],
   "source": [
    "vmt.fc2.ann = merge(aggregate(adj.rev ~ year, vmt.fc2, sum),aggregate(adj.gasrev ~ year, vmt.fc2, sum),by='year')\n",
    "lookup1 = unique(vmt.fc2[c('year','rate','gas.rate','factor')])\n",
    "vmt.fc2.ann = merge(vmt.fc2.ann,lookup1,by='year')\n",
    "vmt.fc2.ann = vmt.fc2.ann[c('year','factor','rate','adj.rev','gas.rate','adj.gasrev')]\n",
    "vmt.fc2.ann$total = vmt.fc2.ann$adj.rev+vmt.fc2.ann$adj.gasrev"
   ]
  },
  {
   "cell_type": "code",
   "execution_count": 53,
   "metadata": {
    "vscode": {
     "languageId": "r"
    }
   },
   "outputs": [
    {
     "data": {
      "text/html": [
       "<table class=\"dataframe\">\n",
       "<caption>A data.frame: 20 x 7</caption>\n",
       "<thead>\n",
       "\t<tr><th scope=col>year</th><th scope=col>factor</th><th scope=col>rate</th><th scope=col>adj.rev</th><th scope=col>gas.rate</th><th scope=col>adj.gasrev</th><th scope=col>total</th></tr>\n",
       "\t<tr><th scope=col>&lt;int&gt;</th><th scope=col>&lt;dbl&gt;</th><th scope=col>&lt;dbl&gt;</th><th scope=col>&lt;dbl&gt;</th><th scope=col>&lt;dbl&gt;</th><th scope=col>&lt;dbl&gt;</th><th scope=col>&lt;dbl&gt;</th></tr>\n",
       "</thead>\n",
       "<tbody>\n",
       "\t<tr><td>2023</td><td>0.045</td><td>0.015</td><td>  57536798</td><td>0.33</td><td>902853144</td><td> 960389942</td></tr>\n",
       "\t<tr><td>2024</td><td>0.090</td><td>0.015</td><td> 115832690</td><td>0.34</td><td>886357535</td><td>1002190225</td></tr>\n",
       "\t<tr><td>2025</td><td>0.135</td><td>0.015</td><td> 174887675</td><td>0.35</td><td>867286303</td><td>1042173978</td></tr>\n",
       "\t<tr><td>2026</td><td>0.180</td><td>0.015</td><td> 234701754</td><td>0.36</td><td>845637713</td><td>1080339467</td></tr>\n",
       "\t<tr><td>2027</td><td>0.225</td><td>0.015</td><td> 295274927</td><td>0.37</td><td>821411964</td><td>1116686891</td></tr>\n",
       "\t<tr><td>2028</td><td>0.270</td><td>0.015</td><td> 356607193</td><td>0.38</td><td>794609256</td><td>1151216450</td></tr>\n",
       "\t<tr><td>2029</td><td>0.315</td><td>0.015</td><td> 418698554</td><td>0.39</td><td>765229788</td><td>1183928342</td></tr>\n",
       "\t<tr><td>2030</td><td>0.360</td><td>0.015</td><td> 481549007</td><td>0.40</td><td>733273760</td><td>1214822768</td></tr>\n",
       "\t<tr><td>2031</td><td>0.405</td><td>0.015</td><td> 545158555</td><td>0.41</td><td>698741372</td><td>1243899926</td></tr>\n",
       "\t<tr><td>2032</td><td>0.450</td><td>0.015</td><td> 609527196</td><td>0.42</td><td>661632821</td><td>1271160017</td></tr>\n",
       "\t<tr><td>2033</td><td>0.495</td><td>0.015</td><td> 674654931</td><td>0.43</td><td>621948309</td><td>1296603240</td></tr>\n",
       "\t<tr><td>2034</td><td>0.540</td><td>0.015</td><td> 740541759</td><td>0.44</td><td>579688034</td><td>1320229793</td></tr>\n",
       "\t<tr><td>2035</td><td>0.585</td><td>0.015</td><td> 807187681</td><td>0.45</td><td>534852195</td><td>1342039877</td></tr>\n",
       "\t<tr><td>2036</td><td>0.630</td><td>0.015</td><td> 874592697</td><td>0.46</td><td>487440993</td><td>1362033690</td></tr>\n",
       "\t<tr><td>2037</td><td>0.675</td><td>0.015</td><td> 942756806</td><td>0.47</td><td>437454625</td><td>1380211431</td></tr>\n",
       "\t<tr><td>2038</td><td>0.720</td><td>0.015</td><td>1011680010</td><td>0.48</td><td>384893291</td><td>1396573300</td></tr>\n",
       "\t<tr><td>2039</td><td>0.765</td><td>0.015</td><td>1081362306</td><td>0.49</td><td>329757190</td><td>1411119497</td></tr>\n",
       "\t<tr><td>2040</td><td>0.810</td><td>0.015</td><td>1151803697</td><td>0.50</td><td>272046523</td><td>1423850219</td></tr>\n",
       "\t<tr><td>2041</td><td>0.855</td><td>0.015</td><td>1223004181</td><td>0.51</td><td>211761486</td><td>1434765667</td></tr>\n",
       "\t<tr><td>2042</td><td>0.900</td><td>0.015</td><td>1294963759</td><td>0.52</td><td>148902281</td><td>1443866040</td></tr>\n",
       "</tbody>\n",
       "</table>\n"
      ],
      "text/latex": [
       "A data.frame: 20 x 7\n",
       "\\begin{tabular}{lllllll}\n",
       " year & factor & rate & adj.rev & gas.rate & adj.gasrev & total\\\\\n",
       " <int> & <dbl> & <dbl> & <dbl> & <dbl> & <dbl> & <dbl>\\\\\n",
       "\\hline\n",
       "\t 2023 & 0.045 & 0.015 &   57536798 & 0.33 & 902853144 &  960389942\\\\\n",
       "\t 2024 & 0.090 & 0.015 &  115832690 & 0.34 & 886357535 & 1002190225\\\\\n",
       "\t 2025 & 0.135 & 0.015 &  174887675 & 0.35 & 867286303 & 1042173978\\\\\n",
       "\t 2026 & 0.180 & 0.015 &  234701754 & 0.36 & 845637713 & 1080339467\\\\\n",
       "\t 2027 & 0.225 & 0.015 &  295274927 & 0.37 & 821411964 & 1116686891\\\\\n",
       "\t 2028 & 0.270 & 0.015 &  356607193 & 0.38 & 794609256 & 1151216450\\\\\n",
       "\t 2029 & 0.315 & 0.015 &  418698554 & 0.39 & 765229788 & 1183928342\\\\\n",
       "\t 2030 & 0.360 & 0.015 &  481549007 & 0.40 & 733273760 & 1214822768\\\\\n",
       "\t 2031 & 0.405 & 0.015 &  545158555 & 0.41 & 698741372 & 1243899926\\\\\n",
       "\t 2032 & 0.450 & 0.015 &  609527196 & 0.42 & 661632821 & 1271160017\\\\\n",
       "\t 2033 & 0.495 & 0.015 &  674654931 & 0.43 & 621948309 & 1296603240\\\\\n",
       "\t 2034 & 0.540 & 0.015 &  740541759 & 0.44 & 579688034 & 1320229793\\\\\n",
       "\t 2035 & 0.585 & 0.015 &  807187681 & 0.45 & 534852195 & 1342039877\\\\\n",
       "\t 2036 & 0.630 & 0.015 &  874592697 & 0.46 & 487440993 & 1362033690\\\\\n",
       "\t 2037 & 0.675 & 0.015 &  942756806 & 0.47 & 437454625 & 1380211431\\\\\n",
       "\t 2038 & 0.720 & 0.015 & 1011680010 & 0.48 & 384893291 & 1396573300\\\\\n",
       "\t 2039 & 0.765 & 0.015 & 1081362306 & 0.49 & 329757190 & 1411119497\\\\\n",
       "\t 2040 & 0.810 & 0.015 & 1151803697 & 0.50 & 272046523 & 1423850219\\\\\n",
       "\t 2041 & 0.855 & 0.015 & 1223004181 & 0.51 & 211761486 & 1434765667\\\\\n",
       "\t 2042 & 0.900 & 0.015 & 1294963759 & 0.52 & 148902281 & 1443866040\\\\\n",
       "\\end{tabular}\n"
      ],
      "text/markdown": [
       "\n",
       "A data.frame: 20 x 7\n",
       "\n",
       "| year &lt;int&gt; | factor &lt;dbl&gt; | rate &lt;dbl&gt; | adj.rev &lt;dbl&gt; | gas.rate &lt;dbl&gt; | adj.gasrev &lt;dbl&gt; | total &lt;dbl&gt; |\n",
       "|---|---|---|---|---|---|---|\n",
       "| 2023 | 0.045 | 0.015 |   57536798 | 0.33 | 902853144 |  960389942 |\n",
       "| 2024 | 0.090 | 0.015 |  115832690 | 0.34 | 886357535 | 1002190225 |\n",
       "| 2025 | 0.135 | 0.015 |  174887675 | 0.35 | 867286303 | 1042173978 |\n",
       "| 2026 | 0.180 | 0.015 |  234701754 | 0.36 | 845637713 | 1080339467 |\n",
       "| 2027 | 0.225 | 0.015 |  295274927 | 0.37 | 821411964 | 1116686891 |\n",
       "| 2028 | 0.270 | 0.015 |  356607193 | 0.38 | 794609256 | 1151216450 |\n",
       "| 2029 | 0.315 | 0.015 |  418698554 | 0.39 | 765229788 | 1183928342 |\n",
       "| 2030 | 0.360 | 0.015 |  481549007 | 0.40 | 733273760 | 1214822768 |\n",
       "| 2031 | 0.405 | 0.015 |  545158555 | 0.41 | 698741372 | 1243899926 |\n",
       "| 2032 | 0.450 | 0.015 |  609527196 | 0.42 | 661632821 | 1271160017 |\n",
       "| 2033 | 0.495 | 0.015 |  674654931 | 0.43 | 621948309 | 1296603240 |\n",
       "| 2034 | 0.540 | 0.015 |  740541759 | 0.44 | 579688034 | 1320229793 |\n",
       "| 2035 | 0.585 | 0.015 |  807187681 | 0.45 | 534852195 | 1342039877 |\n",
       "| 2036 | 0.630 | 0.015 |  874592697 | 0.46 | 487440993 | 1362033690 |\n",
       "| 2037 | 0.675 | 0.015 |  942756806 | 0.47 | 437454625 | 1380211431 |\n",
       "| 2038 | 0.720 | 0.015 | 1011680010 | 0.48 | 384893291 | 1396573300 |\n",
       "| 2039 | 0.765 | 0.015 | 1081362306 | 0.49 | 329757190 | 1411119497 |\n",
       "| 2040 | 0.810 | 0.015 | 1151803697 | 0.50 | 272046523 | 1423850219 |\n",
       "| 2041 | 0.855 | 0.015 | 1223004181 | 0.51 | 211761486 | 1434765667 |\n",
       "| 2042 | 0.900 | 0.015 | 1294963759 | 0.52 | 148902281 | 1443866040 |\n",
       "\n"
      ],
      "text/plain": [
       "   year factor rate  adj.rev    gas.rate adj.gasrev total     \n",
       "1  2023 0.045  0.015   57536798 0.33     902853144   960389942\n",
       "2  2024 0.090  0.015  115832690 0.34     886357535  1002190225\n",
       "3  2025 0.135  0.015  174887675 0.35     867286303  1042173978\n",
       "4  2026 0.180  0.015  234701754 0.36     845637713  1080339467\n",
       "5  2027 0.225  0.015  295274927 0.37     821411964  1116686891\n",
       "6  2028 0.270  0.015  356607193 0.38     794609256  1151216450\n",
       "7  2029 0.315  0.015  418698554 0.39     765229788  1183928342\n",
       "8  2030 0.360  0.015  481549007 0.40     733273760  1214822768\n",
       "9  2031 0.405  0.015  545158555 0.41     698741372  1243899926\n",
       "10 2032 0.450  0.015  609527196 0.42     661632821  1271160017\n",
       "11 2033 0.495  0.015  674654931 0.43     621948309  1296603240\n",
       "12 2034 0.540  0.015  740541759 0.44     579688034  1320229793\n",
       "13 2035 0.585  0.015  807187681 0.45     534852195  1342039877\n",
       "14 2036 0.630  0.015  874592697 0.46     487440993  1362033690\n",
       "15 2037 0.675  0.015  942756806 0.47     437454625  1380211431\n",
       "16 2038 0.720  0.015 1011680010 0.48     384893291  1396573300\n",
       "17 2039 0.765  0.015 1081362306 0.49     329757190  1411119497\n",
       "18 2040 0.810  0.015 1151803697 0.50     272046523  1423850219\n",
       "19 2041 0.855  0.015 1223004181 0.51     211761486  1434765667\n",
       "20 2042 0.900  0.015 1294963759 0.52     148902281  1443866040"
      ]
     },
     "metadata": {},
     "output_type": "display_data"
    }
   ],
   "source": [
    "vmt.fc2.ann"
   ]
  },
  {
   "cell_type": "code",
   "execution_count": null,
   "metadata": {
    "vscode": {
     "languageId": "r"
    }
   },
   "outputs": [],
   "source": []
  },
  {
   "attachments": {},
   "cell_type": "markdown",
   "metadata": {},
   "source": [
    "## Adequacy Assessment"
   ]
  },
  {
   "cell_type": "code",
   "execution_count": 54,
   "metadata": {
    "vscode": {
     "languageId": "r"
    }
   },
   "outputs": [],
   "source": [
    "# Setup\n",
    "adeqvmt = vmt.fc1\n",
    "adeqvmt$tpi = tpi.fc$tpi"
   ]
  },
  {
   "cell_type": "code",
   "execution_count": 55,
   "metadata": {
    "vscode": {
     "languageId": "r"
    }
   },
   "outputs": [],
   "source": [
    "adeqvmt.ann1 = aggregate(vmt ~ year, adeqvmt, sum)\n",
    "adeqvmt.ann2 = aggregate(rev ~ year, adeqvmt, sum)\n",
    "adeqvmt.ann3 = aggregate(tpi ~ year, adeqvmt, sum)\n",
    "\n",
    "adeqvmt.ann = merge(adeqvmt.ann1,adeqvmt.ann2,by='year')\n",
    "adeqvmt.ann = merge(adeqvmt.ann,adeqvmt.ann3,by='year')\n",
    "\n",
    "adeqvmt.ann$d.vmt = (adeqvmt.ann$vmt[1]-vmt.ann$vmt[length(vmt.ann$vmt)])/vmt.ann$vmt[length(vmt.ann$vmt)]\n",
    "adeqvmt.ann$d.rev = 1\n",
    "adeqvmt.ann$d.tpi = (adeqvmt.ann$tpi[1]-tpi.ann$tpi[length(tpi.ann$tpi)])/tpi.ann$tpi[length(tpi.ann$tpi)]\n",
    "for (r in 2:length(adeqvmt.ann$year)) {\n",
    "    adeqvmt.ann$d.vmt[r] = (adeqvmt.ann$vmt[r]-adeqvmt.ann$vmt[r-1])/adeqvmt.ann$vmt[r-1]\n",
    "    adeqvmt.ann$d.rev[r] = (adeqvmt.ann$rev[r]-adeqvmt.ann$rev[r-1])/adeqvmt.ann$rev[r-1]\n",
    "    adeqvmt.ann$d.tpi[r] = (adeqvmt.ann$tpi[r]-adeqvmt.ann$tpi[r-1])/adeqvmt.ann$tpi[r-1]\n",
    "}\n",
    "adeqvmt.ann = adeqvmt.ann[2:length(adeqvmt.ann$year),]\n"
   ]
  },
  {
   "cell_type": "code",
   "execution_count": 56,
   "metadata": {
    "vscode": {
     "languageId": "r"
    }
   },
   "outputs": [
    {
     "data": {
      "text/html": [
       "<table class=\"dataframe\">\n",
       "<caption>A data.frame: 19 x 7</caption>\n",
       "<thead>\n",
       "\t<tr><th></th><th scope=col>year</th><th scope=col>vmt</th><th scope=col>rev</th><th scope=col>tpi</th><th scope=col>d.vmt</th><th scope=col>d.rev</th><th scope=col>d.tpi</th></tr>\n",
       "\t<tr><th></th><th scope=col>&lt;int&gt;</th><th scope=col>&lt;dbl&gt;</th><th scope=col>&lt;dbl&gt;</th><th scope=col>&lt;dbl&gt;</th><th scope=col>&lt;dbl&gt;</th><th scope=col>&lt;dbl&gt;</th><th scope=col>&lt;dbl&gt;</th></tr>\n",
       "</thead>\n",
       "<tbody>\n",
       "\t<tr><th scope=row>2</th><td>2024</td><td>85801992457</td><td>1329930883</td><td>5009736533108</td><td>0.006596593</td><td>0.006596593</td><td> 0.03938635</td></tr>\n",
       "\t<tr><th scope=row>3</th><td>2025</td><td>86364284065</td><td>1338646403</td><td>5199574725000</td><td>0.006553363</td><td>0.006553363</td><td> 0.03789385</td></tr>\n",
       "\t<tr><th scope=row>4</th><td>2026</td><td>86926575672</td><td>1347361923</td><td>5389412916892</td><td>0.006510696</td><td>0.006510696</td><td> 0.03651033</td></tr>\n",
       "\t<tr><th scope=row>5</th><td>2027</td><td>87488867280</td><td>1356077443</td><td>5579251108784</td><td>0.006468581</td><td>0.006468581</td><td> 0.03522428</td></tr>\n",
       "\t<tr><th scope=row>6</th><td>2028</td><td>88051158887</td><td>1364792963</td><td>5769089300676</td><td>0.006427008</td><td>0.006427008</td><td> 0.03402575</td></tr>\n",
       "\t<tr><th scope=row>7</th><td>2029</td><td>88613450495</td><td>1373508483</td><td>5537064843919</td><td>0.006385965</td><td>0.006385965</td><td>-0.04021856</td></tr>\n",
       "\t<tr><th scope=row>8</th><td>2030</td><td>89175742103</td><td>1382224003</td><td>4883177738514</td><td>0.006345443</td><td>0.006345443</td><td>-0.11809273</td></tr>\n",
       "\t<tr><th scope=row>9</th><td>2031</td><td>89738033710</td><td>1390939523</td><td>5073015930405</td><td>0.006305432</td><td>0.006305432</td><td> 0.03887595</td></tr>\n",
       "\t<tr><th scope=row>10</th><td>2032</td><td>90300325318</td><td>1399655042</td><td>5262854122297</td><td>0.006265923</td><td>0.006265923</td><td> 0.03742117</td></tr>\n",
       "\t<tr><th scope=row>11</th><td>2033</td><td>90862616926</td><td>1408370562</td><td>5452692314189</td><td>0.006226906</td><td>0.006226906</td><td> 0.03607134</td></tr>\n",
       "\t<tr><th scope=row>12</th><td>2034</td><td>91424908533</td><td>1417086082</td><td>5642530506081</td><td>0.006188371</td><td>0.006188371</td><td> 0.03481550</td></tr>\n",
       "\t<tr><th scope=row>13</th><td>2035</td><td>91987200141</td><td>1425801602</td><td>5832368697973</td><td>0.006150311</td><td>0.006150311</td><td> 0.03364416</td></tr>\n",
       "\t<tr><th scope=row>14</th><td>2036</td><td>92549491748</td><td>1434517122</td><td>5178481592568</td><td>0.006112716</td><td>0.006112716</td><td>-0.11211347</td></tr>\n",
       "\t<tr><th scope=row>15</th><td>2037</td><td>93111783356</td><td>1443232642</td><td>4946457135811</td><td>0.006075577</td><td>0.006075577</td><td>-0.04480550</td></tr>\n",
       "\t<tr><th scope=row>16</th><td>2038</td><td>93674074964</td><td>1451948162</td><td>5136295327703</td><td>0.006038888</td><td>0.006038888</td><td> 0.03837862</td></tr>\n",
       "\t<tr><th scope=row>17</th><td>2039</td><td>94236366571</td><td>1460663682</td><td>5326133519595</td><td>0.006002638</td><td>0.006002638</td><td> 0.03696014</td></tr>\n",
       "\t<tr><th scope=row>18</th><td>2040</td><td>94798658179</td><td>1469379202</td><td>5515971711486</td><td>0.005966822</td><td>0.005966822</td><td> 0.03564278</td></tr>\n",
       "\t<tr><th scope=row>19</th><td>2041</td><td>95360949787</td><td>1478094722</td><td>5705809903378</td><td>0.005931430</td><td>0.005931430</td><td> 0.03441609</td></tr>\n",
       "\t<tr><th scope=row>20</th><td>2042</td><td>95923241394</td><td>1486810242</td><td>5895648095270</td><td>0.005896456</td><td>0.005896456</td><td> 0.03327103</td></tr>\n",
       "</tbody>\n",
       "</table>\n"
      ],
      "text/latex": [
       "A data.frame: 19 x 7\n",
       "\\begin{tabular}{r|lllllll}\n",
       "  & year & vmt & rev & tpi & d.vmt & d.rev & d.tpi\\\\\n",
       "  & <int> & <dbl> & <dbl> & <dbl> & <dbl> & <dbl> & <dbl>\\\\\n",
       "\\hline\n",
       "\t2 & 2024 & 85801992457 & 1329930883 & 5009736533108 & 0.006596593 & 0.006596593 &  0.03938635\\\\\n",
       "\t3 & 2025 & 86364284065 & 1338646403 & 5199574725000 & 0.006553363 & 0.006553363 &  0.03789385\\\\\n",
       "\t4 & 2026 & 86926575672 & 1347361923 & 5389412916892 & 0.006510696 & 0.006510696 &  0.03651033\\\\\n",
       "\t5 & 2027 & 87488867280 & 1356077443 & 5579251108784 & 0.006468581 & 0.006468581 &  0.03522428\\\\\n",
       "\t6 & 2028 & 88051158887 & 1364792963 & 5769089300676 & 0.006427008 & 0.006427008 &  0.03402575\\\\\n",
       "\t7 & 2029 & 88613450495 & 1373508483 & 5537064843919 & 0.006385965 & 0.006385965 & -0.04021856\\\\\n",
       "\t8 & 2030 & 89175742103 & 1382224003 & 4883177738514 & 0.006345443 & 0.006345443 & -0.11809273\\\\\n",
       "\t9 & 2031 & 89738033710 & 1390939523 & 5073015930405 & 0.006305432 & 0.006305432 &  0.03887595\\\\\n",
       "\t10 & 2032 & 90300325318 & 1399655042 & 5262854122297 & 0.006265923 & 0.006265923 &  0.03742117\\\\\n",
       "\t11 & 2033 & 90862616926 & 1408370562 & 5452692314189 & 0.006226906 & 0.006226906 &  0.03607134\\\\\n",
       "\t12 & 2034 & 91424908533 & 1417086082 & 5642530506081 & 0.006188371 & 0.006188371 &  0.03481550\\\\\n",
       "\t13 & 2035 & 91987200141 & 1425801602 & 5832368697973 & 0.006150311 & 0.006150311 &  0.03364416\\\\\n",
       "\t14 & 2036 & 92549491748 & 1434517122 & 5178481592568 & 0.006112716 & 0.006112716 & -0.11211347\\\\\n",
       "\t15 & 2037 & 93111783356 & 1443232642 & 4946457135811 & 0.006075577 & 0.006075577 & -0.04480550\\\\\n",
       "\t16 & 2038 & 93674074964 & 1451948162 & 5136295327703 & 0.006038888 & 0.006038888 &  0.03837862\\\\\n",
       "\t17 & 2039 & 94236366571 & 1460663682 & 5326133519595 & 0.006002638 & 0.006002638 &  0.03696014\\\\\n",
       "\t18 & 2040 & 94798658179 & 1469379202 & 5515971711486 & 0.005966822 & 0.005966822 &  0.03564278\\\\\n",
       "\t19 & 2041 & 95360949787 & 1478094722 & 5705809903378 & 0.005931430 & 0.005931430 &  0.03441609\\\\\n",
       "\t20 & 2042 & 95923241394 & 1486810242 & 5895648095270 & 0.005896456 & 0.005896456 &  0.03327103\\\\\n",
       "\\end{tabular}\n"
      ],
      "text/markdown": [
       "\n",
       "A data.frame: 19 x 7\n",
       "\n",
       "| <!--/--> | year &lt;int&gt; | vmt &lt;dbl&gt; | rev &lt;dbl&gt; | tpi &lt;dbl&gt; | d.vmt &lt;dbl&gt; | d.rev &lt;dbl&gt; | d.tpi &lt;dbl&gt; |\n",
       "|---|---|---|---|---|---|---|---|\n",
       "| 2 | 2024 | 85801992457 | 1329930883 | 5009736533108 | 0.006596593 | 0.006596593 |  0.03938635 |\n",
       "| 3 | 2025 | 86364284065 | 1338646403 | 5199574725000 | 0.006553363 | 0.006553363 |  0.03789385 |\n",
       "| 4 | 2026 | 86926575672 | 1347361923 | 5389412916892 | 0.006510696 | 0.006510696 |  0.03651033 |\n",
       "| 5 | 2027 | 87488867280 | 1356077443 | 5579251108784 | 0.006468581 | 0.006468581 |  0.03522428 |\n",
       "| 6 | 2028 | 88051158887 | 1364792963 | 5769089300676 | 0.006427008 | 0.006427008 |  0.03402575 |\n",
       "| 7 | 2029 | 88613450495 | 1373508483 | 5537064843919 | 0.006385965 | 0.006385965 | -0.04021856 |\n",
       "| 8 | 2030 | 89175742103 | 1382224003 | 4883177738514 | 0.006345443 | 0.006345443 | -0.11809273 |\n",
       "| 9 | 2031 | 89738033710 | 1390939523 | 5073015930405 | 0.006305432 | 0.006305432 |  0.03887595 |\n",
       "| 10 | 2032 | 90300325318 | 1399655042 | 5262854122297 | 0.006265923 | 0.006265923 |  0.03742117 |\n",
       "| 11 | 2033 | 90862616926 | 1408370562 | 5452692314189 | 0.006226906 | 0.006226906 |  0.03607134 |\n",
       "| 12 | 2034 | 91424908533 | 1417086082 | 5642530506081 | 0.006188371 | 0.006188371 |  0.03481550 |\n",
       "| 13 | 2035 | 91987200141 | 1425801602 | 5832368697973 | 0.006150311 | 0.006150311 |  0.03364416 |\n",
       "| 14 | 2036 | 92549491748 | 1434517122 | 5178481592568 | 0.006112716 | 0.006112716 | -0.11211347 |\n",
       "| 15 | 2037 | 93111783356 | 1443232642 | 4946457135811 | 0.006075577 | 0.006075577 | -0.04480550 |\n",
       "| 16 | 2038 | 93674074964 | 1451948162 | 5136295327703 | 0.006038888 | 0.006038888 |  0.03837862 |\n",
       "| 17 | 2039 | 94236366571 | 1460663682 | 5326133519595 | 0.006002638 | 0.006002638 |  0.03696014 |\n",
       "| 18 | 2040 | 94798658179 | 1469379202 | 5515971711486 | 0.005966822 | 0.005966822 |  0.03564278 |\n",
       "| 19 | 2041 | 95360949787 | 1478094722 | 5705809903378 | 0.005931430 | 0.005931430 |  0.03441609 |\n",
       "| 20 | 2042 | 95923241394 | 1486810242 | 5895648095270 | 0.005896456 | 0.005896456 |  0.03327103 |\n",
       "\n"
      ],
      "text/plain": [
       "   year vmt         rev        tpi           d.vmt       d.rev      \n",
       "2  2024 85801992457 1329930883 5009736533108 0.006596593 0.006596593\n",
       "3  2025 86364284065 1338646403 5199574725000 0.006553363 0.006553363\n",
       "4  2026 86926575672 1347361923 5389412916892 0.006510696 0.006510696\n",
       "5  2027 87488867280 1356077443 5579251108784 0.006468581 0.006468581\n",
       "6  2028 88051158887 1364792963 5769089300676 0.006427008 0.006427008\n",
       "7  2029 88613450495 1373508483 5537064843919 0.006385965 0.006385965\n",
       "8  2030 89175742103 1382224003 4883177738514 0.006345443 0.006345443\n",
       "9  2031 89738033710 1390939523 5073015930405 0.006305432 0.006305432\n",
       "10 2032 90300325318 1399655042 5262854122297 0.006265923 0.006265923\n",
       "11 2033 90862616926 1408370562 5452692314189 0.006226906 0.006226906\n",
       "12 2034 91424908533 1417086082 5642530506081 0.006188371 0.006188371\n",
       "13 2035 91987200141 1425801602 5832368697973 0.006150311 0.006150311\n",
       "14 2036 92549491748 1434517122 5178481592568 0.006112716 0.006112716\n",
       "15 2037 93111783356 1443232642 4946457135811 0.006075577 0.006075577\n",
       "16 2038 93674074964 1451948162 5136295327703 0.006038888 0.006038888\n",
       "17 2039 94236366571 1460663682 5326133519595 0.006002638 0.006002638\n",
       "18 2040 94798658179 1469379202 5515971711486 0.005966822 0.005966822\n",
       "19 2041 95360949787 1478094722 5705809903378 0.005931430 0.005931430\n",
       "20 2042 95923241394 1486810242 5895648095270 0.005896456 0.005896456\n",
       "   d.tpi      \n",
       "2   0.03938635\n",
       "3   0.03789385\n",
       "4   0.03651033\n",
       "5   0.03522428\n",
       "6   0.03402575\n",
       "7  -0.04021856\n",
       "8  -0.11809273\n",
       "9   0.03887595\n",
       "10  0.03742117\n",
       "11  0.03607134\n",
       "12  0.03481550\n",
       "13  0.03364416\n",
       "14 -0.11211347\n",
       "15 -0.04480550\n",
       "16  0.03837862\n",
       "17  0.03696014\n",
       "18  0.03564278\n",
       "19  0.03441609\n",
       "20  0.03327103"
      ]
     },
     "metadata": {},
     "output_type": "display_data"
    }
   ],
   "source": [
    "adeqvmt.ann "
   ]
  },
  {
   "attachments": {},
   "cell_type": "markdown",
   "metadata": {},
   "source": [
    "### Buoyancy"
   ]
  },
  {
   "cell_type": "code",
   "execution_count": 57,
   "metadata": {
    "vscode": {
     "languageId": "r"
    }
   },
   "outputs": [
    {
     "data": {
      "text/html": [
       "'buoyancy = 0.174736992228487'"
      ],
      "text/latex": [
       "'buoyancy = 0.174736992228487'"
      ],
      "text/markdown": [
       "'buoyancy = 0.174736992228487'"
      ],
      "text/plain": [
       "[1] \"buoyancy = 0.174736992228487\""
      ]
     },
     "metadata": {},
     "output_type": "display_data"
    }
   ],
   "source": [
    "buoy.vmt <- lm(log(rev) ~ log(tpi), adeqvmt)\n",
    "paste('buoyancy =',buoy.vmt$coefficients[[2]])\n"
   ]
  },
  {
   "attachments": {},
   "cell_type": "markdown",
   "metadata": {},
   "source": [
    "### Elasticity"
   ]
  },
  {
   "cell_type": "code",
   "execution_count": 58,
   "metadata": {
    "vscode": {
     "languageId": "r"
    }
   },
   "outputs": [
    {
     "data": {
      "text/html": [
       "'elasticity = 0.174736992228468'"
      ],
      "text/latex": [
       "'elasticity = 0.174736992228468'"
      ],
      "text/markdown": [
       "'elasticity = 0.174736992228468'"
      ],
      "text/plain": [
       "[1] \"elasticity = 0.174736992228468\""
      ]
     },
     "metadata": {},
     "output_type": "display_data"
    }
   ],
   "source": [
    "elas.vmt <- lm(log(vmt) ~ log(tpi), adeqvmt)\n",
    "paste('elasticity =',elas.vmt$coefficients[[2]])\n",
    "\n"
   ]
  },
  {
   "attachments": {},
   "cell_type": "markdown",
   "metadata": {},
   "source": [
    "### Stability"
   ]
  },
  {
   "cell_type": "code",
   "execution_count": 59,
   "metadata": {
    "vscode": {
     "languageId": "r"
    }
   },
   "outputs": [
    {
     "data": {
      "text/html": [
       "<table class=\"dataframe\">\n",
       "<caption>A data.frame: 3 x 3</caption>\n",
       "<thead>\n",
       "\t<tr><th></th><th scope=col>SD</th><th scope=col>Max</th><th scope=col>Min</th></tr>\n",
       "\t<tr><th></th><th scope=col>&lt;dbl&gt;</th><th scope=col>&lt;dbl&gt;</th><th scope=col>&lt;dbl&gt;</th></tr>\n",
       "</thead>\n",
       "<tbody>\n",
       "\t<tr><th scope=row>Change in Revenue</th><td>0.02187529</td><td>0.6596593</td><td>  0.5896456</td></tr>\n",
       "\t<tr><th scope=row>Change in Economic Activity</th><td>5.11519566</td><td>3.9386348</td><td>-11.8092730</td></tr>\n",
       "\t<tr><th scope=row>Change in Base</th><td>0.02187529</td><td>0.6596593</td><td>  0.5896456</td></tr>\n",
       "</tbody>\n",
       "</table>\n"
      ],
      "text/latex": [
       "A data.frame: 3 x 3\n",
       "\\begin{tabular}{r|lll}\n",
       "  & SD & Max & Min\\\\\n",
       "  & <dbl> & <dbl> & <dbl>\\\\\n",
       "\\hline\n",
       "\tChange in Revenue & 0.02187529 & 0.6596593 &   0.5896456\\\\\n",
       "\tChange in Economic Activity & 5.11519566 & 3.9386348 & -11.8092730\\\\\n",
       "\tChange in Base & 0.02187529 & 0.6596593 &   0.5896456\\\\\n",
       "\\end{tabular}\n"
      ],
      "text/markdown": [
       "\n",
       "A data.frame: 3 x 3\n",
       "\n",
       "| <!--/--> | SD &lt;dbl&gt; | Max &lt;dbl&gt; | Min &lt;dbl&gt; |\n",
       "|---|---|---|---|\n",
       "| Change in Revenue | 0.02187529 | 0.6596593 |   0.5896456 |\n",
       "| Change in Economic Activity | 5.11519566 | 3.9386348 | -11.8092730 |\n",
       "| Change in Base | 0.02187529 | 0.6596593 |   0.5896456 |\n",
       "\n"
      ],
      "text/plain": [
       "                            SD         Max       Min        \n",
       "Change in Revenue           0.02187529 0.6596593   0.5896456\n",
       "Change in Economic Activity 5.11519566 3.9386348 -11.8092730\n",
       "Change in Base              0.02187529 0.6596593   0.5896456"
      ]
     },
     "metadata": {},
     "output_type": "display_data"
    }
   ],
   "source": [
    "stabvmt <- data.frame(SD = c(sd(adeqvmt.ann$d.rev),sd(adeqvmt.ann$d.tpi),sd(adeqvmt.ann$d.vmt)),\n",
    "                   Max = c(max(adeqvmt.ann$d.rev),max(adeqvmt.ann$d.tpi),max(adeqvmt.ann$d.vmt)),\n",
    "                   Min = c(min(adeqvmt.ann$d.rev),min(adeqvmt.ann$d.tpi),min(adeqvmt.ann$d.vmt)),\n",
    "                   row.names = c('Change in Revenue','Change in Economic Activity',\n",
    "                                 'Change in Base'))\n",
    "stabvmt*100"
   ]
  },
  {
   "cell_type": "markdown",
   "metadata": {},
   "source": [
    "## Suits Index"
   ]
  },
  {
   "cell_type": "code",
   "execution_count": 60,
   "metadata": {
    "vscode": {
     "languageId": "r"
    }
   },
   "outputs": [],
   "source": [
    "v.suits = incmile.sum\n",
    "v.suits$vmt = v.suits$BESTMILE\n",
    "v.suits = v.suits[c(1,2,4)]\n",
    "v.suits = merge(v.suits,count(nhts.in2,HHFAMINC),by='HHFAMINC')"
   ]
  },
  {
   "cell_type": "code",
   "execution_count": 61,
   "metadata": {
    "vscode": {
     "languageId": "r"
    }
   },
   "outputs": [],
   "source": [
    "v.suits$rate = vmt.fc$rate[1]\n",
    "v.suits$xmile = v.suits$vmt*.01\n",
    "v.suits$xrate = 0.005\n",
    "v.suits$burden = (v.suits$vmt*v.suits$rate) + (v.suits$xmile*v.suits$xrate)\n"
   ]
  },
  {
   "cell_type": "code",
   "execution_count": 62,
   "metadata": {
    "vscode": {
     "languageId": "r"
    }
   },
   "outputs": [],
   "source": [
    "v.suits$rawinc = c(mean(c(0,10000)),mean(c(10000,14999)),mean(c(15000,24999)),mean(c(25000,35000)),mean(c(35000,49999)),\n",
    "    mean(c(50000,74999)),mean(c(75000,99999)),mean(c(100000,124999)),mean(c(125000,149999)),mean(c(150000,199999)),\n",
    "    mean(c(200000,1000000)))\n",
    "v.suits$rawinc = v.suits$rawinc*v.suits$n\n",
    "v.suits$burden = v.suits$burden*v.suits$n\n",
    "\n",
    "v.suits$shareinc = v.suits$rawinc/sum(v.suits$rawinc)\n",
    "v.suits$cuminc = v.suits$rawinc[1]/sum(v.suits$rawinc)\n",
    "v.suits$sharebur = v.suits$burden/sum(v.suits$burden)\n",
    "v.suits$cumbur = v.suits$burden[1]/sum(v.suits$burden)\n",
    "for (row in 2:length(v.suits$HHFAMINC)) {\n",
    "    v.suits$cuminc[row] = v.suits$shareinc[row] + v.suits$cuminc[row-1]\n",
    "    v.suits$cumbur[row] = v.suits$sharebur[row] + v.suits$cumbur[row-1]\n",
    "}"
   ]
  },
  {
   "cell_type": "code",
   "execution_count": 63,
   "metadata": {
    "vscode": {
     "languageId": "r"
    }
   },
   "outputs": [
    {
     "data": {
      "text/html": [
       "'Gas Tax Suits Index = -5.37830623847855'"
      ],
      "text/latex": [
       "'Gas Tax Suits Index = -5.37830623847855'"
      ],
      "text/markdown": [
       "'Gas Tax Suits Index = -5.37830623847855'"
      ],
      "text/plain": [
       "[1] \"Gas Tax Suits Index = -5.37830623847855\""
      ]
     },
     "metadata": {},
     "output_type": "display_data"
    },
    {
     "data": {
      "text/html": [
       "'VMT Tax Suits Index = -5.38271542606123'"
      ],
      "text/latex": [
       "'VMT Tax Suits Index = -5.38271542606123'"
      ],
      "text/markdown": [
       "'VMT Tax Suits Index = -5.38271542606123'"
      ],
      "text/plain": [
       "[1] \"VMT Tax Suits Index = -5.38271542606123\""
      ]
     },
     "metadata": {},
     "output_type": "display_data"
    }
   ],
   "source": [
    "v.suits$k = (5000/length(v.suits$cumbur))/5000\n",
    "v.suits$l = (1/2)*(v.suits$cumbur[1])*\n",
    "    (v.suits$cuminc[1])\n",
    "for (row in 2:length(v.suits$cumbur)){\n",
    "    v.suits$l[row] = (1/2)*(v.suits$cumbur[row]+v.suits$cumbur[row-1])*\n",
    "    (v.suits$cuminc[row]+v.suits$cuminc[row-1])\n",
    "}\n",
    "\n",
    "paste('Gas Tax Suits Index =', (sum(g.suits$k)-sum(g.suits$l))/sum(g.suits$k))\n",
    "paste('VMT Tax Suits Index =', (sum(v.suits$k)-sum(v.suits$l))/sum(v.suits$k))"
   ]
  },
  {
   "cell_type": "code",
   "execution_count": 64,
   "metadata": {
    "vscode": {
     "languageId": "r"
    }
   },
   "outputs": [
    {
     "data": {
      "text/html": [
       "<table class=\"dataframe\">\n",
       "<caption>A data.frame: 11 x 15</caption>\n",
       "<thead>\n",
       "\t<tr><th scope=col>HHFAMINC</th><th scope=col>Bracket</th><th scope=col>vmt</th><th scope=col>n</th><th scope=col>rate</th><th scope=col>xmile</th><th scope=col>xrate</th><th scope=col>burden</th><th scope=col>rawinc</th><th scope=col>shareinc</th><th scope=col>cuminc</th><th scope=col>sharebur</th><th scope=col>cumbur</th><th scope=col>k</th><th scope=col>l</th></tr>\n",
       "\t<tr><th scope=col>&lt;int&gt;</th><th scope=col>&lt;chr&gt;</th><th scope=col>&lt;dbl&gt;</th><th scope=col>&lt;int&gt;</th><th scope=col>&lt;dbl&gt;</th><th scope=col>&lt;dbl&gt;</th><th scope=col>&lt;dbl&gt;</th><th scope=col>&lt;dbl&gt;</th><th scope=col>&lt;dbl&gt;</th><th scope=col>&lt;dbl&gt;</th><th scope=col>&lt;dbl&gt;</th><th scope=col>&lt;dbl&gt;</th><th scope=col>&lt;dbl&gt;</th><th scope=col>&lt;dbl&gt;</th><th scope=col>&lt;dbl&gt;</th></tr>\n",
       "</thead>\n",
       "<tbody>\n",
       "\t<tr><td> 1</td><td>Less than $10,000</td><td> 162685.7</td><td> 23</td><td>0.015</td><td> 1626.857</td><td>0.005</td><td>  56313.66</td><td>  115000.0</td><td>0.001345469</td><td>0.001345469</td><td>0.002757386</td><td>0.002757386</td><td>0.09090909</td><td>0.000001854988</td></tr>\n",
       "\t<tr><td> 2</td><td>$10,000-$14,999  </td><td> 235010.3</td><td> 31</td><td>0.015</td><td> 2350.103</td><td>0.005</td><td> 109644.06</td><td>  387484.5</td><td>0.004533464</td><td>0.005878932</td><td>0.005368697</td><td>0.008126083</td><td>0.09090909</td><td>0.000039313272</td></tr>\n",
       "\t<tr><td> 3</td><td>$15,000-$24,999  </td><td> 603916.0</td><td> 67</td><td>0.015</td><td> 6039.160</td><td>0.005</td><td> 608958.66</td><td> 1339966.5</td><td>0.015677245</td><td>0.021556177</td><td>0.029817525</td><td>0.037943607</td><td>0.09090909</td><td>0.000631963498</td></tr>\n",
       "\t<tr><td> 4</td><td>$25,000-$34,999  </td><td> 891733.0</td><td> 97</td><td>0.015</td><td> 8917.330</td><td>0.005</td><td>1301796.39</td><td> 2910000.0</td><td>0.034046211</td><td>0.055602388</td><td>0.063742170</td><td>0.101685777</td><td>0.09090909</td><td>0.005386801511</td></tr>\n",
       "\t<tr><td> 5</td><td>$35,000-$49,999  </td><td>1336096.4</td><td>159</td><td>0.015</td><td>13360.964</td><td>0.005</td><td>3197211.79</td><td> 6757420.5</td><td>0.079059988</td><td>0.134662376</td><td>0.156550762</td><td>0.258236540</td><td>0.09090909</td><td>0.034240267416</td></tr>\n",
       "\t<tr><td> 6</td><td>$50,000-$74,999  </td><td>2336064.8</td><td>238</td><td>0.015</td><td>23360.648</td><td>0.005</td><td>8367550.69</td><td>14874881.0</td><td>0.174032075</td><td>0.308694451</td><td>0.409715254</td><td>0.667951793</td><td>0.09090909</td><td>0.205315960400</td></tr>\n",
       "\t<tr><td> 7</td><td>$75,000-$99,999  </td><td>1474612.9</td><td>146</td><td>0.015</td><td>14746.129</td><td>0.005</td><td>3240167.03</td><td>12774927.0</td><td>0.149463183</td><td>0.458157634</td><td>0.158654056</td><td>0.826605850</td><td>0.09090909</td><td>0.573052322180</td></tr>\n",
       "\t<tr><td> 8</td><td>$100,000-$124,999</td><td>1318995.8</td><td>125</td><td>0.015</td><td>13189.958</td><td>0.005</td><td>2481360.91</td><td>14062437.5</td><td>0.164526706</td><td>0.622684340</td><td>0.121499284</td><td>0.948105133</td><td>0.09090909</td><td>0.959091060717</td></tr>\n",
       "\t<tr><td> 9</td><td>$125,000-$149,999</td><td> 678029.0</td><td> 64</td><td>0.015</td><td> 6780.290</td><td>0.005</td><td> 653077.54</td><td> 8799968.0</td><td>0.102957240</td><td>0.725641580</td><td>0.031977796</td><td>0.980082930</td><td>0.09090909</td><td>1.299912971914</td></tr>\n",
       "\t<tr><td>10</td><td>$150,000-$199,999</td><td> 448492.1</td><td> 38</td><td>0.015</td><td> 4484.921</td><td>0.005</td><td> 256492.66</td><td> 6649981.0</td><td>0.077802975</td><td>0.803444555</td><td>0.012559106</td><td>0.992642036</td><td>0.09090909</td><td>1.508233195884</td></tr>\n",
       "\t<tr><td>11</td><td>$200,000 or more </td><td> 356598.4</td><td> 28</td><td>0.015</td><td> 3565.984</td><td>0.005</td><td> 150270.56</td><td>16800000.0</td><td>0.196555445</td><td>1.000000000</td><td>0.007357964</td><td>1.000000000</td><td>0.09090909</td><td>1.796809714280</td></tr>\n",
       "</tbody>\n",
       "</table>\n"
      ],
      "text/latex": [
       "A data.frame: 11 x 15\n",
       "\\begin{tabular}{lllllllllllllll}\n",
       " HHFAMINC & Bracket & vmt & n & rate & xmile & xrate & burden & rawinc & shareinc & cuminc & sharebur & cumbur & k & l\\\\\n",
       " <int> & <chr> & <dbl> & <int> & <dbl> & <dbl> & <dbl> & <dbl> & <dbl> & <dbl> & <dbl> & <dbl> & <dbl> & <dbl> & <dbl>\\\\\n",
       "\\hline\n",
       "\t  1 & Less than \\$10,000 &  162685.7 &  23 & 0.015 &  1626.857 & 0.005 &   56313.66 &   115000.0 & 0.001345469 & 0.001345469 & 0.002757386 & 0.002757386 & 0.09090909 & 0.000001854988\\\\\n",
       "\t  2 & \\$10,000-\\$14,999   &  235010.3 &  31 & 0.015 &  2350.103 & 0.005 &  109644.06 &   387484.5 & 0.004533464 & 0.005878932 & 0.005368697 & 0.008126083 & 0.09090909 & 0.000039313272\\\\\n",
       "\t  3 & \\$15,000-\\$24,999   &  603916.0 &  67 & 0.015 &  6039.160 & 0.005 &  608958.66 &  1339966.5 & 0.015677245 & 0.021556177 & 0.029817525 & 0.037943607 & 0.09090909 & 0.000631963498\\\\\n",
       "\t  4 & \\$25,000-\\$34,999   &  891733.0 &  97 & 0.015 &  8917.330 & 0.005 & 1301796.39 &  2910000.0 & 0.034046211 & 0.055602388 & 0.063742170 & 0.101685777 & 0.09090909 & 0.005386801511\\\\\n",
       "\t  5 & \\$35,000-\\$49,999   & 1336096.4 & 159 & 0.015 & 13360.964 & 0.005 & 3197211.79 &  6757420.5 & 0.079059988 & 0.134662376 & 0.156550762 & 0.258236540 & 0.09090909 & 0.034240267416\\\\\n",
       "\t  6 & \\$50,000-\\$74,999   & 2336064.8 & 238 & 0.015 & 23360.648 & 0.005 & 8367550.69 & 14874881.0 & 0.174032075 & 0.308694451 & 0.409715254 & 0.667951793 & 0.09090909 & 0.205315960400\\\\\n",
       "\t  7 & \\$75,000-\\$99,999   & 1474612.9 & 146 & 0.015 & 14746.129 & 0.005 & 3240167.03 & 12774927.0 & 0.149463183 & 0.458157634 & 0.158654056 & 0.826605850 & 0.09090909 & 0.573052322180\\\\\n",
       "\t  8 & \\$100,000-\\$124,999 & 1318995.8 & 125 & 0.015 & 13189.958 & 0.005 & 2481360.91 & 14062437.5 & 0.164526706 & 0.622684340 & 0.121499284 & 0.948105133 & 0.09090909 & 0.959091060717\\\\\n",
       "\t  9 & \\$125,000-\\$149,999 &  678029.0 &  64 & 0.015 &  6780.290 & 0.005 &  653077.54 &  8799968.0 & 0.102957240 & 0.725641580 & 0.031977796 & 0.980082930 & 0.09090909 & 1.299912971914\\\\\n",
       "\t 10 & \\$150,000-\\$199,999 &  448492.1 &  38 & 0.015 &  4484.921 & 0.005 &  256492.66 &  6649981.0 & 0.077802975 & 0.803444555 & 0.012559106 & 0.992642036 & 0.09090909 & 1.508233195884\\\\\n",
       "\t 11 & \\$200,000 or more  &  356598.4 &  28 & 0.015 &  3565.984 & 0.005 &  150270.56 & 16800000.0 & 0.196555445 & 1.000000000 & 0.007357964 & 1.000000000 & 0.09090909 & 1.796809714280\\\\\n",
       "\\end{tabular}\n"
      ],
      "text/markdown": [
       "\n",
       "A data.frame: 11 x 15\n",
       "\n",
       "| HHFAMINC &lt;int&gt; | Bracket &lt;chr&gt; | vmt &lt;dbl&gt; | n &lt;int&gt; | rate &lt;dbl&gt; | xmile &lt;dbl&gt; | xrate &lt;dbl&gt; | burden &lt;dbl&gt; | rawinc &lt;dbl&gt; | shareinc &lt;dbl&gt; | cuminc &lt;dbl&gt; | sharebur &lt;dbl&gt; | cumbur &lt;dbl&gt; | k &lt;dbl&gt; | l &lt;dbl&gt; |\n",
       "|---|---|---|---|---|---|---|---|---|---|---|---|---|---|---|\n",
       "|  1 | Less than $10,000 |  162685.7 |  23 | 0.015 |  1626.857 | 0.005 |   56313.66 |   115000.0 | 0.001345469 | 0.001345469 | 0.002757386 | 0.002757386 | 0.09090909 | 0.000001854988 |\n",
       "|  2 | $10,000-$14,999   |  235010.3 |  31 | 0.015 |  2350.103 | 0.005 |  109644.06 |   387484.5 | 0.004533464 | 0.005878932 | 0.005368697 | 0.008126083 | 0.09090909 | 0.000039313272 |\n",
       "|  3 | $15,000-$24,999   |  603916.0 |  67 | 0.015 |  6039.160 | 0.005 |  608958.66 |  1339966.5 | 0.015677245 | 0.021556177 | 0.029817525 | 0.037943607 | 0.09090909 | 0.000631963498 |\n",
       "|  4 | $25,000-$34,999   |  891733.0 |  97 | 0.015 |  8917.330 | 0.005 | 1301796.39 |  2910000.0 | 0.034046211 | 0.055602388 | 0.063742170 | 0.101685777 | 0.09090909 | 0.005386801511 |\n",
       "|  5 | $35,000-$49,999   | 1336096.4 | 159 | 0.015 | 13360.964 | 0.005 | 3197211.79 |  6757420.5 | 0.079059988 | 0.134662376 | 0.156550762 | 0.258236540 | 0.09090909 | 0.034240267416 |\n",
       "|  6 | $50,000-$74,999   | 2336064.8 | 238 | 0.015 | 23360.648 | 0.005 | 8367550.69 | 14874881.0 | 0.174032075 | 0.308694451 | 0.409715254 | 0.667951793 | 0.09090909 | 0.205315960400 |\n",
       "|  7 | $75,000-$99,999   | 1474612.9 | 146 | 0.015 | 14746.129 | 0.005 | 3240167.03 | 12774927.0 | 0.149463183 | 0.458157634 | 0.158654056 | 0.826605850 | 0.09090909 | 0.573052322180 |\n",
       "|  8 | $100,000-$124,999 | 1318995.8 | 125 | 0.015 | 13189.958 | 0.005 | 2481360.91 | 14062437.5 | 0.164526706 | 0.622684340 | 0.121499284 | 0.948105133 | 0.09090909 | 0.959091060717 |\n",
       "|  9 | $125,000-$149,999 |  678029.0 |  64 | 0.015 |  6780.290 | 0.005 |  653077.54 |  8799968.0 | 0.102957240 | 0.725641580 | 0.031977796 | 0.980082930 | 0.09090909 | 1.299912971914 |\n",
       "| 10 | $150,000-$199,999 |  448492.1 |  38 | 0.015 |  4484.921 | 0.005 |  256492.66 |  6649981.0 | 0.077802975 | 0.803444555 | 0.012559106 | 0.992642036 | 0.09090909 | 1.508233195884 |\n",
       "| 11 | $200,000 or more  |  356598.4 |  28 | 0.015 |  3565.984 | 0.005 |  150270.56 | 16800000.0 | 0.196555445 | 1.000000000 | 0.007357964 | 1.000000000 | 0.09090909 | 1.796809714280 |\n",
       "\n"
      ],
      "text/plain": [
       "   HHFAMINC Bracket           vmt       n   rate  xmile     xrate burden    \n",
       "1   1       Less than $10,000  162685.7  23 0.015  1626.857 0.005   56313.66\n",
       "2   2       $10,000-$14,999    235010.3  31 0.015  2350.103 0.005  109644.06\n",
       "3   3       $15,000-$24,999    603916.0  67 0.015  6039.160 0.005  608958.66\n",
       "4   4       $25,000-$34,999    891733.0  97 0.015  8917.330 0.005 1301796.39\n",
       "5   5       $35,000-$49,999   1336096.4 159 0.015 13360.964 0.005 3197211.79\n",
       "6   6       $50,000-$74,999   2336064.8 238 0.015 23360.648 0.005 8367550.69\n",
       "7   7       $75,000-$99,999   1474612.9 146 0.015 14746.129 0.005 3240167.03\n",
       "8   8       $100,000-$124,999 1318995.8 125 0.015 13189.958 0.005 2481360.91\n",
       "9   9       $125,000-$149,999  678029.0  64 0.015  6780.290 0.005  653077.54\n",
       "10 10       $150,000-$199,999  448492.1  38 0.015  4484.921 0.005  256492.66\n",
       "11 11       $200,000 or more   356598.4  28 0.015  3565.984 0.005  150270.56\n",
       "   rawinc     shareinc    cuminc      sharebur    cumbur      k         \n",
       "1    115000.0 0.001345469 0.001345469 0.002757386 0.002757386 0.09090909\n",
       "2    387484.5 0.004533464 0.005878932 0.005368697 0.008126083 0.09090909\n",
       "3   1339966.5 0.015677245 0.021556177 0.029817525 0.037943607 0.09090909\n",
       "4   2910000.0 0.034046211 0.055602388 0.063742170 0.101685777 0.09090909\n",
       "5   6757420.5 0.079059988 0.134662376 0.156550762 0.258236540 0.09090909\n",
       "6  14874881.0 0.174032075 0.308694451 0.409715254 0.667951793 0.09090909\n",
       "7  12774927.0 0.149463183 0.458157634 0.158654056 0.826605850 0.09090909\n",
       "8  14062437.5 0.164526706 0.622684340 0.121499284 0.948105133 0.09090909\n",
       "9   8799968.0 0.102957240 0.725641580 0.031977796 0.980082930 0.09090909\n",
       "10  6649981.0 0.077802975 0.803444555 0.012559106 0.992642036 0.09090909\n",
       "11 16800000.0 0.196555445 1.000000000 0.007357964 1.000000000 0.09090909\n",
       "   l             \n",
       "1  0.000001854988\n",
       "2  0.000039313272\n",
       "3  0.000631963498\n",
       "4  0.005386801511\n",
       "5  0.034240267416\n",
       "6  0.205315960400\n",
       "7  0.573052322180\n",
       "8  0.959091060717\n",
       "9  1.299912971914\n",
       "10 1.508233195884\n",
       "11 1.796809714280"
      ]
     },
     "metadata": {},
     "output_type": "display_data"
    }
   ],
   "source": [
    "v.suits"
   ]
  },
  {
   "attachments": {},
   "cell_type": "markdown",
   "metadata": {
    "vscode": {
     "languageId": "r"
    }
   },
   "source": [
    "# Tax Distributions\n",
    "##### 2022 Distributions scaled to VMT Revenue"
   ]
  },
  {
   "cell_type": "code",
   "execution_count": 66,
   "metadata": {
    "vscode": {
     "languageId": "r"
    }
   },
   "outputs": [
    {
     "name": "stderr",
     "output_type": "stream",
     "text": [
      "\u001b[1m\u001b[22mNew names:\n",
      "\u001b[36m*\u001b[39m `` -> `...2`\n",
      "\u001b[36m*\u001b[39m `` -> `...3`\n",
      "\u001b[36m*\u001b[39m `` -> `...4`\n",
      "\u001b[36m*\u001b[39m `` -> `...5`\n",
      "\u001b[36m*\u001b[39m `` -> `...6`\n",
      "\u001b[36m*\u001b[39m `` -> `...7`\n",
      "\u001b[36m*\u001b[39m `` -> `...8`\n",
      "\u001b[36m*\u001b[39m `` -> `...9`\n",
      "\u001b[36m*\u001b[39m `` -> `...10`\n",
      "\u001b[36m*\u001b[39m `` -> `...11`\n",
      "\u001b[36m*\u001b[39m `` -> `...12`\n",
      "\u001b[36m*\u001b[39m `` -> `...13`\n",
      "\u001b[36m*\u001b[39m `` -> `...14`\n",
      "\u001b[36m*\u001b[39m `` -> `...15`\n",
      "\u001b[36m*\u001b[39m `` -> `...16`\n"
     ]
    }
   ],
   "source": [
    "dist = read_excel('data/Local Distributions.xlsx')"
   ]
  },
  {
   "cell_type": "markdown",
   "metadata": {},
   "source": []
  }
 ],
 "metadata": {
  "kernelspec": {
   "display_name": "R",
   "language": "R",
   "name": "ir"
  },
  "language_info": {
   "codemirror_mode": "r",
   "file_extension": ".r",
   "mimetype": "text/x-r-source",
   "name": "R",
   "pygments_lexer": "r",
   "version": "4.2.3"
  },
  "orig_nbformat": 4
 },
 "nbformat": 4,
 "nbformat_minor": 2
}
