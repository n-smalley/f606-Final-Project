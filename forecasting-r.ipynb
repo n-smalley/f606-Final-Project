{
 "cells": [
  {
   "cell_type": "code",
   "execution_count": 43,
   "metadata": {
    "vscode": {
     "languageId": "r"
    }
   },
   "outputs": [],
   "source": [
    "library(tidyverse)\n",
    "library(stargazer)\n",
    "library(olsrr)\n",
    "library(readr)\n",
    "library(readxl)\n",
    "library(dplyr)\n",
    "library(broom)\n",
    "library(car)\n",
    "library(lmtest)\n",
    "library(corpcor)\n",
    "library(sandwich)\n",
    "library(fastDummies)\n",
    "library(plm)\n",
    "library(forecast)\n",
    "\n",
    "options(scipen=999)"
   ]
  },
  {
   "cell_type": "code",
   "execution_count": 28,
   "metadata": {
    "vscode": {
     "languageId": "r"
    }
   },
   "outputs": [
    {
     "name": "stderr",
     "output_type": "stream",
     "text": [
      "\u001b[1m\u001b[22mNew names:\n",
      "\u001b[36m*\u001b[39m `` -> `...1`\n"
     ]
    }
   ],
   "source": [
    "vmt.ann = read_excel('data/WorkingData.xlsx', sheet = 'IN-VMT-clean')[1:30,]\n",
    "colnames(vmt.ann) = c('year','vmt')"
   ]
  },
  {
   "cell_type": "code",
   "execution_count": 46,
   "metadata": {
    "vscode": {
     "languageId": "r"
    }
   },
   "outputs": [],
   "source": [
    "gas = read_excel('data/WorkingData.xlsx', sheet = 'GasRevMonthly')\n",
    "gas = dummy_cols(gas, select_columns = c('month','year'))\n",
    "gas$mnth = match(gas$month, month.name)\n",
    "gas$year = factor(gas$year)\n",
    "gas$mnth = factor(gas$mnth)\n",
    "gas$time = index(gas$year) "
   ]
  },
  {
   "attachments": {},
   "cell_type": "markdown",
   "metadata": {},
   "source": [
    "# 2022 VMT Forecast"
   ]
  },
  {
   "cell_type": "code",
   "execution_count": 27,
   "metadata": {
    "vscode": {
     "languageId": "r"
    }
   },
   "outputs": [
    {
     "data": {
      "text/html": [
       "84391.2100712538"
      ],
      "text/latex": [
       "84391.2100712538"
      ],
      "text/markdown": [
       "84391.2100712538"
      ],
      "text/plain": [
       "[1] 84391.21"
      ]
     },
     "metadata": {},
     "output_type": "display_data"
    }
   ],
   "source": [
    "vmt.2022.m = lm(vmt ~ year, vmt.ann)\n",
    "vmt.2022.m$coefficients[[1]] + vmt.2022.m$coefficients[[2]]*2022"
   ]
  },
  {
   "attachments": {},
   "cell_type": "markdown",
   "metadata": {},
   "source": [
    "# Gas Forecast"
   ]
  },
  {
   "cell_type": "code",
   "execution_count": 91,
   "metadata": {
    "vscode": {
     "languageId": "r"
    }
   },
   "outputs": [
    {
     "data": {
      "text/html": [
       "<table class=\"dataframe\">\n",
       "<caption>A data.frame: 36 x 1</caption>\n",
       "<thead>\n",
       "\t<tr><th></th><th scope=col>gas.m.coefficients</th></tr>\n",
       "\t<tr><th></th><th scope=col>&lt;dbl&gt;</th></tr>\n",
       "</thead>\n",
       "<tbody>\n",
       "\t<tr><th scope=row>(Intercept)</th><td> 444489009.5</td></tr>\n",
       "\t<tr><th scope=row>time</th><td>   1938964.5</td></tr>\n",
       "\t<tr><th scope=row>mnth2</th><td>  -1938964.5</td></tr>\n",
       "\t<tr><th scope=row>mnth3</th><td>  -3877928.9</td></tr>\n",
       "\t<tr><th scope=row>mnth4</th><td>  -5816893.4</td></tr>\n",
       "\t<tr><th scope=row>mnth5</th><td>  -7755857.9</td></tr>\n",
       "\t<tr><th scope=row>mnth6</th><td>  -9694822.3</td></tr>\n",
       "\t<tr><th scope=row>mnth7</th><td> -11633786.8</td></tr>\n",
       "\t<tr><th scope=row>mnth8</th><td> -13572751.2</td></tr>\n",
       "\t<tr><th scope=row>mnth9</th><td> -15511715.7</td></tr>\n",
       "\t<tr><th scope=row>mnth10</th><td> -17450680.2</td></tr>\n",
       "\t<tr><th scope=row>mnth11</th><td> -19389644.6</td></tr>\n",
       "\t<tr><th scope=row>mnth12</th><td> -21328609.1</td></tr>\n",
       "\t<tr><th scope=row>year2000</th><td>  -5542850.6</td></tr>\n",
       "\t<tr><th scope=row>year2001</th><td>    721155.9</td></tr>\n",
       "\t<tr><th scope=row>year2002</th><td> -35421793.7</td></tr>\n",
       "\t<tr><th scope=row>year2003</th><td> -21202766.3</td></tr>\n",
       "\t<tr><th scope=row>year2004</th><td>  19844894.2</td></tr>\n",
       "\t<tr><th scope=row>year2005</th><td>  -6358404.4</td></tr>\n",
       "\t<tr><th scope=row>year2006</th><td> -38810523.0</td></tr>\n",
       "\t<tr><th scope=row>year2007</th><td> -61939904.5</td></tr>\n",
       "\t<tr><th scope=row>year2008</th><td>-102379330.1</td></tr>\n",
       "\t<tr><th scope=row>year2009</th><td>-143212392.7</td></tr>\n",
       "\t<tr><th scope=row>year2010</th><td>-161675805.2</td></tr>\n",
       "\t<tr><th scope=row>year2011</th><td>-182600967.8</td></tr>\n",
       "\t<tr><th scope=row>year2012</th><td>-214201942.3</td></tr>\n",
       "\t<tr><th scope=row>year2013</th><td>-242554203.9</td></tr>\n",
       "\t<tr><th scope=row>year2014</th><td>-268151445.5</td></tr>\n",
       "\t<tr><th scope=row>year2015</th><td>-278626607.0</td></tr>\n",
       "\t<tr><th scope=row>year2016</th><td>-285152615.6</td></tr>\n",
       "\t<tr><th scope=row>year2017</th><td>-305759393.2</td></tr>\n",
       "\t<tr><th scope=row>year2018</th><td> -36191599.7</td></tr>\n",
       "\t<tr><th scope=row>year2019</th><td>  -5681692.3</td></tr>\n",
       "\t<tr><th scope=row>year2020</th><td> -63587899.9</td></tr>\n",
       "\t<tr><th scope=row>year2021</th><td> -41456930.4</td></tr>\n",
       "\t<tr><th scope=row>year2022</th><td>          NA</td></tr>\n",
       "</tbody>\n",
       "</table>\n"
      ],
      "text/latex": [
       "A data.frame: 36 x 1\n",
       "\\begin{tabular}{r|l}\n",
       "  & gas.m.coefficients\\\\\n",
       "  & <dbl>\\\\\n",
       "\\hline\n",
       "\t(Intercept) &  444489009.5\\\\\n",
       "\ttime &    1938964.5\\\\\n",
       "\tmnth2 &   -1938964.5\\\\\n",
       "\tmnth3 &   -3877928.9\\\\\n",
       "\tmnth4 &   -5816893.4\\\\\n",
       "\tmnth5 &   -7755857.9\\\\\n",
       "\tmnth6 &   -9694822.3\\\\\n",
       "\tmnth7 &  -11633786.8\\\\\n",
       "\tmnth8 &  -13572751.2\\\\\n",
       "\tmnth9 &  -15511715.7\\\\\n",
       "\tmnth10 &  -17450680.2\\\\\n",
       "\tmnth11 &  -19389644.6\\\\\n",
       "\tmnth12 &  -21328609.1\\\\\n",
       "\tyear2000 &   -5542850.6\\\\\n",
       "\tyear2001 &     721155.9\\\\\n",
       "\tyear2002 &  -35421793.7\\\\\n",
       "\tyear2003 &  -21202766.3\\\\\n",
       "\tyear2004 &   19844894.2\\\\\n",
       "\tyear2005 &   -6358404.4\\\\\n",
       "\tyear2006 &  -38810523.0\\\\\n",
       "\tyear2007 &  -61939904.5\\\\\n",
       "\tyear2008 & -102379330.1\\\\\n",
       "\tyear2009 & -143212392.7\\\\\n",
       "\tyear2010 & -161675805.2\\\\\n",
       "\tyear2011 & -182600967.8\\\\\n",
       "\tyear2012 & -214201942.3\\\\\n",
       "\tyear2013 & -242554203.9\\\\\n",
       "\tyear2014 & -268151445.5\\\\\n",
       "\tyear2015 & -278626607.0\\\\\n",
       "\tyear2016 & -285152615.6\\\\\n",
       "\tyear2017 & -305759393.2\\\\\n",
       "\tyear2018 &  -36191599.7\\\\\n",
       "\tyear2019 &   -5681692.3\\\\\n",
       "\tyear2020 &  -63587899.9\\\\\n",
       "\tyear2021 &  -41456930.4\\\\\n",
       "\tyear2022 &           NA\\\\\n",
       "\\end{tabular}\n"
      ],
      "text/markdown": [
       "\n",
       "A data.frame: 36 x 1\n",
       "\n",
       "| <!--/--> | gas.m.coefficients &lt;dbl&gt; |\n",
       "|---|---|\n",
       "| (Intercept) |  444489009.5 |\n",
       "| time |    1938964.5 |\n",
       "| mnth2 |   -1938964.5 |\n",
       "| mnth3 |   -3877928.9 |\n",
       "| mnth4 |   -5816893.4 |\n",
       "| mnth5 |   -7755857.9 |\n",
       "| mnth6 |   -9694822.3 |\n",
       "| mnth7 |  -11633786.8 |\n",
       "| mnth8 |  -13572751.2 |\n",
       "| mnth9 |  -15511715.7 |\n",
       "| mnth10 |  -17450680.2 |\n",
       "| mnth11 |  -19389644.6 |\n",
       "| mnth12 |  -21328609.1 |\n",
       "| year2000 |   -5542850.6 |\n",
       "| year2001 |     721155.9 |\n",
       "| year2002 |  -35421793.7 |\n",
       "| year2003 |  -21202766.3 |\n",
       "| year2004 |   19844894.2 |\n",
       "| year2005 |   -6358404.4 |\n",
       "| year2006 |  -38810523.0 |\n",
       "| year2007 |  -61939904.5 |\n",
       "| year2008 | -102379330.1 |\n",
       "| year2009 | -143212392.7 |\n",
       "| year2010 | -161675805.2 |\n",
       "| year2011 | -182600967.8 |\n",
       "| year2012 | -214201942.3 |\n",
       "| year2013 | -242554203.9 |\n",
       "| year2014 | -268151445.5 |\n",
       "| year2015 | -278626607.0 |\n",
       "| year2016 | -285152615.6 |\n",
       "| year2017 | -305759393.2 |\n",
       "| year2018 |  -36191599.7 |\n",
       "| year2019 |   -5681692.3 |\n",
       "| year2020 |  -63587899.9 |\n",
       "| year2021 |  -41456930.4 |\n",
       "| year2022 |           NA |\n",
       "\n"
      ],
      "text/plain": [
       "            gas.m.coefficients\n",
       "(Intercept)  444489009.5      \n",
       "time           1938964.5      \n",
       "mnth2         -1938964.5      \n",
       "mnth3         -3877928.9      \n",
       "mnth4         -5816893.4      \n",
       "mnth5         -7755857.9      \n",
       "mnth6         -9694822.3      \n",
       "mnth7        -11633786.8      \n",
       "mnth8        -13572751.2      \n",
       "mnth9        -15511715.7      \n",
       "mnth10       -17450680.2      \n",
       "mnth11       -19389644.6      \n",
       "mnth12       -21328609.1      \n",
       "year2000      -5542850.6      \n",
       "year2001        721155.9      \n",
       "year2002     -35421793.7      \n",
       "year2003     -21202766.3      \n",
       "year2004      19844894.2      \n",
       "year2005      -6358404.4      \n",
       "year2006     -38810523.0      \n",
       "year2007     -61939904.5      \n",
       "year2008    -102379330.1      \n",
       "year2009    -143212392.7      \n",
       "year2010    -161675805.2      \n",
       "year2011    -182600967.8      \n",
       "year2012    -214201942.3      \n",
       "year2013    -242554203.9      \n",
       "year2014    -268151445.5      \n",
       "year2015    -278626607.0      \n",
       "year2016    -285152615.6      \n",
       "year2017    -305759393.2      \n",
       "year2018     -36191599.7      \n",
       "year2019      -5681692.3      \n",
       "year2020     -63587899.9      \n",
       "year2021     -41456930.4      \n",
       "year2022              NA      "
      ]
     },
     "metadata": {},
     "output_type": "display_data"
    }
   ],
   "source": [
    "gas.m = lm(gas.rev.ann ~ time + mnth + year, gas)\n",
    "data.frame(gas.m$coefficients)"
   ]
  },
  {
   "cell_type": "code",
   "execution_count": 126,
   "metadata": {
    "vscode": {
     "languageId": "r"
    }
   },
   "outputs": [],
   "source": [
    "gas.fc = data.frame(matrix(ncol=1,nrow=11*12))\n",
    "colnames(gas.fc) = c('year')\n",
    "gas.fc$year = c(2023:2033)\n",
    "gas.fc$year = gas.fc[order(gas.fc$year),]\n",
    "gas.fc$mnth = c(1:12)\n",
    "gas.fc$time = c(1:(11*12))\n",
    "gas.fc = dummy_cols(gas.fc, select_columns = 'mnth')\n"
   ]
  },
  {
   "cell_type": "code",
   "execution_count": 133,
   "metadata": {
    "vscode": {
     "languageId": "r"
    }
   },
   "outputs": [
    {
     "data": {
      "text/html": [
       "<table class=\"dataframe\">\n",
       "<caption>A data.frame: 132 x 16</caption>\n",
       "<thead>\n",
       "\t<tr><th scope=col>year</th><th scope=col>mnth</th><th scope=col>time</th><th scope=col>mnth_1</th><th scope=col>mnth_2</th><th scope=col>mnth_3</th><th scope=col>mnth_4</th><th scope=col>mnth_5</th><th scope=col>mnth_6</th><th scope=col>mnth_7</th><th scope=col>mnth_8</th><th scope=col>mnth_9</th><th scope=col>mnth_10</th><th scope=col>mnth_11</th><th scope=col>mnth_12</th><th scope=col>gas.hat</th></tr>\n",
       "\t<tr><th scope=col>&lt;int&gt;</th><th scope=col>&lt;int&gt;</th><th scope=col>&lt;int&gt;</th><th scope=col>&lt;int&gt;</th><th scope=col>&lt;int&gt;</th><th scope=col>&lt;int&gt;</th><th scope=col>&lt;int&gt;</th><th scope=col>&lt;int&gt;</th><th scope=col>&lt;int&gt;</th><th scope=col>&lt;int&gt;</th><th scope=col>&lt;int&gt;</th><th scope=col>&lt;int&gt;</th><th scope=col>&lt;int&gt;</th><th scope=col>&lt;int&gt;</th><th scope=col>&lt;int&gt;</th><th scope=col>&lt;dbl&gt;</th></tr>\n",
       "</thead>\n",
       "<tbody>\n",
       "\t<tr><td>2023</td><td> 1</td><td> 1</td><td>1</td><td>0</td><td>0</td><td>0</td><td>0</td><td>0</td><td>0</td><td>0</td><td>0</td><td>0</td><td>0</td><td>0</td><td>446427974</td></tr>\n",
       "\t<tr><td>2023</td><td> 2</td><td> 2</td><td>0</td><td>1</td><td>0</td><td>0</td><td>0</td><td>0</td><td>0</td><td>0</td><td>0</td><td>0</td><td>0</td><td>0</td><td>446427974</td></tr>\n",
       "\t<tr><td>2023</td><td> 3</td><td> 3</td><td>0</td><td>0</td><td>1</td><td>0</td><td>0</td><td>0</td><td>0</td><td>0</td><td>0</td><td>0</td><td>0</td><td>0</td><td>446427974</td></tr>\n",
       "\t<tr><td>2023</td><td> 4</td><td> 4</td><td>0</td><td>0</td><td>0</td><td>1</td><td>0</td><td>0</td><td>0</td><td>0</td><td>0</td><td>0</td><td>0</td><td>0</td><td>446427974</td></tr>\n",
       "\t<tr><td>2023</td><td> 5</td><td> 5</td><td>0</td><td>0</td><td>0</td><td>0</td><td>1</td><td>0</td><td>0</td><td>0</td><td>0</td><td>0</td><td>0</td><td>0</td><td>446427974</td></tr>\n",
       "\t<tr><td>2023</td><td> 6</td><td> 6</td><td>0</td><td>0</td><td>0</td><td>0</td><td>0</td><td>1</td><td>0</td><td>0</td><td>0</td><td>0</td><td>0</td><td>0</td><td>446427974</td></tr>\n",
       "\t<tr><td>2023</td><td> 7</td><td> 7</td><td>0</td><td>0</td><td>0</td><td>0</td><td>0</td><td>0</td><td>1</td><td>0</td><td>0</td><td>0</td><td>0</td><td>0</td><td>446427974</td></tr>\n",
       "\t<tr><td>2023</td><td> 8</td><td> 8</td><td>0</td><td>0</td><td>0</td><td>0</td><td>0</td><td>0</td><td>0</td><td>1</td><td>0</td><td>0</td><td>0</td><td>0</td><td>446427974</td></tr>\n",
       "\t<tr><td>2023</td><td> 9</td><td> 9</td><td>0</td><td>0</td><td>0</td><td>0</td><td>0</td><td>0</td><td>0</td><td>0</td><td>1</td><td>0</td><td>0</td><td>0</td><td>446427974</td></tr>\n",
       "\t<tr><td>2023</td><td>10</td><td>10</td><td>0</td><td>0</td><td>0</td><td>0</td><td>0</td><td>0</td><td>0</td><td>0</td><td>0</td><td>1</td><td>0</td><td>0</td><td>446427974</td></tr>\n",
       "\t<tr><td>2023</td><td>11</td><td>11</td><td>0</td><td>0</td><td>0</td><td>0</td><td>0</td><td>0</td><td>0</td><td>0</td><td>0</td><td>0</td><td>1</td><td>0</td><td>446427974</td></tr>\n",
       "\t<tr><td>2023</td><td>12</td><td>12</td><td>0</td><td>0</td><td>0</td><td>0</td><td>0</td><td>0</td><td>0</td><td>0</td><td>0</td><td>0</td><td>0</td><td>1</td><td>446427974</td></tr>\n",
       "\t<tr><td>2024</td><td> 1</td><td>13</td><td>1</td><td>0</td><td>0</td><td>0</td><td>0</td><td>0</td><td>0</td><td>0</td><td>0</td><td>0</td><td>0</td><td>0</td><td>469695548</td></tr>\n",
       "\t<tr><td>2024</td><td> 2</td><td>14</td><td>0</td><td>1</td><td>0</td><td>0</td><td>0</td><td>0</td><td>0</td><td>0</td><td>0</td><td>0</td><td>0</td><td>0</td><td>469695548</td></tr>\n",
       "\t<tr><td>2024</td><td> 3</td><td>15</td><td>0</td><td>0</td><td>1</td><td>0</td><td>0</td><td>0</td><td>0</td><td>0</td><td>0</td><td>0</td><td>0</td><td>0</td><td>469695548</td></tr>\n",
       "\t<tr><td>2024</td><td> 4</td><td>16</td><td>0</td><td>0</td><td>0</td><td>1</td><td>0</td><td>0</td><td>0</td><td>0</td><td>0</td><td>0</td><td>0</td><td>0</td><td>469695548</td></tr>\n",
       "\t<tr><td>2024</td><td> 5</td><td>17</td><td>0</td><td>0</td><td>0</td><td>0</td><td>1</td><td>0</td><td>0</td><td>0</td><td>0</td><td>0</td><td>0</td><td>0</td><td>469695548</td></tr>\n",
       "\t<tr><td>2024</td><td> 6</td><td>18</td><td>0</td><td>0</td><td>0</td><td>0</td><td>0</td><td>1</td><td>0</td><td>0</td><td>0</td><td>0</td><td>0</td><td>0</td><td>469695548</td></tr>\n",
       "\t<tr><td>2024</td><td> 7</td><td>19</td><td>0</td><td>0</td><td>0</td><td>0</td><td>0</td><td>0</td><td>1</td><td>0</td><td>0</td><td>0</td><td>0</td><td>0</td><td>469695548</td></tr>\n",
       "\t<tr><td>2024</td><td> 8</td><td>20</td><td>0</td><td>0</td><td>0</td><td>0</td><td>0</td><td>0</td><td>0</td><td>1</td><td>0</td><td>0</td><td>0</td><td>0</td><td>469695548</td></tr>\n",
       "\t<tr><td>2024</td><td> 9</td><td>21</td><td>0</td><td>0</td><td>0</td><td>0</td><td>0</td><td>0</td><td>0</td><td>0</td><td>1</td><td>0</td><td>0</td><td>0</td><td>469695548</td></tr>\n",
       "\t<tr><td>2024</td><td>10</td><td>22</td><td>0</td><td>0</td><td>0</td><td>0</td><td>0</td><td>0</td><td>0</td><td>0</td><td>0</td><td>1</td><td>0</td><td>0</td><td>469695548</td></tr>\n",
       "\t<tr><td>2024</td><td>11</td><td>23</td><td>0</td><td>0</td><td>0</td><td>0</td><td>0</td><td>0</td><td>0</td><td>0</td><td>0</td><td>0</td><td>1</td><td>0</td><td>469695548</td></tr>\n",
       "\t<tr><td>2024</td><td>12</td><td>24</td><td>0</td><td>0</td><td>0</td><td>0</td><td>0</td><td>0</td><td>0</td><td>0</td><td>0</td><td>0</td><td>0</td><td>1</td><td>469695548</td></tr>\n",
       "\t<tr><td>2025</td><td> 1</td><td>25</td><td>1</td><td>0</td><td>0</td><td>0</td><td>0</td><td>0</td><td>0</td><td>0</td><td>0</td><td>0</td><td>0</td><td>0</td><td>492963121</td></tr>\n",
       "\t<tr><td>2025</td><td> 2</td><td>26</td><td>0</td><td>1</td><td>0</td><td>0</td><td>0</td><td>0</td><td>0</td><td>0</td><td>0</td><td>0</td><td>0</td><td>0</td><td>492963121</td></tr>\n",
       "\t<tr><td>2025</td><td> 3</td><td>27</td><td>0</td><td>0</td><td>1</td><td>0</td><td>0</td><td>0</td><td>0</td><td>0</td><td>0</td><td>0</td><td>0</td><td>0</td><td>492963121</td></tr>\n",
       "\t<tr><td>2025</td><td> 4</td><td>28</td><td>0</td><td>0</td><td>0</td><td>1</td><td>0</td><td>0</td><td>0</td><td>0</td><td>0</td><td>0</td><td>0</td><td>0</td><td>492963121</td></tr>\n",
       "\t<tr><td>2025</td><td> 5</td><td>29</td><td>0</td><td>0</td><td>0</td><td>0</td><td>1</td><td>0</td><td>0</td><td>0</td><td>0</td><td>0</td><td>0</td><td>0</td><td>492963121</td></tr>\n",
       "\t<tr><td>2025</td><td> 6</td><td>30</td><td>0</td><td>0</td><td>0</td><td>0</td><td>0</td><td>1</td><td>0</td><td>0</td><td>0</td><td>0</td><td>0</td><td>0</td><td>492963121</td></tr>\n",
       "\t<tr><td>...</td><td>...</td><td>...</td><td>...</td><td>...</td><td>...</td><td>...</td><td>...</td><td>...</td><td>...</td><td>...</td><td>...</td><td>...</td><td>...</td><td>...</td><td>...</td></tr>\n",
       "\t<tr><td>2031</td><td> 7</td><td>103</td><td>0</td><td>0</td><td>0</td><td>0</td><td>0</td><td>0</td><td>1</td><td>0</td><td>0</td><td>0</td><td>0</td><td>0</td><td>632568563</td></tr>\n",
       "\t<tr><td>2031</td><td> 8</td><td>104</td><td>0</td><td>0</td><td>0</td><td>0</td><td>0</td><td>0</td><td>0</td><td>1</td><td>0</td><td>0</td><td>0</td><td>0</td><td>632568563</td></tr>\n",
       "\t<tr><td>2031</td><td> 9</td><td>105</td><td>0</td><td>0</td><td>0</td><td>0</td><td>0</td><td>0</td><td>0</td><td>0</td><td>1</td><td>0</td><td>0</td><td>0</td><td>632568563</td></tr>\n",
       "\t<tr><td>2031</td><td>10</td><td>106</td><td>0</td><td>0</td><td>0</td><td>0</td><td>0</td><td>0</td><td>0</td><td>0</td><td>0</td><td>1</td><td>0</td><td>0</td><td>632568563</td></tr>\n",
       "\t<tr><td>2031</td><td>11</td><td>107</td><td>0</td><td>0</td><td>0</td><td>0</td><td>0</td><td>0</td><td>0</td><td>0</td><td>0</td><td>0</td><td>1</td><td>0</td><td>632568563</td></tr>\n",
       "\t<tr><td>2031</td><td>12</td><td>108</td><td>0</td><td>0</td><td>0</td><td>0</td><td>0</td><td>0</td><td>0</td><td>0</td><td>0</td><td>0</td><td>0</td><td>1</td><td>632568563</td></tr>\n",
       "\t<tr><td>2032</td><td> 1</td><td>109</td><td>1</td><td>0</td><td>0</td><td>0</td><td>0</td><td>0</td><td>0</td><td>0</td><td>0</td><td>0</td><td>0</td><td>0</td><td>655836136</td></tr>\n",
       "\t<tr><td>2032</td><td> 2</td><td>110</td><td>0</td><td>1</td><td>0</td><td>0</td><td>0</td><td>0</td><td>0</td><td>0</td><td>0</td><td>0</td><td>0</td><td>0</td><td>655836136</td></tr>\n",
       "\t<tr><td>2032</td><td> 3</td><td>111</td><td>0</td><td>0</td><td>1</td><td>0</td><td>0</td><td>0</td><td>0</td><td>0</td><td>0</td><td>0</td><td>0</td><td>0</td><td>655836136</td></tr>\n",
       "\t<tr><td>2032</td><td> 4</td><td>112</td><td>0</td><td>0</td><td>0</td><td>1</td><td>0</td><td>0</td><td>0</td><td>0</td><td>0</td><td>0</td><td>0</td><td>0</td><td>655836136</td></tr>\n",
       "\t<tr><td>2032</td><td> 5</td><td>113</td><td>0</td><td>0</td><td>0</td><td>0</td><td>1</td><td>0</td><td>0</td><td>0</td><td>0</td><td>0</td><td>0</td><td>0</td><td>655836136</td></tr>\n",
       "\t<tr><td>2032</td><td> 6</td><td>114</td><td>0</td><td>0</td><td>0</td><td>0</td><td>0</td><td>1</td><td>0</td><td>0</td><td>0</td><td>0</td><td>0</td><td>0</td><td>655836136</td></tr>\n",
       "\t<tr><td>2032</td><td> 7</td><td>115</td><td>0</td><td>0</td><td>0</td><td>0</td><td>0</td><td>0</td><td>1</td><td>0</td><td>0</td><td>0</td><td>0</td><td>0</td><td>655836136</td></tr>\n",
       "\t<tr><td>2032</td><td> 8</td><td>116</td><td>0</td><td>0</td><td>0</td><td>0</td><td>0</td><td>0</td><td>0</td><td>1</td><td>0</td><td>0</td><td>0</td><td>0</td><td>655836136</td></tr>\n",
       "\t<tr><td>2032</td><td> 9</td><td>117</td><td>0</td><td>0</td><td>0</td><td>0</td><td>0</td><td>0</td><td>0</td><td>0</td><td>1</td><td>0</td><td>0</td><td>0</td><td>655836136</td></tr>\n",
       "\t<tr><td>2032</td><td>10</td><td>118</td><td>0</td><td>0</td><td>0</td><td>0</td><td>0</td><td>0</td><td>0</td><td>0</td><td>0</td><td>1</td><td>0</td><td>0</td><td>655836136</td></tr>\n",
       "\t<tr><td>2032</td><td>11</td><td>119</td><td>0</td><td>0</td><td>0</td><td>0</td><td>0</td><td>0</td><td>0</td><td>0</td><td>0</td><td>0</td><td>1</td><td>0</td><td>655836136</td></tr>\n",
       "\t<tr><td>2032</td><td>12</td><td>120</td><td>0</td><td>0</td><td>0</td><td>0</td><td>0</td><td>0</td><td>0</td><td>0</td><td>0</td><td>0</td><td>0</td><td>1</td><td>655836136</td></tr>\n",
       "\t<tr><td>2033</td><td> 1</td><td>121</td><td>1</td><td>0</td><td>0</td><td>0</td><td>0</td><td>0</td><td>0</td><td>0</td><td>0</td><td>0</td><td>0</td><td>0</td><td>679103710</td></tr>\n",
       "\t<tr><td>2033</td><td> 2</td><td>122</td><td>0</td><td>1</td><td>0</td><td>0</td><td>0</td><td>0</td><td>0</td><td>0</td><td>0</td><td>0</td><td>0</td><td>0</td><td>679103710</td></tr>\n",
       "\t<tr><td>2033</td><td> 3</td><td>123</td><td>0</td><td>0</td><td>1</td><td>0</td><td>0</td><td>0</td><td>0</td><td>0</td><td>0</td><td>0</td><td>0</td><td>0</td><td>679103710</td></tr>\n",
       "\t<tr><td>2033</td><td> 4</td><td>124</td><td>0</td><td>0</td><td>0</td><td>1</td><td>0</td><td>0</td><td>0</td><td>0</td><td>0</td><td>0</td><td>0</td><td>0</td><td>679103710</td></tr>\n",
       "\t<tr><td>2033</td><td> 5</td><td>125</td><td>0</td><td>0</td><td>0</td><td>0</td><td>1</td><td>0</td><td>0</td><td>0</td><td>0</td><td>0</td><td>0</td><td>0</td><td>679103710</td></tr>\n",
       "\t<tr><td>2033</td><td> 6</td><td>126</td><td>0</td><td>0</td><td>0</td><td>0</td><td>0</td><td>1</td><td>0</td><td>0</td><td>0</td><td>0</td><td>0</td><td>0</td><td>679103710</td></tr>\n",
       "\t<tr><td>2033</td><td> 7</td><td>127</td><td>0</td><td>0</td><td>0</td><td>0</td><td>0</td><td>0</td><td>1</td><td>0</td><td>0</td><td>0</td><td>0</td><td>0</td><td>679103710</td></tr>\n",
       "\t<tr><td>2033</td><td> 8</td><td>128</td><td>0</td><td>0</td><td>0</td><td>0</td><td>0</td><td>0</td><td>0</td><td>1</td><td>0</td><td>0</td><td>0</td><td>0</td><td>679103710</td></tr>\n",
       "\t<tr><td>2033</td><td> 9</td><td>129</td><td>0</td><td>0</td><td>0</td><td>0</td><td>0</td><td>0</td><td>0</td><td>0</td><td>1</td><td>0</td><td>0</td><td>0</td><td>679103710</td></tr>\n",
       "\t<tr><td>2033</td><td>10</td><td>130</td><td>0</td><td>0</td><td>0</td><td>0</td><td>0</td><td>0</td><td>0</td><td>0</td><td>0</td><td>1</td><td>0</td><td>0</td><td>679103710</td></tr>\n",
       "\t<tr><td>2033</td><td>11</td><td>131</td><td>0</td><td>0</td><td>0</td><td>0</td><td>0</td><td>0</td><td>0</td><td>0</td><td>0</td><td>0</td><td>1</td><td>0</td><td>679103710</td></tr>\n",
       "\t<tr><td>2033</td><td>12</td><td>132</td><td>0</td><td>0</td><td>0</td><td>0</td><td>0</td><td>0</td><td>0</td><td>0</td><td>0</td><td>0</td><td>0</td><td>1</td><td>679103710</td></tr>\n",
       "</tbody>\n",
       "</table>\n"
      ],
      "text/latex": [
       "A data.frame: 132 x 16\n",
       "\\begin{tabular}{llllllllllllllll}\n",
       " year & mnth & time & mnth\\_1 & mnth\\_2 & mnth\\_3 & mnth\\_4 & mnth\\_5 & mnth\\_6 & mnth\\_7 & mnth\\_8 & mnth\\_9 & mnth\\_10 & mnth\\_11 & mnth\\_12 & gas.hat\\\\\n",
       " <int> & <int> & <int> & <int> & <int> & <int> & <int> & <int> & <int> & <int> & <int> & <int> & <int> & <int> & <int> & <dbl>\\\\\n",
       "\\hline\n",
       "\t 2023 &  1 &  1 & 1 & 0 & 0 & 0 & 0 & 0 & 0 & 0 & 0 & 0 & 0 & 0 & 446427974\\\\\n",
       "\t 2023 &  2 &  2 & 0 & 1 & 0 & 0 & 0 & 0 & 0 & 0 & 0 & 0 & 0 & 0 & 446427974\\\\\n",
       "\t 2023 &  3 &  3 & 0 & 0 & 1 & 0 & 0 & 0 & 0 & 0 & 0 & 0 & 0 & 0 & 446427974\\\\\n",
       "\t 2023 &  4 &  4 & 0 & 0 & 0 & 1 & 0 & 0 & 0 & 0 & 0 & 0 & 0 & 0 & 446427974\\\\\n",
       "\t 2023 &  5 &  5 & 0 & 0 & 0 & 0 & 1 & 0 & 0 & 0 & 0 & 0 & 0 & 0 & 446427974\\\\\n",
       "\t 2023 &  6 &  6 & 0 & 0 & 0 & 0 & 0 & 1 & 0 & 0 & 0 & 0 & 0 & 0 & 446427974\\\\\n",
       "\t 2023 &  7 &  7 & 0 & 0 & 0 & 0 & 0 & 0 & 1 & 0 & 0 & 0 & 0 & 0 & 446427974\\\\\n",
       "\t 2023 &  8 &  8 & 0 & 0 & 0 & 0 & 0 & 0 & 0 & 1 & 0 & 0 & 0 & 0 & 446427974\\\\\n",
       "\t 2023 &  9 &  9 & 0 & 0 & 0 & 0 & 0 & 0 & 0 & 0 & 1 & 0 & 0 & 0 & 446427974\\\\\n",
       "\t 2023 & 10 & 10 & 0 & 0 & 0 & 0 & 0 & 0 & 0 & 0 & 0 & 1 & 0 & 0 & 446427974\\\\\n",
       "\t 2023 & 11 & 11 & 0 & 0 & 0 & 0 & 0 & 0 & 0 & 0 & 0 & 0 & 1 & 0 & 446427974\\\\\n",
       "\t 2023 & 12 & 12 & 0 & 0 & 0 & 0 & 0 & 0 & 0 & 0 & 0 & 0 & 0 & 1 & 446427974\\\\\n",
       "\t 2024 &  1 & 13 & 1 & 0 & 0 & 0 & 0 & 0 & 0 & 0 & 0 & 0 & 0 & 0 & 469695548\\\\\n",
       "\t 2024 &  2 & 14 & 0 & 1 & 0 & 0 & 0 & 0 & 0 & 0 & 0 & 0 & 0 & 0 & 469695548\\\\\n",
       "\t 2024 &  3 & 15 & 0 & 0 & 1 & 0 & 0 & 0 & 0 & 0 & 0 & 0 & 0 & 0 & 469695548\\\\\n",
       "\t 2024 &  4 & 16 & 0 & 0 & 0 & 1 & 0 & 0 & 0 & 0 & 0 & 0 & 0 & 0 & 469695548\\\\\n",
       "\t 2024 &  5 & 17 & 0 & 0 & 0 & 0 & 1 & 0 & 0 & 0 & 0 & 0 & 0 & 0 & 469695548\\\\\n",
       "\t 2024 &  6 & 18 & 0 & 0 & 0 & 0 & 0 & 1 & 0 & 0 & 0 & 0 & 0 & 0 & 469695548\\\\\n",
       "\t 2024 &  7 & 19 & 0 & 0 & 0 & 0 & 0 & 0 & 1 & 0 & 0 & 0 & 0 & 0 & 469695548\\\\\n",
       "\t 2024 &  8 & 20 & 0 & 0 & 0 & 0 & 0 & 0 & 0 & 1 & 0 & 0 & 0 & 0 & 469695548\\\\\n",
       "\t 2024 &  9 & 21 & 0 & 0 & 0 & 0 & 0 & 0 & 0 & 0 & 1 & 0 & 0 & 0 & 469695548\\\\\n",
       "\t 2024 & 10 & 22 & 0 & 0 & 0 & 0 & 0 & 0 & 0 & 0 & 0 & 1 & 0 & 0 & 469695548\\\\\n",
       "\t 2024 & 11 & 23 & 0 & 0 & 0 & 0 & 0 & 0 & 0 & 0 & 0 & 0 & 1 & 0 & 469695548\\\\\n",
       "\t 2024 & 12 & 24 & 0 & 0 & 0 & 0 & 0 & 0 & 0 & 0 & 0 & 0 & 0 & 1 & 469695548\\\\\n",
       "\t 2025 &  1 & 25 & 1 & 0 & 0 & 0 & 0 & 0 & 0 & 0 & 0 & 0 & 0 & 0 & 492963121\\\\\n",
       "\t 2025 &  2 & 26 & 0 & 1 & 0 & 0 & 0 & 0 & 0 & 0 & 0 & 0 & 0 & 0 & 492963121\\\\\n",
       "\t 2025 &  3 & 27 & 0 & 0 & 1 & 0 & 0 & 0 & 0 & 0 & 0 & 0 & 0 & 0 & 492963121\\\\\n",
       "\t 2025 &  4 & 28 & 0 & 0 & 0 & 1 & 0 & 0 & 0 & 0 & 0 & 0 & 0 & 0 & 492963121\\\\\n",
       "\t 2025 &  5 & 29 & 0 & 0 & 0 & 0 & 1 & 0 & 0 & 0 & 0 & 0 & 0 & 0 & 492963121\\\\\n",
       "\t 2025 &  6 & 30 & 0 & 0 & 0 & 0 & 0 & 1 & 0 & 0 & 0 & 0 & 0 & 0 & 492963121\\\\\n",
       "\t ... & ... & ... & ... & ... & ... & ... & ... & ... & ... & ... & ... & ... & ... & ... & ...\\\\\n",
       "\t 2031 &  7 & 103 & 0 & 0 & 0 & 0 & 0 & 0 & 1 & 0 & 0 & 0 & 0 & 0 & 632568563\\\\\n",
       "\t 2031 &  8 & 104 & 0 & 0 & 0 & 0 & 0 & 0 & 0 & 1 & 0 & 0 & 0 & 0 & 632568563\\\\\n",
       "\t 2031 &  9 & 105 & 0 & 0 & 0 & 0 & 0 & 0 & 0 & 0 & 1 & 0 & 0 & 0 & 632568563\\\\\n",
       "\t 2031 & 10 & 106 & 0 & 0 & 0 & 0 & 0 & 0 & 0 & 0 & 0 & 1 & 0 & 0 & 632568563\\\\\n",
       "\t 2031 & 11 & 107 & 0 & 0 & 0 & 0 & 0 & 0 & 0 & 0 & 0 & 0 & 1 & 0 & 632568563\\\\\n",
       "\t 2031 & 12 & 108 & 0 & 0 & 0 & 0 & 0 & 0 & 0 & 0 & 0 & 0 & 0 & 1 & 632568563\\\\\n",
       "\t 2032 &  1 & 109 & 1 & 0 & 0 & 0 & 0 & 0 & 0 & 0 & 0 & 0 & 0 & 0 & 655836136\\\\\n",
       "\t 2032 &  2 & 110 & 0 & 1 & 0 & 0 & 0 & 0 & 0 & 0 & 0 & 0 & 0 & 0 & 655836136\\\\\n",
       "\t 2032 &  3 & 111 & 0 & 0 & 1 & 0 & 0 & 0 & 0 & 0 & 0 & 0 & 0 & 0 & 655836136\\\\\n",
       "\t 2032 &  4 & 112 & 0 & 0 & 0 & 1 & 0 & 0 & 0 & 0 & 0 & 0 & 0 & 0 & 655836136\\\\\n",
       "\t 2032 &  5 & 113 & 0 & 0 & 0 & 0 & 1 & 0 & 0 & 0 & 0 & 0 & 0 & 0 & 655836136\\\\\n",
       "\t 2032 &  6 & 114 & 0 & 0 & 0 & 0 & 0 & 1 & 0 & 0 & 0 & 0 & 0 & 0 & 655836136\\\\\n",
       "\t 2032 &  7 & 115 & 0 & 0 & 0 & 0 & 0 & 0 & 1 & 0 & 0 & 0 & 0 & 0 & 655836136\\\\\n",
       "\t 2032 &  8 & 116 & 0 & 0 & 0 & 0 & 0 & 0 & 0 & 1 & 0 & 0 & 0 & 0 & 655836136\\\\\n",
       "\t 2032 &  9 & 117 & 0 & 0 & 0 & 0 & 0 & 0 & 0 & 0 & 1 & 0 & 0 & 0 & 655836136\\\\\n",
       "\t 2032 & 10 & 118 & 0 & 0 & 0 & 0 & 0 & 0 & 0 & 0 & 0 & 1 & 0 & 0 & 655836136\\\\\n",
       "\t 2032 & 11 & 119 & 0 & 0 & 0 & 0 & 0 & 0 & 0 & 0 & 0 & 0 & 1 & 0 & 655836136\\\\\n",
       "\t 2032 & 12 & 120 & 0 & 0 & 0 & 0 & 0 & 0 & 0 & 0 & 0 & 0 & 0 & 1 & 655836136\\\\\n",
       "\t 2033 &  1 & 121 & 1 & 0 & 0 & 0 & 0 & 0 & 0 & 0 & 0 & 0 & 0 & 0 & 679103710\\\\\n",
       "\t 2033 &  2 & 122 & 0 & 1 & 0 & 0 & 0 & 0 & 0 & 0 & 0 & 0 & 0 & 0 & 679103710\\\\\n",
       "\t 2033 &  3 & 123 & 0 & 0 & 1 & 0 & 0 & 0 & 0 & 0 & 0 & 0 & 0 & 0 & 679103710\\\\\n",
       "\t 2033 &  4 & 124 & 0 & 0 & 0 & 1 & 0 & 0 & 0 & 0 & 0 & 0 & 0 & 0 & 679103710\\\\\n",
       "\t 2033 &  5 & 125 & 0 & 0 & 0 & 0 & 1 & 0 & 0 & 0 & 0 & 0 & 0 & 0 & 679103710\\\\\n",
       "\t 2033 &  6 & 126 & 0 & 0 & 0 & 0 & 0 & 1 & 0 & 0 & 0 & 0 & 0 & 0 & 679103710\\\\\n",
       "\t 2033 &  7 & 127 & 0 & 0 & 0 & 0 & 0 & 0 & 1 & 0 & 0 & 0 & 0 & 0 & 679103710\\\\\n",
       "\t 2033 &  8 & 128 & 0 & 0 & 0 & 0 & 0 & 0 & 0 & 1 & 0 & 0 & 0 & 0 & 679103710\\\\\n",
       "\t 2033 &  9 & 129 & 0 & 0 & 0 & 0 & 0 & 0 & 0 & 0 & 1 & 0 & 0 & 0 & 679103710\\\\\n",
       "\t 2033 & 10 & 130 & 0 & 0 & 0 & 0 & 0 & 0 & 0 & 0 & 0 & 1 & 0 & 0 & 679103710\\\\\n",
       "\t 2033 & 11 & 131 & 0 & 0 & 0 & 0 & 0 & 0 & 0 & 0 & 0 & 0 & 1 & 0 & 679103710\\\\\n",
       "\t 2033 & 12 & 132 & 0 & 0 & 0 & 0 & 0 & 0 & 0 & 0 & 0 & 0 & 0 & 1 & 679103710\\\\\n",
       "\\end{tabular}\n"
      ],
      "text/markdown": [
       "\n",
       "A data.frame: 132 x 16\n",
       "\n",
       "| year &lt;int&gt; | mnth &lt;int&gt; | time &lt;int&gt; | mnth_1 &lt;int&gt; | mnth_2 &lt;int&gt; | mnth_3 &lt;int&gt; | mnth_4 &lt;int&gt; | mnth_5 &lt;int&gt; | mnth_6 &lt;int&gt; | mnth_7 &lt;int&gt; | mnth_8 &lt;int&gt; | mnth_9 &lt;int&gt; | mnth_10 &lt;int&gt; | mnth_11 &lt;int&gt; | mnth_12 &lt;int&gt; | gas.hat &lt;dbl&gt; |\n",
       "|---|---|---|---|---|---|---|---|---|---|---|---|---|---|---|---|\n",
       "| 2023 |  1 |  1 | 1 | 0 | 0 | 0 | 0 | 0 | 0 | 0 | 0 | 0 | 0 | 0 | 446427974 |\n",
       "| 2023 |  2 |  2 | 0 | 1 | 0 | 0 | 0 | 0 | 0 | 0 | 0 | 0 | 0 | 0 | 446427974 |\n",
       "| 2023 |  3 |  3 | 0 | 0 | 1 | 0 | 0 | 0 | 0 | 0 | 0 | 0 | 0 | 0 | 446427974 |\n",
       "| 2023 |  4 |  4 | 0 | 0 | 0 | 1 | 0 | 0 | 0 | 0 | 0 | 0 | 0 | 0 | 446427974 |\n",
       "| 2023 |  5 |  5 | 0 | 0 | 0 | 0 | 1 | 0 | 0 | 0 | 0 | 0 | 0 | 0 | 446427974 |\n",
       "| 2023 |  6 |  6 | 0 | 0 | 0 | 0 | 0 | 1 | 0 | 0 | 0 | 0 | 0 | 0 | 446427974 |\n",
       "| 2023 |  7 |  7 | 0 | 0 | 0 | 0 | 0 | 0 | 1 | 0 | 0 | 0 | 0 | 0 | 446427974 |\n",
       "| 2023 |  8 |  8 | 0 | 0 | 0 | 0 | 0 | 0 | 0 | 1 | 0 | 0 | 0 | 0 | 446427974 |\n",
       "| 2023 |  9 |  9 | 0 | 0 | 0 | 0 | 0 | 0 | 0 | 0 | 1 | 0 | 0 | 0 | 446427974 |\n",
       "| 2023 | 10 | 10 | 0 | 0 | 0 | 0 | 0 | 0 | 0 | 0 | 0 | 1 | 0 | 0 | 446427974 |\n",
       "| 2023 | 11 | 11 | 0 | 0 | 0 | 0 | 0 | 0 | 0 | 0 | 0 | 0 | 1 | 0 | 446427974 |\n",
       "| 2023 | 12 | 12 | 0 | 0 | 0 | 0 | 0 | 0 | 0 | 0 | 0 | 0 | 0 | 1 | 446427974 |\n",
       "| 2024 |  1 | 13 | 1 | 0 | 0 | 0 | 0 | 0 | 0 | 0 | 0 | 0 | 0 | 0 | 469695548 |\n",
       "| 2024 |  2 | 14 | 0 | 1 | 0 | 0 | 0 | 0 | 0 | 0 | 0 | 0 | 0 | 0 | 469695548 |\n",
       "| 2024 |  3 | 15 | 0 | 0 | 1 | 0 | 0 | 0 | 0 | 0 | 0 | 0 | 0 | 0 | 469695548 |\n",
       "| 2024 |  4 | 16 | 0 | 0 | 0 | 1 | 0 | 0 | 0 | 0 | 0 | 0 | 0 | 0 | 469695548 |\n",
       "| 2024 |  5 | 17 | 0 | 0 | 0 | 0 | 1 | 0 | 0 | 0 | 0 | 0 | 0 | 0 | 469695548 |\n",
       "| 2024 |  6 | 18 | 0 | 0 | 0 | 0 | 0 | 1 | 0 | 0 | 0 | 0 | 0 | 0 | 469695548 |\n",
       "| 2024 |  7 | 19 | 0 | 0 | 0 | 0 | 0 | 0 | 1 | 0 | 0 | 0 | 0 | 0 | 469695548 |\n",
       "| 2024 |  8 | 20 | 0 | 0 | 0 | 0 | 0 | 0 | 0 | 1 | 0 | 0 | 0 | 0 | 469695548 |\n",
       "| 2024 |  9 | 21 | 0 | 0 | 0 | 0 | 0 | 0 | 0 | 0 | 1 | 0 | 0 | 0 | 469695548 |\n",
       "| 2024 | 10 | 22 | 0 | 0 | 0 | 0 | 0 | 0 | 0 | 0 | 0 | 1 | 0 | 0 | 469695548 |\n",
       "| 2024 | 11 | 23 | 0 | 0 | 0 | 0 | 0 | 0 | 0 | 0 | 0 | 0 | 1 | 0 | 469695548 |\n",
       "| 2024 | 12 | 24 | 0 | 0 | 0 | 0 | 0 | 0 | 0 | 0 | 0 | 0 | 0 | 1 | 469695548 |\n",
       "| 2025 |  1 | 25 | 1 | 0 | 0 | 0 | 0 | 0 | 0 | 0 | 0 | 0 | 0 | 0 | 492963121 |\n",
       "| 2025 |  2 | 26 | 0 | 1 | 0 | 0 | 0 | 0 | 0 | 0 | 0 | 0 | 0 | 0 | 492963121 |\n",
       "| 2025 |  3 | 27 | 0 | 0 | 1 | 0 | 0 | 0 | 0 | 0 | 0 | 0 | 0 | 0 | 492963121 |\n",
       "| 2025 |  4 | 28 | 0 | 0 | 0 | 1 | 0 | 0 | 0 | 0 | 0 | 0 | 0 | 0 | 492963121 |\n",
       "| 2025 |  5 | 29 | 0 | 0 | 0 | 0 | 1 | 0 | 0 | 0 | 0 | 0 | 0 | 0 | 492963121 |\n",
       "| 2025 |  6 | 30 | 0 | 0 | 0 | 0 | 0 | 1 | 0 | 0 | 0 | 0 | 0 | 0 | 492963121 |\n",
       "| ... | ... | ... | ... | ... | ... | ... | ... | ... | ... | ... | ... | ... | ... | ... | ... |\n",
       "| 2031 |  7 | 103 | 0 | 0 | 0 | 0 | 0 | 0 | 1 | 0 | 0 | 0 | 0 | 0 | 632568563 |\n",
       "| 2031 |  8 | 104 | 0 | 0 | 0 | 0 | 0 | 0 | 0 | 1 | 0 | 0 | 0 | 0 | 632568563 |\n",
       "| 2031 |  9 | 105 | 0 | 0 | 0 | 0 | 0 | 0 | 0 | 0 | 1 | 0 | 0 | 0 | 632568563 |\n",
       "| 2031 | 10 | 106 | 0 | 0 | 0 | 0 | 0 | 0 | 0 | 0 | 0 | 1 | 0 | 0 | 632568563 |\n",
       "| 2031 | 11 | 107 | 0 | 0 | 0 | 0 | 0 | 0 | 0 | 0 | 0 | 0 | 1 | 0 | 632568563 |\n",
       "| 2031 | 12 | 108 | 0 | 0 | 0 | 0 | 0 | 0 | 0 | 0 | 0 | 0 | 0 | 1 | 632568563 |\n",
       "| 2032 |  1 | 109 | 1 | 0 | 0 | 0 | 0 | 0 | 0 | 0 | 0 | 0 | 0 | 0 | 655836136 |\n",
       "| 2032 |  2 | 110 | 0 | 1 | 0 | 0 | 0 | 0 | 0 | 0 | 0 | 0 | 0 | 0 | 655836136 |\n",
       "| 2032 |  3 | 111 | 0 | 0 | 1 | 0 | 0 | 0 | 0 | 0 | 0 | 0 | 0 | 0 | 655836136 |\n",
       "| 2032 |  4 | 112 | 0 | 0 | 0 | 1 | 0 | 0 | 0 | 0 | 0 | 0 | 0 | 0 | 655836136 |\n",
       "| 2032 |  5 | 113 | 0 | 0 | 0 | 0 | 1 | 0 | 0 | 0 | 0 | 0 | 0 | 0 | 655836136 |\n",
       "| 2032 |  6 | 114 | 0 | 0 | 0 | 0 | 0 | 1 | 0 | 0 | 0 | 0 | 0 | 0 | 655836136 |\n",
       "| 2032 |  7 | 115 | 0 | 0 | 0 | 0 | 0 | 0 | 1 | 0 | 0 | 0 | 0 | 0 | 655836136 |\n",
       "| 2032 |  8 | 116 | 0 | 0 | 0 | 0 | 0 | 0 | 0 | 1 | 0 | 0 | 0 | 0 | 655836136 |\n",
       "| 2032 |  9 | 117 | 0 | 0 | 0 | 0 | 0 | 0 | 0 | 0 | 1 | 0 | 0 | 0 | 655836136 |\n",
       "| 2032 | 10 | 118 | 0 | 0 | 0 | 0 | 0 | 0 | 0 | 0 | 0 | 1 | 0 | 0 | 655836136 |\n",
       "| 2032 | 11 | 119 | 0 | 0 | 0 | 0 | 0 | 0 | 0 | 0 | 0 | 0 | 1 | 0 | 655836136 |\n",
       "| 2032 | 12 | 120 | 0 | 0 | 0 | 0 | 0 | 0 | 0 | 0 | 0 | 0 | 0 | 1 | 655836136 |\n",
       "| 2033 |  1 | 121 | 1 | 0 | 0 | 0 | 0 | 0 | 0 | 0 | 0 | 0 | 0 | 0 | 679103710 |\n",
       "| 2033 |  2 | 122 | 0 | 1 | 0 | 0 | 0 | 0 | 0 | 0 | 0 | 0 | 0 | 0 | 679103710 |\n",
       "| 2033 |  3 | 123 | 0 | 0 | 1 | 0 | 0 | 0 | 0 | 0 | 0 | 0 | 0 | 0 | 679103710 |\n",
       "| 2033 |  4 | 124 | 0 | 0 | 0 | 1 | 0 | 0 | 0 | 0 | 0 | 0 | 0 | 0 | 679103710 |\n",
       "| 2033 |  5 | 125 | 0 | 0 | 0 | 0 | 1 | 0 | 0 | 0 | 0 | 0 | 0 | 0 | 679103710 |\n",
       "| 2033 |  6 | 126 | 0 | 0 | 0 | 0 | 0 | 1 | 0 | 0 | 0 | 0 | 0 | 0 | 679103710 |\n",
       "| 2033 |  7 | 127 | 0 | 0 | 0 | 0 | 0 | 0 | 1 | 0 | 0 | 0 | 0 | 0 | 679103710 |\n",
       "| 2033 |  8 | 128 | 0 | 0 | 0 | 0 | 0 | 0 | 0 | 1 | 0 | 0 | 0 | 0 | 679103710 |\n",
       "| 2033 |  9 | 129 | 0 | 0 | 0 | 0 | 0 | 0 | 0 | 0 | 1 | 0 | 0 | 0 | 679103710 |\n",
       "| 2033 | 10 | 130 | 0 | 0 | 0 | 0 | 0 | 0 | 0 | 0 | 0 | 1 | 0 | 0 | 679103710 |\n",
       "| 2033 | 11 | 131 | 0 | 0 | 0 | 0 | 0 | 0 | 0 | 0 | 0 | 0 | 1 | 0 | 679103710 |\n",
       "| 2033 | 12 | 132 | 0 | 0 | 0 | 0 | 0 | 0 | 0 | 0 | 0 | 0 | 0 | 1 | 679103710 |\n",
       "\n"
      ],
      "text/plain": [
       "    year mnth time mnth_1 mnth_2 mnth_3 mnth_4 mnth_5 mnth_6 mnth_7 mnth_8\n",
       "1   2023  1    1   1      0      0      0      0      0      0      0     \n",
       "2   2023  2    2   0      1      0      0      0      0      0      0     \n",
       "3   2023  3    3   0      0      1      0      0      0      0      0     \n",
       "4   2023  4    4   0      0      0      1      0      0      0      0     \n",
       "5   2023  5    5   0      0      0      0      1      0      0      0     \n",
       "6   2023  6    6   0      0      0      0      0      1      0      0     \n",
       "7   2023  7    7   0      0      0      0      0      0      1      0     \n",
       "8   2023  8    8   0      0      0      0      0      0      0      1     \n",
       "9   2023  9    9   0      0      0      0      0      0      0      0     \n",
       "10  2023 10   10   0      0      0      0      0      0      0      0     \n",
       "11  2023 11   11   0      0      0      0      0      0      0      0     \n",
       "12  2023 12   12   0      0      0      0      0      0      0      0     \n",
       "13  2024  1   13   1      0      0      0      0      0      0      0     \n",
       "14  2024  2   14   0      1      0      0      0      0      0      0     \n",
       "15  2024  3   15   0      0      1      0      0      0      0      0     \n",
       "16  2024  4   16   0      0      0      1      0      0      0      0     \n",
       "17  2024  5   17   0      0      0      0      1      0      0      0     \n",
       "18  2024  6   18   0      0      0      0      0      1      0      0     \n",
       "19  2024  7   19   0      0      0      0      0      0      1      0     \n",
       "20  2024  8   20   0      0      0      0      0      0      0      1     \n",
       "21  2024  9   21   0      0      0      0      0      0      0      0     \n",
       "22  2024 10   22   0      0      0      0      0      0      0      0     \n",
       "23  2024 11   23   0      0      0      0      0      0      0      0     \n",
       "24  2024 12   24   0      0      0      0      0      0      0      0     \n",
       "25  2025  1   25   1      0      0      0      0      0      0      0     \n",
       "26  2025  2   26   0      1      0      0      0      0      0      0     \n",
       "27  2025  3   27   0      0      1      0      0      0      0      0     \n",
       "28  2025  4   28   0      0      0      1      0      0      0      0     \n",
       "29  2025  5   29   0      0      0      0      1      0      0      0     \n",
       "30  2025  6   30   0      0      0      0      0      1      0      0     \n",
       "... ...  ...  ...  ...    ...    ...    ...    ...    ...    ...    ...   \n",
       "103 2031  7   103  0      0      0      0      0      0      1      0     \n",
       "104 2031  8   104  0      0      0      0      0      0      0      1     \n",
       "105 2031  9   105  0      0      0      0      0      0      0      0     \n",
       "106 2031 10   106  0      0      0      0      0      0      0      0     \n",
       "107 2031 11   107  0      0      0      0      0      0      0      0     \n",
       "108 2031 12   108  0      0      0      0      0      0      0      0     \n",
       "109 2032  1   109  1      0      0      0      0      0      0      0     \n",
       "110 2032  2   110  0      1      0      0      0      0      0      0     \n",
       "111 2032  3   111  0      0      1      0      0      0      0      0     \n",
       "112 2032  4   112  0      0      0      1      0      0      0      0     \n",
       "113 2032  5   113  0      0      0      0      1      0      0      0     \n",
       "114 2032  6   114  0      0      0      0      0      1      0      0     \n",
       "115 2032  7   115  0      0      0      0      0      0      1      0     \n",
       "116 2032  8   116  0      0      0      0      0      0      0      1     \n",
       "117 2032  9   117  0      0      0      0      0      0      0      0     \n",
       "118 2032 10   118  0      0      0      0      0      0      0      0     \n",
       "119 2032 11   119  0      0      0      0      0      0      0      0     \n",
       "120 2032 12   120  0      0      0      0      0      0      0      0     \n",
       "121 2033  1   121  1      0      0      0      0      0      0      0     \n",
       "122 2033  2   122  0      1      0      0      0      0      0      0     \n",
       "123 2033  3   123  0      0      1      0      0      0      0      0     \n",
       "124 2033  4   124  0      0      0      1      0      0      0      0     \n",
       "125 2033  5   125  0      0      0      0      1      0      0      0     \n",
       "126 2033  6   126  0      0      0      0      0      1      0      0     \n",
       "127 2033  7   127  0      0      0      0      0      0      1      0     \n",
       "128 2033  8   128  0      0      0      0      0      0      0      1     \n",
       "129 2033  9   129  0      0      0      0      0      0      0      0     \n",
       "130 2033 10   130  0      0      0      0      0      0      0      0     \n",
       "131 2033 11   131  0      0      0      0      0      0      0      0     \n",
       "132 2033 12   132  0      0      0      0      0      0      0      0     \n",
       "    mnth_9 mnth_10 mnth_11 mnth_12 gas.hat  \n",
       "1   0      0       0       0       446427974\n",
       "2   0      0       0       0       446427974\n",
       "3   0      0       0       0       446427974\n",
       "4   0      0       0       0       446427974\n",
       "5   0      0       0       0       446427974\n",
       "6   0      0       0       0       446427974\n",
       "7   0      0       0       0       446427974\n",
       "8   0      0       0       0       446427974\n",
       "9   1      0       0       0       446427974\n",
       "10  0      1       0       0       446427974\n",
       "11  0      0       1       0       446427974\n",
       "12  0      0       0       1       446427974\n",
       "13  0      0       0       0       469695548\n",
       "14  0      0       0       0       469695548\n",
       "15  0      0       0       0       469695548\n",
       "16  0      0       0       0       469695548\n",
       "17  0      0       0       0       469695548\n",
       "18  0      0       0       0       469695548\n",
       "19  0      0       0       0       469695548\n",
       "20  0      0       0       0       469695548\n",
       "21  1      0       0       0       469695548\n",
       "22  0      1       0       0       469695548\n",
       "23  0      0       1       0       469695548\n",
       "24  0      0       0       1       469695548\n",
       "25  0      0       0       0       492963121\n",
       "26  0      0       0       0       492963121\n",
       "27  0      0       0       0       492963121\n",
       "28  0      0       0       0       492963121\n",
       "29  0      0       0       0       492963121\n",
       "30  0      0       0       0       492963121\n",
       "... ...    ...     ...     ...     ...      \n",
       "103 0      0       0       0       632568563\n",
       "104 0      0       0       0       632568563\n",
       "105 1      0       0       0       632568563\n",
       "106 0      1       0       0       632568563\n",
       "107 0      0       1       0       632568563\n",
       "108 0      0       0       1       632568563\n",
       "109 0      0       0       0       655836136\n",
       "110 0      0       0       0       655836136\n",
       "111 0      0       0       0       655836136\n",
       "112 0      0       0       0       655836136\n",
       "113 0      0       0       0       655836136\n",
       "114 0      0       0       0       655836136\n",
       "115 0      0       0       0       655836136\n",
       "116 0      0       0       0       655836136\n",
       "117 1      0       0       0       655836136\n",
       "118 0      1       0       0       655836136\n",
       "119 0      0       1       0       655836136\n",
       "120 0      0       0       1       655836136\n",
       "121 0      0       0       0       679103710\n",
       "122 0      0       0       0       679103710\n",
       "123 0      0       0       0       679103710\n",
       "124 0      0       0       0       679103710\n",
       "125 0      0       0       0       679103710\n",
       "126 0      0       0       0       679103710\n",
       "127 0      0       0       0       679103710\n",
       "128 0      0       0       0       679103710\n",
       "129 1      0       0       0       679103710\n",
       "130 0      1       0       0       679103710\n",
       "131 0      0       1       0       679103710\n",
       "132 0      0       0       1       679103710"
      ]
     },
     "metadata": {},
     "output_type": "display_data"
    }
   ],
   "source": [
    "gas.fc$gas.hat = (gas.m$coefficients[[1]] + gas.fc$time*gas.m$coefficients[[2]] + gas.fc$mnth_2*gas.m$coefficients[[3]] + gas.fc$mnth_3*gas.m$coefficients[[4]] + gas.fc$mnth_4*gas.m$coefficients[[5]] + gas.fc$mnth_5*gas.m$coefficients[[6]] + gas.fc$mnth_6*gas.m$coefficients[[7]] + gas.fc$mnth_7*gas.m$coefficients[[8]] + gas.fc$mnth_8*gas.m$coefficients[[9]] + gas.fc$mnth_9*gas.m$coefficients[[10]] + gas.fc$mnth_10*gas.m$coefficients[[11]] + gas.fc$mnth_11*gas.m$coefficients[[12]] + gas.fc$mnth_12*gas.m$coefficients[[13]])\n",
    "\n",
    "gas.fc"
   ]
  },
  {
   "cell_type": "code",
   "execution_count": 124,
   "metadata": {
    "vscode": {
     "languageId": "r"
    }
   },
   "outputs": [
    {
     "data": {
      "image/png": "[encoded data removed]",
      "text/plain": [
       "plot without title"
      ]
     },
     "metadata": {
      "image/png": {
       "height": 420,
       "width": 420
      }
     },
     "output_type": "display_data"
    }
   ],
   "source": [
    "plot(gas.fc$time,gas.fc$gas.hat)"
   ]
  },
  {
   "cell_type": "code",
   "execution_count": 132,
   "metadata": {
    "vscode": {
     "languageId": "r"
    }
   },
   "outputs": [
    {
     "data": {
      "text/html": [
       "-3877928.92753527"
      ],
      "text/latex": [
       "-3877928.92753527"
      ],
      "text/markdown": [
       "-3877928.92753527"
      ],
      "text/plain": [
       "[1] -3877929"
      ]
     },
     "metadata": {},
     "output_type": "display_data"
    }
   ],
   "source": []
  }
 ],
 "metadata": {
  "kernelspec": {
   "display_name": "R",
   "language": "R",
   "name": "ir"
  },
  "language_info": {
   "codemirror_mode": "r",
   "file_extension": ".r",
   "mimetype": "text/x-r-source",
   "name": "R",
   "pygments_lexer": "r",
   "version": "4.2.3"
  },
  "orig_nbformat": 4
 },
 "nbformat": 4,
 "nbformat_minor": 2
}
